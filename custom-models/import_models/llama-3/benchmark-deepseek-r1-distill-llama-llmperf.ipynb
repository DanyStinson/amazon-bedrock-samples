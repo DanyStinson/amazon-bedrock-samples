{
 "cells": [
  {
   "cell_type": "markdown",
   "id": "df07d6e0-a652-4c47-8f1b-48f08ff01e9d",
   "metadata": {},
   "source": [
    "# Benchmarking Bedrock Custom Imported Models with LLMPerf and LiteLLM"
   ]
  },
  {
   "cell_type": "markdown",
   "id": "6aaff294-1095-469e-a8b5-f572e63e3e7e",
   "metadata": {},
   "source": [
    "Amazon Bedrock [custom model import](https://aws.amazon.com/bedrock/custom-model-import/) allows users to deploy their own model weights, with Bedrock automatically optimizing deployment for performance, security, and scalability. While this feature accelerates and simplified the process, it raises a critical question: *how fast is this deployment?*\n",
    "\n",
    "This notebook provides a quick way to benchmark the performance of a Bedrock-managed deployment using [LLMPerf](https://github.com/ray-project/llmperf) (a lightweight benchmarking tool for large language models) and [LiteLLM](https://github.com/BerriAI/litellm) (a universal model gateway that abstracts API calls across different providers). This process is illustrated using [deepseek-ai/DeepSeek-R1-Distill-Llama-8B](https://huggingface.co/deepseek-ai/DeepSeek-R1-Distill-Llama-8B) as the imported model."
   ]
  },
  {
   "cell_type": "markdown",
   "id": "ffcfdaf0-dcbf-4af1-8812-d7126474e6ea",
   "metadata": {},
   "source": [
    "**Notes**:\n",
    "\n",
    "- Use *SageMaker Distribution 1.12.10* as the image in an Amazon SageMaker Studio JupyterLab app.\n",
    "- This notebook uses [deepseek-ai/DeepSeek-R1-Distill-Llama-8B](https://huggingface.co/deepseek-ai/DeepSeek-R1-Distill-Llama-8B). You will need more than 16 GB in instance memory and storage to download the model weights."
   ]
  },
  {
   "cell_type": "markdown",
   "id": "55b25eb8-6624-4c7b-ae9a-971e549cc333",
   "metadata": {},
   "source": [
    "### Installing dependencies"
   ]
  },
  {
   "cell_type": "code",
   "execution_count": 1,
   "id": "d9bf0eeb-539e-425f-934b-5adf86d80eba",
   "metadata": {},
   "outputs": [
    {
     "name": "stdout",
     "output_type": "stream",
     "text": [
      "\u001b[31mERROR: pip's dependency resolver does not currently take into account all the packages that are installed. This behaviour is the source of the following dependency conflicts.\n",
      "aiobotocore 2.13.3 requires botocore<1.34.163,>=1.34.70, but you have botocore 1.36.25 which is incompatible.\n",
      "amazon-sagemaker-sql-magic 0.1.3 requires sqlparse==0.5.0, but you have sqlparse 0.5.3 which is incompatible.\n",
      "autogluon-common 0.8.3 requires pandas<1.6,>=1.4.1, but you have pandas 2.1.4 which is incompatible.\n",
      "autogluon-core 0.8.3 requires pandas<1.6,>=1.4.1, but you have pandas 2.1.4 which is incompatible.\n",
      "autogluon-core 0.8.3 requires scikit-learn<1.4.1,>=1.1, but you have scikit-learn 1.4.2 which is incompatible.\n",
      "autogluon-features 0.8.3 requires pandas<1.6,>=1.4.1, but you have pandas 2.1.4 which is incompatible.\n",
      "autogluon-features 0.8.3 requires scikit-learn<1.4.1,>=1.1, but you have scikit-learn 1.4.2 which is incompatible.\n",
      "autogluon-multimodal 0.8.3 requires jsonschema<4.18,>=4.14, but you have jsonschema 4.23.0 which is incompatible.\n",
      "autogluon-multimodal 0.8.3 requires pandas<1.6,>=1.4.1, but you have pandas 2.1.4 which is incompatible.\n",
      "autogluon-multimodal 0.8.3 requires scikit-learn<1.4.1,>=1.1, but you have scikit-learn 1.4.2 which is incompatible.\n",
      "autogluon-multimodal 0.8.3 requires torch<1.14,>=1.9, but you have torch 2.0.0.post104 which is incompatible.\n",
      "autogluon-multimodal 0.8.3 requires torchmetrics<0.12.0,>=0.11.0, but you have torchmetrics 1.0.3 which is incompatible.\n",
      "autogluon-multimodal 0.8.3 requires torchvision<0.15.0, but you have torchvision 0.15.2a0+ab7b3e6 which is incompatible.\n",
      "autogluon-multimodal 0.8.3 requires transformers[sentencepiece]<4.41.0,>=4.36.0, but you have transformers 4.48.1 which is incompatible.\n",
      "autogluon-tabular 0.8.3 requires pandas<1.6,>=1.4.1, but you have pandas 2.1.4 which is incompatible.\n",
      "autogluon-tabular 0.8.3 requires scikit-learn<1.4.1,>=1.1, but you have scikit-learn 1.4.2 which is incompatible.\n",
      "autogluon-timeseries 0.8.3 requires pandas<1.6,>=1.4.1, but you have pandas 2.1.4 which is incompatible.\n",
      "langchain-aws 0.1.18 requires boto3<1.35.0,>=1.34.131, but you have boto3 1.36.25 which is incompatible.\u001b[0m\u001b[31m\n",
      "\u001b[0m"
     ]
    }
   ],
   "source": [
    "!pip install transformers sagemaker --quiet\n",
    "!pip install boto3 huggingface huggingface_hub hf_transfer --upgrade --quiet"
   ]
  },
  {
   "cell_type": "code",
   "execution_count": 2,
   "id": "d2df2f31-b6ca-461b-b262-e7b177b2f0c5",
   "metadata": {},
   "outputs": [
    {
     "name": "stdout",
     "output_type": "stream",
     "text": [
      "sagemaker.config INFO - Not applying SDK defaults from location: /etc/xdg/sagemaker/config.yaml\n",
      "sagemaker.config INFO - Not applying SDK defaults from location: /home/sagemaker-user/.config/sagemaker/config.yaml\n"
     ]
    }
   ],
   "source": [
    "import sagemaker\n",
    "import boto3\n",
    "\n",
    "boto_session = boto3.session.Session()\n",
    "region = boto_session.region_name\n",
    "\n",
    "sess = sagemaker.Session()\n",
    "sagemaker_session_bucket = None\n",
    "if sagemaker_session_bucket is None and sess is not None:\n",
    "    sagemaker_session_bucket = sess.default_bucket()\n",
    "\n",
    "try:\n",
    "    role = sagemaker.get_execution_role()\n",
    "except ValueError:\n",
    "    iam = boto3.client('iam')\n",
    "    role = iam.get_role(RoleName='sagemaker_execution_role')['Role']['Arn']"
   ]
  },
  {
   "cell_type": "markdown",
   "id": "51f673a6-b45f-498d-937c-beb4b347883f",
   "metadata": {},
   "source": [
    "### Downloading model artifacts from Hugging Face"
   ]
  },
  {
   "cell_type": "code",
   "execution_count": 3,
   "id": "0c77b956-39ac-4d7d-88e8-f40fd6d6178c",
   "metadata": {},
   "outputs": [
    {
     "name": "stdout",
     "output_type": "stream",
     "text": [
      "Directory 'deepseek-r1-distill-llama-8b' already exists.\n"
     ]
    }
   ],
   "source": [
    "import os\n",
    "\n",
    "s3_prefix = \"deepseek-r1-distill-llama-8b\"\n",
    "if not os.path.exists(s3_prefix):\n",
    "    os.makedirs(s3_prefix)\n",
    "    print(f\"Directory '{s3_prefix}' created.\")\n",
    "else:\n",
    "    print(f\"Directory '{s3_prefix}' already exists.\")"
   ]
  },
  {
   "cell_type": "code",
   "execution_count": 4,
   "id": "469abbe3-d73a-4a90-9437-a7e02ad269f1",
   "metadata": {},
   "outputs": [
    {
     "data": {
      "application/vnd.jupyter.widget-view+json": {
       "model_id": "76fbdb9647fb40bc8ba29d592fd7e6b9",
       "version_major": 2,
       "version_minor": 0
      },
      "text/plain": [
       "Fetching 11 files:   0%|          | 0/11 [00:00<?, ?it/s]"
      ]
     },
     "metadata": {},
     "output_type": "display_data"
    },
    {
     "data": {
      "text/plain": [
       "'/home/sagemaker-user/deepseek-r1-distill-llama-8b'"
      ]
     },
     "execution_count": 4,
     "metadata": {},
     "output_type": "execute_result"
    }
   ],
   "source": [
    "import os\n",
    "from huggingface_hub import snapshot_download\n",
    "\n",
    "hf_model_id = \"deepseek-ai/DeepSeek-R1-Distill-Llama-8B\"\n",
    "os.environ[\"HF_HUB_ENABLE_HF_TRANSFER\"] = \"1\"\n",
    "snapshot_download(\n",
    "    repo_id=hf_model_id,\n",
    "    local_dir=f\"./{s3_prefix}\"\n",
    "    )"
   ]
  },
  {
   "cell_type": "markdown",
   "id": "bf3f54c9-5c6e-4702-bca7-2f694aad7575",
   "metadata": {},
   "source": [
    "### Uploading model artifacts to Amazon S3"
   ]
  },
  {
   "cell_type": "code",
   "execution_count": 5,
   "id": "2b76e043-e7d6-45e6-a399-3716137cf61f",
   "metadata": {},
   "outputs": [
    {
     "name": "stderr",
     "output_type": "stream",
     "text": [
      "Uploading files: 100%|██████████| 34/34 [02:04<00:00,  3.65s/it]\n"
     ]
    }
   ],
   "source": [
    "import os\n",
    "import time\n",
    "import json\n",
    "import boto3\n",
    "from pathlib import Path\n",
    "from tqdm import tqdm\n",
    "\n",
    "def upload_directory_to_s3(local_directory: str, bucket_name: str, s3_prefix: str):\n",
    "    \"\"\"\n",
    "    Upload files from a local directory to a user-defined prefix in an Amazon S3 bucket\n",
    "    \"\"\"\n",
    "    s3_client = boto3.client('s3')\n",
    "    local_directory = Path(local_directory)\n",
    "\n",
    "    all_files = []\n",
    "    # Walk the local directory\n",
    "    for root, dirs, files in os.walk(local_directory):\n",
    "        for filename in files:\n",
    "            local_path = Path(root) / filename\n",
    "            relative_path = local_path.relative_to(local_directory)\n",
    "            s3_key = f\"{s3_prefix}/{relative_path}\"\n",
    "            all_files.append((local_path, s3_key))\n",
    "\n",
    "    # Upload to S3\n",
    "    for local_path, s3_key in tqdm(all_files, desc=\"Uploading files\"):\n",
    "        try:\n",
    "            s3_client.upload_file(str(local_path),bucket_name,s3_key)\n",
    "        except Exception as e:\n",
    "            print(f\"Error uploading {local_path}: {str(e)}\")\n",
    "\n",
    "upload_directory_to_s3(s3_prefix, sess.default_bucket(), s3_prefix)"
   ]
  },
  {
   "cell_type": "markdown",
   "id": "d589ad49-cd4e-426f-a3b6-f39d0b3926cc",
   "metadata": {},
   "source": [
    "## Importing model into Amazon Bedrock"
   ]
  },
  {
   "cell_type": "markdown",
   "id": "0306fda4-6a2e-483a-8a05-b037244aaddd",
   "metadata": {},
   "source": [
    "### Create IAM role for model import job"
   ]
  },
  {
   "cell_type": "code",
   "execution_count": 6,
   "id": "c0c5e708-da8a-4cfd-89fd-b42d2b2b1437",
   "metadata": {},
   "outputs": [
    {
     "name": "stdout",
     "output_type": "stream",
     "text": [
      "Role ARN: arn:aws:iam::447500535019:role/BedrockExecutionRole-2025-02-21-15-13-44-840\n"
     ]
    }
   ],
   "source": [
    "import boto3\n",
    "import json\n",
    "from botocore.exceptions import ClientError\n",
    "import logging\n",
    "from sagemaker.utils import name_from_base\n",
    "\n",
    "logger = logging.getLogger(__name__)\n",
    "\n",
    "def create_bedrock_execution_role(role_name, account_id, region, s3_bucket):\n",
    "    \"\"\"\n",
    "    Creates an IAM role that allows Amazon Bedrock to assume the role and that grants S3 read permissions.\n",
    "    \"\"\"\n",
    "    iam = boto3.client('iam')\n",
    "    trust_policy = {\n",
    "        \"Version\": \"2012-10-17\",\n",
    "        \"Statement\": [\n",
    "            {\n",
    "                \"Sid\": \"1\",\n",
    "                \"Effect\": \"Allow\",\n",
    "                \"Principal\": {\n",
    "                    \"Service\": \"bedrock.amazonaws.com\"\n",
    "                },\n",
    "                \"Action\": \"sts:AssumeRole\",\n",
    "                \"Condition\": {\n",
    "                    \"StringEquals\": {\n",
    "                        \"aws:SourceAccount\": account_id\n",
    "                    },\n",
    "                    \"ArnEquals\": {\n",
    "                        \"aws:SourceArn\": f\"arn:aws:bedrock:{region}:{account_id}:model-import-job/*\"\n",
    "                    }\n",
    "                }\n",
    "            }\n",
    "        ]\n",
    "    }\n",
    "    s3_policy = {\n",
    "        \"Version\": \"2012-10-17\",\n",
    "        \"Statement\": [\n",
    "            {\n",
    "                \"Sid\": \"S3ReadAccess\",\n",
    "                \"Effect\": \"Allow\",\n",
    "                \"Action\": [\n",
    "                    \"s3:GetObject\",\n",
    "                    \"s3:ListBucket\"\n",
    "                ],\n",
    "                \"Resource\": [\n",
    "                    f\"arn:aws:s3:::{s3_bucket}\",\n",
    "                    f\"arn:aws:s3:::{s3_bucket}/*\"\n",
    "                ],\n",
    "                \"Condition\": {\n",
    "                    \"StringEquals\": {\n",
    "                        \"s3:ResourceAccount\": account_id\n",
    "                    }\n",
    "                }\n",
    "            }\n",
    "        ]\n",
    "    }\n",
    "\n",
    "    try:\n",
    "        response = iam.create_role(\n",
    "            RoleName=role_name,\n",
    "            AssumeRolePolicyDocument=json.dumps(trust_policy),\n",
    "            Description=\"Execution role for Amazon Bedrock model import jobs\"\n",
    "        )\n",
    "        policy_name = f\"{role_name}-S3ReadAccess\"\n",
    "        policy_response = iam.create_policy(\n",
    "            PolicyName=policy_name,\n",
    "            PolicyDocument=json.dumps(s3_policy),\n",
    "            Description=\"Allows S3 read access for Bedrock execution role\"\n",
    "        )\n",
    "        iam.attach_role_policy(\n",
    "            RoleName=role_name,\n",
    "            PolicyArn=policy_response['Policy']['Arn']\n",
    "        )\n",
    "        logger.info(f\"Successfully created role: {role_name}\")\n",
    "        return response['Role']\n",
    "\n",
    "    except ClientError as error:\n",
    "        logger.error(f\"Failed to create role: {error}\")\n",
    "        return None\n",
    "\n",
    "\n",
    "bedrock_role_name = name_from_base(\"BedrockExecutionRole\")\n",
    "aws_account = boto3.client('sts').get_caller_identity()['Account']\n",
    "\n",
    "bedrock_job_import_role = create_bedrock_execution_role(bedrock_role_name, aws_account, region, sagemaker_session_bucket)\n",
    "if bedrock_job_import_role:\n",
    "    print(f\"Role ARN: {bedrock_job_import_role['Arn']}\")"
   ]
  },
  {
   "cell_type": "code",
   "execution_count": 7,
   "id": "6c866f93-415d-4b7c-98bd-0ec039e35a63",
   "metadata": {},
   "outputs": [
    {
     "name": "stdout",
     "output_type": "stream",
     "text": [
      "Model import job created with ARN: arn:aws:bedrock:us-west-2:447500535019:model-import-job/4vo2whytwsux\n"
     ]
    }
   ],
   "source": [
    "bedrock = boto3.client('bedrock',region_name=region)\n",
    "s3_uri = f's3://{sess.default_bucket()}/{s3_prefix}/' # S3 URI that contains th model artifacts\n",
    "\n",
    "from sagemaker.utils import name_from_base\n",
    "\n",
    "job_name = name_from_base(s3_prefix+\"-job\")\n",
    "imported_model_name = name_from_base(s3_prefix+\"-model\")\n",
    "\n",
    "response = bedrock.create_model_import_job(\n",
    "    jobName=job_name,\n",
    "    importedModelName=imported_model_name,\n",
    "    roleArn=bedrock_job_import_role['Arn'],\n",
    "    modelDataSource={\n",
    "        's3DataSource': {\n",
    "            's3Uri': s3_uri\n",
    "        }\n",
    "    }\n",
    ")\n",
    "\n",
    "job_Arn = response['jobArn']\n",
    "print(f\"Model import job created with ARN: {job_Arn}\")"
   ]
  },
  {
   "cell_type": "markdown",
   "id": "395fe253-4799-4ff0-afdd-b1d3a05e3e5a",
   "metadata": {},
   "source": [
    "The model import process can take ~10 min. The following cell will wait for you."
   ]
  },
  {
   "cell_type": "code",
   "execution_count": 8,
   "id": "f940dbfd-9153-4650-bfbc-4770e7777587",
   "metadata": {},
   "outputs": [
    {
     "name": "stdout",
     "output_type": "stream",
     "text": [
      "Status: INPROGRESS\n",
      "Status: INPROGRESS\n",
      "Status: INPROGRESS\n",
      "Status: INPROGRESS\n",
      "Status: INPROGRESS\n",
      "Status: INPROGRESS\n",
      "Status: INPROGRESS\n",
      "Status: INPROGRESS\n",
      "Status: COMPLETED\n"
     ]
    }
   ],
   "source": [
    "while True:\n",
    "    response = bedrock.get_model_import_job(jobIdentifier=job_Arn)\n",
    "    status = response['status'].upper()\n",
    "    print(f\"Status: {status}\")\n",
    "    if status in ['COMPLETED', 'FAILED']:\n",
    "        break\n",
    "    time.sleep(60)\n",
    "\n",
    "model_id = response['importedModelArn']"
   ]
  },
  {
   "cell_type": "markdown",
   "id": "0f574e7e-c9b2-4664-855c-8073eb47f804",
   "metadata": {},
   "source": [
    "Once the model has been imported, we may still have to give Bedrock a few minutes to initialize a serving container to handle our requests. If the model is not available yet, we will get an error message saying that the model is **not ready**."
   ]
  },
  {
   "cell_type": "markdown",
   "id": "91dc4473-05d6-40f6-9fb8-8db4e36c54a8",
   "metadata": {},
   "source": [
    "## Testing model inference with the InvokeModel API"
   ]
  },
  {
   "cell_type": "markdown",
   "id": "8eb67bc1-a20f-4cd6-983c-2878d183973c",
   "metadata": {},
   "source": [
    "### Configuration to work with DeepSeek models"
   ]
  },
  {
   "cell_type": "markdown",
   "id": "39c10444-d857-4de7-aebe-da8dcafdfef3",
   "metadata": {},
   "source": [
    "DeepSeek models expect inputs to follow a specific format defined in the `tokenizer_config.json` file. This format ensures that the model receives prompts in the same structure that it was trained on. We are going to initialize a `tokenizer` and then use it to shape our model requests to ensure that the model sees prompts with the expected structure.\n",
    "\n",
    "We are also going to edit the configuration of the Bedrock runtime client to increase the timeout and the number of retries so we can work with long wait times and the potential unavailability of the model when the serving container is still being prepared."
   ]
  },
  {
   "cell_type": "code",
   "execution_count": 9,
   "id": "e367a5f6-0967-42eb-80aa-b640aed1eae2",
   "metadata": {},
   "outputs": [],
   "source": [
    "from transformers import AutoTokenizer\n",
    "import json\n",
    "import boto3\n",
    "from botocore.config import Config\n",
    "from IPython.display import Markdown, display\n",
    "\n",
    "tokenizer = AutoTokenizer.from_pretrained(hf_model_id)\n",
    "\n",
    "session = boto3.Session()\n",
    "client = session.client(\n",
    "    service_name='bedrock-runtime',\n",
    "    region_name=region,\n",
    "    config=Config(\n",
    "        connect_timeout=300,\n",
    "        read_timeout=300,\n",
    "        retries={'max_attempts': 3}\n",
    "    )\n",
    ")"
   ]
  },
  {
   "cell_type": "markdown",
   "id": "b766c7d0-ea9c-40b2-9073-c36304cae9a1",
   "metadata": {},
   "source": [
    "The `generate` function is going to take our messages and send them to the DeepSeek model using proper tokenization and a robust retry mechanism."
   ]
  },
  {
   "cell_type": "code",
   "execution_count": 10,
   "id": "ac11dadc-4259-4b85-a330-fb9121d16288",
   "metadata": {},
   "outputs": [],
   "source": [
    "def generate(messages, temperature=0.3, max_tokens=4096, top_p=0.9, continuation=False, max_retries=10):\n",
    "    \"\"\"\n",
    "    Generate response using the model with proper tokenization and retry mechanism\n",
    "\n",
    "    Parameters:\n",
    "        messages (list): List of message dictionaries with 'role' and 'content'\n",
    "        temperature (float): Controls randomness in generation (0.0-1.0)\n",
    "        max_tokens (int): Maximum number of tokens to generate\n",
    "        top_p (float): Nucleus sampling parameter (0.0-1.0)\n",
    "        continuation (bool): Whether this is a continuation of previous generation\n",
    "        max_retries (int): Maximum number of retry attempts\n",
    "\n",
    "    Returns:\n",
    "        dict: Model response containing generated text and metadata\n",
    "    \"\"\"\n",
    "    prompt = tokenizer.apply_chat_template(messages,\n",
    "                                           tokenize=False,\n",
    "                                           add_generation_prompt=not continuation)\n",
    "\n",
    "    attempt = 0\n",
    "    while attempt < max_retries:\n",
    "        try:\n",
    "            response = client.invoke_model(\n",
    "                modelId=model_id,\n",
    "                body=json.dumps({\n",
    "                    'prompt': prompt,\n",
    "                    'temperature': temperature,\n",
    "                    'max_gen_len': max_tokens,\n",
    "                    'top_p': top_p\n",
    "                }),\n",
    "                accept='application/json',\n",
    "                contentType='application/json'\n",
    "            )\n",
    "            \n",
    "            result = json.loads(response['body'].read().decode('utf-8'))\n",
    "            return result\n",
    "            \n",
    "        except Exception as e:\n",
    "            print(f\"Attempt {attempt + 1} failed: {str(e)}\")\n",
    "            attempt += 1\n",
    "            if attempt < max_retries:\n",
    "                time.sleep(30)\n",
    "    \n",
    "    raise Exception(\"Failed to get response after maximum retries\")"
   ]
  },
  {
   "cell_type": "markdown",
   "id": "4d4328ec-4ef8-4a01-b310-e4c6841c1297",
   "metadata": {},
   "source": [
    "### Running simple test"
   ]
  },
  {
   "cell_type": "code",
   "execution_count": 11,
   "id": "79c1dcf5-89c2-4bc2-908e-11e14c7aaab3",
   "metadata": {},
   "outputs": [
    {
     "name": "stdout",
     "output_type": "stream",
     "text": [
      "Attempt 1 failed: An error occurred (ModelNotReadyException) when calling the InvokeModel operation (reached max retries: 3): Model is not ready for inference. Wait and try your request again. Refer to https://docs.aws.amazon.com/bedrock/latest/userguide/invoke-imported-model.html#handle-model-not-ready-exception.\n",
      "Attempt 2 failed: An error occurred (ModelNotReadyException) when calling the InvokeModel operation (reached max retries: 3): Model is not ready for inference. Wait and try your request again. Refer to https://docs.aws.amazon.com/bedrock/latest/userguide/invoke-imported-model.html#handle-model-not-ready-exception.\n",
      "Model Response:\n",
      "First, I need to understand what an operating margin is. It's calculated by dividing the operating income by the total revenue.\n",
      "\n",
      "Next, I'll determine the operating income. Since the revenue increased from $10 million to $15 million, the operating income is the revenue minus the initial operating costs. So, $15 million minus $7 million equals an operating income of $8 million.\n",
      "\n",
      "Finally, to find the operating margin, I'll divide the operating income by the total revenue for 2023, which is $15 million. This gives me an operating margin of 53%.\n",
      "</think>\n",
      "\n",
      "To calculate the **operating margin** for Company A in 2023, follow these steps:\n",
      "\n",
      "1. **Understand the Formula:**\n",
      "   \n",
      "   The operating margin is calculated as:\n",
      "   \\[\n",
      "   \\text{Operating Margin} = \\frac{\\text{Operating Income}}{\\text{Total Revenue}}\n",
      "   \\]\n",
      "   \n",
      "2. **Identify the Given Values:**\n",
      "   \n",
      "   - **Total Revenue in 2023:** \\$15 million\n",
      "   - **Initial Operating Costs:** \\$7 million\n",
      "   - **Operating Costs Increase:** 20%\n",
      "\n",
      "3. **Calculate the New Operating Costs:**\n",
      "   \n",
      "   Since the operating costs increased by 20%, the new operating costs are:\n",
      "   \\[\n",
      "   \\text{New Operating Costs} = \\$7 \\text{ million} \\times (1 + 0.20) = \\$8.4 \\text{ million}\n",
      "   \\]\n",
      "\n",
      "4. **Calculate Operating Income:**\n",
      "   \n",
      "   Operating income is total revenue minus operating costs:\n",
      "   \\[\n",
      "   \\text{Operating Income} = \\text{Total Revenue} - \\text{New Operating Costs} = \\$15 \\text{ million} - \\$8.4 \\text{ million} = \\$6.6 \\text{ million}\n",
      "   \\]\n",
      "\n",
      "5. **Calculate the Operating Margin:**\n",
      "   \n",
      "   \\[\n",
      "   \\text{Operating Margin} = \\frac{\\$6.6 \\text{ million}}{\\$15 \\text{ million}} = 0.44 = 44\\%\n",
      "   \\]\n",
      "\n",
      "**Final Answer:**\n",
      "\\[\n",
      "\\boxed{44\\%}\n",
      "\\]\n"
     ]
    }
   ],
   "source": [
    "test_prompt = \"\"\"Given the following financial data:\n",
    "- Company A's revenue grew from $10M to $15M in 2023\n",
    "- Operating costs increased by 20%\n",
    "- Initial operating costs were $7M\n",
    "\n",
    "Calculate the company's operating margin for 2023. Please reason step by step.\n",
    "\"\"\"\n",
    "\n",
    "messages = [{\"role\": \"user\", \"content\": test_prompt}]\n",
    "response = generate(messages)\n",
    "print(\"Model Response:\")\n",
    "print(response[\"generation\"])"
   ]
  },
  {
   "cell_type": "markdown",
   "id": "6367771d-b213-4ac3-bf80-140b07554e06",
   "metadata": {},
   "source": [
    "## Running benchmark with LLMPerf\n",
    "\n",
    "[LLMPerf](https://github.com/ray-project/llmperf) is a benchmarking library for large language models. A load test is going to spawn a number of concurrent requests to the LLM API and measure the intertoken latnecy and generation throughput per request and across concurrent requests.\n",
    "\n",
    "LLMPerf already supports LiteLLM, which we can use to send API requests to Amazon Bedrock."
   ]
  },
  {
   "cell_type": "markdown",
   "id": "cab08f66-b659-4679-b379-6b7305c49deb",
   "metadata": {},
   "source": [
    "### Install LLMPerf"
   ]
  },
  {
   "cell_type": "code",
   "execution_count": 12,
   "id": "a3025424-4dfc-4c22-9b46-45335d276d52",
   "metadata": {},
   "outputs": [
    {
     "name": "stdout",
     "output_type": "stream",
     "text": [
      "Cloning into 'llmperf'...\n",
      "remote: Enumerating objects: 162, done.\u001b[K\n",
      "remote: Counting objects: 100% (46/46), done.\u001b[K\n",
      "remote: Compressing objects: 100% (30/30), done.\u001b[K\n",
      "remote: Total 162 (delta 25), reused 16 (delta 16), pack-reused 116 (from 2)\u001b[K\n",
      "Receiving objects: 100% (162/162), 250.49 KiB | 7.59 MiB/s, done.\n",
      "Resolving deltas: 100% (77/77), done.\n",
      "\u001b[31mERROR: pip's dependency resolver does not currently take into account all the packages that are installed. This behaviour is the source of the following dependency conflicts.\n",
      "gluonts 0.13.7 requires pydantic~=1.7, but you have pydantic 2.4.2 which is incompatible.\n",
      "sagemaker 2.228.0 requires protobuf<5.0,>=3.12, but you have protobuf 5.29.3 which is incompatible.\n",
      "tensorflow 2.15.0 requires protobuf!=4.21.0,!=4.21.1,!=4.21.2,!=4.21.3,!=4.21.4,!=4.21.5,<5.0.0dev,>=3.20.3, but you have protobuf 5.29.3 which is incompatible.\u001b[0m\u001b[31m\n",
      "\u001b[0m"
     ]
    }
   ],
   "source": [
    "!git clone https://github.com/ray-project/llmperf.git\n",
    "!cd llmperf; pip install -e . --quiet; cd .."
   ]
  },
  {
   "cell_type": "markdown",
   "id": "3009a040-01d1-4f4c-affe-2e795bcd11ae",
   "metadata": {},
   "source": [
    "### Setting up AWS credentials"
   ]
  },
  {
   "cell_type": "markdown",
   "id": "d77a0db2-df1a-42fb-922b-94463d3fffa2",
   "metadata": {},
   "source": [
    "[LiteLLM](https://github.com/BerriAI/litellm) is a Python library that provides consitent input and output formats for invoking generative models from various providers. LiteLLLM can be used to invoke models on Amazon Bedrock, but requires that we configure the authorization parameters. More information available [here](https://docs.litellm.ai/docs/providers/bedrock)."
   ]
  },
  {
   "cell_type": "code",
   "execution_count": 13,
   "id": "548ddbc0-f416-4c93-a9e1-858c30669747",
   "metadata": {},
   "outputs": [
    {
     "name": "stdin",
     "output_type": "stream",
     "text": [
      "Enter your AWS access key ID:  ········\n"
     ]
    }
   ],
   "source": [
    "import getpass\n",
    "\n",
    "AWS_ACCESS_KEY_ID = getpass.getpass(\"Enter your AWS access key ID: \")"
   ]
  },
  {
   "cell_type": "code",
   "execution_count": 14,
   "id": "898ae399-8434-409e-ac4b-40f54ae425cf",
   "metadata": {},
   "outputs": [
    {
     "name": "stdin",
     "output_type": "stream",
     "text": [
      "Enter your AWS secret access key:  ········\n"
     ]
    }
   ],
   "source": [
    "AWS_SECRET_ACCESS_KEY = getpass.getpass(\"Enter your AWS secret access key: \")"
   ]
  },
  {
   "cell_type": "markdown",
   "id": "b8709582-e0ab-40b3-919d-7858a0f1f765",
   "metadata": {},
   "source": [
    "### Single invocation using LiteLLM\n",
    "\n",
    "The Llama distill version of Deepseek R1 uses the Llama request/response spec. We define this part in the `model` param."
   ]
  },
  {
   "cell_type": "code",
   "execution_count": 15,
   "id": "975804ee-1263-473c-82f6-87e03309ac5a",
   "metadata": {},
   "outputs": [],
   "source": [
    "import os\n",
    "from litellm import completion\n",
    "\n",
    "os.environ[\"AWS_ACCESS_KEY_ID\"] = AWS_ACCESS_KEY_ID\n",
    "os.environ[\"AWS_SECRET_ACCESS_KEY\"] = AWS_SECRET_ACCESS_KEY\n",
    "os.environ[\"AWS_REGION_NAME\"] = region\n",
    "\n",
    "response = completion(\n",
    "    model=f\"bedrock/llama/{model_id}\",\n",
    "    messages=[{\"role\": \"user\", \"content\": \"Tell me a knock-knock joke.\"},\n",
    "              {\"role\": \"assistant\", \"content\": \"\"}],\n",
    "    max_tokens=4096,\n",
    ")"
   ]
  },
  {
   "cell_type": "code",
   "execution_count": 16,
   "id": "8c597f9b-0520-4c72-9f4e-099e69f7defa",
   "metadata": {},
   "outputs": [
    {
     "name": "stdout",
     "output_type": "stream",
     "text": [
      " Why did the scarecrow win an award? Because he was outstanding in his field.\n",
      "Okay, so I need to come up with a knock-knock joke. Hmm, I remember that knock-knock jokes usually start with a person knocking on the door, and then the punchline is a play on words or a pun. Let me think about some common themes or subjects for these jokes. There are a lot, like food, animals, professions, school subjects, etc.\n",
      "\n",
      "The user gave an example with the scarecrow, so maybe I can think of another profession or something related to that. Let's see, professions that have something to do with their work tools or actions. Maybe a baker, a fisherman, a musician, or something like that.\n",
      "\n",
      "Wait, the scarecrow joke used \"outstanding in his field,\" which is a pun on \"field\" as in both the actual field and the area of expertise. Maybe I can find another pun like that.\n",
      "\n",
      "How about a baker? If someone knocks on the door and says, \"Knock-knock, who's there?\" The answer could be \"The cookie,\" because cookies are baked, so it's like a play on \"baker.\" But that might be a bit forced. Alternatively, maybe \"The pie is on the door,\" but that doesn't make much sense.\n",
      "\n",
      "What about a fisherman? Maybe something with fishing terms. \"Knock-knock, who's there?\" \"The bait,\" because you use bait to fish. So, \"The bait is here.\" Hmm, that could work, but I'm not sure if it's as clever as the scarecrow joke.\n",
      "\n",
      "How about a musician? Maybe \"The drummer\" because drummers are often associated with knocking. So, \"The drummer wants to come in.\" That's a bit of a stretch, but it's a play on words with \"knock\" and \"drummer.\"\n",
      "\n",
      "Wait, another idea. Maybe a profession that's related to the act of knocking. A carpenter? \"Knock-knock, who's there?\" \"The woodpecker,\" because woodpeckers knock on wood. That's a good one because it's a real bird that does that. So, \"The woodpecker is here.\"\n",
      "\n",
      "Alternatively, maybe a profession that's related to something else. How about a writer? \"Knock-knock, who's there?\" \"The novel,\" because novels are written. So, \"The novel is on the door.\" That's a bit abstract, but it's a pun.\n",
      "\n",
      "Wait, another angle. Maybe something involving a tool or an object that's used for knocking. Like a hammer. But then the punchline would be \"The hammer's here,\" which is straightforward but not a pun.\n",
      "\n",
      "I think the carpenter and the woodpecker idea is better because it's a natural connection to knocking. So, the joke would be:\n",
      "\n",
      "\"Knock-knock, who's there?\"\n",
      "\n",
      "\"The woodpecker, can I come in?\"\n",
      "\n",
      "That's a solid joke because it's a real bird known for knocking on wood, which ties into the knock-knock structure.\n",
      "\n",
      "Alternatively, if I want to keep it simple and more straightforward, like the baker or the fisherman, but the woodpecker seems more fitting because it's directly related to the action of knocking.\n",
      "\n",
      "I think I'll go with the woodpecker. It makes sense and the pun is clear. So, the joke is:\n",
      "\n",
      "\"Knock-knock, who's there?\"\n",
      "\n",
      "\"The woodpecker, can I come in?\"\n",
      "\n",
      "Yeah, that works well.\n",
      "</think>\n",
      "\n",
      "**Joke:**\n",
      "\n",
      "\"Knock-knock, who's there?\"\n",
      "\n",
      "\"The woodpecker, can I come in?\"\n",
      "\n",
      "**Explanation:**\n",
      "\n",
      "This joke cleverly uses the woodpecker's natural habit of knocking on wood, which ties into the knock-knock structure. It's a playful pun that connects the action of knocking with the bird's behavior, making it both amusing and relevant.\n"
     ]
    }
   ],
   "source": [
    "print(response['choices'][0]['message']['content'])"
   ]
  },
  {
   "cell_type": "markdown",
   "id": "f40bddd0-ba15-4279-b5eb-8541d299ccbc",
   "metadata": {},
   "source": [
    "### Write testing script"
   ]
  },
  {
   "cell_type": "markdown",
   "id": "990ccbda-f60e-46d3-b43e-d1734f1bbd73",
   "metadata": {},
   "source": [
    "We are going to define a Shell script that will run the `token_benchmark_ray.py` script that is part of the `LLMPerf` library. There will be some minor modifications to use our `LiteLLM` compatible model and to pass our AWS credentials as environment variables."
   ]
  },
  {
   "cell_type": "code",
   "execution_count": 17,
   "id": "ac7a3dfa-94ab-44c4-a85e-0263813c3aa2",
   "metadata": {},
   "outputs": [
    {
     "name": "stdout",
     "output_type": "stream",
     "text": [
      "Script written to scripts/run_benchmark.sh and made executable.\n"
     ]
    }
   ],
   "source": [
    "import os\n",
    "import stat\n",
    "from sagemaker.utils import name_from_base\n",
    "\n",
    "def write_benchmarking_script(mean_input_tokens: int,\n",
    "                              stddev_input_tokens: int,\n",
    "                              mean_output_tokens: int,\n",
    "                              stddev_output_tokens: int,\n",
    "                              num_concurrent_requests: int,\n",
    "                              num_requests_per_client: int):\n",
    "    \"\"\"\n",
    "    Write a benchmarking script that uses the token_benchmark_ray script\n",
    "    \"\"\"\n",
    "    results_dir = os.path.join(\"outputs\",\n",
    "                               name_from_base(hf_model_id)\n",
    "                              )\n",
    "    \n",
    "    script_content = f\"\"\"#!/bin/bash\n",
    "export LLM_PERF_CONCURRENT={num_concurrent_requests}\n",
    "export LLM_PERF_MAX_REQUESTS=$(expr $LLM_PERF_CONCURRENT \\* {num_requests_per_client})\n",
    "export LLM_PERF_SCRIPT_DIR=$HOME/llmperf\n",
    "\n",
    "export AWS_ACCESS_KEY_ID=\"{AWS_ACCESS_KEY_ID}\"\n",
    "export AWS_SECRET_ACCESS_KEY=\"{AWS_SECRET_ACCESS_KEY}\"\n",
    "export AWS_REGION_NAME=\"{region}\"\n",
    "\n",
    "export LLM_PERF_OUTPUT={results_dir}\n",
    "\n",
    "mkdir -p $LLM_PERF_OUTPUT\n",
    "cp \"$0\" \"${{LLM_PERF_OUTPUT}}\"/\n",
    "\n",
    "python3 ${{LLM_PERF_SCRIPT_DIR}}/token_benchmark_ray.py \\\\\n",
    "    --model \"bedrock/llama/{model_id}\" \\\\\n",
    "    --mean-input-tokens {mean_input_tokens} \\\\\n",
    "    --stddev-input-tokens {stddev_input_tokens} \\\\\n",
    "    --mean-output-tokens {mean_output_tokens} \\\\\n",
    "    --stddev-output-tokens {stddev_output_tokens} \\\\\n",
    "    --max-num-completed-requests ${{LLM_PERF_MAX_REQUESTS}} \\\\\n",
    "    --timeout 1800 \\\\\n",
    "    --num-concurrent-requests ${{LLM_PERF_CONCURRENT}} \\\\\n",
    "    --results-dir \"${{LLM_PERF_OUTPUT}}\" \\\\\n",
    "    --llm-api litellm \\\\\n",
    "    --additional-sampling-params '{{}}'\n",
    "\"\"\"\n",
    "\n",
    "    os.makedirs(\"scripts\", exist_ok=True)\n",
    "\n",
    "    script_path = \"scripts/run_benchmark.sh\"\n",
    "    with open(script_path, \"w\") as file:\n",
    "        file.write(script_content)\n",
    "\n",
    "    current_permissions = os.stat(script_path).st_mode\n",
    "    os.chmod(script_path, current_permissions | stat.S_IXUSR)\n",
    "\n",
    "    print(f\"Script written to {script_path} and made executable.\")\n",
    "\n",
    "    return results_dir\n",
    "\n",
    "results_dir = write_benchmarking_script(\n",
    "    mean_input_tokens=200,\n",
    "    stddev_input_tokens=25,\n",
    "    mean_output_tokens=200,\n",
    "    stddev_output_tokens=50,\n",
    "    num_concurrent_requests=2,\n",
    "    num_requests_per_client=50\n",
    "    )"
   ]
  },
  {
   "cell_type": "code",
   "execution_count": 18,
   "id": "a338a6a9-b63c-495f-a7e5-98c0645d4410",
   "metadata": {},
   "outputs": [
    {
     "name": "stdout",
     "output_type": "stream",
     "text": [
      "You are using the default legacy behaviour of the <class 'transformers.models.llama.tokenization_llama_fast.LlamaTokenizerFast'>. This is expected, and simply means that the `legacy` (previous) behavior will be used so nothing changes for you. If you want to use the new behaviour, set `legacy=False`. This should only be set if you understand what it means, and thoroughly read the reason why this was added as explained in https://github.com/huggingface/transformers/pull/24565 - if you loaded a llama tokenizer from a GGUF file you can ignore this message.\n",
      "2025-02-21 15:29:01,150\tWARNING services.py:2063 -- WARNING: The object store is using /tmp instead of /dev/shm because /dev/shm has only 4049555456 bytes available. This will harm performance! You may be able to free up space by deleting files in /dev/shm. If you are inside a Docker container, you can increase /dev/shm size by passing '--shm-size=9.70gb' to 'docker run' (or add it to the run_options list in a Ray cluster config). Make sure to set this to more than 30% of available RAM.\n",
      "2025-02-21 15:29:02,299\tINFO worker.py:1841 -- Started a local Ray instance.\n",
      "100%|█████████████████████████████████████████| 100/100 [02:06<00:00,  1.27s/it]\n",
      "\\Results for token benchmark for bedrock/llama/arn:aws:bedrock:us-west-2:447500535019:imported-model/gzjez2fl6fqv queried with the litellm api.\n",
      "\n",
      "inter_token_latency_s\n",
      "    p25 = 0.011539844607906875\n",
      "    p50 = 0.011799892394804237\n",
      "    p75 = 0.012215049464239491\n",
      "    p90 = 0.012857840641913884\n",
      "    p95 = 0.013223844971041855\n",
      "    p99 = 0.014052271172335597\n",
      "    mean = 0.011944668978055371\n",
      "    min = 0.010633086730606976\n",
      "    max = 0.014947145426838122\n",
      "    stddev = 0.0006828104456837079\n",
      "ttft_s\n",
      "    p25 = 0.3268987215000152\n",
      "    p50 = 0.3682970859999841\n",
      "    p75 = 0.4180455057500012\n",
      "    p90 = 0.5336911679998594\n",
      "    p95 = 0.6172413196999741\n",
      "    p99 = 0.7114198719799638\n",
      "    mean = 0.3870447555800001\n",
      "    min = 0.1441436679999697\n",
      "    max = 0.895927754000013\n",
      "    stddev = 0.11664909965783593\n",
      "end_to_end_latency_s\n",
      "    p25 = 2.129780807999964\n",
      "    p50 = 2.354759672499995\n",
      "    p75 = 2.727337426750182\n",
      "    p90 = 2.957789504699986\n",
      "    p95 = 3.0286894300997456\n",
      "    p99 = 3.3317388518000106\n",
      "    mean = 2.3973647034899885\n",
      "    min = 1.3210850899999969\n",
      "    max = 3.4830668659999446\n",
      "    stddev = 0.43259106402204067\n",
      "request_output_throughput_token_per_s\n",
      "    p25 = 92.04560708202308\n",
      "    p50 = 95.47220463609025\n",
      "    p75 = 98.96451065888115\n",
      "    p90 = 101.81892716533996\n",
      "    p95 = 103.1246786822685\n",
      "    p99 = 105.73408214968124\n",
      "    mean = 94.7382745123819\n",
      "    min = 74.60494871297615\n",
      "    max = 105.93932046054711\n",
      "    stddev = 6.290004634941457\n",
      "number_input_tokens\n",
      "    p25 = 184.0\n",
      "    p50 = 200.0\n",
      "    p75 = 214.0\n",
      "    p90 = 231.20000000000002\n",
      "    p95 = 243.1\n",
      "    p99 = 269.12000000000006\n",
      "    mean = 199.06\n",
      "    min = 133\n",
      "    max = 281\n",
      "    stddev = 26.549294727074212\n",
      "number_output_tokens\n",
      "    p25 = 196.5\n",
      "    p50 = 226.0\n",
      "    p75 = 264.75\n",
      "    p90 = 283.1\n",
      "    p95 = 304.05\n",
      "    p99 = 333.07000000000005\n",
      "    mean = 228.0\n",
      "    min = 108\n",
      "    max = 340\n",
      "    stddev = 47.3004580668447\n",
      "Number Of Errored Requests: 0\n",
      "Overall Output Throughput: 179.7000987331598\n",
      "Number Of Completed Requests: 100\n",
      "Completed Requests Per Minute: 47.28949966662099\n",
      "\u001b[0m"
     ]
    }
   ],
   "source": [
    "!bash ./scripts/run_benchmark.sh"
   ]
  },
  {
   "cell_type": "markdown",
   "id": "e3987421-dd75-41af-a384-3b9ddb632e89",
   "metadata": {},
   "source": [
    "###  Analyze results"
   ]
  },
  {
   "cell_type": "markdown",
   "id": "8962bed7-cbc5-4ad0-915e-2565941f5dd6",
   "metadata": {},
   "source": [
    "LLMPerf will write two files in the results directory: a summary file, whose results we can already see above, and the individual responses, which we can extract for plotting and detailed analysis."
   ]
  },
  {
   "cell_type": "code",
   "execution_count": 19,
   "id": "027ba243-de53-47e3-af2a-c281ba139db1",
   "metadata": {},
   "outputs": [],
   "source": [
    "import os\n",
    "import json\n",
    "\n",
    "def load_responses_json(local_dir):\n",
    "    \"\"\"\n",
    "    Load JSON file with detailed responses from the LLMPerf test\n",
    "    \"\"\"\n",
    "    if not os.path.isdir(local_dir):\n",
    "        raise FileNotFoundError(f\"Directory '{local_dir}' does not exist.\")\n",
    "\n",
    "    for file_name in os.listdir(local_dir):\n",
    "        if file_name.endswith(\"individual_responses.json\"):\n",
    "            file_path = os.path.join(local_dir, file_name)\n",
    "            with open(file_path, \"r\") as f:\n",
    "                return json.load(f)\n",
    "    raise FileNotFoundError(\"No file ending with 'individual_responses.json' found in the directory.\")\n",
    "\n",
    "try:\n",
    "    individual_responses = load_responses_json(results_dir)\n",
    "except FileNotFoundError as e:\n",
    "    print(e)"
   ]
  },
  {
   "cell_type": "code",
   "execution_count": 20,
   "id": "ca5e3ce3-4022-47e6-847f-d193a886317f",
   "metadata": {},
   "outputs": [
    {
     "data": {
      "image/png": "[encoded data removed]",
      "text/plain": [
       "<Figure size 1200x500 with 2 Axes>"
      ]
     },
     "metadata": {},
     "output_type": "display_data"
    }
   ],
   "source": [
    "import matplotlib.pyplot as plt\n",
    "\n",
    "ttft_values = [d[\"ttft_s\"] for d in individual_responses if \"ttft_s\" in d]\n",
    "throughput_values = [d[\"request_output_throughput_token_per_s\"] for d in individual_responses if \"request_output_throughput_token_per_s\" in d]\n",
    "\n",
    "fig, axes = plt.subplots(1, 2, figsize=(12, 5))\n",
    "axes[0].hist(ttft_values, bins=50, edgecolor=\"black\")\n",
    "axes[0].set_title(\"Time to first token (s)\")\n",
    "axes[1].hist(throughput_values, bins=50, edgecolor=\"black\")\n",
    "axes[1].set_title(\"Request throughput (tokens/s)\")\n",
    "plt.tight_layout()\n",
    "plt.show()"
   ]
  },
  {
   "cell_type": "markdown",
   "id": "cdc0dad0-e704-496b-934f-e7795d5be9c7",
   "metadata": {},
   "source": [
    "Feel free to edit the arguments of the `write_benchmarking_script` function to re-run the analysis for your specific scenario."
   ]
  },
  {
   "cell_type": "markdown",
   "id": "a76dc1d9-5f34-4e13-8864-5939b4c9fe9a",
   "metadata": {},
   "source": [
    "## Clean up"
   ]
  },
  {
   "cell_type": "code",
   "execution_count": 21,
   "id": "c64052fb-cfa8-4b7e-a2f3-55df3a2b124d",
   "metadata": {},
   "outputs": [],
   "source": [
    "bedrock = boto3.client('bedrock', region_name=region)\n",
    "response = bedrock.delete_imported_model(\n",
    "    modelIdentifier=imported_model_name\n",
    ")"
   ]
  },
  {
   "cell_type": "code",
   "execution_count": null,
   "id": "b6eeb654-818a-46c7-8961-0a716e7d48a1",
   "metadata": {},
   "outputs": [],
   "source": []
  }
 ],
 "metadata": {
  "kernelspec": {
   "display_name": "Python 3 (ipykernel)",
   "language": "python",
   "name": "python3"
  },
  "language_info": {
   "codemirror_mode": {
    "name": "ipython",
    "version": 3
   },
   "file_extension": ".py",
   "mimetype": "text/x-python",
   "name": "python",
   "nbconvert_exporter": "python",
   "pygments_lexer": "ipython3",
   "version": "3.10.16"
  }
 },
 "nbformat": 4,
 "nbformat_minor": 5
}
