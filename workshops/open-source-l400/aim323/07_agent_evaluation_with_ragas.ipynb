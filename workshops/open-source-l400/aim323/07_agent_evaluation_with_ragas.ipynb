{
 "cells": [
  {
   "cell_type": "markdown",
   "id": "51194982-9bd9-4b79-85a3-16cbdf36d63b",
   "metadata": {},
   "source": [
    "# Agent Evaluation\n",
    "\n",
    "In this section, we will explore the evaluation of agentic systems. Agentic systems are complex constructs consisting of multiple sub-components. In Lab 3, we examined a simple singleton agent orchestrating between two tools. Lab 4 demonstrated a more sophisticated multi-layer agentic system with a top-level router agent coordinating multiple agentic sub-systems.\n",
    "\n",
    "One direct implication of the interdependent and potentially nested nature of agentic systems is that evaluation can occur at both macro and micro levels. This means that either the entire system as a whole is being evaluated (macro view) or each individual sub-component is assessed (micro view). For nested systems, this applies to every level of abstraction.\n",
    "\n",
    "Typically, evaluation begins at the macro level. In many cases, positive evaluation results at the macro level indicate sufficient agent performance. If macro-level performance evaluation proves insufficient or yields poor results, micro-level evaluation can help decompose the performance metrics and attribute results to specific sub-components.\n",
    "\n",
    "In this lab, we will first explore macro-level agent performance evaluation. Then, we will evaluate tool usage as a lower-level task. To maintain focus on the evaluation process, we will keep the agentic system simple by utilizing the singleton agent composed in Lab 3."
   ]
  },
  {
   "attachments": {},
   "cell_type": "markdown",
   "id": "64169599-95e0-4b76-a81e-c68d479eb79a",
   "metadata": {},
   "source": [
    "## Agent Setup\n",
    "\n",
    "As covered in the previous section, we will reuse the Agent we built in Lab 3. This agent has access to tools designed to help find vacation destinations. You'll be able to interact with the agent by asking questions, observe it utilizing various tools, and engage in meaningful conversations.\n",
    "\n",
    "Let's begin by installing the required packages."
   ]
  },
  {
   "cell_type": "code",
   "execution_count": 1,
   "id": "b861b440-3598-4140-af69-6bd993f861e8",
   "metadata": {},
   "outputs": [
    {
     "name": "stdout",
     "output_type": "stream",
     "text": [
      "Requirement already satisfied: langchain-community in /opt/conda/lib/python3.10/site-packages (0.3.5)\n",
      "Requirement already satisfied: langgraph in /opt/conda/lib/python3.10/site-packages (0.2.45)\n",
      "Requirement already satisfied: langchain-chroma in /opt/conda/lib/python3.10/site-packages (0.1.4)\n",
      "Requirement already satisfied: langchain_aws in /opt/conda/lib/python3.10/site-packages (0.2.6)\n",
      "Requirement already satisfied: pandas in /opt/conda/lib/python3.10/site-packages (2.2.3)\n",
      "Collecting ragas==0.2.3\n",
      "  Downloading ragas-0.2.3-py3-none-any.whl.metadata (7.9 kB)\n",
      "Requirement already satisfied: pypdf in /opt/conda/lib/python3.10/site-packages (5.1.0)\n",
      "Collecting rapidfuzz\n",
      "  Downloading rapidfuzz-3.10.1-cp310-cp310-manylinux_2_17_x86_64.manylinux2014_x86_64.whl.metadata (11 kB)\n",
      "Requirement already satisfied: numpy in /opt/conda/lib/python3.10/site-packages (from ragas==0.2.3) (1.26.4)\n",
      "Requirement already satisfied: datasets in /opt/conda/lib/python3.10/site-packages (from ragas==0.2.3) (2.20.0)\n",
      "Collecting tiktoken (from ragas==0.2.3)\n",
      "  Downloading tiktoken-0.8.0-cp310-cp310-manylinux_2_17_x86_64.manylinux2014_x86_64.whl.metadata (6.6 kB)\n",
      "Requirement already satisfied: langchain in /opt/conda/lib/python3.10/site-packages (from ragas==0.2.3) (0.3.7)\n",
      "Requirement already satisfied: langchain-core in /opt/conda/lib/python3.10/site-packages (from ragas==0.2.3) (0.3.15)\n",
      "Collecting langchain-openai (from ragas==0.2.3)\n",
      "  Downloading langchain_openai-0.2.6-py3-none-any.whl.metadata (2.6 kB)\n",
      "Requirement already satisfied: nest-asyncio in /opt/conda/lib/python3.10/site-packages (from ragas==0.2.3) (1.6.0)\n",
      "Collecting appdirs (from ragas==0.2.3)\n",
      "  Downloading appdirs-1.4.4-py2.py3-none-any.whl.metadata (9.0 kB)\n",
      "Requirement already satisfied: pydantic>=2 in /opt/conda/lib/python3.10/site-packages (from ragas==0.2.3) (2.7.3)\n",
      "Collecting openai>1 (from ragas==0.2.3)\n",
      "  Downloading openai-1.54.1-py3-none-any.whl.metadata (24 kB)\n",
      "Collecting pysbd>=0.3.4 (from ragas==0.2.3)\n",
      "  Downloading pysbd-0.3.4-py3-none-any.whl.metadata (6.1 kB)\n",
      "Requirement already satisfied: PyYAML>=5.3 in /opt/conda/lib/python3.10/site-packages (from langchain-community) (6.0.1)\n",
      "Requirement already satisfied: SQLAlchemy<2.0.36,>=1.4 in /opt/conda/lib/python3.10/site-packages (from langchain-community) (2.0.30)\n",
      "Requirement already satisfied: aiohttp<4.0.0,>=3.8.3 in /opt/conda/lib/python3.10/site-packages (from langchain-community) (3.9.5)\n",
      "Requirement already satisfied: dataclasses-json<0.7,>=0.5.7 in /opt/conda/lib/python3.10/site-packages (from langchain-community) (0.6.7)\n",
      "Requirement already satisfied: httpx-sse<0.5.0,>=0.4.0 in /opt/conda/lib/python3.10/site-packages (from langchain-community) (0.4.0)\n",
      "Requirement already satisfied: langsmith<0.2.0,>=0.1.125 in /opt/conda/lib/python3.10/site-packages (from langchain-community) (0.1.139)\n",
      "Requirement already satisfied: pydantic-settings<3.0.0,>=2.4.0 in /opt/conda/lib/python3.10/site-packages (from langchain-community) (2.6.1)\n",
      "Requirement already satisfied: requests<3,>=2 in /opt/conda/lib/python3.10/site-packages (from langchain-community) (2.32.3)\n",
      "Requirement already satisfied: tenacity!=8.4.0,<10,>=8.1.0 in /opt/conda/lib/python3.10/site-packages (from langchain-community) (8.4.2)\n",
      "Requirement already satisfied: langgraph-checkpoint<3.0.0,>=2.0.0 in /opt/conda/lib/python3.10/site-packages (from langgraph) (2.0.2)\n",
      "Requirement already satisfied: langgraph-sdk<0.2.0,>=0.1.32 in /opt/conda/lib/python3.10/site-packages (from langgraph) (0.1.35)\n",
      "Requirement already satisfied: chromadb!=0.5.4,!=0.5.5,<0.6.0,>=0.4.0 in /opt/conda/lib/python3.10/site-packages (from langchain-chroma) (0.5.18)\n",
      "Requirement already satisfied: fastapi<1,>=0.95.2 in /opt/conda/lib/python3.10/site-packages (from langchain-chroma) (0.110.3)\n",
      "Requirement already satisfied: boto3>=1.34.131 in /opt/conda/lib/python3.10/site-packages (from langchain_aws) (1.34.131)\n",
      "Requirement already satisfied: python-dateutil>=2.8.2 in /opt/conda/lib/python3.10/site-packages (from pandas) (2.9.0)\n",
      "Requirement already satisfied: pytz>=2020.1 in /opt/conda/lib/python3.10/site-packages (from pandas) (2023.3)\n",
      "Requirement already satisfied: tzdata>=2022.7 in /opt/conda/lib/python3.10/site-packages (from pandas) (2024.1)\n",
      "Requirement already satisfied: typing_extensions>=4.0 in /opt/conda/lib/python3.10/site-packages (from pypdf) (4.12.2)\n",
      "Requirement already satisfied: aiosignal>=1.1.2 in /opt/conda/lib/python3.10/site-packages (from aiohttp<4.0.0,>=3.8.3->langchain-community) (1.3.1)\n",
      "Requirement already satisfied: attrs>=17.3.0 in /opt/conda/lib/python3.10/site-packages (from aiohttp<4.0.0,>=3.8.3->langchain-community) (23.2.0)\n",
      "Requirement already satisfied: frozenlist>=1.1.1 in /opt/conda/lib/python3.10/site-packages (from aiohttp<4.0.0,>=3.8.3->langchain-community) (1.4.1)\n",
      "Requirement already satisfied: multidict<7.0,>=4.5 in /opt/conda/lib/python3.10/site-packages (from aiohttp<4.0.0,>=3.8.3->langchain-community) (6.0.5)\n",
      "Requirement already satisfied: yarl<2.0,>=1.0 in /opt/conda/lib/python3.10/site-packages (from aiohttp<4.0.0,>=3.8.3->langchain-community) (1.9.4)\n",
      "Requirement already satisfied: async-timeout<5.0,>=4.0 in /opt/conda/lib/python3.10/site-packages (from aiohttp<4.0.0,>=3.8.3->langchain-community) (4.0.3)\n",
      "Requirement already satisfied: botocore<1.35.0,>=1.34.131 in /opt/conda/lib/python3.10/site-packages (from boto3>=1.34.131->langchain_aws) (1.34.131)\n",
      "Requirement already satisfied: jmespath<2.0.0,>=0.7.1 in /opt/conda/lib/python3.10/site-packages (from boto3>=1.34.131->langchain_aws) (1.0.1)\n",
      "Requirement already satisfied: s3transfer<0.11.0,>=0.10.0 in /opt/conda/lib/python3.10/site-packages (from boto3>=1.34.131->langchain_aws) (0.10.2)\n",
      "Requirement already satisfied: build>=1.0.3 in /opt/conda/lib/python3.10/site-packages (from chromadb!=0.5.4,!=0.5.5,<0.6.0,>=0.4.0->langchain-chroma) (1.2.2.post1)\n",
      "Requirement already satisfied: chroma-hnswlib==0.7.6 in /opt/conda/lib/python3.10/site-packages (from chromadb!=0.5.4,!=0.5.5,<0.6.0,>=0.4.0->langchain-chroma) (0.7.6)\n",
      "Requirement already satisfied: uvicorn>=0.18.3 in /opt/conda/lib/python3.10/site-packages (from uvicorn[standard]>=0.18.3->chromadb!=0.5.4,!=0.5.5,<0.6.0,>=0.4.0->langchain-chroma) (0.30.1)\n",
      "Requirement already satisfied: posthog>=2.4.0 in /opt/conda/lib/python3.10/site-packages (from chromadb!=0.5.4,!=0.5.5,<0.6.0,>=0.4.0->langchain-chroma) (3.7.0)\n",
      "Requirement already satisfied: onnxruntime>=1.14.1 in /opt/conda/lib/python3.10/site-packages (from chromadb!=0.5.4,!=0.5.5,<0.6.0,>=0.4.0->langchain-chroma) (1.20.0)\n",
      "Requirement already satisfied: opentelemetry-api>=1.2.0 in /opt/conda/lib/python3.10/site-packages (from chromadb!=0.5.4,!=0.5.5,<0.6.0,>=0.4.0->langchain-chroma) (1.28.0)\n",
      "Requirement already satisfied: opentelemetry-exporter-otlp-proto-grpc>=1.2.0 in /opt/conda/lib/python3.10/site-packages (from chromadb!=0.5.4,!=0.5.5,<0.6.0,>=0.4.0->langchain-chroma) (1.28.0)\n",
      "Requirement already satisfied: opentelemetry-instrumentation-fastapi>=0.41b0 in /opt/conda/lib/python3.10/site-packages (from chromadb!=0.5.4,!=0.5.5,<0.6.0,>=0.4.0->langchain-chroma) (0.49b0)\n",
      "Requirement already satisfied: opentelemetry-sdk>=1.2.0 in /opt/conda/lib/python3.10/site-packages (from chromadb!=0.5.4,!=0.5.5,<0.6.0,>=0.4.0->langchain-chroma) (1.28.0)\n",
      "Requirement already satisfied: tokenizers>=0.13.2 in /opt/conda/lib/python3.10/site-packages (from chromadb!=0.5.4,!=0.5.5,<0.6.0,>=0.4.0->langchain-chroma) (0.19.1)\n",
      "Requirement already satisfied: pypika>=0.48.9 in /opt/conda/lib/python3.10/site-packages (from chromadb!=0.5.4,!=0.5.5,<0.6.0,>=0.4.0->langchain-chroma) (0.48.9)\n",
      "Requirement already satisfied: tqdm>=4.65.0 in /opt/conda/lib/python3.10/site-packages (from chromadb!=0.5.4,!=0.5.5,<0.6.0,>=0.4.0->langchain-chroma) (4.66.4)\n",
      "Requirement already satisfied: overrides>=7.3.1 in /opt/conda/lib/python3.10/site-packages (from chromadb!=0.5.4,!=0.5.5,<0.6.0,>=0.4.0->langchain-chroma) (7.7.0)\n",
      "Requirement already satisfied: importlib-resources in /opt/conda/lib/python3.10/site-packages (from chromadb!=0.5.4,!=0.5.5,<0.6.0,>=0.4.0->langchain-chroma) (6.4.0)\n",
      "Requirement already satisfied: grpcio>=1.58.0 in /opt/conda/lib/python3.10/site-packages (from chromadb!=0.5.4,!=0.5.5,<0.6.0,>=0.4.0->langchain-chroma) (1.67.1)\n",
      "Requirement already satisfied: bcrypt>=4.0.1 in /opt/conda/lib/python3.10/site-packages (from chromadb!=0.5.4,!=0.5.5,<0.6.0,>=0.4.0->langchain-chroma) (4.1.3)\n",
      "Requirement already satisfied: typer>=0.9.0 in /opt/conda/lib/python3.10/site-packages (from chromadb!=0.5.4,!=0.5.5,<0.6.0,>=0.4.0->langchain-chroma) (0.9.4)\n",
      "Requirement already satisfied: kubernetes>=28.1.0 in /opt/conda/lib/python3.10/site-packages (from chromadb!=0.5.4,!=0.5.5,<0.6.0,>=0.4.0->langchain-chroma) (31.0.0)\n",
      "Requirement already satisfied: mmh3>=4.0.1 in /opt/conda/lib/python3.10/site-packages (from chromadb!=0.5.4,!=0.5.5,<0.6.0,>=0.4.0->langchain-chroma) (5.0.1)\n",
      "Requirement already satisfied: orjson>=3.9.12 in /opt/conda/lib/python3.10/site-packages (from chromadb!=0.5.4,!=0.5.5,<0.6.0,>=0.4.0->langchain-chroma) (3.10.4)\n",
      "Requirement already satisfied: httpx>=0.27.0 in /opt/conda/lib/python3.10/site-packages (from chromadb!=0.5.4,!=0.5.5,<0.6.0,>=0.4.0->langchain-chroma) (0.27.0)\n",
      "Requirement already satisfied: rich>=10.11.0 in /opt/conda/lib/python3.10/site-packages (from chromadb!=0.5.4,!=0.5.5,<0.6.0,>=0.4.0->langchain-chroma) (13.7.1)\n",
      "Requirement already satisfied: marshmallow<4.0.0,>=3.18.0 in /opt/conda/lib/python3.10/site-packages (from dataclasses-json<0.7,>=0.5.7->langchain-community) (3.21.3)\n",
      "Requirement already satisfied: typing-inspect<1,>=0.4.0 in /opt/conda/lib/python3.10/site-packages (from dataclasses-json<0.7,>=0.5.7->langchain-community) (0.9.0)\n",
      "Requirement already satisfied: starlette<0.38.0,>=0.37.2 in /opt/conda/lib/python3.10/site-packages (from fastapi<1,>=0.95.2->langchain-chroma) (0.37.2)\n",
      "Requirement already satisfied: langchain-text-splitters<0.4.0,>=0.3.0 in /opt/conda/lib/python3.10/site-packages (from langchain->ragas==0.2.3) (0.3.2)\n",
      "Collecting pydantic>=2 (from ragas==0.2.3)\n",
      "  Using cached pydantic-2.9.2-py3-none-any.whl.metadata (149 kB)\n",
      "Requirement already satisfied: jsonpatch<2.0,>=1.33 in /opt/conda/lib/python3.10/site-packages (from langchain-core->ragas==0.2.3) (1.33)\n",
      "Requirement already satisfied: packaging<25,>=23.2 in /opt/conda/lib/python3.10/site-packages (from langchain-core->ragas==0.2.3) (23.2)\n",
      "Requirement already satisfied: msgpack<2.0.0,>=1.1.0 in /opt/conda/lib/python3.10/site-packages (from langgraph-checkpoint<3.0.0,>=2.0.0->langgraph) (1.1.0)\n",
      "Requirement already satisfied: requests-toolbelt<2.0.0,>=1.0.0 in /opt/conda/lib/python3.10/site-packages (from langsmith<0.2.0,>=0.1.125->langchain-community) (1.0.0)\n",
      "Requirement already satisfied: anyio<5,>=3.5.0 in /opt/conda/lib/python3.10/site-packages (from openai>1->ragas==0.2.3) (4.4.0)\n",
      "Requirement already satisfied: distro<2,>=1.7.0 in /opt/conda/lib/python3.10/site-packages (from openai>1->ragas==0.2.3) (1.9.0)\n",
      "Collecting jiter<1,>=0.4.0 (from openai>1->ragas==0.2.3)\n",
      "  Downloading jiter-0.7.0-cp310-cp310-manylinux_2_17_x86_64.manylinux2014_x86_64.whl.metadata (5.2 kB)\n",
      "Requirement already satisfied: sniffio in /opt/conda/lib/python3.10/site-packages (from openai>1->ragas==0.2.3) (1.3.1)\n",
      "Requirement already satisfied: annotated-types>=0.6.0 in /opt/conda/lib/python3.10/site-packages (from pydantic>=2->ragas==0.2.3) (0.7.0)\n",
      "Requirement already satisfied: pydantic-core==2.23.4 in /opt/conda/lib/python3.10/site-packages (from pydantic>=2->ragas==0.2.3) (2.23.4)\n",
      "Requirement already satisfied: python-dotenv>=0.21.0 in /opt/conda/lib/python3.10/site-packages (from pydantic-settings<3.0.0,>=2.4.0->langchain-community) (1.0.1)\n",
      "Requirement already satisfied: six>=1.5 in /opt/conda/lib/python3.10/site-packages (from python-dateutil>=2.8.2->pandas) (1.16.0)\n",
      "Requirement already satisfied: charset-normalizer<4,>=2 in /opt/conda/lib/python3.10/site-packages (from requests<3,>=2->langchain-community) (3.3.2)\n",
      "Requirement already satisfied: idna<4,>=2.5 in /opt/conda/lib/python3.10/site-packages (from requests<3,>=2->langchain-community) (3.7)\n",
      "Requirement already satisfied: urllib3<3,>=1.21.1 in /opt/conda/lib/python3.10/site-packages (from requests<3,>=2->langchain-community) (1.26.19)\n",
      "Requirement already satisfied: certifi>=2017.4.17 in /opt/conda/lib/python3.10/site-packages (from requests<3,>=2->langchain-community) (2024.6.2)\n",
      "Requirement already satisfied: greenlet!=0.4.17 in /opt/conda/lib/python3.10/site-packages (from SQLAlchemy<2.0.36,>=1.4->langchain-community) (3.0.3)\n",
      "Requirement already satisfied: filelock in /opt/conda/lib/python3.10/site-packages (from datasets->ragas==0.2.3) (3.15.4)\n",
      "Requirement already satisfied: pyarrow>=15.0.0 in /opt/conda/lib/python3.10/site-packages (from datasets->ragas==0.2.3) (15.0.0)\n",
      "Requirement already satisfied: pyarrow-hotfix in /opt/conda/lib/python3.10/site-packages (from datasets->ragas==0.2.3) (0.6)\n",
      "Requirement already satisfied: dill<0.3.9,>=0.3.0 in /opt/conda/lib/python3.10/site-packages (from datasets->ragas==0.2.3) (0.3.8)\n",
      "Requirement already satisfied: xxhash in /opt/conda/lib/python3.10/site-packages (from datasets->ragas==0.2.3) (3.4.1)\n",
      "Requirement already satisfied: multiprocess in /opt/conda/lib/python3.10/site-packages (from datasets->ragas==0.2.3) (0.70.16)\n",
      "Requirement already satisfied: fsspec<=2024.5.0,>=2023.1.0 in /opt/conda/lib/python3.10/site-packages (from fsspec[http]<=2024.5.0,>=2023.1.0->datasets->ragas==0.2.3) (2023.6.0)\n",
      "Requirement already satisfied: huggingface-hub>=0.21.2 in /opt/conda/lib/python3.10/site-packages (from datasets->ragas==0.2.3) (0.23.4)\n",
      "Requirement already satisfied: regex>=2022.1.18 in /opt/conda/lib/python3.10/site-packages (from tiktoken->ragas==0.2.3) (2024.5.15)\n",
      "Requirement already satisfied: exceptiongroup>=1.0.2 in /opt/conda/lib/python3.10/site-packages (from anyio<5,>=3.5.0->openai>1->ragas==0.2.3) (1.2.0)\n",
      "Requirement already satisfied: pyproject_hooks in /opt/conda/lib/python3.10/site-packages (from build>=1.0.3->chromadb!=0.5.4,!=0.5.5,<0.6.0,>=0.4.0->langchain-chroma) (1.2.0)\n",
      "Requirement already satisfied: tomli>=1.1.0 in /opt/conda/lib/python3.10/site-packages (from build>=1.0.3->chromadb!=0.5.4,!=0.5.5,<0.6.0,>=0.4.0->langchain-chroma) (2.0.1)\n",
      "Requirement already satisfied: httpcore==1.* in /opt/conda/lib/python3.10/site-packages (from httpx>=0.27.0->chromadb!=0.5.4,!=0.5.5,<0.6.0,>=0.4.0->langchain-chroma) (1.0.5)\n",
      "Requirement already satisfied: h11<0.15,>=0.13 in /opt/conda/lib/python3.10/site-packages (from httpcore==1.*->httpx>=0.27.0->chromadb!=0.5.4,!=0.5.5,<0.6.0,>=0.4.0->langchain-chroma) (0.14.0)\n",
      "Requirement already satisfied: jsonpointer>=1.9 in /opt/conda/lib/python3.10/site-packages (from jsonpatch<2.0,>=1.33->langchain-core->ragas==0.2.3) (3.0.0)\n",
      "Requirement already satisfied: google-auth>=1.0.1 in /opt/conda/lib/python3.10/site-packages (from kubernetes>=28.1.0->chromadb!=0.5.4,!=0.5.5,<0.6.0,>=0.4.0->langchain-chroma) (2.30.0)\n",
      "Requirement already satisfied: websocket-client!=0.40.0,!=0.41.*,!=0.42.*,>=0.32.0 in /opt/conda/lib/python3.10/site-packages (from kubernetes>=28.1.0->chromadb!=0.5.4,!=0.5.5,<0.6.0,>=0.4.0->langchain-chroma) (1.8.0)\n",
      "Requirement already satisfied: requests-oauthlib in /opt/conda/lib/python3.10/site-packages (from kubernetes>=28.1.0->chromadb!=0.5.4,!=0.5.5,<0.6.0,>=0.4.0->langchain-chroma) (2.0.0)\n",
      "Requirement already satisfied: oauthlib>=3.2.2 in /opt/conda/lib/python3.10/site-packages (from kubernetes>=28.1.0->chromadb!=0.5.4,!=0.5.5,<0.6.0,>=0.4.0->langchain-chroma) (3.2.2)\n",
      "Requirement already satisfied: durationpy>=0.7 in /opt/conda/lib/python3.10/site-packages (from kubernetes>=28.1.0->chromadb!=0.5.4,!=0.5.5,<0.6.0,>=0.4.0->langchain-chroma) (0.9)\n",
      "Requirement already satisfied: coloredlogs in /opt/conda/lib/python3.10/site-packages (from onnxruntime>=1.14.1->chromadb!=0.5.4,!=0.5.5,<0.6.0,>=0.4.0->langchain-chroma) (15.0.1)\n",
      "Requirement already satisfied: flatbuffers in /opt/conda/lib/python3.10/site-packages (from onnxruntime>=1.14.1->chromadb!=0.5.4,!=0.5.5,<0.6.0,>=0.4.0->langchain-chroma) (24.3.25)\n",
      "Requirement already satisfied: protobuf in /opt/conda/lib/python3.10/site-packages (from onnxruntime>=1.14.1->chromadb!=0.5.4,!=0.5.5,<0.6.0,>=0.4.0->langchain-chroma) (5.28.3)\n",
      "Requirement already satisfied: sympy in /opt/conda/lib/python3.10/site-packages (from onnxruntime>=1.14.1->chromadb!=0.5.4,!=0.5.5,<0.6.0,>=0.4.0->langchain-chroma) (1.12.1)\n",
      "Requirement already satisfied: deprecated>=1.2.6 in /opt/conda/lib/python3.10/site-packages (from opentelemetry-api>=1.2.0->chromadb!=0.5.4,!=0.5.5,<0.6.0,>=0.4.0->langchain-chroma) (1.2.14)\n",
      "Requirement already satisfied: importlib-metadata<=8.5.0,>=6.0 in /opt/conda/lib/python3.10/site-packages (from opentelemetry-api>=1.2.0->chromadb!=0.5.4,!=0.5.5,<0.6.0,>=0.4.0->langchain-chroma) (6.10.0)\n",
      "Requirement already satisfied: googleapis-common-protos~=1.52 in /opt/conda/lib/python3.10/site-packages (from opentelemetry-exporter-otlp-proto-grpc>=1.2.0->chromadb!=0.5.4,!=0.5.5,<0.6.0,>=0.4.0->langchain-chroma) (1.65.0)\n",
      "Requirement already satisfied: opentelemetry-exporter-otlp-proto-common==1.28.0 in /opt/conda/lib/python3.10/site-packages (from opentelemetry-exporter-otlp-proto-grpc>=1.2.0->chromadb!=0.5.4,!=0.5.5,<0.6.0,>=0.4.0->langchain-chroma) (1.28.0)\n",
      "Requirement already satisfied: opentelemetry-proto==1.28.0 in /opt/conda/lib/python3.10/site-packages (from opentelemetry-exporter-otlp-proto-grpc>=1.2.0->chromadb!=0.5.4,!=0.5.5,<0.6.0,>=0.4.0->langchain-chroma) (1.28.0)\n",
      "Requirement already satisfied: opentelemetry-instrumentation-asgi==0.49b0 in /opt/conda/lib/python3.10/site-packages (from opentelemetry-instrumentation-fastapi>=0.41b0->chromadb!=0.5.4,!=0.5.5,<0.6.0,>=0.4.0->langchain-chroma) (0.49b0)\n",
      "Requirement already satisfied: opentelemetry-instrumentation==0.49b0 in /opt/conda/lib/python3.10/site-packages (from opentelemetry-instrumentation-fastapi>=0.41b0->chromadb!=0.5.4,!=0.5.5,<0.6.0,>=0.4.0->langchain-chroma) (0.49b0)\n",
      "Requirement already satisfied: opentelemetry-semantic-conventions==0.49b0 in /opt/conda/lib/python3.10/site-packages (from opentelemetry-instrumentation-fastapi>=0.41b0->chromadb!=0.5.4,!=0.5.5,<0.6.0,>=0.4.0->langchain-chroma) (0.49b0)\n",
      "Requirement already satisfied: opentelemetry-util-http==0.49b0 in /opt/conda/lib/python3.10/site-packages (from opentelemetry-instrumentation-fastapi>=0.41b0->chromadb!=0.5.4,!=0.5.5,<0.6.0,>=0.4.0->langchain-chroma) (0.49b0)\n",
      "Requirement already satisfied: wrapt<2.0.0,>=1.0.0 in /opt/conda/lib/python3.10/site-packages (from opentelemetry-instrumentation==0.49b0->opentelemetry-instrumentation-fastapi>=0.41b0->chromadb!=0.5.4,!=0.5.5,<0.6.0,>=0.4.0->langchain-chroma) (1.14.1)\n",
      "Requirement already satisfied: asgiref~=3.0 in /opt/conda/lib/python3.10/site-packages (from opentelemetry-instrumentation-asgi==0.49b0->opentelemetry-instrumentation-fastapi>=0.41b0->chromadb!=0.5.4,!=0.5.5,<0.6.0,>=0.4.0->langchain-chroma) (3.8.1)\n",
      "Requirement already satisfied: monotonic>=1.5 in /opt/conda/lib/python3.10/site-packages (from posthog>=2.4.0->chromadb!=0.5.4,!=0.5.5,<0.6.0,>=0.4.0->langchain-chroma) (1.6)\n",
      "Requirement already satisfied: backoff>=1.10.0 in /opt/conda/lib/python3.10/site-packages (from posthog>=2.4.0->chromadb!=0.5.4,!=0.5.5,<0.6.0,>=0.4.0->langchain-chroma) (2.2.1)\n",
      "Requirement already satisfied: markdown-it-py>=2.2.0 in /opt/conda/lib/python3.10/site-packages (from rich>=10.11.0->chromadb!=0.5.4,!=0.5.5,<0.6.0,>=0.4.0->langchain-chroma) (3.0.0)\n",
      "Requirement already satisfied: pygments<3.0.0,>=2.13.0 in /opt/conda/lib/python3.10/site-packages (from rich>=10.11.0->chromadb!=0.5.4,!=0.5.5,<0.6.0,>=0.4.0->langchain-chroma) (2.18.0)\n",
      "Requirement already satisfied: click<9.0.0,>=7.1.1 in /opt/conda/lib/python3.10/site-packages (from typer>=0.9.0->chromadb!=0.5.4,!=0.5.5,<0.6.0,>=0.4.0->langchain-chroma) (8.1.7)\n",
      "Requirement already satisfied: mypy-extensions>=0.3.0 in /opt/conda/lib/python3.10/site-packages (from typing-inspect<1,>=0.4.0->dataclasses-json<0.7,>=0.5.7->langchain-community) (1.0.0)\n",
      "Requirement already satisfied: httptools>=0.5.0 in /opt/conda/lib/python3.10/site-packages (from uvicorn[standard]>=0.18.3->chromadb!=0.5.4,!=0.5.5,<0.6.0,>=0.4.0->langchain-chroma) (0.6.4)\n",
      "Requirement already satisfied: uvloop!=0.15.0,!=0.15.1,>=0.14.0 in /opt/conda/lib/python3.10/site-packages (from uvicorn[standard]>=0.18.3->chromadb!=0.5.4,!=0.5.5,<0.6.0,>=0.4.0->langchain-chroma) (0.21.0)\n",
      "Requirement already satisfied: watchfiles>=0.13 in /opt/conda/lib/python3.10/site-packages (from uvicorn[standard]>=0.18.3->chromadb!=0.5.4,!=0.5.5,<0.6.0,>=0.4.0->langchain-chroma) (0.24.0)\n",
      "Requirement already satisfied: websockets>=10.4 in /opt/conda/lib/python3.10/site-packages (from uvicorn[standard]>=0.18.3->chromadb!=0.5.4,!=0.5.5,<0.6.0,>=0.4.0->langchain-chroma) (13.1)\n",
      "Requirement already satisfied: cachetools<6.0,>=2.0.0 in /opt/conda/lib/python3.10/site-packages (from google-auth>=1.0.1->kubernetes>=28.1.0->chromadb!=0.5.4,!=0.5.5,<0.6.0,>=0.4.0->langchain-chroma) (5.3.3)\n",
      "Requirement already satisfied: pyasn1-modules>=0.2.1 in /opt/conda/lib/python3.10/site-packages (from google-auth>=1.0.1->kubernetes>=28.1.0->chromadb!=0.5.4,!=0.5.5,<0.6.0,>=0.4.0->langchain-chroma) (0.4.0)\n",
      "Requirement already satisfied: rsa<5,>=3.1.4 in /opt/conda/lib/python3.10/site-packages (from google-auth>=1.0.1->kubernetes>=28.1.0->chromadb!=0.5.4,!=0.5.5,<0.6.0,>=0.4.0->langchain-chroma) (4.9)\n",
      "Requirement already satisfied: zipp>=0.5 in /opt/conda/lib/python3.10/site-packages (from importlib-metadata<=8.5.0,>=6.0->opentelemetry-api>=1.2.0->chromadb!=0.5.4,!=0.5.5,<0.6.0,>=0.4.0->langchain-chroma) (3.19.2)\n",
      "Requirement already satisfied: mdurl~=0.1 in /opt/conda/lib/python3.10/site-packages (from markdown-it-py>=2.2.0->rich>=10.11.0->chromadb!=0.5.4,!=0.5.5,<0.6.0,>=0.4.0->langchain-chroma) (0.1.2)\n",
      "Requirement already satisfied: humanfriendly>=9.1 in /opt/conda/lib/python3.10/site-packages (from coloredlogs->onnxruntime>=1.14.1->chromadb!=0.5.4,!=0.5.5,<0.6.0,>=0.4.0->langchain-chroma) (10.0)\n",
      "Requirement already satisfied: mpmath<1.4.0,>=1.1.0 in /opt/conda/lib/python3.10/site-packages (from sympy->onnxruntime>=1.14.1->chromadb!=0.5.4,!=0.5.5,<0.6.0,>=0.4.0->langchain-chroma) (1.3.0)\n",
      "Requirement already satisfied: pyasn1<0.7.0,>=0.4.6 in /opt/conda/lib/python3.10/site-packages (from pyasn1-modules>=0.2.1->google-auth>=1.0.1->kubernetes>=28.1.0->chromadb!=0.5.4,!=0.5.5,<0.6.0,>=0.4.0->langchain-chroma) (0.6.0)\n",
      "Downloading ragas-0.2.3-py3-none-any.whl (141 kB)\n",
      "\u001b[2K   \u001b[90m━━━━━━━━━━━━━━━━━━━━━━━━━━━━━━━━━━━━━━━━\u001b[0m \u001b[32m141.9/141.9 kB\u001b[0m \u001b[31m14.9 MB/s\u001b[0m eta \u001b[36m0:00:00\u001b[0m\n",
      "\u001b[?25hDownloading rapidfuzz-3.10.1-cp310-cp310-manylinux_2_17_x86_64.manylinux2014_x86_64.whl (3.1 MB)\n",
      "\u001b[2K   \u001b[90m━━━━━━━━━━━━━━━━━━━━━━━━━━━━━━━━━━━━━━━━\u001b[0m \u001b[32m3.1/3.1 MB\u001b[0m \u001b[31m72.3 MB/s\u001b[0m eta \u001b[36m0:00:00\u001b[0m:00:01\u001b[0m\n",
      "\u001b[?25hDownloading openai-1.54.1-py3-none-any.whl (389 kB)\n",
      "\u001b[2K   \u001b[90m━━━━━━━━━━━━━━━━━━━━━━━━━━━━━━━━━━━━━━━━\u001b[0m \u001b[32m389.3/389.3 kB\u001b[0m \u001b[31m52.8 MB/s\u001b[0m eta \u001b[36m0:00:00\u001b[0m\n",
      "\u001b[?25hUsing cached pydantic-2.9.2-py3-none-any.whl (434 kB)\n",
      "Downloading pysbd-0.3.4-py3-none-any.whl (71 kB)\n",
      "\u001b[2K   \u001b[90m━━━━━━━━━━━━━━━━━━━━━━━━━━━━━━━━━━━━━━━━\u001b[0m \u001b[32m71.1/71.1 kB\u001b[0m \u001b[31m5.8 MB/s\u001b[0m eta \u001b[36m0:00:00\u001b[0m\n",
      "\u001b[?25hDownloading appdirs-1.4.4-py2.py3-none-any.whl (9.6 kB)\n",
      "Downloading langchain_openai-0.2.6-py3-none-any.whl (50 kB)\n",
      "\u001b[2K   \u001b[90m━━━━━━━━━━━━━━━━━━━━━━━━━━━━━━━━━━━━━━━━\u001b[0m \u001b[32m50.4/50.4 kB\u001b[0m \u001b[31m8.8 MB/s\u001b[0m eta \u001b[36m0:00:00\u001b[0m\n",
      "\u001b[?25hDownloading tiktoken-0.8.0-cp310-cp310-manylinux_2_17_x86_64.manylinux2014_x86_64.whl (1.2 MB)\n",
      "\u001b[2K   \u001b[90m━━━━━━━━━━━━━━━━━━━━━━━━━━━━━━━━━━━━━━━━\u001b[0m \u001b[32m1.2/1.2 MB\u001b[0m \u001b[31m81.6 MB/s\u001b[0m eta \u001b[36m0:00:00\u001b[0m\n",
      "\u001b[?25hDownloading jiter-0.7.0-cp310-cp310-manylinux_2_17_x86_64.manylinux2014_x86_64.whl (327 kB)\n",
      "\u001b[2K   \u001b[90m━━━━━━━━━━━━━━━━━━━━━━━━━━━━━━━━━━━━━━━━\u001b[0m \u001b[32m327.5/327.5 kB\u001b[0m \u001b[31m21.7 MB/s\u001b[0m eta \u001b[36m0:00:00\u001b[0m\n",
      "\u001b[?25hInstalling collected packages: appdirs, rapidfuzz, pysbd, jiter, tiktoken, pydantic, openai, langchain-openai, ragas\n",
      "  Attempting uninstall: pydantic\n",
      "    Found existing installation: pydantic 2.7.3\n",
      "    Uninstalling pydantic-2.7.3:\n",
      "      Successfully uninstalled pydantic-2.7.3\n",
      "\u001b[31mERROR: pip's dependency resolver does not currently take into account all the packages that are installed. This behaviour is the source of the following dependency conflicts.\n",
      "gluonts 0.13.7 requires pydantic~=1.7, but you have pydantic 2.9.2 which is incompatible.\n",
      "sagemaker-jupyterlab-extension-common 0.1.18 requires pydantic==1.*, but you have pydantic 2.9.2 which is incompatible.\u001b[0m\u001b[31m\n",
      "\u001b[0mSuccessfully installed appdirs-1.4.4 jiter-0.7.0 langchain-openai-0.2.6 openai-1.54.1 pydantic-2.9.2 pysbd-0.3.4 ragas-0.2.3 rapidfuzz-3.10.1 tiktoken-0.8.0\n",
      "Note: you may need to restart the kernel to use updated packages.\n"
     ]
    }
   ],
   "source": [
    "%pip install -U langchain-community langgraph langchain-chroma langchain_aws pandas ragas==0.2.3 pypdf rapidfuzz"
   ]
  },
  {
   "cell_type": "markdown",
   "id": "a910fdd3-006b-42b1-88f3-9fee1bc80707",
   "metadata": {},
   "source": [
    "### Util functions part 1 - importing singleton agent\n",
    "\n",
    "To maintain a clean and focused approach in this notebook, we have moved the agent creation logic to a module in `utils.py`. The `create_agent` function replicates the agent creation process we developed in Lab 3, with an additional boolean parameter `enable_memory` that controls whether memory checkpointing is enabled."
   ]
  },
  {
   "cell_type": "code",
   "execution_count": 4,
   "id": "783694df-e31d-448a-af7b-0c3fc6747c27",
   "metadata": {},
   "outputs": [],
   "source": [
    "from utils import create_agent\n",
    "agent_executor = create_agent(enable_memory=True)"
   ]
  },
  {
   "cell_type": "markdown",
   "id": "e3776a1d-7566-4652-acd2-7eed21f83d59",
   "metadata": {},
   "source": [
    "The ```create_agent``` function returns a ```CompiledStateGraph``` object that represents the Agent from Lab 3's scenario. \n",
    "Now, let's proceed to visualize this graph."
   ]
  },
  {
   "cell_type": "code",
   "execution_count": 5,
   "id": "f21d0ae3-13ca-4bdc-bcc8-087eece6b610",
   "metadata": {},
   "outputs": [
    {
     "data": {
      "image/jpeg": "[encoded data removed]",
      "text/plain": [
       "<IPython.core.display.Image object>"
      ]
     },
     "metadata": {},
     "output_type": "display_data"
    }
   ],
   "source": [
    "from IPython.display import Image, display\n",
    "\n",
    "display(Image(agent_executor.get_graph().draw_mermaid_png()))"
   ]
  },
  {
   "cell_type": "markdown",
   "id": "dd2275d7-cdc2-439d-a78e-5b0c08b49a12",
   "metadata": {},
   "source": [
    "Now, we are ready to proceed with evaluating our agent!"
   ]
  },
  {
   "cell_type": "markdown",
   "id": "9aa84e32-ac33-411d-a075-a32258ed3926",
   "metadata": {},
   "source": [
    "\n",
    "## Agent Evaluation with RAGAS\n",
    "\n",
    "In this section, we will explore sophisticated methods for evaluating agentic systems using the RAGAS framework. Building upon our previous work with the vacation destination agent from Lab 3, we'll implement both high-level (macro) and low-level (micro) evaluation approaches.\n",
    "\n",
    "RAGAS provides specialized tools for evaluating Large Language Model (LLM) applications, with particular emphasis on agentic systems. We'll focus on two key evaluation dimensions:\n",
    "\n",
    "1. [High-Level Agent Accuracy](https://docs.ragas.io/en/latest/concepts/metrics/available_metrics/agents/#agent-goal-accuracy):\n",
    "   - Agent Goal Accuracy (with reference): Measures how well the agent achieves specified goals by comparing outcomes against annotated reference responses\n",
    "   - Agent Goal Accuracy (without reference): Evaluates goal achievement by inferring desired outcomes from user interactions\n",
    "\n",
    "2. [Low-Level Tool Usage](https://docs.ragas.io/en/latest/concepts/metrics/available_metrics/agents/#tool-call-accuracy):\n",
    "   - Tool Call Accuracy: Assesses the agent's ability to identify and utilize appropriate tools by comparing actual tool calls against reference tool calls\n",
    "   - The metric ranges from 0 to 1, with higher values indicating better performance\n",
    "\n",
    "This structured evaluation approach allows us to comprehensively assess our vacation destination agent's performance, both at the system level and the component level. By maintaining our focus on the singleton agent from Lab 3, we can clearly demonstrate these evaluation techniques without the added complexity of nested agent systems.\n",
    "\n",
    "Let's proceed with implementing these evaluation methods to analyze our agent's effectiveness in handling vacation-related queries and tool interactions."
   ]
  },
  {
   "cell_type": "markdown",
   "id": "daf00b75-1051-47ec-80d1-f3d65ee8fdc6",
   "metadata": {},
   "source": [
    "### Util functions part 2 - Message Format Conversion\n",
    "\n",
    "Our singleton agent is built using the LangChain/LangGraph framework. LangChain defines several [message objects](https://python.langchain.com/v0.1/docs/modules/model_io/chat/message_types/) to handle different types of communication within an agentic system. According to the LangChain documentation, these include:\n",
    "\n",
    "- HumanMessage: This represents a message from the user. Generally consists only of content.\n",
    "- AIMessage: This represents a message from the model. This may have additional_kwargs in it - for example tool_calls if using Amazon Bedrock tool calling.\n",
    "- ToolMessage: This represents the result of a tool call. In addition to role and content, this message has a `tool_call_id` parameter which conveys the id of the call to the tool that was called to produce this result.\n",
    "\n",
    "Similarly, our evaluation framework RAGAS implements its own message wrapper objects:\n",
    "\n",
    "- [HumanMessage](https://docs.ragas.io/en/latest/references/evaluation_schema/?h=aimessage#ragas.messages.HumanMessage): Represents a message from a human user.\n",
    "- [AIMessage](https://docs.ragas.io/en/latest/references/evaluation_schema/?h=aimessage#ragas.messages.AIMessage): Represents a message from an AI.\n",
    "- [ToolMessage](https://docs.ragas.io/en/latest/references/evaluation_schema/?h=aimessage#ragas.messages.ToolMessage): Represents a message from a tool.\n",
    "- [ToolCall](https://docs.ragas.io/en/latest/references/evaluation_schema/?h=aimessage#ragas.messages.ToolCall):  Represents a tool invocation with name and arguments (typically contained within an `AIMessage` when tool calling is used)\n",
    "\n",
    "To evaluate the conversation flow generated by the LangGraph agent, we need to convert between these two message type systems. For convenience, we've implemented the `convert_message_langchian_to_ragas` function in the `utils.py` module. This function handles the conversion process seamlessly. You can import it along with the message wrapper objects, which are assigned appropriate aliases to ensure cross-compatibility between the frameworks."
   ]
  },
  {
   "cell_type": "code",
   "execution_count": 6,
   "id": "606a9191-9677-4174-8d15-d20efaaeea1c",
   "metadata": {},
   "outputs": [],
   "source": [
    "from utils import create_agent, convert_message_langchain_to_ragas\n",
    "\n",
    "from langchain_core.messages import HumanMessage as LCHumanMessage\n",
    "from langchain_core.messages import AIMessage as LCAIMessage\n",
    "from langchain_core.messages import ToolMessage as LCToolMessage\n",
    "\n",
    "\n",
    "from ragas.messages import Message as RGMessage\n",
    "from ragas.messages import HumanMessage as RGHumanMessage\n",
    "from ragas.messages import AIMessage as RGAIMessage\n",
    "from ragas.messages import ToolMessage as RGToolMessage\n",
    "from ragas.messages import ToolCall as RGToolCall"
   ]
  },
  {
   "cell_type": "markdown",
   "id": "16c467d0-c358-4baa-ab70-a00cf6e01e8f",
   "metadata": {},
   "source": [
    "Since we typically evaluate multi-turn conversations, we will implement a helper function capable of handling arrays of messages. This function will enable us to process and analyze multiple conversational exchanges seamlessly."
   ]
  },
  {
   "cell_type": "code",
   "execution_count": 7,
   "id": "304cd23e-1298-466b-8f8a-71776c40b414",
   "metadata": {},
   "outputs": [],
   "source": [
    "def convert_messages(response):\n",
    "    return list(map((lambda m: convert_message_langchain_to_ragas(m)), response['messages']))"
   ]
  },
  {
   "cell_type": "markdown",
   "id": "39e97c81-3dbb-40fc-900d-d1fd1cd5fa7f",
   "metadata": {},
   "source": [
    "For the evaluation, we will examine three distinct scenarios that represent different user profiles:\n",
    "\n",
    "1. **Stephen Walker - The User with Travel History**\n",
    "   * A 20-year-old resident of Honolulu\n",
    "   * Exists in our travel history database\n",
    "   * Previous travel records enable precise, personalized recommendations\n",
    "   * Expected to have a smooth, seamless conversation flow\n",
    "\n",
    "2. **Jane Doe - The First-Time User**\n",
    "   * No prior interaction with our travel recommendation system\n",
    "   * Requires the agent to rely on creative recommendation strategies\n",
    "   * Will test the system's ability to gather information and provide relevant suggestions\n",
    "   * May experience a slightly more exploratory conversation flow\n",
    "\n",
    "3. **Homer Simpson - The Distracted User**\n",
    "   * No previous travel history in our system\n",
    "   * Exhibits difficulty maintaining focused conversation\n",
    "   * Will challenge the agent's ability to handle divergent discussions\n",
    "   * Tests the system's capability to guide and redirect conversations effectively\n",
    "\n",
    "These scenarios will help us evaluate our travel agent's performance across different user types and interaction patterns. Let's proceed with executing these conversation flows to assess our system's effectiveness."
   ]
  },
  {
   "cell_type": "code",
   "execution_count": 8,
   "id": "d41e1309-3fa4-4a1c-8f9f-3e05c05cd385",
   "metadata": {},
   "outputs": [
    {
     "data": {
      "text/plain": [
       "{'messages': [HumanMessage(content='My name is Stephen Walker, please suggest me a good vacation destination.', additional_kwargs={}, response_metadata={}, id='5cd89e6c-bfd2-4e4d-b3d2-17fdc2d98dac'),\n",
       "  AIMessage(content=[{'type': 'text', 'text': 'Okay, let me first check which destinations you have already visited by invoking the compare_and_recommend_destination tool.'}, {'type': 'tool_use', 'name': 'compare_and_recommend_destination', 'input': {'name': 'Stephen Walker'}, 'id': 'tooluse_NAN7fvOwTt-D3APIAnOqFw'}], additional_kwargs={}, response_metadata={'ResponseMetadata': {'RequestId': 'dbbb70bb-2bd3-4d75-9948-6e3b2a0f71f6', 'HTTPStatusCode': 200, 'HTTPHeaders': {'date': 'Tue, 05 Nov 2024 23:29:09 GMT', 'content-type': 'application/json', 'content-length': '444', 'connection': 'keep-alive', 'x-amzn-requestid': 'dbbb70bb-2bd3-4d75-9948-6e3b2a0f71f6'}, 'RetryAttempts': 0}, 'stopReason': 'tool_use', 'metrics': {'latencyMs': 1465}}, id='run-cc09d3a9-1ca8-42ee-bec5-7f1f34d93a22-0', tool_calls=[{'name': 'compare_and_recommend_destination', 'args': {'name': 'Stephen Walker'}, 'id': 'tooluse_NAN7fvOwTt-D3APIAnOqFw', 'type': 'tool_call'}], usage_metadata={'input_tokens': 440, 'output_tokens': 85, 'total_tokens': 525}),\n",
       "  ToolMessage(content='User not found in the travel database.', name='compare_and_recommend_destination', id='81118d5e-5d17-453a-af69-d4abcc0fe4c0', tool_call_id='tooluse_NAN7fvOwTt-D3APIAnOqFw'),\n",
       "  AIMessage(content=[{'type': 'text', 'text': \"Since you are not found in the travel database, it seems you haven't traveled much before. Let me query the travel guide to suggest a good destination for you based on some general interests.\"}, {'type': 'tool_use', 'name': 'travel_guide', 'input': {'query': 'beach vacation destinations'}, 'id': 'tooluse_iEOFXlzMQICvI45pzOrLFQ'}], additional_kwargs={}, response_metadata={'ResponseMetadata': {'RequestId': 'aa6f41e9-f6e5-4e22-839a-8c141ef03753', 'HTTPStatusCode': 200, 'HTTPHeaders': {'date': 'Tue, 05 Nov 2024 23:29:13 GMT', 'content-type': 'application/json', 'content-length': '504', 'connection': 'keep-alive', 'x-amzn-requestid': 'aa6f41e9-f6e5-4e22-839a-8c141ef03753'}, 'RetryAttempts': 0}, 'stopReason': 'tool_use', 'metrics': {'latencyMs': 3376}}, id='run-558a8da8-7e46-4253-a6a6-c8b157fe7082-0', tool_calls=[{'name': 'travel_guide', 'args': {'query': 'beach vacation destinations'}, 'id': 'tooluse_iEOFXlzMQICvI45pzOrLFQ', 'type': 'tool_call'}], usage_metadata={'input_tokens': 543, 'output_tokens': 95, 'total_tokens': 638}),\n",
       "  ToolMessage(content='lively dining and nightlife scene that has earned Fort Lauderdale a reputation as a premier vacation\\ndestination. Whether you\\'re seeking sun-soaked beaches, outdoor recreation, or a vibrant urban\\nexperience, this coastal oasis on Florida\\'s Gold Coast has something to captivate every traveler.\\n \\nPage 1\\n\\nTravel Guide: Miami\\nGenerated by Llama3.1 405B\\n \\nMiami, the vibrant and sun-drenched city on Florida\\'s southeastern coast, is a captivating destination\\nthat blends diverse cultures, stunning beaches, and a pulsing energy. Known as the \"Magic City,\"\\nMiami enchants visitors with its Art Deco architecture, lively Latin-infused neighborhoods, and\\nworld-class dining and nightlife.\\n \\nSome of Miami\\'s must-see attractions include the iconic South Beach, where you can stroll the lively\\nOcean Drive, admire the pastel-hued Art Deco buildings, and people-watch at the bustling cafes. The\\nPérez Art Museum Miami showcases cutting-edge contemporary art in a stunning waterfront setting.\\nFor a taste of Cuban culture, explore the vibrant streets of Little Havana, where you can savor authentic\\nCuban cuisine, watch cigar rollers at work, and listen to the rhythmic beats of salsa music.\\n \\nBeyond the city, the Everglades National Park, the largest tropical wilderness in the United States,\\n\\nbelow the horizon during a breathtaking sunset cruise. History buffs will delight in the Hemingway\\nHome and Museum, where the renowned author lived and wrote some of his most famous works, and\\nthe Key West Lighthouse, which has guided mariners since 1848. Beyond the city\\'s vibrant urban core,\\ndiscover the natural wonders of the Florida Keys, including the stunning coral reefs and diverse marine\\nlife of the Florida Keys National Marine Sanctuary. Whether you\\'re seeking sun-soaked beaches,\\ncultural immersion, or a taste of island life, Key West offers a truly unforgettable experience.\\n \\nPage 1\\n\\nTravel Guide: Key West\\nGenerated by Llama3.1 405B\\n \\nKey West: A Tropical Oasis at the Southernmost Point\\n \\nNestled at the tip of the Florida Keys, Key West is a captivating island city that exudes a unique blend\\nof Caribbean flair, American history, and laid-back island vibes. This vibrant destination beckons\\ntravelers with its pastel-hued architecture, lively street art, and endless opportunities for outdoor\\nadventure. Stroll along the iconic Duval Street, where you\\'ll find eclectic boutiques, lively bars, and the\\nlegendary Sloppy Joe\\'s, a favorite haunt of Ernest Hemingway. Explore the Southernmost Point, a\\nconcrete buoy marking the southernmost point of the continental United States, and watch the sun dip\\nbelow the horizon during a breathtaking sunset cruise. History buffs will delight in the Hemingway\\nHome and Museum, where the renowned author lived and wrote some of his most famous works, and', name='travel_guide', id='4b24fc44-7ccf-4704-84c8-dcd9d04a14db', tool_call_id='tooluse_iEOFXlzMQICvI45pzOrLFQ'),\n",
       "  AIMessage(content='Based on the travel guide information, some great beach vacation destinations to consider are:\\n\\n1. Fort Lauderdale, Florida - Known for its beautiful beaches, lively dining/nightlife scene, and outdoor recreation opportunities.\\n\\n2. Miami, Florida - A vibrant city with stunning beaches like South Beach, rich cultural attractions like the Pérez Art Museum and Little Havana, and proximity to the Everglades National Park.\\n\\n3. Key West, Florida - This island city at the southernmost point of Florida offers a laid-back Caribbean vibe, beautiful beaches, outdoor activities, historical sites like the Hemingway Home, and amazing sunsets.\\n\\nAll three of these Florida destinations offer excellent beach vacation experiences with plenty of activities and attractions beyond just the beach itself. Key West and Miami in particular provide great cultural immersion opportunities as well. Let me know if you need any other details to help decide on the perfect beach getaway for you!', additional_kwargs={}, response_metadata={'ResponseMetadata': {'RequestId': '566e898e-1297-405b-8fd7-794752989914', 'HTTPStatusCode': 200, 'HTTPHeaders': {'date': 'Tue, 05 Nov 2024 23:29:24 GMT', 'content-type': 'application/json', 'content-length': '1173', 'connection': 'keep-alive', 'x-amzn-requestid': '566e898e-1297-405b-8fd7-794752989914'}, 'RetryAttempts': 0}, 'stopReason': 'end_turn', 'metrics': {'latencyMs': 11524}}, id='run-47be8cb2-cc3c-4ef9-b65c-d011726e3099-0', usage_metadata={'input_tokens': 1340, 'output_tokens': 203, 'total_tokens': 1543}),\n",
       "  HumanMessage(content=\"I'm interested in more information about the location you suggested. Please provide me with a summary of what a travel guide would suggest!\", additional_kwargs={}, response_metadata={}, id='bc57e960-4e19-4514-9377-e3589e40a140'),\n",
       "  AIMessage(content=[{'type': 'text', 'text': 'Sure, let me consult the travel guide again and provide a summary for one of the beach destinations I recommended - Key West, Florida.'}, {'type': 'tool_use', 'name': 'travel_guide', 'input': {'query': 'key west florida travel guide'}, 'id': 'tooluse_oGBTKI-uTReSCebSq-F4bw'}], additional_kwargs={}, response_metadata={'ResponseMetadata': {'RequestId': '18d6be00-46e2-4361-9e63-096c95d14a8d', 'HTTPStatusCode': 200, 'HTTPHeaders': {'date': 'Tue, 05 Nov 2024 23:29:27 GMT', 'content-type': 'application/json', 'content-length': '451', 'connection': 'keep-alive', 'x-amzn-requestid': '18d6be00-46e2-4361-9e63-096c95d14a8d'}, 'RetryAttempts': 0}, 'stopReason': 'tool_use', 'metrics': {'latencyMs': 2692}}, id='run-49c3f357-3b0b-42eb-9a8c-eabc8a91c42b-0', tool_calls=[{'name': 'travel_guide', 'args': {'query': 'key west florida travel guide'}, 'id': 'tooluse_oGBTKI-uTReSCebSq-F4bw', 'type': 'tool_call'}], usage_metadata={'input_tokens': 1572, 'output_tokens': 86, 'total_tokens': 1658}),\n",
       "  ToolMessage(content='below the horizon during a breathtaking sunset cruise. History buffs will delight in the Hemingway\\nHome and Museum, where the renowned author lived and wrote some of his most famous works, and\\nthe Key West Lighthouse, which has guided mariners since 1848. Beyond the city\\'s vibrant urban core,\\ndiscover the natural wonders of the Florida Keys, including the stunning coral reefs and diverse marine\\nlife of the Florida Keys National Marine Sanctuary. Whether you\\'re seeking sun-soaked beaches,\\ncultural immersion, or a taste of island life, Key West offers a truly unforgettable experience.\\n \\nPage 1\\n\\nTravel Guide: Key West\\nGenerated by Llama3.1 405B\\n \\nKey West: A Tropical Oasis at the Southernmost Point\\n \\nNestled at the tip of the Florida Keys, Key West is a captivating island city that exudes a unique blend\\nof Caribbean flair, American history, and laid-back island vibes. This vibrant destination beckons\\ntravelers with its pastel-hued architecture, lively street art, and endless opportunities for outdoor\\nadventure. Stroll along the iconic Duval Street, where you\\'ll find eclectic boutiques, lively bars, and the\\nlegendary Sloppy Joe\\'s, a favorite haunt of Ernest Hemingway. Explore the Southernmost Point, a\\nconcrete buoy marking the southernmost point of the continental United States, and watch the sun dip\\nbelow the horizon during a breathtaking sunset cruise. History buffs will delight in the Hemingway\\nHome and Museum, where the renowned author lived and wrote some of his most famous works, and\\n\\nCuban cuisine, watch cigar rollers at work, and listen to the rhythmic beats of salsa music.\\n \\nBeyond the city, the Everglades National Park, the largest tropical wilderness in the United States,\\noffers a chance to explore the unique ecosystem and spot diverse wildlife, from alligators to manatees.\\nFor a day of family fun, visit the Miami Seaquarium, where you can interact with dolphins, seals, and\\nother marine creatures.\\n \\nWhether you\\'re seeking sun-soaked beaches, cultural immersion, or culinary adventures, Miami\\npromises an unforgettable experience that will leave you captivated by its irresistible charm.\\n \\nPage 1\\n\\nTravel Guide: Miami\\nGenerated by Llama3.1 405B\\n \\nMiami, the vibrant and sun-drenched city on Florida\\'s southeastern coast, is a captivating destination\\nthat blends diverse cultures, stunning beaches, and a pulsing energy. Known as the \"Magic City,\"\\nMiami enchants visitors with its Art Deco architecture, lively Latin-infused neighborhoods, and\\nworld-class dining and nightlife.\\n \\nSome of Miami\\'s must-see attractions include the iconic South Beach, where you can stroll the lively\\nOcean Drive, admire the pastel-hued Art Deco buildings, and people-watch at the bustling cafes. The\\nPérez Art Museum Miami showcases cutting-edge contemporary art in a stunning waterfront setting.\\nFor a taste of Cuban culture, explore the vibrant streets of Little Havana, where you can savor authentic\\nCuban cuisine, watch cigar rollers at work, and listen to the rhythmic beats of salsa music.\\n \\nBeyond the city, the Everglades National Park, the largest tropical wilderness in the United States,', name='travel_guide', id='aa59d97a-ead2-4977-8327-09315029a712', tool_call_id='tooluse_oGBTKI-uTReSCebSq-F4bw'),\n",
       "  AIMessage(content=\"Here's a summary of what a travel guide would suggest for Key West, Florida:\\n\\nKey West is a captivating island city at the southernmost point of the Florida Keys. It offers a unique blend of Caribbean flair, American history, and laid-back island vibes. Some highlights include:\\n\\n- Duval Street - The iconic main street with eclectic boutiques, lively bars like Sloppy Joe's (Hemingway's old haunt), and street performers.\\n\\n- Southernmost Point Buoy - A famous concrete buoy marking the southernmost point of the continental U.S. Great for photos.\\n\\n- Sunset Cruises - Watch the stunning Florida Keys sunsets from the water.\\n\\n- Hemingway Home & Museum - Where the famous author lived and wrote. See his study and the home's polydactyl (six-toed) cats.\\n\\n- Key West Lighthouse - An iconic 1848 lighthouse offering great views.\\n\\n- Beaches & Water Activities - Enjoy the beautiful beaches or go snorkeling/diving to explore the coral reefs.\\n\\n- Florida Keys National Marine Sanctuary - Incredible marine environment with vibrant reefs and diverse wildlife.\\n\\nThe island has a very relaxed, tropical vibe mixed with a vibrant cultural scene. Highlights include the colorful architecture, street art, outdoor cafes, and fresh seafood. It's a perfect beach getaway with a unique local flair.\\n\\nLet me know if you need any other details about visiting Key West! The travel guide provides a great overview of the top attractions and experiences.\", additional_kwargs={}, response_metadata={'ResponseMetadata': {'RequestId': '3528782a-e807-4803-97ff-eedb919a4b59', 'HTTPStatusCode': 200, 'HTTPHeaders': {'date': 'Tue, 05 Nov 2024 23:29:44 GMT', 'content-type': 'application/json', 'content-length': '1640', 'connection': 'keep-alive', 'x-amzn-requestid': '3528782a-e807-4803-97ff-eedb919a4b59'}, 'RetryAttempts': 0}, 'stopReason': 'end_turn', 'metrics': {'latencyMs': 16997}}, id='run-97403fe9-20de-41d0-b701-ad958562b49b-0', usage_metadata={'input_tokens': 2444, 'output_tokens': 345, 'total_tokens': 2789})]}"
      ]
     },
     "execution_count": 8,
     "metadata": {},
     "output_type": "execute_result"
    }
   ],
   "source": [
    "config = {\"configurable\": {\"thread_id\": \"1\"}}\n",
    "agent_executor.invoke(\n",
    "        {\n",
    "            \"messages\": [\n",
    "                (\n",
    "                    \"user\",\n",
    "                    \"My name is Stephen Walker, please suggest me a good vacation destination.\",\n",
    "                )\n",
    "            ]\n",
    "        },\n",
    "        config,\n",
    "    )\n",
    "response_stephen = agent_executor.invoke(\n",
    "        {\n",
    "            \"messages\": [\n",
    "                (\"user\", \"I'm interested in more information about the location you suggested. Please provide me with a summary of what a travel guide would suggest!\")\n",
    "            ]\n",
    "        },\n",
    "        config,\n",
    "    )\n",
    "response_stephen"
   ]
  },
  {
   "cell_type": "code",
   "execution_count": 9,
   "id": "f17dad47-102f-45d0-9145-fbe16de2bfc8",
   "metadata": {},
   "outputs": [
    {
     "data": {
      "text/plain": [
       "{'messages': [HumanMessage(content='My name is Jane Doe, please suggest me a good vacation destination.', additional_kwargs={}, response_metadata={}, id='70c82dac-0fe5-44dc-94c3-d732ac267007'),\n",
       "  AIMessage(content=[{'type': 'text', 'text': 'Okay, let me first check which destinations you have already visited:'}, {'type': 'tool_use', 'name': 'compare_and_recommend_destination', 'input': {'name': 'Jane Doe'}, 'id': 'tooluse_bgDVMg3ORhGSY68X99CsKQ'}], additional_kwargs={}, response_metadata={'ResponseMetadata': {'RequestId': 'e123a1fc-ad01-47c6-a799-31debafce531', 'HTTPStatusCode': 200, 'HTTPHeaders': {'date': 'Tue, 05 Nov 2024 23:29:47 GMT', 'content-type': 'application/json', 'content-length': '383', 'connection': 'keep-alive', 'x-amzn-requestid': 'e123a1fc-ad01-47c6-a799-31debafce531'}, 'RetryAttempts': 0}, 'stopReason': 'tool_use', 'metrics': {'latencyMs': 2108}}, id='run-634cb439-e543-4dad-a4c1-0dc39a24451c-0', tool_calls=[{'name': 'compare_and_recommend_destination', 'args': {'name': 'Jane Doe'}, 'id': 'tooluse_bgDVMg3ORhGSY68X99CsKQ', 'type': 'tool_call'}], usage_metadata={'input_tokens': 441, 'output_tokens': 74, 'total_tokens': 515}),\n",
       "  ToolMessage(content='User not found in the travel database.', name='compare_and_recommend_destination', id='80e6ab30-8a79-44ba-beb0-18bf0bb42730', tool_call_id='tooluse_bgDVMg3ORhGSY68X99CsKQ'),\n",
       "  AIMessage(content=[{'type': 'text', 'text': 'Since you are a new user in our system and have not traveled before based on our records, I will try to recommend a good vacation destination for you.\\n\\nTo suggest a suitable place, it would be helpful if you could provide some information about your interests and preferences. Are you looking for a beach vacation, a city break, an adventure trip, or something else? Do you prefer warm or cold weather destinations? Are there any particular activities or sights you enjoy, like hiking, museums, nightlife etc.? Any other requirements like budget, travel duration etc.? The more details you can share, the better I can personalize my recommendation for you.\\n\\nIn the meantime, let me search the travel guides for some highly rated destinations:'}, {'type': 'tool_use', 'name': 'travel_guide', 'input': {'query': 'top vacation destinations'}, 'id': 'tooluse_HC08f2aqQz-q03kb3JD6uA'}], additional_kwargs={}, response_metadata={'ResponseMetadata': {'RequestId': '4f1d500c-3a17-4464-97c7-16f38c6a8f4c', 'HTTPStatusCode': 200, 'HTTPHeaders': {'date': 'Tue, 05 Nov 2024 23:29:56 GMT', 'content-type': 'application/json', 'content-length': '1058', 'connection': 'keep-alive', 'x-amzn-requestid': '4f1d500c-3a17-4464-97c7-16f38c6a8f4c'}, 'RetryAttempts': 0}, 'stopReason': 'tool_use', 'metrics': {'latencyMs': 9242}}, id='run-a32bb9a3-01fe-43db-a720-1ef9866e387e-0', tool_calls=[{'name': 'travel_guide', 'args': {'query': 'top vacation destinations'}, 'id': 'tooluse_HC08f2aqQz-q03kb3JD6uA', 'type': 'tool_call'}], usage_metadata={'input_tokens': 533, 'output_tokens': 208, 'total_tokens': 741}),\n",
       "  ToolMessage(content='Travel Guide: Miami\\nGenerated by Llama3.1 405B\\n \\nMiami, the vibrant and sun-drenched city on Florida\\'s southeastern coast, is a captivating destination\\nthat blends diverse cultures, stunning beaches, and a pulsing energy. Known as the \"Magic City,\"\\nMiami enchants visitors with its Art Deco architecture, lively Latin-infused neighborhoods, and\\nworld-class dining and nightlife.\\n \\nSome of Miami\\'s must-see attractions include the iconic South Beach, where you can stroll the lively\\nOcean Drive, admire the pastel-hued Art Deco buildings, and people-watch at the bustling cafes. The\\nPérez Art Museum Miami showcases cutting-edge contemporary art in a stunning waterfront setting.\\nFor a taste of Cuban culture, explore the vibrant streets of Little Havana, where you can savor authentic\\nCuban cuisine, watch cigar rollers at work, and listen to the rhythmic beats of salsa music.\\n \\nBeyond the city, the Everglades National Park, the largest tropical wilderness in the United States,\\n\\nlively dining and nightlife scene that has earned Fort Lauderdale a reputation as a premier vacation\\ndestination. Whether you\\'re seeking sun-soaked beaches, outdoor recreation, or a vibrant urban\\nexperience, this coastal oasis on Florida\\'s Gold Coast has something to captivate every traveler.\\n \\nPage 1\\n\\nTravel Guide: Key West\\nGenerated by Llama3.1 405B\\n \\nKey West: A Tropical Oasis at the Southernmost Point\\n \\nNestled at the tip of the Florida Keys, Key West is a captivating island city that exudes a unique blend\\nof Caribbean flair, American history, and laid-back island vibes. This vibrant destination beckons\\ntravelers with its pastel-hued architecture, lively street art, and endless opportunities for outdoor\\nadventure. Stroll along the iconic Duval Street, where you\\'ll find eclectic boutiques, lively bars, and the\\nlegendary Sloppy Joe\\'s, a favorite haunt of Ernest Hemingway. Explore the Southernmost Point, a\\nconcrete buoy marking the southernmost point of the continental United States, and watch the sun dip\\nbelow the horizon during a breathtaking sunset cruise. History buffs will delight in the Hemingway\\nHome and Museum, where the renowned author lived and wrote some of his most famous works, and\\n\\nbelow the horizon during a breathtaking sunset cruise. History buffs will delight in the Hemingway\\nHome and Museum, where the renowned author lived and wrote some of his most famous works, and\\nthe Key West Lighthouse, which has guided mariners since 1848. Beyond the city\\'s vibrant urban core,\\ndiscover the natural wonders of the Florida Keys, including the stunning coral reefs and diverse marine\\nlife of the Florida Keys National Marine Sanctuary. Whether you\\'re seeking sun-soaked beaches,\\ncultural immersion, or a taste of island life, Key West offers a truly unforgettable experience.\\n \\nPage 1', name='travel_guide', id='5dfc92ca-7f40-4431-bf54-d239199a80a0', tool_call_id='tooluse_HC08f2aqQz-q03kb3JD6uA'),\n",
       "  AIMessage(content=\"The travel guide provides an overview of some popular vacation destinations like Miami, Fort Lauderdale, and Key West in Florida. These places offer great beaches, nightlife, dining, and cultural attractions.\\n\\nHowever, to give you a more personalized recommendation, I need some additional details about your specific interests and travel preferences. Please let me know if you prefer a beach vacation, city break, outdoor adventures, or something else, as well as any other requirements you may have. I'll be happy to suggest some destinations tailored to your needs.\", additional_kwargs={}, response_metadata={'ResponseMetadata': {'RequestId': '700af313-d1ad-4cb7-ae87-fe5532c2caac', 'HTTPStatusCode': 200, 'HTTPHeaders': {'date': 'Tue, 05 Nov 2024 23:30:04 GMT', 'content-type': 'application/json', 'content-length': '757', 'connection': 'keep-alive', 'x-amzn-requestid': '700af313-d1ad-4cb7-ae87-fe5532c2caac'}, 'RetryAttempts': 0}, 'stopReason': 'end_turn', 'metrics': {'latencyMs': 7579}}, id='run-7709890d-0eda-4b37-ad97-e8cbc6e364e3-0', usage_metadata={'input_tokens': 1443, 'output_tokens': 115, 'total_tokens': 1558}),\n",
       "  HumanMessage(content=\"I'm interested in more information about the location you suggested. Please provide me with a summary of what a travel guide would suggest!\", additional_kwargs={}, response_metadata={}, id='4e2e9aca-d25f-4b8b-a701-6638a6712bd2'),\n",
       "  AIMessage(content=[{'type': 'text', 'text': 'Okay, let me consult the travel guide again for more details on Miami, since that was one of the top destinations mentioned:'}, {'type': 'tool_use', 'name': 'travel_guide', 'input': {'query': 'miami vacation guide'}, 'id': 'tooluse_noKGVvGLTUCVfyw-r9a3EQ'}], additional_kwargs={}, response_metadata={'ResponseMetadata': {'RequestId': 'a8edfc79-4c5d-4f37-86d3-5e9790324c39', 'HTTPStatusCode': 200, 'HTTPHeaders': {'date': 'Tue, 05 Nov 2024 23:30:06 GMT', 'content-type': 'application/json', 'content-length': '432', 'connection': 'keep-alive', 'x-amzn-requestid': 'a8edfc79-4c5d-4f37-86d3-5e9790324c39'}, 'RetryAttempts': 0}, 'stopReason': 'tool_use', 'metrics': {'latencyMs': 2782}}, id='run-51ccddd4-d42a-40e4-9661-788ff1b886e7-0', tool_calls=[{'name': 'travel_guide', 'args': {'query': 'miami vacation guide'}, 'id': 'tooluse_noKGVvGLTUCVfyw-r9a3EQ', 'type': 'tool_call'}], usage_metadata={'input_tokens': 1587, 'output_tokens': 83, 'total_tokens': 1670}),\n",
       "  ToolMessage(content='Travel Guide: Miami\\nGenerated by Llama3.1 405B\\n \\nMiami, the vibrant and sun-drenched city on Florida\\'s southeastern coast, is a captivating destination\\nthat blends diverse cultures, stunning beaches, and a pulsing energy. Known as the \"Magic City,\"\\nMiami enchants visitors with its Art Deco architecture, lively Latin-infused neighborhoods, and\\nworld-class dining and nightlife.\\n \\nSome of Miami\\'s must-see attractions include the iconic South Beach, where you can stroll the lively\\nOcean Drive, admire the pastel-hued Art Deco buildings, and people-watch at the bustling cafes. The\\nPérez Art Museum Miami showcases cutting-edge contemporary art in a stunning waterfront setting.\\nFor a taste of Cuban culture, explore the vibrant streets of Little Havana, where you can savor authentic\\nCuban cuisine, watch cigar rollers at work, and listen to the rhythmic beats of salsa music.\\n \\nBeyond the city, the Everglades National Park, the largest tropical wilderness in the United States,\\n\\nCuban cuisine, watch cigar rollers at work, and listen to the rhythmic beats of salsa music.\\n \\nBeyond the city, the Everglades National Park, the largest tropical wilderness in the United States,\\noffers a chance to explore the unique ecosystem and spot diverse wildlife, from alligators to manatees.\\nFor a day of family fun, visit the Miami Seaquarium, where you can interact with dolphins, seals, and\\nother marine creatures.\\n \\nWhether you\\'re seeking sun-soaked beaches, cultural immersion, or culinary adventures, Miami\\npromises an unforgettable experience that will leave you captivated by its irresistible charm.\\n \\nPage 1\\n\\nlively dining and nightlife scene that has earned Fort Lauderdale a reputation as a premier vacation\\ndestination. Whether you\\'re seeking sun-soaked beaches, outdoor recreation, or a vibrant urban\\nexperience, this coastal oasis on Florida\\'s Gold Coast has something to captivate every traveler.\\n \\nPage 1\\n\\nbelow the horizon during a breathtaking sunset cruise. History buffs will delight in the Hemingway\\nHome and Museum, where the renowned author lived and wrote some of his most famous works, and\\nthe Key West Lighthouse, which has guided mariners since 1848. Beyond the city\\'s vibrant urban core,\\ndiscover the natural wonders of the Florida Keys, including the stunning coral reefs and diverse marine\\nlife of the Florida Keys National Marine Sanctuary. Whether you\\'re seeking sun-soaked beaches,\\ncultural immersion, or a taste of island life, Key West offers a truly unforgettable experience.\\n \\nPage 1', name='travel_guide', id='6cf3af77-0fdb-4c3d-89c9-0f084652b325', tool_call_id='tooluse_noKGVvGLTUCVfyw-r9a3EQ'),\n",
       "  AIMessage(content=\"Here's a summary of what the travel guide suggests for a vacation in Miami:\\n\\nMiami is a vibrant, culturally diverse city known for its stunning beaches, lively neighborhoods, world-class dining and nightlife. Some top attractions and experiences include:\\n\\n- South Beach - Stroll the iconic Ocean Drive, see the Art Deco architecture, and people watch at outdoor cafes.\\n\\n- Pérez Art Museum - Modern art museum right on the waterfront. \\n\\n- Little Havana - Explore this Cuban neighborhood, try authentic cuisine, watch cigar rolling, and enjoy Latin music.\\n\\n- Everglades National Park - This vast wilderness offers opportunities for wildlife viewing like alligators and manatees.\\n\\n- Miami Seaquarium - Family-friendly attraction to interact with dolphins, seals and other marine life.\\n\\nThe guide highlights Miami's beautiful beaches, rich cultural influences (especially Cuban), outdoor activities in the Everglades, and lively urban scene with great food, art, and nightlife. It seems to offer a diverse mix of experiences for an exciting beach vacation with a vibrant city atmosphere.\\n\\nLet me know if you need any other details or have additional preferences to help narrow down the recommendation!\", additional_kwargs={}, response_metadata={'ResponseMetadata': {'RequestId': '8875f55f-0bcc-4944-909e-a8a7dd999ce3', 'HTTPStatusCode': 200, 'HTTPHeaders': {'date': 'Tue, 05 Nov 2024 23:30:16 GMT', 'content-type': 'application/json', 'content-length': '1401', 'connection': 'keep-alive', 'x-amzn-requestid': '8875f55f-0bcc-4944-909e-a8a7dd999ce3'}, 'RetryAttempts': 0}, 'stopReason': 'end_turn', 'metrics': {'latencyMs': 8959}}, id='run-06ebb098-38eb-47e9-9b05-7155f4ac9888-0', usage_metadata={'input_tokens': 2294, 'output_tokens': 262, 'total_tokens': 2556})]}"
      ]
     },
     "execution_count": 9,
     "metadata": {},
     "output_type": "execute_result"
    }
   ],
   "source": [
    "config = {\"configurable\": {\"thread_id\": \"2\"}}\n",
    "agent_executor.invoke(\n",
    "        {\n",
    "            \"messages\": [\n",
    "                (\n",
    "                    \"user\",\n",
    "                    \"My name is Jane Doe, please suggest me a good vacation destination.\",\n",
    "                )\n",
    "            ]\n",
    "        },\n",
    "        config,\n",
    "    )\n",
    "response_jane = agent_executor.invoke(\n",
    "        {\n",
    "            \"messages\": [\n",
    "                (\"user\", \"I'm interested in more information about the location you suggested. Please provide me with a summary of what a travel guide would suggest!\")\n",
    "\n",
    "            ]\n",
    "        },\n",
    "        config,\n",
    "    )\n",
    "response_jane"
   ]
  },
  {
   "cell_type": "code",
   "execution_count": 10,
   "id": "52ebdc21-6033-457d-addb-0471d5d008a5",
   "metadata": {},
   "outputs": [
    {
     "data": {
      "text/plain": [
       "{'messages': [HumanMessage(content='My name is Homer Simpson, please suggest me a good vacation destination.', additional_kwargs={}, response_metadata={}, id='a2981173-b888-4138-876e-b4e14146a425'),\n",
       "  AIMessage(content=[{'type': 'text', 'text': 'Okay, let me check where you have already traveled to avoid recommending those places.'}, {'type': 'tool_use', 'name': 'compare_and_recommend_destination', 'input': {'name': 'Homer Simpson'}, 'id': 'tooluse_WeJIjb78QDGL4IQwqtdS7g'}], additional_kwargs={}, response_metadata={'ResponseMetadata': {'RequestId': '58af7686-1697-479b-88fd-d7362e1a40fc', 'HTTPStatusCode': 200, 'HTTPHeaders': {'date': 'Tue, 05 Nov 2024 23:30:18 GMT', 'content-type': 'application/json', 'content-length': '405', 'connection': 'keep-alive', 'x-amzn-requestid': '58af7686-1697-479b-88fd-d7362e1a40fc'}, 'RetryAttempts': 0}, 'stopReason': 'tool_use', 'metrics': {'latencyMs': 2458}}, id='run-2332a08b-75d1-4daf-b80f-6326fdd225b8-0', tool_calls=[{'name': 'compare_and_recommend_destination', 'args': {'name': 'Homer Simpson'}, 'id': 'tooluse_WeJIjb78QDGL4IQwqtdS7g', 'type': 'tool_call'}], usage_metadata={'input_tokens': 440, 'output_tokens': 77, 'total_tokens': 517}),\n",
       "  ToolMessage(content='User not found in the travel database.', name='compare_and_recommend_destination', id='544d93cc-0503-44b2-96a2-2a78b7909957', tool_call_id='tooluse_WeJIjb78QDGL4IQwqtdS7g'),\n",
       "  AIMessage(content=[{'type': 'text', 'text': \"Since I don't have any record of your previous travel destinations, let me suggest a popular vacation spot based on some typical interests:\"}, {'type': 'tool_use', 'name': 'travel_guide', 'input': {'query': 'family-friendly beach destinations'}, 'id': 'tooluse_8KHKya6RQIWJO6_Nl9uDHw'}], additional_kwargs={}, response_metadata={'ResponseMetadata': {'RequestId': 'fbb3860e-eb02-476b-8bde-1bcdd8b66048', 'HTTPStatusCode': 200, 'HTTPHeaders': {'date': 'Tue, 05 Nov 2024 23:30:21 GMT', 'content-type': 'application/json', 'content-length': '459', 'connection': 'keep-alive', 'x-amzn-requestid': 'fbb3860e-eb02-476b-8bde-1bcdd8b66048'}, 'RetryAttempts': 0}, 'stopReason': 'tool_use', 'metrics': {'latencyMs': 2790}}, id='run-dcd3ea88-31a9-4f8b-9a15-2baaefa69d38-0', tool_calls=[{'name': 'travel_guide', 'args': {'query': 'family-friendly beach destinations'}, 'id': 'tooluse_8KHKya6RQIWJO6_Nl9uDHw', 'type': 'tool_call'}], usage_metadata={'input_tokens': 535, 'output_tokens': 85, 'total_tokens': 620}),\n",
       "  ToolMessage(content='Travel Guide: Newport\\nGenerated by Llama3.1 405B\\n \\nNestled along the sparkling shores of Narragansett Bay, Newport, Rhode Island is a captivating coastal\\ngem that seamlessly blends its storied past with modern allure. This quintessential New England town\\nis renowned for its opulent Gilded Age mansions, which stand as testaments to the wealth and\\ngrandeur of America\\'s elite during the late 19th century. Visitors can tour the extravagant \"summer\\ncottages\" of the Vanderbilts, Astors, and other industrial tycoons, marveling at the ornate architecture\\nand lavish interiors that evoke a bygone era of unbridled opulence.\\n \\nBeyond the mansions, Newport offers a wealth of historical attractions, from the iconic Breakers\\ncliffside mansion to the International Tennis Hall of Fame, celebrating the sport\\'s storied legacy. The\\ncity\\'s vibrant waterfront is dotted with charming boutiques, galleries, and acclaimed seafood\\n\\nlively dining and nightlife scene that has earned Fort Lauderdale a reputation as a premier vacation\\ndestination. Whether you\\'re seeking sun-soaked beaches, outdoor recreation, or a vibrant urban\\nexperience, this coastal oasis on Florida\\'s Gold Coast has something to captivate every traveler.\\n \\nPage 1\\n\\ncliffside mansion to the International Tennis Hall of Fame, celebrating the sport\\'s storied legacy. The\\ncity\\'s vibrant waterfront is dotted with charming boutiques, galleries, and acclaimed seafood\\nrestaurants, providing ample opportunities to immerse oneself in the local culture. Outdoor enthusiasts\\ncan explore the Cliff Walk, a scenic 3.5-mile trail that hugs the rugged coastline and offers breathtaking\\nviews of the Atlantic Ocean. With its rich history, stunning natural beauty, and abundance of activities,\\nNewport is a captivating destination that promises an unforgettable New England experience.\\n \\nPage 1\\n\\nTravel Guide: Miami\\nGenerated by Llama3.1 405B\\n \\nMiami, the vibrant and sun-drenched city on Florida\\'s southeastern coast, is a captivating destination\\nthat blends diverse cultures, stunning beaches, and a pulsing energy. Known as the \"Magic City,\"\\nMiami enchants visitors with its Art Deco architecture, lively Latin-infused neighborhoods, and\\nworld-class dining and nightlife.\\n \\nSome of Miami\\'s must-see attractions include the iconic South Beach, where you can stroll the lively\\nOcean Drive, admire the pastel-hued Art Deco buildings, and people-watch at the bustling cafes. The\\nPérez Art Museum Miami showcases cutting-edge contemporary art in a stunning waterfront setting.\\nFor a taste of Cuban culture, explore the vibrant streets of Little Havana, where you can savor authentic\\nCuban cuisine, watch cigar rollers at work, and listen to the rhythmic beats of salsa music.\\n \\nBeyond the city, the Everglades National Park, the largest tropical wilderness in the United States,', name='travel_guide', id='0ea0d453-77a4-4ab8-bae9-8bb1ff0ae84c', tool_call_id='tooluse_8KHKya6RQIWJO6_Nl9uDHw'),\n",
       "  AIMessage(content='Based on the travel guide information, Newport, Rhode Island seems like a great family-friendly beach destination for you, Homer. It offers beautiful coastal scenery, historical attractions like the famous Gilded Age mansions, outdoor activities like the scenic Cliff Walk trail, and a charming waterfront area with shops and seafood restaurants. The mix of beach, history, and family entertainment could make for a fun and memorable vacation for you and your family. Let me know if you need any other details to plan your trip to Newport!', additional_kwargs={}, response_metadata={'ResponseMetadata': {'RequestId': '5d74bacc-bc87-4bf7-bb29-6f83db8169b7', 'HTTPStatusCode': 200, 'HTTPHeaders': {'date': 'Tue, 05 Nov 2024 23:30:32 GMT', 'content-type': 'application/json', 'content-length': '727', 'connection': 'keep-alive', 'x-amzn-requestid': '5d74bacc-bc87-4bf7-bb29-6f83db8169b7'}, 'RetryAttempts': 0}, 'stopReason': 'end_turn', 'metrics': {'latencyMs': 10345}}, id='run-eb074aa1-76e8-41c0-bbc0-1019e177c1b4-0', usage_metadata={'input_tokens': 1326, 'output_tokens': 112, 'total_tokens': 1438}),\n",
       "  HumanMessage(content='How can I brew beer over there? Which sort of hops is best suited for this?', additional_kwargs={}, response_metadata={}, id='1fe70e39-06eb-4f03-b2b2-8947ac2d3f26'),\n",
       "  AIMessage(content=[{'type': 'text', 'text': 'Hmm, brewing beer while on vacation in Newport may not be the most practical idea. However, I can provide some information on the local beer scene and recommend some great breweries to visit instead:'}, {'type': 'tool_use', 'name': 'travel_guide', 'input': {'query': 'newport rhode island breweries'}, 'id': 'tooluse_e85zpxOoTNqEebugW7eenw'}], additional_kwargs={}, response_metadata={'ResponseMetadata': {'RequestId': '46599d5b-765a-4006-a37d-a33d50faf92e', 'HTTPStatusCode': 200, 'HTTPHeaders': {'date': 'Tue, 05 Nov 2024 23:30:36 GMT', 'content-type': 'application/json', 'content-length': '518', 'connection': 'keep-alive', 'x-amzn-requestid': '46599d5b-765a-4006-a37d-a33d50faf92e'}, 'RetryAttempts': 0}, 'stopReason': 'tool_use', 'metrics': {'latencyMs': 4119}}, id='run-41a73878-4cd2-4785-ab5d-c9eeaf5f228c-0', tool_calls=[{'name': 'travel_guide', 'args': {'query': 'newport rhode island breweries'}, 'id': 'tooluse_e85zpxOoTNqEebugW7eenw', 'type': 'tool_call'}], usage_metadata={'input_tokens': 1460, 'output_tokens': 100, 'total_tokens': 1560}),\n",
       "  ToolMessage(content='Travel Guide: Newport\\nGenerated by Llama3.1 405B\\n \\nNestled along the sparkling shores of Narragansett Bay, Newport, Rhode Island is a captivating coastal\\ngem that seamlessly blends its storied past with modern allure. This quintessential New England town\\nis renowned for its opulent Gilded Age mansions, which stand as testaments to the wealth and\\ngrandeur of America\\'s elite during the late 19th century. Visitors can tour the extravagant \"summer\\ncottages\" of the Vanderbilts, Astors, and other industrial tycoons, marveling at the ornate architecture\\nand lavish interiors that evoke a bygone era of unbridled opulence.\\n \\nBeyond the mansions, Newport offers a wealth of historical attractions, from the iconic Breakers\\ncliffside mansion to the International Tennis Hall of Fame, celebrating the sport\\'s storied legacy. The\\ncity\\'s vibrant waterfront is dotted with charming boutiques, galleries, and acclaimed seafood\\n\\ncliffside mansion to the International Tennis Hall of Fame, celebrating the sport\\'s storied legacy. The\\ncity\\'s vibrant waterfront is dotted with charming boutiques, galleries, and acclaimed seafood\\nrestaurants, providing ample opportunities to immerse oneself in the local culture. Outdoor enthusiasts\\ncan explore the Cliff Walk, a scenic 3.5-mile trail that hugs the rugged coastline and offers breathtaking\\nviews of the Atlantic Ocean. With its rich history, stunning natural beauty, and abundance of activities,\\nNewport is a captivating destination that promises an unforgettable New England experience.\\n \\nPage 1\\n\\nTravel Guide: Portland\\nGenerated by Llama3.1 405B\\n \\nNestled in the lush Pacific Northwest, Portland is a vibrant city that seamlessly blends urban\\nsophistication with a deep appreciation for the great outdoors. Known as the \"City of Roses,\" Portland\\ncaptivates visitors with its thriving arts scene, innovative culinary landscape, and commitment to\\nsustainability. Stroll through the serene Japanese Garden, one of the most authentic outside of Japan,\\nand marvel at the stunning views of Mount Hood. Explore the quirky neighborhoods, from the eclectic\\nshops and food carts of the Pearl District to the trendy boutiques and cafes of the Hawthorne District.\\nIndulge in the city\\'s renowned craft beer scene, with over 70 breweries within the metro area, or savor\\nthe fresh, locally-sourced ingredients at acclaimed restaurants like Ox and Ava Gene\\'s. Whether you\\'re\\nhiking through the Columbia River Gorge, browsing the stalls of the bustling Saturday Market, or simply\\n\\nhiking through the Columbia River Gorge, browsing the stalls of the bustling Saturday Market, or simply\\nstrolling along the Willamette River, Portland offers a unique blend of urban sophistication and natural\\nwonder that is sure to captivate any traveler.\\n \\nPage 1', name='travel_guide', id='a956a550-bf22-4b0d-a8d2-8e731f4d7ecf', tool_call_id='tooluse_e85zpxOoTNqEebugW7eenw'),\n",
       "  AIMessage(content='While home brewing may not be feasible on vacation, Newport has a thriving craft beer scene you can explore. Some top breweries to check out include:\\n\\n- Ragged Island Brewing Company - This waterfront brewery has a great outdoor patio and specializes in New England-style IPAs and other craft beers.\\n\\n- Newport Craft Brewing & Distilling Co. - One of the larger breweries, they offer a wide variety of beers as well as spirits like rum and whiskey. \\n\\n- Coastal Extreme Brewing - Known for their hop-forward IPAs and unique experimental beers.\\n\\nAs for hops, the classic Cascade hop is very popular in New England IPAs and provides citrusy, floral notes. Citra and Mosaic are other trendy hop varieties used in juicy, hazy IPAs that you may want to look for.\\n\\nSo while brewing may not be an option, you can certainly enjoy sampling the local craft beer offerings during your Newport vacation! Let me know if you need any other Newport beer recommendations.', additional_kwargs={}, response_metadata={'ResponseMetadata': {'RequestId': 'c00dd8f0-0ed3-47c4-8934-1484c14c1136', 'HTTPStatusCode': 200, 'HTTPHeaders': {'date': 'Tue, 05 Nov 2024 23:30:43 GMT', 'content-type': 'application/json', 'content-length': '1151', 'connection': 'keep-alive', 'x-amzn-requestid': 'c00dd8f0-0ed3-47c4-8934-1484c14c1136'}, 'RetryAttempts': 0}, 'stopReason': 'end_turn', 'metrics': {'latencyMs': 7143}}, id='run-04b07986-0a0b-4e42-90db-27d879955655-0', usage_metadata={'input_tokens': 2248, 'output_tokens': 231, 'total_tokens': 2479}),\n",
       "  HumanMessage(content='What is the best local beer brand in this specific place?', additional_kwargs={}, response_metadata={}, id='32b5f9b9-5ca1-4b19-ad6d-a3dba2cb4dc3'),\n",
       "  AIMessage(content=[{'type': 'text', 'text': 'Okay, let me consult the travel guide again to see if it mentions any standout local beer brands or breweries in Newport, Rhode Island:'}, {'type': 'tool_use', 'name': 'travel_guide', 'input': {'query': 'best local beer newport rhode island'}, 'id': 'tooluse_mDAWoQJtQPmcD2OwS9E-rA'}], additional_kwargs={}, response_metadata={'ResponseMetadata': {'RequestId': '76890d8a-f8a4-4ab1-b3e4-711f491dbbc7', 'HTTPStatusCode': 200, 'HTTPHeaders': {'date': 'Tue, 05 Nov 2024 23:30:51 GMT', 'content-type': 'application/json', 'content-length': '459', 'connection': 'keep-alive', 'x-amzn-requestid': '76890d8a-f8a4-4ab1-b3e4-711f491dbbc7'}, 'RetryAttempts': 0}, 'stopReason': 'tool_use', 'metrics': {'latencyMs': 7245}}, id='run-ec91a048-8e48-4f19-8266-8a384cf85f6c-0', tool_calls=[{'name': 'travel_guide', 'args': {'query': 'best local beer newport rhode island'}, 'id': 'tooluse_mDAWoQJtQPmcD2OwS9E-rA', 'type': 'tool_call'}], usage_metadata={'input_tokens': 2494, 'output_tokens': 91, 'total_tokens': 2585}),\n",
       "  ToolMessage(content='Travel Guide: Newport\\nGenerated by Llama3.1 405B\\n \\nNestled along the sparkling shores of Narragansett Bay, Newport, Rhode Island is a captivating coastal\\ngem that seamlessly blends its storied past with modern allure. This quintessential New England town\\nis renowned for its opulent Gilded Age mansions, which stand as testaments to the wealth and\\ngrandeur of America\\'s elite during the late 19th century. Visitors can tour the extravagant \"summer\\ncottages\" of the Vanderbilts, Astors, and other industrial tycoons, marveling at the ornate architecture\\nand lavish interiors that evoke a bygone era of unbridled opulence.\\n \\nBeyond the mansions, Newport offers a wealth of historical attractions, from the iconic Breakers\\ncliffside mansion to the International Tennis Hall of Fame, celebrating the sport\\'s storied legacy. The\\ncity\\'s vibrant waterfront is dotted with charming boutiques, galleries, and acclaimed seafood\\n\\ncliffside mansion to the International Tennis Hall of Fame, celebrating the sport\\'s storied legacy. The\\ncity\\'s vibrant waterfront is dotted with charming boutiques, galleries, and acclaimed seafood\\nrestaurants, providing ample opportunities to immerse oneself in the local culture. Outdoor enthusiasts\\ncan explore the Cliff Walk, a scenic 3.5-mile trail that hugs the rugged coastline and offers breathtaking\\nviews of the Atlantic Ocean. With its rich history, stunning natural beauty, and abundance of activities,\\nNewport is a captivating destination that promises an unforgettable New England experience.\\n \\nPage 1\\n\\nTravel Guide: Portland\\nGenerated by Llama3.1 405B\\n \\nNestled in the lush Pacific Northwest, Portland is a vibrant city that seamlessly blends urban\\nsophistication with a deep appreciation for the great outdoors. Known as the \"City of Roses,\" Portland\\ncaptivates visitors with its thriving arts scene, innovative culinary landscape, and commitment to\\nsustainability. Stroll through the serene Japanese Garden, one of the most authentic outside of Japan,\\nand marvel at the stunning views of Mount Hood. Explore the quirky neighborhoods, from the eclectic\\nshops and food carts of the Pearl District to the trendy boutiques and cafes of the Hawthorne District.\\nIndulge in the city\\'s renowned craft beer scene, with over 70 breweries within the metro area, or savor\\nthe fresh, locally-sourced ingredients at acclaimed restaurants like Ox and Ava Gene\\'s. Whether you\\'re\\nhiking through the Columbia River Gorge, browsing the stalls of the bustling Saturday Market, or simply\\n\\nhiking through the Columbia River Gorge, browsing the stalls of the bustling Saturday Market, or simply\\nstrolling along the Willamette River, Portland offers a unique blend of urban sophistication and natural\\nwonder that is sure to captivate any traveler.\\n \\nPage 1', name='travel_guide', id='59a3580f-40a8-4f72-a999-7702467917a9', tool_call_id='tooluse_mDAWoQJtQPmcD2OwS9E-rA'),\n",
       "  AIMessage(content='The travel guide doesn\\'t explicitly mention the best local beer brand in Newport, but based on my previous research, a few of the top local breweries that are highly regarded include:\\n\\nRagged Island Brewing Company - This waterfront brewery is known for their flagship Nor\\'Easter New England IPA as well as other hop-forward IPAs and ales. Many consider it one of the best breweries in Newport.\\n\\nNewport Craft Brewing & Distilling Co. - One of the larger and more established breweries, their Storm IPA and Rhode Trip Belgian Blonde are popular flagship beers.\\n\\nCoastal Extreme Brewing - This smaller brewery has developed a cult following for their experimental IPAs like the Ov3rlord DIPA and unique sour beers.\\n\\nWhile not necessarily a single \"brand\", the consensus seems to be that the local craft breweries in Newport are producing some of the highest quality and most interesting beers, especially when it comes to hoppy New England-style IPAs. Ragged Island and Coastal Extreme in particular get rave reviews from beer enthusiasts. Let me know if you need any other Newport beer recommendations!', additional_kwargs={}, response_metadata={'ResponseMetadata': {'RequestId': 'a98d78ae-d2c6-402f-853b-40a79de32b4e', 'HTTPStatusCode': 200, 'HTTPHeaders': {'date': 'Tue, 05 Nov 2024 23:31:01 GMT', 'content-type': 'application/json', 'content-length': '1300', 'connection': 'keep-alive', 'x-amzn-requestid': 'a98d78ae-d2c6-402f-853b-40a79de32b4e'}, 'RetryAttempts': 0}, 'stopReason': 'end_turn', 'metrics': {'latencyMs': 10485}}, id='run-a131e945-1e22-4e9c-999b-7d99c2a56d4a-0', usage_metadata={'input_tokens': 3273, 'output_tokens': 250, 'total_tokens': 3523}),\n",
       "  HumanMessage(content=\"I'm confused. Why does my beer taste bitter?\", additional_kwargs={}, response_metadata={}, id='50abc90b-c9b7-47d6-8969-7acaa3b5f768'),\n",
       "  AIMessage(content=\"It sounds like you may have ordered or been served an India Pale Ale (IPA) style beer, which is known for having a noticeable bitterness from the hops used in brewing.\\n\\nIPAs originated in England in the 19th century when brewers started adding more hops as a preservative for beers being shipped to India. The extra hops provided bitterness to balance the maltiness.\\n\\nThese days, American craft brewers, especially those in New England like the ones in Newport, have embraced and even amplified the hoppy, bitter characteristics in their IPAs. Some key reasons your beer may taste bitter:\\n\\n- Hop Varieties - Certain hop varieties like Cascade, Centennial, Columbus impart more bitterness than others like Citra or Mosaic which give more tropical/citrus flavors.\\n\\n- Dry-Hopping - Many brewers now dry-hop their IPAs, adding extra hops late in the process to increase aroma and flavor bitterness.\\n\\n- High IBUs - India Pale Ales typically have higher IBU (International Bitterness Unit) measurements than other beer styles, often 60 IBUs or higher.\\n\\n- Double/Imperial IPAs - These stronger, higher alcohol IPAs use even more hops, resulting in intense bitterness.\\n\\nIf you prefer a less bitter beer, I'd recommend trying some of the other styles Newport breweries offer like:\\n\\n- Blonde ales or golden ales\\n- Brown ales or porters \\n- Wheat beers or hefeweizens\\n- Stouts or porters\\n\\nLet me know if you need any other recommendations for beers with less of a bitter hop profile!\", additional_kwargs={}, response_metadata={'ResponseMetadata': {'RequestId': '1e3c67f6-fc09-489c-9248-166062072f68', 'HTTPStatusCode': 200, 'HTTPHeaders': {'date': 'Tue, 05 Nov 2024 23:31:15 GMT', 'content-type': 'application/json', 'content-length': '1680', 'connection': 'keep-alive', 'x-amzn-requestid': '1e3c67f6-fc09-489c-9248-166062072f68'}, 'RetryAttempts': 0}, 'stopReason': 'end_turn', 'metrics': {'latencyMs': 13927}}, id='run-12c2d7b0-612e-4b5b-ad97-81db1e068347-0', usage_metadata={'input_tokens': 3537, 'output_tokens': 371, 'total_tokens': 3908})]}"
      ]
     },
     "execution_count": 10,
     "metadata": {},
     "output_type": "execute_result"
    }
   ],
   "source": [
    "config = {\"configurable\": {\"thread_id\": \"3\"}}\n",
    "agent_executor.invoke(\n",
    "        {\n",
    "            \"messages\": [\n",
    "                (\n",
    "                    \"user\",\n",
    "                    \"My name is Homer Simpson, please suggest me a good vacation destination.\",\n",
    "                )\n",
    "            ]\n",
    "        },\n",
    "        config,\n",
    "    )\n",
    "agent_executor.invoke(\n",
    "        {\n",
    "            \"messages\": [\n",
    "                (\n",
    "                    \"user\",\n",
    "                    \"How can I brew beer over there? Which sort of hops is best suited for this?\"\n",
    "                )\n",
    "            ]\n",
    "        },\n",
    "        config,\n",
    "    )\n",
    "agent_executor.invoke(\n",
    "        {\n",
    "            \"messages\": [\n",
    "                (\n",
    "                    \"user\",\n",
    "                    \"What is the best local beer brand in this specific place?\"\n",
    "                )\n",
    "            ]\n",
    "        },\n",
    "        config,\n",
    "    )\n",
    "response_confused_homer = agent_executor.invoke(\n",
    "        {\n",
    "            \"messages\": [\n",
    "                (\"user\", \"I'm confused. Why does my beer taste bitter?\")\n",
    "            ]\n",
    "        },\n",
    "        config,\n",
    "    )\n",
    "response_confused_homer"
   ]
  },
  {
   "cell_type": "markdown",
   "id": "5b086dc3-5203-4531-beb5-5566a2b13815",
   "metadata": {},
   "source": [
    "Now that we have collected the agent conversations from Stephen, Jane, and Homer, we can proceed with converting them from LangChain's message format into RAGAS message format. For this conversion, we will utilize the previously defined `convert_messages` function."
   ]
  },
  {
   "cell_type": "code",
   "execution_count": 11,
   "id": "68447b7a-85e9-461f-a0db-742050547734",
   "metadata": {},
   "outputs": [
    {
     "data": {
      "text/plain": [
       "[HumanMessage(content='My name is Stephen Walker, please suggest me a good vacation destination.', metadata=None, type='human'),\n",
       " AIMessage(content='Okay, let me first check which destinations you have already visited by invoking the compare_and_recommend_destination tool.', metadata=None, type='ai', tool_calls=[ToolCall(name='compare_and_recommend_destination', args={'id': 'tooluse_NAN7fvOwTt-D3APIAnOqFw', 'query': 'Stephen Walker'})]),\n",
       " ToolMessage(content='User not found in the travel database.', metadata={'tool_name': 'compare_and_recommend_destination', 'tool_call_id': 'tooluse_NAN7fvOwTt-D3APIAnOqFw'}, type='tool'),\n",
       " AIMessage(content=\"Since you are not found in the travel database, it seems you haven't traveled much before. Let me query the travel guide to suggest a good destination for you based on some general interests.\", metadata=None, type='ai', tool_calls=[ToolCall(name='travel_guide', args={'id': 'tooluse_iEOFXlzMQICvI45pzOrLFQ', 'query': 'beach vacation destinations'})]),\n",
       " ToolMessage(content='lively dining and nightlife scene that has earned Fort Lauderdale a reputation as a premier vacation\\ndestination. Whether you\\'re seeking sun-soaked beaches, outdoor recreation, or a vibrant urban\\nexperience, this coastal oasis on Florida\\'s Gold Coast has something to captivate every traveler.\\n \\nPage 1\\n\\nTravel Guide: Miami\\nGenerated by Llama3.1 405B\\n \\nMiami, the vibrant and sun-drenched city on Florida\\'s southeastern coast, is a captivating destination\\nthat blends diverse cultures, stunning beaches, and a pulsing energy. Known as the \"Magic City,\"\\nMiami enchants visitors with its Art Deco architecture, lively Latin-infused neighborhoods, and\\nworld-class dining and nightlife.\\n \\nSome of Miami\\'s must-see attractions include the iconic South Beach, where you can stroll the lively\\nOcean Drive, admire the pastel-hued Art Deco buildings, and people-watch at the bustling cafes. The\\nPérez Art Museum Miami showcases cutting-edge contemporary art in a stunning waterfront setting.\\nFor a taste of Cuban culture, explore the vibrant streets of Little Havana, where you can savor authentic\\nCuban cuisine, watch cigar rollers at work, and listen to the rhythmic beats of salsa music.\\n \\nBeyond the city, the Everglades National Park, the largest tropical wilderness in the United States,\\n\\nbelow the horizon during a breathtaking sunset cruise. History buffs will delight in the Hemingway\\nHome and Museum, where the renowned author lived and wrote some of his most famous works, and\\nthe Key West Lighthouse, which has guided mariners since 1848. Beyond the city\\'s vibrant urban core,\\ndiscover the natural wonders of the Florida Keys, including the stunning coral reefs and diverse marine\\nlife of the Florida Keys National Marine Sanctuary. Whether you\\'re seeking sun-soaked beaches,\\ncultural immersion, or a taste of island life, Key West offers a truly unforgettable experience.\\n \\nPage 1\\n\\nTravel Guide: Key West\\nGenerated by Llama3.1 405B\\n \\nKey West: A Tropical Oasis at the Southernmost Point\\n \\nNestled at the tip of the Florida Keys, Key West is a captivating island city that exudes a unique blend\\nof Caribbean flair, American history, and laid-back island vibes. This vibrant destination beckons\\ntravelers with its pastel-hued architecture, lively street art, and endless opportunities for outdoor\\nadventure. Stroll along the iconic Duval Street, where you\\'ll find eclectic boutiques, lively bars, and the\\nlegendary Sloppy Joe\\'s, a favorite haunt of Ernest Hemingway. Explore the Southernmost Point, a\\nconcrete buoy marking the southernmost point of the continental United States, and watch the sun dip\\nbelow the horizon during a breathtaking sunset cruise. History buffs will delight in the Hemingway\\nHome and Museum, where the renowned author lived and wrote some of his most famous works, and', metadata={'tool_name': 'travel_guide', 'tool_call_id': 'tooluse_iEOFXlzMQICvI45pzOrLFQ'}, type='tool'),\n",
       " AIMessage(content='Based on the travel guide information, some great beach vacation destinations to consider are:\\n\\n1. Fort Lauderdale, Florida - Known for its beautiful beaches, lively dining/nightlife scene, and outdoor recreation opportunities.\\n\\n2. Miami, Florida - A vibrant city with stunning beaches like South Beach, rich cultural attractions like the Pérez Art Museum and Little Havana, and proximity to the Everglades National Park.\\n\\n3. Key West, Florida - This island city at the southernmost point of Florida offers a laid-back Caribbean vibe, beautiful beaches, outdoor activities, historical sites like the Hemingway Home, and amazing sunsets.\\n\\nAll three of these Florida destinations offer excellent beach vacation experiences with plenty of activities and attractions beyond just the beach itself. Key West and Miami in particular provide great cultural immersion opportunities as well. Let me know if you need any other details to help decide on the perfect beach getaway for you!', metadata={'input_tokens': 1340, 'output_tokens': 203, 'total_tokens': 1543}, type='ai', tool_calls=[]),\n",
       " HumanMessage(content=\"I'm interested in more information about the location you suggested. Please provide me with a summary of what a travel guide would suggest!\", metadata=None, type='human'),\n",
       " AIMessage(content='Sure, let me consult the travel guide again and provide a summary for one of the beach destinations I recommended - Key West, Florida.', metadata=None, type='ai', tool_calls=[ToolCall(name='travel_guide', args={'id': 'tooluse_oGBTKI-uTReSCebSq-F4bw', 'query': 'key west florida travel guide'})]),\n",
       " ToolMessage(content='below the horizon during a breathtaking sunset cruise. History buffs will delight in the Hemingway\\nHome and Museum, where the renowned author lived and wrote some of his most famous works, and\\nthe Key West Lighthouse, which has guided mariners since 1848. Beyond the city\\'s vibrant urban core,\\ndiscover the natural wonders of the Florida Keys, including the stunning coral reefs and diverse marine\\nlife of the Florida Keys National Marine Sanctuary. Whether you\\'re seeking sun-soaked beaches,\\ncultural immersion, or a taste of island life, Key West offers a truly unforgettable experience.\\n \\nPage 1\\n\\nTravel Guide: Key West\\nGenerated by Llama3.1 405B\\n \\nKey West: A Tropical Oasis at the Southernmost Point\\n \\nNestled at the tip of the Florida Keys, Key West is a captivating island city that exudes a unique blend\\nof Caribbean flair, American history, and laid-back island vibes. This vibrant destination beckons\\ntravelers with its pastel-hued architecture, lively street art, and endless opportunities for outdoor\\nadventure. Stroll along the iconic Duval Street, where you\\'ll find eclectic boutiques, lively bars, and the\\nlegendary Sloppy Joe\\'s, a favorite haunt of Ernest Hemingway. Explore the Southernmost Point, a\\nconcrete buoy marking the southernmost point of the continental United States, and watch the sun dip\\nbelow the horizon during a breathtaking sunset cruise. History buffs will delight in the Hemingway\\nHome and Museum, where the renowned author lived and wrote some of his most famous works, and\\n\\nCuban cuisine, watch cigar rollers at work, and listen to the rhythmic beats of salsa music.\\n \\nBeyond the city, the Everglades National Park, the largest tropical wilderness in the United States,\\noffers a chance to explore the unique ecosystem and spot diverse wildlife, from alligators to manatees.\\nFor a day of family fun, visit the Miami Seaquarium, where you can interact with dolphins, seals, and\\nother marine creatures.\\n \\nWhether you\\'re seeking sun-soaked beaches, cultural immersion, or culinary adventures, Miami\\npromises an unforgettable experience that will leave you captivated by its irresistible charm.\\n \\nPage 1\\n\\nTravel Guide: Miami\\nGenerated by Llama3.1 405B\\n \\nMiami, the vibrant and sun-drenched city on Florida\\'s southeastern coast, is a captivating destination\\nthat blends diverse cultures, stunning beaches, and a pulsing energy. Known as the \"Magic City,\"\\nMiami enchants visitors with its Art Deco architecture, lively Latin-infused neighborhoods, and\\nworld-class dining and nightlife.\\n \\nSome of Miami\\'s must-see attractions include the iconic South Beach, where you can stroll the lively\\nOcean Drive, admire the pastel-hued Art Deco buildings, and people-watch at the bustling cafes. The\\nPérez Art Museum Miami showcases cutting-edge contemporary art in a stunning waterfront setting.\\nFor a taste of Cuban culture, explore the vibrant streets of Little Havana, where you can savor authentic\\nCuban cuisine, watch cigar rollers at work, and listen to the rhythmic beats of salsa music.\\n \\nBeyond the city, the Everglades National Park, the largest tropical wilderness in the United States,', metadata={'tool_name': 'travel_guide', 'tool_call_id': 'tooluse_oGBTKI-uTReSCebSq-F4bw'}, type='tool'),\n",
       " AIMessage(content=\"Here's a summary of what a travel guide would suggest for Key West, Florida:\\n\\nKey West is a captivating island city at the southernmost point of the Florida Keys. It offers a unique blend of Caribbean flair, American history, and laid-back island vibes. Some highlights include:\\n\\n- Duval Street - The iconic main street with eclectic boutiques, lively bars like Sloppy Joe's (Hemingway's old haunt), and street performers.\\n\\n- Southernmost Point Buoy - A famous concrete buoy marking the southernmost point of the continental U.S. Great for photos.\\n\\n- Sunset Cruises - Watch the stunning Florida Keys sunsets from the water.\\n\\n- Hemingway Home & Museum - Where the famous author lived and wrote. See his study and the home's polydactyl (six-toed) cats.\\n\\n- Key West Lighthouse - An iconic 1848 lighthouse offering great views.\\n\\n- Beaches & Water Activities - Enjoy the beautiful beaches or go snorkeling/diving to explore the coral reefs.\\n\\n- Florida Keys National Marine Sanctuary - Incredible marine environment with vibrant reefs and diverse wildlife.\\n\\nThe island has a very relaxed, tropical vibe mixed with a vibrant cultural scene. Highlights include the colorful architecture, street art, outdoor cafes, and fresh seafood. It's a perfect beach getaway with a unique local flair.\\n\\nLet me know if you need any other details about visiting Key West! The travel guide provides a great overview of the top attractions and experiences.\", metadata={'input_tokens': 2444, 'output_tokens': 345, 'total_tokens': 2789}, type='ai', tool_calls=[])]"
      ]
     },
     "execution_count": 11,
     "metadata": {},
     "output_type": "execute_result"
    }
   ],
   "source": [
    "rg_messages_stephen = convert_messages(response_stephen)\n",
    "rg_messages_stephen"
   ]
  },
  {
   "cell_type": "code",
   "execution_count": 12,
   "id": "ddea6f13-5d45-4331-98fe-5d030d6516c9",
   "metadata": {},
   "outputs": [
    {
     "data": {
      "text/plain": [
       "[HumanMessage(content='My name is Homer Simpson, please suggest me a good vacation destination.', metadata=None, type='human'),\n",
       " AIMessage(content='Okay, let me check where you have already traveled to avoid recommending those places.', metadata=None, type='ai', tool_calls=[ToolCall(name='compare_and_recommend_destination', args={'id': 'tooluse_WeJIjb78QDGL4IQwqtdS7g', 'query': 'Homer Simpson'})]),\n",
       " ToolMessage(content='User not found in the travel database.', metadata={'tool_name': 'compare_and_recommend_destination', 'tool_call_id': 'tooluse_WeJIjb78QDGL4IQwqtdS7g'}, type='tool'),\n",
       " AIMessage(content=\"Since I don't have any record of your previous travel destinations, let me suggest a popular vacation spot based on some typical interests:\", metadata=None, type='ai', tool_calls=[ToolCall(name='travel_guide', args={'id': 'tooluse_8KHKya6RQIWJO6_Nl9uDHw', 'query': 'family-friendly beach destinations'})]),\n",
       " ToolMessage(content='Travel Guide: Newport\\nGenerated by Llama3.1 405B\\n \\nNestled along the sparkling shores of Narragansett Bay, Newport, Rhode Island is a captivating coastal\\ngem that seamlessly blends its storied past with modern allure. This quintessential New England town\\nis renowned for its opulent Gilded Age mansions, which stand as testaments to the wealth and\\ngrandeur of America\\'s elite during the late 19th century. Visitors can tour the extravagant \"summer\\ncottages\" of the Vanderbilts, Astors, and other industrial tycoons, marveling at the ornate architecture\\nand lavish interiors that evoke a bygone era of unbridled opulence.\\n \\nBeyond the mansions, Newport offers a wealth of historical attractions, from the iconic Breakers\\ncliffside mansion to the International Tennis Hall of Fame, celebrating the sport\\'s storied legacy. The\\ncity\\'s vibrant waterfront is dotted with charming boutiques, galleries, and acclaimed seafood\\n\\nlively dining and nightlife scene that has earned Fort Lauderdale a reputation as a premier vacation\\ndestination. Whether you\\'re seeking sun-soaked beaches, outdoor recreation, or a vibrant urban\\nexperience, this coastal oasis on Florida\\'s Gold Coast has something to captivate every traveler.\\n \\nPage 1\\n\\ncliffside mansion to the International Tennis Hall of Fame, celebrating the sport\\'s storied legacy. The\\ncity\\'s vibrant waterfront is dotted with charming boutiques, galleries, and acclaimed seafood\\nrestaurants, providing ample opportunities to immerse oneself in the local culture. Outdoor enthusiasts\\ncan explore the Cliff Walk, a scenic 3.5-mile trail that hugs the rugged coastline and offers breathtaking\\nviews of the Atlantic Ocean. With its rich history, stunning natural beauty, and abundance of activities,\\nNewport is a captivating destination that promises an unforgettable New England experience.\\n \\nPage 1\\n\\nTravel Guide: Miami\\nGenerated by Llama3.1 405B\\n \\nMiami, the vibrant and sun-drenched city on Florida\\'s southeastern coast, is a captivating destination\\nthat blends diverse cultures, stunning beaches, and a pulsing energy. Known as the \"Magic City,\"\\nMiami enchants visitors with its Art Deco architecture, lively Latin-infused neighborhoods, and\\nworld-class dining and nightlife.\\n \\nSome of Miami\\'s must-see attractions include the iconic South Beach, where you can stroll the lively\\nOcean Drive, admire the pastel-hued Art Deco buildings, and people-watch at the bustling cafes. The\\nPérez Art Museum Miami showcases cutting-edge contemporary art in a stunning waterfront setting.\\nFor a taste of Cuban culture, explore the vibrant streets of Little Havana, where you can savor authentic\\nCuban cuisine, watch cigar rollers at work, and listen to the rhythmic beats of salsa music.\\n \\nBeyond the city, the Everglades National Park, the largest tropical wilderness in the United States,', metadata={'tool_name': 'travel_guide', 'tool_call_id': 'tooluse_8KHKya6RQIWJO6_Nl9uDHw'}, type='tool'),\n",
       " AIMessage(content='Based on the travel guide information, Newport, Rhode Island seems like a great family-friendly beach destination for you, Homer. It offers beautiful coastal scenery, historical attractions like the famous Gilded Age mansions, outdoor activities like the scenic Cliff Walk trail, and a charming waterfront area with shops and seafood restaurants. The mix of beach, history, and family entertainment could make for a fun and memorable vacation for you and your family. Let me know if you need any other details to plan your trip to Newport!', metadata={'input_tokens': 1326, 'output_tokens': 112, 'total_tokens': 1438}, type='ai', tool_calls=[]),\n",
       " HumanMessage(content='How can I brew beer over there? Which sort of hops is best suited for this?', metadata=None, type='human'),\n",
       " AIMessage(content='Hmm, brewing beer while on vacation in Newport may not be the most practical idea. However, I can provide some information on the local beer scene and recommend some great breweries to visit instead:', metadata=None, type='ai', tool_calls=[ToolCall(name='travel_guide', args={'id': 'tooluse_e85zpxOoTNqEebugW7eenw', 'query': 'newport rhode island breweries'})]),\n",
       " ToolMessage(content='Travel Guide: Newport\\nGenerated by Llama3.1 405B\\n \\nNestled along the sparkling shores of Narragansett Bay, Newport, Rhode Island is a captivating coastal\\ngem that seamlessly blends its storied past with modern allure. This quintessential New England town\\nis renowned for its opulent Gilded Age mansions, which stand as testaments to the wealth and\\ngrandeur of America\\'s elite during the late 19th century. Visitors can tour the extravagant \"summer\\ncottages\" of the Vanderbilts, Astors, and other industrial tycoons, marveling at the ornate architecture\\nand lavish interiors that evoke a bygone era of unbridled opulence.\\n \\nBeyond the mansions, Newport offers a wealth of historical attractions, from the iconic Breakers\\ncliffside mansion to the International Tennis Hall of Fame, celebrating the sport\\'s storied legacy. The\\ncity\\'s vibrant waterfront is dotted with charming boutiques, galleries, and acclaimed seafood\\n\\ncliffside mansion to the International Tennis Hall of Fame, celebrating the sport\\'s storied legacy. The\\ncity\\'s vibrant waterfront is dotted with charming boutiques, galleries, and acclaimed seafood\\nrestaurants, providing ample opportunities to immerse oneself in the local culture. Outdoor enthusiasts\\ncan explore the Cliff Walk, a scenic 3.5-mile trail that hugs the rugged coastline and offers breathtaking\\nviews of the Atlantic Ocean. With its rich history, stunning natural beauty, and abundance of activities,\\nNewport is a captivating destination that promises an unforgettable New England experience.\\n \\nPage 1\\n\\nTravel Guide: Portland\\nGenerated by Llama3.1 405B\\n \\nNestled in the lush Pacific Northwest, Portland is a vibrant city that seamlessly blends urban\\nsophistication with a deep appreciation for the great outdoors. Known as the \"City of Roses,\" Portland\\ncaptivates visitors with its thriving arts scene, innovative culinary landscape, and commitment to\\nsustainability. Stroll through the serene Japanese Garden, one of the most authentic outside of Japan,\\nand marvel at the stunning views of Mount Hood. Explore the quirky neighborhoods, from the eclectic\\nshops and food carts of the Pearl District to the trendy boutiques and cafes of the Hawthorne District.\\nIndulge in the city\\'s renowned craft beer scene, with over 70 breweries within the metro area, or savor\\nthe fresh, locally-sourced ingredients at acclaimed restaurants like Ox and Ava Gene\\'s. Whether you\\'re\\nhiking through the Columbia River Gorge, browsing the stalls of the bustling Saturday Market, or simply\\n\\nhiking through the Columbia River Gorge, browsing the stalls of the bustling Saturday Market, or simply\\nstrolling along the Willamette River, Portland offers a unique blend of urban sophistication and natural\\nwonder that is sure to captivate any traveler.\\n \\nPage 1', metadata={'tool_name': 'travel_guide', 'tool_call_id': 'tooluse_e85zpxOoTNqEebugW7eenw'}, type='tool'),\n",
       " AIMessage(content='While home brewing may not be feasible on vacation, Newport has a thriving craft beer scene you can explore. Some top breweries to check out include:\\n\\n- Ragged Island Brewing Company - This waterfront brewery has a great outdoor patio and specializes in New England-style IPAs and other craft beers.\\n\\n- Newport Craft Brewing & Distilling Co. - One of the larger breweries, they offer a wide variety of beers as well as spirits like rum and whiskey. \\n\\n- Coastal Extreme Brewing - Known for their hop-forward IPAs and unique experimental beers.\\n\\nAs for hops, the classic Cascade hop is very popular in New England IPAs and provides citrusy, floral notes. Citra and Mosaic are other trendy hop varieties used in juicy, hazy IPAs that you may want to look for.\\n\\nSo while brewing may not be an option, you can certainly enjoy sampling the local craft beer offerings during your Newport vacation! Let me know if you need any other Newport beer recommendations.', metadata={'input_tokens': 2248, 'output_tokens': 231, 'total_tokens': 2479}, type='ai', tool_calls=[]),\n",
       " HumanMessage(content='What is the best local beer brand in this specific place?', metadata=None, type='human'),\n",
       " AIMessage(content='Okay, let me consult the travel guide again to see if it mentions any standout local beer brands or breweries in Newport, Rhode Island:', metadata=None, type='ai', tool_calls=[ToolCall(name='travel_guide', args={'id': 'tooluse_mDAWoQJtQPmcD2OwS9E-rA', 'query': 'best local beer newport rhode island'})]),\n",
       " ToolMessage(content='Travel Guide: Newport\\nGenerated by Llama3.1 405B\\n \\nNestled along the sparkling shores of Narragansett Bay, Newport, Rhode Island is a captivating coastal\\ngem that seamlessly blends its storied past with modern allure. This quintessential New England town\\nis renowned for its opulent Gilded Age mansions, which stand as testaments to the wealth and\\ngrandeur of America\\'s elite during the late 19th century. Visitors can tour the extravagant \"summer\\ncottages\" of the Vanderbilts, Astors, and other industrial tycoons, marveling at the ornate architecture\\nand lavish interiors that evoke a bygone era of unbridled opulence.\\n \\nBeyond the mansions, Newport offers a wealth of historical attractions, from the iconic Breakers\\ncliffside mansion to the International Tennis Hall of Fame, celebrating the sport\\'s storied legacy. The\\ncity\\'s vibrant waterfront is dotted with charming boutiques, galleries, and acclaimed seafood\\n\\ncliffside mansion to the International Tennis Hall of Fame, celebrating the sport\\'s storied legacy. The\\ncity\\'s vibrant waterfront is dotted with charming boutiques, galleries, and acclaimed seafood\\nrestaurants, providing ample opportunities to immerse oneself in the local culture. Outdoor enthusiasts\\ncan explore the Cliff Walk, a scenic 3.5-mile trail that hugs the rugged coastline and offers breathtaking\\nviews of the Atlantic Ocean. With its rich history, stunning natural beauty, and abundance of activities,\\nNewport is a captivating destination that promises an unforgettable New England experience.\\n \\nPage 1\\n\\nTravel Guide: Portland\\nGenerated by Llama3.1 405B\\n \\nNestled in the lush Pacific Northwest, Portland is a vibrant city that seamlessly blends urban\\nsophistication with a deep appreciation for the great outdoors. Known as the \"City of Roses,\" Portland\\ncaptivates visitors with its thriving arts scene, innovative culinary landscape, and commitment to\\nsustainability. Stroll through the serene Japanese Garden, one of the most authentic outside of Japan,\\nand marvel at the stunning views of Mount Hood. Explore the quirky neighborhoods, from the eclectic\\nshops and food carts of the Pearl District to the trendy boutiques and cafes of the Hawthorne District.\\nIndulge in the city\\'s renowned craft beer scene, with over 70 breweries within the metro area, or savor\\nthe fresh, locally-sourced ingredients at acclaimed restaurants like Ox and Ava Gene\\'s. Whether you\\'re\\nhiking through the Columbia River Gorge, browsing the stalls of the bustling Saturday Market, or simply\\n\\nhiking through the Columbia River Gorge, browsing the stalls of the bustling Saturday Market, or simply\\nstrolling along the Willamette River, Portland offers a unique blend of urban sophistication and natural\\nwonder that is sure to captivate any traveler.\\n \\nPage 1', metadata={'tool_name': 'travel_guide', 'tool_call_id': 'tooluse_mDAWoQJtQPmcD2OwS9E-rA'}, type='tool'),\n",
       " AIMessage(content='The travel guide doesn\\'t explicitly mention the best local beer brand in Newport, but based on my previous research, a few of the top local breweries that are highly regarded include:\\n\\nRagged Island Brewing Company - This waterfront brewery is known for their flagship Nor\\'Easter New England IPA as well as other hop-forward IPAs and ales. Many consider it one of the best breweries in Newport.\\n\\nNewport Craft Brewing & Distilling Co. - One of the larger and more established breweries, their Storm IPA and Rhode Trip Belgian Blonde are popular flagship beers.\\n\\nCoastal Extreme Brewing - This smaller brewery has developed a cult following for their experimental IPAs like the Ov3rlord DIPA and unique sour beers.\\n\\nWhile not necessarily a single \"brand\", the consensus seems to be that the local craft breweries in Newport are producing some of the highest quality and most interesting beers, especially when it comes to hoppy New England-style IPAs. Ragged Island and Coastal Extreme in particular get rave reviews from beer enthusiasts. Let me know if you need any other Newport beer recommendations!', metadata={'input_tokens': 3273, 'output_tokens': 250, 'total_tokens': 3523}, type='ai', tool_calls=[]),\n",
       " HumanMessage(content=\"I'm confused. Why does my beer taste bitter?\", metadata=None, type='human'),\n",
       " AIMessage(content=\"It sounds like you may have ordered or been served an India Pale Ale (IPA) style beer, which is known for having a noticeable bitterness from the hops used in brewing.\\n\\nIPAs originated in England in the 19th century when brewers started adding more hops as a preservative for beers being shipped to India. The extra hops provided bitterness to balance the maltiness.\\n\\nThese days, American craft brewers, especially those in New England like the ones in Newport, have embraced and even amplified the hoppy, bitter characteristics in their IPAs. Some key reasons your beer may taste bitter:\\n\\n- Hop Varieties - Certain hop varieties like Cascade, Centennial, Columbus impart more bitterness than others like Citra or Mosaic which give more tropical/citrus flavors.\\n\\n- Dry-Hopping - Many brewers now dry-hop their IPAs, adding extra hops late in the process to increase aroma and flavor bitterness.\\n\\n- High IBUs - India Pale Ales typically have higher IBU (International Bitterness Unit) measurements than other beer styles, often 60 IBUs or higher.\\n\\n- Double/Imperial IPAs - These stronger, higher alcohol IPAs use even more hops, resulting in intense bitterness.\\n\\nIf you prefer a less bitter beer, I'd recommend trying some of the other styles Newport breweries offer like:\\n\\n- Blonde ales or golden ales\\n- Brown ales or porters \\n- Wheat beers or hefeweizens\\n- Stouts or porters\\n\\nLet me know if you need any other recommendations for beers with less of a bitter hop profile!\", metadata={'input_tokens': 3537, 'output_tokens': 371, 'total_tokens': 3908}, type='ai', tool_calls=[])]"
      ]
     },
     "execution_count": 12,
     "metadata": {},
     "output_type": "execute_result"
    }
   ],
   "source": [
    "rg_messages_confused_homer = convert_messages(response_confused_homer)\n",
    "rg_messages_confused_homer"
   ]
  },
  {
   "cell_type": "code",
   "execution_count": 13,
   "id": "cb642fba-8d53-4ff2-b1b6-e7f421733adb",
   "metadata": {},
   "outputs": [
    {
     "data": {
      "text/plain": [
       "[HumanMessage(content='My name is Jane Doe, please suggest me a good vacation destination.', metadata=None, type='human'),\n",
       " AIMessage(content='Okay, let me first check which destinations you have already visited:', metadata=None, type='ai', tool_calls=[ToolCall(name='compare_and_recommend_destination', args={'id': 'tooluse_bgDVMg3ORhGSY68X99CsKQ', 'query': 'Jane Doe'})]),\n",
       " ToolMessage(content='User not found in the travel database.', metadata={'tool_name': 'compare_and_recommend_destination', 'tool_call_id': 'tooluse_bgDVMg3ORhGSY68X99CsKQ'}, type='tool'),\n",
       " AIMessage(content='Since you are a new user in our system and have not traveled before based on our records, I will try to recommend a good vacation destination for you.\\n\\nTo suggest a suitable place, it would be helpful if you could provide some information about your interests and preferences. Are you looking for a beach vacation, a city break, an adventure trip, or something else? Do you prefer warm or cold weather destinations? Are there any particular activities or sights you enjoy, like hiking, museums, nightlife etc.? Any other requirements like budget, travel duration etc.? The more details you can share, the better I can personalize my recommendation for you.\\n\\nIn the meantime, let me search the travel guides for some highly rated destinations:', metadata=None, type='ai', tool_calls=[ToolCall(name='travel_guide', args={'id': 'tooluse_HC08f2aqQz-q03kb3JD6uA', 'query': 'top vacation destinations'})]),\n",
       " ToolMessage(content='Travel Guide: Miami\\nGenerated by Llama3.1 405B\\n \\nMiami, the vibrant and sun-drenched city on Florida\\'s southeastern coast, is a captivating destination\\nthat blends diverse cultures, stunning beaches, and a pulsing energy. Known as the \"Magic City,\"\\nMiami enchants visitors with its Art Deco architecture, lively Latin-infused neighborhoods, and\\nworld-class dining and nightlife.\\n \\nSome of Miami\\'s must-see attractions include the iconic South Beach, where you can stroll the lively\\nOcean Drive, admire the pastel-hued Art Deco buildings, and people-watch at the bustling cafes. The\\nPérez Art Museum Miami showcases cutting-edge contemporary art in a stunning waterfront setting.\\nFor a taste of Cuban culture, explore the vibrant streets of Little Havana, where you can savor authentic\\nCuban cuisine, watch cigar rollers at work, and listen to the rhythmic beats of salsa music.\\n \\nBeyond the city, the Everglades National Park, the largest tropical wilderness in the United States,\\n\\nlively dining and nightlife scene that has earned Fort Lauderdale a reputation as a premier vacation\\ndestination. Whether you\\'re seeking sun-soaked beaches, outdoor recreation, or a vibrant urban\\nexperience, this coastal oasis on Florida\\'s Gold Coast has something to captivate every traveler.\\n \\nPage 1\\n\\nTravel Guide: Key West\\nGenerated by Llama3.1 405B\\n \\nKey West: A Tropical Oasis at the Southernmost Point\\n \\nNestled at the tip of the Florida Keys, Key West is a captivating island city that exudes a unique blend\\nof Caribbean flair, American history, and laid-back island vibes. This vibrant destination beckons\\ntravelers with its pastel-hued architecture, lively street art, and endless opportunities for outdoor\\nadventure. Stroll along the iconic Duval Street, where you\\'ll find eclectic boutiques, lively bars, and the\\nlegendary Sloppy Joe\\'s, a favorite haunt of Ernest Hemingway. Explore the Southernmost Point, a\\nconcrete buoy marking the southernmost point of the continental United States, and watch the sun dip\\nbelow the horizon during a breathtaking sunset cruise. History buffs will delight in the Hemingway\\nHome and Museum, where the renowned author lived and wrote some of his most famous works, and\\n\\nbelow the horizon during a breathtaking sunset cruise. History buffs will delight in the Hemingway\\nHome and Museum, where the renowned author lived and wrote some of his most famous works, and\\nthe Key West Lighthouse, which has guided mariners since 1848. Beyond the city\\'s vibrant urban core,\\ndiscover the natural wonders of the Florida Keys, including the stunning coral reefs and diverse marine\\nlife of the Florida Keys National Marine Sanctuary. Whether you\\'re seeking sun-soaked beaches,\\ncultural immersion, or a taste of island life, Key West offers a truly unforgettable experience.\\n \\nPage 1', metadata={'tool_name': 'travel_guide', 'tool_call_id': 'tooluse_HC08f2aqQz-q03kb3JD6uA'}, type='tool'),\n",
       " AIMessage(content=\"The travel guide provides an overview of some popular vacation destinations like Miami, Fort Lauderdale, and Key West in Florida. These places offer great beaches, nightlife, dining, and cultural attractions.\\n\\nHowever, to give you a more personalized recommendation, I need some additional details about your specific interests and travel preferences. Please let me know if you prefer a beach vacation, city break, outdoor adventures, or something else, as well as any other requirements you may have. I'll be happy to suggest some destinations tailored to your needs.\", metadata={'input_tokens': 1443, 'output_tokens': 115, 'total_tokens': 1558}, type='ai', tool_calls=[]),\n",
       " HumanMessage(content=\"I'm interested in more information about the location you suggested. Please provide me with a summary of what a travel guide would suggest!\", metadata=None, type='human'),\n",
       " AIMessage(content='Okay, let me consult the travel guide again for more details on Miami, since that was one of the top destinations mentioned:', metadata=None, type='ai', tool_calls=[ToolCall(name='travel_guide', args={'id': 'tooluse_noKGVvGLTUCVfyw-r9a3EQ', 'query': 'miami vacation guide'})]),\n",
       " ToolMessage(content='Travel Guide: Miami\\nGenerated by Llama3.1 405B\\n \\nMiami, the vibrant and sun-drenched city on Florida\\'s southeastern coast, is a captivating destination\\nthat blends diverse cultures, stunning beaches, and a pulsing energy. Known as the \"Magic City,\"\\nMiami enchants visitors with its Art Deco architecture, lively Latin-infused neighborhoods, and\\nworld-class dining and nightlife.\\n \\nSome of Miami\\'s must-see attractions include the iconic South Beach, where you can stroll the lively\\nOcean Drive, admire the pastel-hued Art Deco buildings, and people-watch at the bustling cafes. The\\nPérez Art Museum Miami showcases cutting-edge contemporary art in a stunning waterfront setting.\\nFor a taste of Cuban culture, explore the vibrant streets of Little Havana, where you can savor authentic\\nCuban cuisine, watch cigar rollers at work, and listen to the rhythmic beats of salsa music.\\n \\nBeyond the city, the Everglades National Park, the largest tropical wilderness in the United States,\\n\\nCuban cuisine, watch cigar rollers at work, and listen to the rhythmic beats of salsa music.\\n \\nBeyond the city, the Everglades National Park, the largest tropical wilderness in the United States,\\noffers a chance to explore the unique ecosystem and spot diverse wildlife, from alligators to manatees.\\nFor a day of family fun, visit the Miami Seaquarium, where you can interact with dolphins, seals, and\\nother marine creatures.\\n \\nWhether you\\'re seeking sun-soaked beaches, cultural immersion, or culinary adventures, Miami\\npromises an unforgettable experience that will leave you captivated by its irresistible charm.\\n \\nPage 1\\n\\nlively dining and nightlife scene that has earned Fort Lauderdale a reputation as a premier vacation\\ndestination. Whether you\\'re seeking sun-soaked beaches, outdoor recreation, or a vibrant urban\\nexperience, this coastal oasis on Florida\\'s Gold Coast has something to captivate every traveler.\\n \\nPage 1\\n\\nbelow the horizon during a breathtaking sunset cruise. History buffs will delight in the Hemingway\\nHome and Museum, where the renowned author lived and wrote some of his most famous works, and\\nthe Key West Lighthouse, which has guided mariners since 1848. Beyond the city\\'s vibrant urban core,\\ndiscover the natural wonders of the Florida Keys, including the stunning coral reefs and diverse marine\\nlife of the Florida Keys National Marine Sanctuary. Whether you\\'re seeking sun-soaked beaches,\\ncultural immersion, or a taste of island life, Key West offers a truly unforgettable experience.\\n \\nPage 1', metadata={'tool_name': 'travel_guide', 'tool_call_id': 'tooluse_noKGVvGLTUCVfyw-r9a3EQ'}, type='tool'),\n",
       " AIMessage(content=\"Here's a summary of what the travel guide suggests for a vacation in Miami:\\n\\nMiami is a vibrant, culturally diverse city known for its stunning beaches, lively neighborhoods, world-class dining and nightlife. Some top attractions and experiences include:\\n\\n- South Beach - Stroll the iconic Ocean Drive, see the Art Deco architecture, and people watch at outdoor cafes.\\n\\n- Pérez Art Museum - Modern art museum right on the waterfront. \\n\\n- Little Havana - Explore this Cuban neighborhood, try authentic cuisine, watch cigar rolling, and enjoy Latin music.\\n\\n- Everglades National Park - This vast wilderness offers opportunities for wildlife viewing like alligators and manatees.\\n\\n- Miami Seaquarium - Family-friendly attraction to interact with dolphins, seals and other marine life.\\n\\nThe guide highlights Miami's beautiful beaches, rich cultural influences (especially Cuban), outdoor activities in the Everglades, and lively urban scene with great food, art, and nightlife. It seems to offer a diverse mix of experiences for an exciting beach vacation with a vibrant city atmosphere.\\n\\nLet me know if you need any other details or have additional preferences to help narrow down the recommendation!\", metadata={'input_tokens': 2294, 'output_tokens': 262, 'total_tokens': 2556}, type='ai', tool_calls=[])]"
      ]
     },
     "execution_count": 13,
     "metadata": {},
     "output_type": "execute_result"
    }
   ],
   "source": [
    "rg_messages_jane = convert_messages(response_jane)\n",
    "rg_messages_jane"
   ]
  },
  {
   "cell_type": "markdown",
   "id": "f1ae3c79-521f-4962-9e4e-9a87e44a51f3",
   "metadata": {},
   "source": [
    "With our conversation flows now properly formatted, we can proceed with the actual evaluation phase."
   ]
  },
  {
   "cell_type": "markdown",
   "id": "cf995770-f6f7-4f86-909f-b60328ddfeaf",
   "metadata": {},
   "source": [
    "### Agent Goal Accuracy\n",
    "\n",
    "Agent Goal Accuracy is a metric designed to evaluate how well an LLM identifies and achieves user goals. It's a binary metric where 1 indicates successful goal achievement and 0 indicates failure. The evaluation is performed using an evaluator LLM, which needs to be defined and configured before metric calculation.\n",
    "\n",
    "The Agent Goal Accuracy metric comes in two distinct variants:\n",
    "\n",
    "- Agent Goal Accuracy without reference\n",
    "- Agent Goal Accuracy with reference\n",
    "\n",
    "Before exploring these variants in detail, we need to establish our evaluator LLM. For this purpose, we will utilize Anthropic Claude 3 Sonnet as our judge. While this is our choice in this lab, the selection of the evaluator LLM always needs to be adjusted based on specific use cases and requirements."
   ]
  },
  {
   "cell_type": "code",
   "execution_count": 14,
   "id": "3f6786f5-4c5f-4ca4-a5da-30a275fbbd5c",
   "metadata": {},
   "outputs": [],
   "source": [
    "import boto3\n",
    "from ragas.llms import LangchainLLMWrapper\n",
    "from langchain_aws import ChatBedrockConverse\n",
    "\n",
    "# ---- ⚠️ Update region for your AWS setup ⚠️ ----\n",
    "bedrock_client = boto3.client(\"bedrock-runtime\", region_name=\"us-east-1\")\n",
    "\n",
    "judge_llm = LangchainLLMWrapper(ChatBedrockConverse(\n",
    "    model=\"anthropic.claude-3-sonnet-20240229-v1:0\",\n",
    "    temperature=0,\n",
    "    max_tokens=None,\n",
    "    client=bedrock_client,\n",
    "    # other params...\n",
    "))"
   ]
  },
  {
   "cell_type": "markdown",
   "id": "2cff6e40-26c3-4ccb-b32b-65d2def73410",
   "metadata": {},
   "source": [
    "#### Agent Goal Accuracy Without Reference\n",
    "AgentGoalAccuracyWithoutReference operates without a predefined reference point. Instead, it evaluates the LLM's performance by inferring the desired outcome from the human interactions within the workflow. This approach is particularly useful when explicit reference outcomes are not available or when the success criteria can be determined from the conversation context.\n",
    "\n",
    "To evaluate this metric, we first encapsulate our agent conversation in a `MultiTurnSample` object, which is designed to handle multi-turn agentic conversations within the RAGAS ecosystem. Next, we initialize an `AgentGoalAccuracyWithoutReference` object to implement our evaluation metric. Finally, we configure the judge LLM and execute the evaluation across our three agent conversations."
   ]
  },
  {
   "cell_type": "code",
   "execution_count": 15,
   "id": "b8a10ce3-e3bf-486d-bb6d-17e2a0638562",
   "metadata": {},
   "outputs": [],
   "source": [
    "from ragas.dataset_schema import  MultiTurnSample\n",
    "from ragas.messages import HumanMessage,AIMessage,ToolMessage,ToolCall\n",
    "from ragas.metrics import AgentGoalAccuracyWithoutReference\n",
    "\n",
    "\n",
    "sample_stephen = MultiTurnSample(user_input=rg_messages_stephen)\n",
    "\n",
    "sample_jane = MultiTurnSample(user_input=rg_messages_jane)\n",
    "\n",
    "sample_confused_homer = MultiTurnSample(user_input=rg_messages_confused_homer)\n",
    "\n",
    "\n",
    "scorer = AgentGoalAccuracyWithoutReference()\n",
    "scorer.llm = judge_llm"
   ]
  },
  {
   "cell_type": "code",
   "execution_count": 16,
   "id": "95db55ba-e93c-4c2d-8a0d-c365b6222983",
   "metadata": {},
   "outputs": [
    {
     "data": {
      "text/plain": [
       "0.0"
      ]
     },
     "execution_count": 16,
     "metadata": {},
     "output_type": "execute_result"
    }
   ],
   "source": [
    "await scorer.multi_turn_ascore(sample_stephen)"
   ]
  },
  {
   "cell_type": "code",
   "execution_count": 17,
   "id": "26e411bc-0934-4223-bbbf-7089163b0e3d",
   "metadata": {},
   "outputs": [
    {
     "data": {
      "text/plain": [
       "0.0"
      ]
     },
     "execution_count": 17,
     "metadata": {},
     "output_type": "execute_result"
    }
   ],
   "source": [
    "await scorer.multi_turn_ascore(sample_jane)"
   ]
  },
  {
   "cell_type": "code",
   "execution_count": 18,
   "id": "14481573-8554-42a0-8672-b525919b538c",
   "metadata": {},
   "outputs": [
    {
     "data": {
      "text/plain": [
       "0.0"
      ]
     },
     "execution_count": 18,
     "metadata": {},
     "output_type": "execute_result"
    }
   ],
   "source": [
    "await scorer.multi_turn_ascore(sample_confused_homer)"
   ]
  },
  {
   "cell_type": "markdown",
   "id": "e05a484c-f0ef-49a6-a43c-f0c387322867",
   "metadata": {},
   "source": [
    "#### Agent Goal Accuracy With Reference\n",
    "AgentGoalAccuracyWithReference requires two key inputs: the user_input and a reference outcome. This variant evaluates the LLM's performance by comparing its achieved outcome against an annotated reference that serves as the ideal outcome. The metric is calculated at the end of the workflow by assessing how closely the LLM's result matches the predefined reference outcome.\n",
    "\n",
    "To evaluate this metric, we will follow a similar approach. First, we encapsulate our agent conversation within a `MultiTurnSample` object, which is specifically designed to manage multi-turn agent conversations in the RAGAS framework. For this evaluation, we need to provide an annotated reference that will serve as a benchmark for the judge's assessment. We then initialize an `AgentGoalAccuracyWithReference` object to implement our evaluation metric. Finally, we set up the judge LLM and conduct the evaluation across all three agent conversations to measure their performance against our defined criteria."
   ]
  },
  {
   "cell_type": "code",
   "execution_count": 19,
   "id": "f09bf878-43d0-4aea-9e27-4ec16af602e2",
   "metadata": {},
   "outputs": [],
   "source": [
    "from ragas.dataset_schema import  MultiTurnSample\n",
    "from ragas.messages import HumanMessage,AIMessage,ToolMessage,ToolCall\n",
    "from ragas.metrics import AgentGoalAccuracyWithReference\n",
    "\n",
    "\n",
    "sample_stephen = MultiTurnSample(user_input=rg_messages_stephen,\n",
    "    reference=\"Provide detailed information about suggested holiday destination.\")\n",
    "\n",
    "sample_jane = MultiTurnSample(user_input=rg_messages_jane,\n",
    "    reference=\"Provide detailed information about suggested holiday destination.\")\n",
    "\n",
    "sample_confused_homer = MultiTurnSample(user_input=rg_messages_confused_homer,\n",
    "    reference=\"Provide detailed information about suggested holiday destination.\")\n",
    "\n",
    "scorer = AgentGoalAccuracyWithReference()\n",
    "scorer.llm = judge_llm"
   ]
  },
  {
   "cell_type": "code",
   "execution_count": 20,
   "id": "eebac6f9-3443-473a-af4c-3e33588258a5",
   "metadata": {},
   "outputs": [
    {
     "data": {
      "text/plain": [
       "1.0"
      ]
     },
     "execution_count": 20,
     "metadata": {},
     "output_type": "execute_result"
    }
   ],
   "source": [
    "await scorer.multi_turn_ascore(sample_stephen)"
   ]
  },
  {
   "cell_type": "code",
   "execution_count": null,
   "id": "1fde20da-8227-48d9-8dec-8de757a786bf",
   "metadata": {},
   "outputs": [],
   "source": [
    "await scorer.multi_turn_ascore(sample_jane)"
   ]
  },
  {
   "cell_type": "code",
   "execution_count": null,
   "id": "959b5168-0c27-4a35-9ba5-a267a6b79926",
   "metadata": {},
   "outputs": [],
   "source": [
    "await scorer.multi_turn_ascore(sample_confused_homer)"
   ]
  },
  {
   "cell_type": "markdown",
   "id": "bc2e40f9-cdeb-4a62-86c9-38367c284a1a",
   "metadata": {},
   "source": [
    "Let's analyze the results and their relationship to each persona's interaction patterns with the agent. We encourage you to discuss these findings with your workshop group to gain deeper insights. Keep in mind that agent conversations are dynamic and non-deterministic, meaning evaluation results may vary across different runs. \n",
    "\n",
    "However, certain patterns emerge:\n",
    "- Stephen's and Jane's conversations typically achieve a 1.0 rating due to their focused and goal-oriented approach\n",
    "- Homer's interactions, characterized by chaotic and divergent patterns without a consistent objective, are more likely to receive a 0.0 rating"
   ]
  },
  {
   "cell_type": "markdown",
   "id": "b9e37b94-2166-4f4c-9bca-bc68a16d1fa0",
   "metadata": {},
   "source": [
    "### Tool Call accuracy\n",
    "\n",
    "ToolCallAccuracy is a metric that can be used to evaluate the performance of the LLM in identifying and calling the required tools to complete a given task. This metric needs user_input and reference_tool_calls to evaluate the performance of the LLM in identifying and calling the required tools to complete a given task. The metric is computed by comparing the reference_tool_calls with the Tool calls made by the AI. Therefore, in this particular scenario, there is no need for an evaluator LLM. The values range between 0 and 1, with higher values indicating better performance.\n",
    "\n",
    "To evaluate the tool call accuracy metric, we follow a different process. First, we encapsulate our agent conversation within a `MultiTurnSample` object, which is specifically designed to handle multi-turn agent conversations in the RAGAS framework. This evaluation requires a set of annotated reference tool calls that serve as a benchmark for assessment. Next, we initialize a `ToolCallAccuracy` object to implement our evaluation metric. While the default behavior compares tool names and arguments using exact string matching, this may not always be optimal, particularly when dealing with natural language arguments. Therefore, we set the `arg_comparison_metric` to `NonLLMStringSimilarity`, which employs a semantic distance metric to determine the relevance of retrieved contexts more effectively."
   ]
  },
  {
   "cell_type": "code",
   "execution_count": null,
   "id": "f158250b-ca76-46e9-a60c-c621e1215f34",
   "metadata": {},
   "outputs": [],
   "source": [
    "from ragas.metrics import ToolCallAccuracy\n",
    "from ragas.dataset_schema import  MultiTurnSample\n",
    "from ragas.messages import HumanMessage,AIMessage,ToolMessage,ToolCall\n",
    "from ragas.metrics._string import NonLLMStringSimilarity\n",
    "\n",
    "\n",
    "\n",
    "sample_stephen = MultiTurnSample(\n",
    "    user_input=rg_messages_stephen,\n",
    "    reference_tool_calls=[\n",
    "        ToolCall(name=\"compare_and_recommend_destination\", args={\"name\": \"Stephen Walker\"}),\n",
    "        ToolCall(name=\"travel_guide\", args={\"query\": \"Key West\"}),\n",
    "    ]\n",
    ")\n",
    "\n",
    "sample_jane = MultiTurnSample(\n",
    "    user_input=rg_messages_jane,\n",
    "    reference_tool_calls=[\n",
    "        ToolCall(name=\"compare_and_recommend_destination\", args={\"name\": \"Jane Doe\"}),\n",
    "        ToolCall(name=\"travel_guide\", args={\"query\": \"Key West\"}),\n",
    "    ]\n",
    ")\n",
    "\n",
    "sample_homer = MultiTurnSample(\n",
    "    user_input=rg_messages_confused_homer,\n",
    "    reference_tool_calls=[\n",
    "        ToolCall(name=\"compare_and_recommend_destination\", args={\"name\": \"Jane Doe\"}),\n",
    "        ToolCall(name=\"travel_guide\", args={\"query\": \"Key West\"}),\n",
    "    ]\n",
    ")\n",
    "\n",
    "scorer = ToolCallAccuracy()\n",
    "scorer.arg_comparison_metric = NonLLMStringSimilarity()"
   ]
  },
  {
   "cell_type": "code",
   "execution_count": null,
   "id": "df1a688a-4d99-4b24-b487-5918c62414a4",
   "metadata": {},
   "outputs": [],
   "source": [
    "await scorer.multi_turn_ascore(sample_stephen)"
   ]
  },
  {
   "cell_type": "code",
   "execution_count": null,
   "id": "834ba036-9c7e-44ce-b9c0-9e11c793a562",
   "metadata": {},
   "outputs": [],
   "source": [
    "await scorer.multi_turn_ascore(sample_jane)"
   ]
  },
  {
   "cell_type": "code",
   "execution_count": null,
   "id": "612dc5d7-902e-41f7-92cf-6fa912f21b8e",
   "metadata": {},
   "outputs": [],
   "source": [
    "await scorer.multi_turn_ascore(sample_homer)"
   ]
  },
  {
   "cell_type": "markdown",
   "id": "28be7ce6-c419-4135-80c9-f3e974ca97c1",
   "metadata": {},
   "source": [
    "Let's analyze the results and their relationship to each persona's interaction patterns with the agent. We encourage you to discuss these findings with your workshop group to gain deeper insights. Keep in mind that agent conversations are dynamic and non-deterministic, meaning evaluation results may vary across different runs.\n",
    "\n",
    "However, certain patterns emerge:\n",
    "- Stephen's conversations typically achieve a very high rating due to his focused and goal-oriented approach and the fact that he can be found in the travel database - this helps matching all tool call arguments\n",
    "- Jane's conversations typically achieve a high but slightly lower rating. While her conversation is focused and goal-oriented, she is not in the travel database. This causes the first tool call suggestions to be less deterministic, reducing the likelihood of Florida-based recommendations\n",
    "- Homer's interactions achieve very low scores since they are characterized by chaotic and divergent patterns. This makes it highly unlikely to match the correct tool call sequence"
   ]
  },
  {
   "cell_type": "markdown",
   "id": "a6a38535-bd42-40be-9ab1-5a72e3536e6f",
   "metadata": {},
   "source": [
    "Congratulations! You have successfully completed this lab and the entire workshop. Thank you for your active participation in today's session. If you have any questions or need clarification on any topics covered, please don't hesitate to reach out to the instructors.\n",
    "\n",
    "**Your feedback is valuable to us! Before you leave, we kindly ask you to take a moment to scan the QR code and share your thoughts about the workshop. Your insights will help us enhance future sessions and provide an even better learning experience.**"
   ]
  }
 ],
 "metadata": {
  "kernelspec": {
   "display_name": "Python 3 (ipykernel)",
   "language": "python",
   "name": "python3"
  },
  "language_info": {
   "codemirror_mode": {
    "name": "ipython",
    "version": 3
   },
   "file_extension": ".py",
   "mimetype": "text/x-python",
   "name": "python",
   "nbconvert_exporter": "python",
   "pygments_lexer": "ipython3",
   "version": "3.10.14"
  }
 },
 "nbformat": 4,
 "nbformat_minor": 5
}
