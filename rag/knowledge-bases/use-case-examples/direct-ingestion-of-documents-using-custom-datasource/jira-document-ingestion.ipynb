{
 "cells": [
  {
   "cell_type": "markdown",
   "metadata": {},
   "source": [
    "# Direct ingestion of JIRA documents using a custom data source and the Document Level API (DLA)\n",
    "\n",
    "With Document Level API (DLA), customers can now efficiently and cost-effectively ingest, update, or delete data directly from Amazon Bedrock Knowledge Bases using a single API call, without the need to perform a full sync with the data source periodically or after every change.\n",
    "\n",
    "To read more about DLA, see the [documentation](https://docs.aws.amazon.com/bedrock/latest/userguide/kb-direct-ingestion-add.html)\n",
    "\n",
    "In this example, we pull JIRA issues via an API then store these issues as documents in our knowledge base using DLA."
   ]
  },
  {
   "cell_type": "markdown",
   "metadata": {},
   "source": [
    "# Pre-requisites\n",
    "- You will need to create a knowledge base with a custom data source.  You can do this via the AWS console or follow the instructions in this notebook.  [01_create_ingest_documents_test_kb_multi_ds.ipynb](/knowledge-bases/01-rag-concepts/01_create_ingest_documents_test_kb_multi_ds.ipynb).  Please note the knowledge base id and the data source id.\n",
    "- You will need a JIRA account with an API key and some sample data.  See below for details.\n",
    "\n"
   ]
  },
  {
   "cell_type": "markdown",
   "metadata": {},
   "source": [
    "# JIRA Setup\n",
    "\n",
    "Follow the next steps to create a free JIRA account and get an API Key\n",
    "\n",
    "1/ Go to www.atlassian.com and click sign-in\n",
    "\n",
    "\n",
    "![step 1](images/Jira-step-01.png)"
   ]
  },
  {
   "cell_type": "markdown",
   "metadata": {},
   "source": [
    "2/ Create an account\n",
    "\n",
    "![step 2](images/Jira-step-02.png)"
   ]
  },
  {
   "cell_type": "markdown",
   "metadata": {},
   "source": [
    "3/ Enter your email and click sign up\n",
    "\n",
    "![step](images/Jira-step-03.png)"
   ]
  },
  {
   "cell_type": "markdown",
   "metadata": {},
   "source": [
    "4/ Check your email then enter the verification code\n",
    "\n",
    "![step 4](images/Jira-step-04.png)"
   ]
  },
  {
   "cell_type": "markdown",
   "metadata": {},
   "source": [
    "5/ Create your username and password\n",
    "\n",
    "![step 5](images/Jira-step-05.png)"
   ]
  },
  {
   "cell_type": "markdown",
   "metadata": {},
   "source": [
    "6/ Select the JIRA trial\n",
    "\n",
    "![step 6](images/Jira-step-06.png)"
   ]
  },
  {
   "cell_type": "markdown",
   "metadata": {},
   "source": [
    "7/ Select the free trial\n",
    "\n",
    "![step 7](images/Jira-step-07.png)"
   ]
  },
  {
   "cell_type": "markdown",
   "metadata": {},
   "source": [
    "8/ Create a site.  Note the name of the site for later.\n",
    "\n",
    "![step 8](images/Jira-step-08.png)"
   ]
  },
  {
   "cell_type": "markdown",
   "metadata": {},
   "source": [
    "9/ Create a project\n",
    "\n",
    "![step 9](images/Jira-step-09.png)"
   ]
  },
  {
   "cell_type": "markdown",
   "metadata": {},
   "source": [
    "10/ Select the software development template and then choose Scrum\n",
    "\n",
    "![step 10](images/Jira-step-10.png)"
   ]
  },
  {
   "cell_type": "markdown",
   "metadata": {},
   "source": [
    "11/  Select Use Template \n",
    "\n",
    "![step 11](images/Jira-step-11.png)"
   ]
  },
  {
   "cell_type": "markdown",
   "metadata": {},
   "source": [
    "12/ Select Team Managed Project\n",
    "\n",
    "![step 12](images/Jira-step-12.png)"
   ]
  },
  {
   "cell_type": "markdown",
   "metadata": {},
   "source": [
    "13/ Give your project a name and create it.\n",
    "\n",
    "![step 13](images/Jira-step-13.png)"
   ]
  },
  {
   "cell_type": "markdown",
   "metadata": {},
   "source": [
    "14/ Create an issue for your project\n",
    "\n",
    "![step 14](images/Jira-step-14.png)"
   ]
  },
  {
   "cell_type": "markdown",
   "metadata": {},
   "source": [
    "15/ Fill in the details and click create.\n",
    "\n",
    "![step 15](images/Jira-step-15.png)"
   ]
  },
  {
   "cell_type": "markdown",
   "metadata": {},
   "source": [
    "16/ Switch to the list view to see the issue you just created.\n",
    "\n",
    "![step 16](images/Jira-step-16.png)"
   ]
  },
  {
   "cell_type": "markdown",
   "metadata": {},
   "source": [
    "17/ Now we need to create an api key.  Click on your user profile then select 'manage account'\n",
    "\n",
    "![step 17](images/Jira-step-17.png)"
   ]
  },
  {
   "cell_type": "markdown",
   "metadata": {},
   "source": [
    "18/ On the security tab select 'create and manage api tokens'\n",
    "\n",
    "![step 18](images/Jira-step-18.png)"
   ]
  },
  {
   "cell_type": "markdown",
   "metadata": {},
   "source": [
    "19/ Click Create\n",
    "\n",
    "![step 19](images/Jira-step-19.png)"
   ]
  },
  {
   "cell_type": "markdown",
   "metadata": {},
   "source": [
    "20/ Give your token a name and click create.\n",
    "\n",
    "![step 20](images/Jira-step-20.png)"
   ]
  },
  {
   "cell_type": "markdown",
   "metadata": {},
   "source": [
    "21/ Copy your API token, you will need this later.\n",
    "\n",
    "![step 21](images/Jira-step-21.png)"
   ]
  },
  {
   "cell_type": "markdown",
   "metadata": {},
   "source": []
  },
  {
   "cell_type": "markdown",
   "metadata": {},
   "source": [
    "<div class=\"alert alert-block alert-info\">\n",
    "<b>Note:</b> Please make sure to enable `Anthropic Claude 3 Sonnet` and,  `Titan Text Embeddings V2` model access in Amazon Bedrock Console.\n",
    "<br> -------------------------------------------------------------------------------------------------------------------------------------------------------   </br>\n",
    "    \n",
    "Please run the notebook cell by cell instead of using \"Run All Cells\" option.\n",
    "</div>"
   ]
  },
  {
   "cell_type": "markdown",
   "metadata": {},
   "source": [
    "# Install dependencies"
   ]
  },
  {
   "cell_type": "code",
   "execution_count": null,
   "metadata": {},
   "outputs": [],
   "source": [
    "%pip install --force-reinstall -q -r ../../features-examples/requirements.txt  --quiet\n",
    "%pip install --upgrade boto3\n",
    "%pip install jira\n",
    "%pip install dotenv"
   ]
  },
  {
   "cell_type": "markdown",
   "metadata": {},
   "source": [
    "# Set System Path\n",
    "We are using helper functions from the features-examples folder so we set the system path accordingly to allow for imports."
   ]
  },
  {
   "cell_type": "code",
   "execution_count": null,
   "metadata": {},
   "outputs": [],
   "source": [
    "import sys\n",
    "from pathlib import Path\n",
    "current_path = Path().resolve()\n",
    "# modify path so we can access the utilities functions in the features-examples folder\n",
    "current_path = current_path.parent.parent / 'features-examples'\n",
    "if str(current_path) not in sys.path:\n",
    "    sys.path.append(str(current_path))\n",
    "print(sys.path)\n"
   ]
  },
  {
   "cell_type": "markdown",
   "metadata": {},
   "source": [
    "# Setup the environment\n",
    "Open the file 'example_dot_env' and fill in the appropriate values.  Rename it to .env so the python interpreter will pick it up."
   ]
  },
  {
   "cell_type": "code",
   "execution_count": null,
   "metadata": {},
   "outputs": [],
   "source": [
    "from dotenv import load_dotenv\n",
    "import os\n",
    "\n",
    "load_dotenv()\n",
    "\n",
    "jira_server = os.environ.get(\"JIRA_SERVER\")\n",
    "email = os.environ.get(\"JIRA_EMAIL\")\n",
    "api_token = os.environ.get(\"JIRA_API_TOKEN\")\n",
    "kb_id = os.environ.get(\"KNOWLEDGE_BASE_ID\")\n",
    "ds_id = os.environ.get(\"DOCUMENT_STORE_ID\")\n"
   ]
  },
  {
   "cell_type": "markdown",
   "metadata": {},
   "source": [
    "# Setup the JIRA connection\n"
   ]
  },
  {
   "cell_type": "code",
   "execution_count": null,
   "metadata": {},
   "outputs": [],
   "source": [
    "from jira import JIRA\n",
    "\n",
    "print(jira_server)\n",
    "# Create JIRA connection\n",
    "jira = JIRA(\n",
    "    server=jira_server,\n",
    "    basic_auth=(email, api_token)\n",
    ")\n",
    "\n",
    "# retrieve the jira projects\n",
    "projects = jira.projects()\n",
    "\n"
   ]
  },
  {
   "cell_type": "markdown",
   "metadata": {},
   "source": [
    "# Generate documents for the knowledge base.\n",
    "We loop through each JIRA project and create a 'document' for each jira issue.  We store the project and the reporter as metadata for each document.  This allows for filtering when we use the Retrieve and Generate API."
   ]
  },
  {
   "cell_type": "code",
   "execution_count": null,
   "metadata": {},
   "outputs": [],
   "source": [
    "from utils.knowledge_base_operators import create_document_config, ingest_documents_dla\n",
    "import json\n",
    "\n",
    "def build_document_config(document_id, document_content, project_name, reporter_name):\n",
    "    \n",
    "    metadata_project = {'key': 'project', 'value': { 'stringValue': project_name, 'type': 'STRING'}}\n",
    "    metadata_reporter = {'key': 'reporter', 'value': { 'stringValue': reporter_name, 'type': 'STRING'}}\n",
    "    metadata_list =[metadata_project, metadata_reporter]\n",
    "\n",
    "\n",
    "    custom_inline_text_inline_metadata = create_document_config(\n",
    "            data_source_type='CUSTOM',\n",
    "            document_id=document_id,\n",
    "            inline_content={\n",
    "                'type': 'TEXT',\n",
    "                'data': json.dumps(document_content)\n",
    "            },\n",
    "            metadata= metadata_list\n",
    "    )\n",
    "\n",
    "    return custom_inline_text_inline_metadata\n",
    "\n",
    "documents = []\n",
    "\n",
    "for project in projects:\n",
    "    project_name = project.name\n",
    "    print(f\"Project: {project_name}\")\n",
    "    print(project)\n",
    "    issues = jira.search_issues(f\"project={project}\")\n",
    "    for issue in issues:\n",
    "        document_config = build_document_config(issue.key, issue.fields.description, project_name, issue.fields.reporter.displayName)\n",
    "        documents.append(document_config)\n",
    "\n",
    "print(f\"Total number of documents: {len(documents)}\")\n"
   ]
  },
  {
   "cell_type": "markdown",
   "metadata": {},
   "source": [
    "# Load documents directly to the knowledge base"
   ]
  },
  {
   "cell_type": "code",
   "execution_count": null,
   "metadata": {},
   "outputs": [],
   "source": [
    "# there is a limit of 10 documents per request, so we split the document into chunks.\n",
    "for i in range(0, len(documents), 10):\n",
    "    chunk = documents[i:i + 10]\n",
    "    response = ingest_documents_dla(\n",
    "            knowledge_base_id=kb_id,\n",
    "            data_source_id=ds_id,\n",
    "            documents=chunk \n",
    "        )\n",
    "    print(response)"
   ]
  },
  {
   "cell_type": "markdown",
   "metadata": {},
   "source": [
    "# Check the status of your documents\n",
    "You should see a list of your documents with a status of 'indexed'"
   ]
  },
  {
   "cell_type": "code",
   "execution_count": null,
   "metadata": {},
   "outputs": [],
   "source": [
    "import boto3\n",
    "import pprint\n",
    "\n",
    "bedrock_agent_client = boto3.client('bedrock-agent') \n",
    "# To fetch the status of documents\n",
    "response = bedrock_agent_client.list_knowledge_base_documents(\n",
    "    dataSourceId=ds_id,\n",
    "    knowledgeBaseId=kb_id,\n",
    ")\n",
    "pprint.pprint(response)"
   ]
  },
  {
   "cell_type": "markdown",
   "metadata": {},
   "source": [
    "# Query the knowledge base\n",
    "Here we query the knowledge base for issues involving security.  Notice the use of metadata to filter by project name.  "
   ]
  },
  {
   "cell_type": "code",
   "execution_count": null,
   "metadata": {},
   "outputs": [],
   "source": [
    "\n",
    "\n",
    "query = 'Do I have any security issues?'  # change this query to reflect the content of your jira issues.  \n",
    "region = 'us-east-1'\n",
    "foundation_model = \"anthropic.claude-3-sonnet-20240229-v1:0\"\n",
    "\n",
    "bedrock_agent_runtime_client = boto3.client('bedrock-agent-runtime') \n",
    "\n",
    "result = bedrock_agent_runtime_client.retrieve_and_generate(\n",
    "    input={\n",
    "        \"text\": query\n",
    "    },\n",
    "    retrieveAndGenerateConfiguration={\n",
    "        \"type\": \"KNOWLEDGE_BASE\",\n",
    "        \"knowledgeBaseConfiguration\": {\n",
    "            'knowledgeBaseId': kb_id,\n",
    "            \"modelArn\": \"arn:aws:bedrock:{}::foundation-model/{}\".format(region, foundation_model),\n",
    "            \"retrievalConfiguration\": {\n",
    "                \"vectorSearchConfiguration\": {\n",
    "                    \"numberOfResults\":5,\n",
    "                    \"filter\": {\n",
    "                        \"equals\": {\n",
    "                        \"key\": \"project\",\n",
    "                        \"value\": \"Acme Software\"\n",
    "                    }\n",
    "        }\n",
    "                } \n",
    "            }\n",
    "\n",
    "        }\n",
    "    }\n",
    ")\n",
    "if result:\n",
    "    print(result['output']['text'],end='\\n'*2)\n",
    "    print(\"------- METADATA -------\")\n",
    "    for citation in result['citations']:\n",
    "        for ref in citation['retrievedReferences']:\n",
    "            metadata = ref['metadata']\n",
    "            print(metadata['x-amz-bedrock-kb-source-uri'], metadata['reporter'])\n",
    "\n"
   ]
  },
  {
   "cell_type": "markdown",
   "metadata": {},
   "source": [
    "# Example Response\n",
    "\n",
    "Based on the search results, you have security issues related to unrestricted access allowed by some of your security groups in AWS. Specifically, the search results mention that several of your security groups are allowing unrestricted incoming traffic (0.0.0.0/0) on certain ports, which poses a security risk. To resolve these issues, you should review the inbound rules for the affected security groups and restrict access to only trusted IP addresses or security groups for the required ports. Remove any rules allowing unrestricted 0.0.0.0/0 access on ports that should be restricted. Additionally, it is recommended to implement additional security measures like IP tables and regularly audit your security group rules to ensure they align with your security requirements.\n"
   ]
  }
 ],
 "metadata": {
  "kernelspec": {
   "display_name": ".venv",
   "language": "python",
   "name": "python3"
  },
  "language_info": {
   "codemirror_mode": {
    "name": "ipython",
    "version": 3
   },
   "file_extension": ".py",
   "mimetype": "text/x-python",
   "name": "python",
   "nbconvert_exporter": "python",
   "pygments_lexer": "ipython3",
   "version": "3.10.9"
  }
 },
 "nbformat": 4,
 "nbformat_minor": 2
}
