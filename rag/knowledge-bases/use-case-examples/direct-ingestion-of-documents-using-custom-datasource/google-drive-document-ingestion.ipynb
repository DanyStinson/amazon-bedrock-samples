{
 "cells": [
  {
   "cell_type": "markdown",
   "metadata": {},
   "source": [
    "# Direct ingestion of Google Drive documents using a custom data source and the Document Level API (DLA)\n",
    "\n",
    "With Document Level API (DLA), customers can now efficiently and cost-effectively ingest, update, or delete data directly from Amazon Bedrock Knowledge Bases using a single API call, without the need to perform a full sync with the data source periodically or after every change.\n",
    "\n",
    "To read more about DLA, see the [documentation](https://docs.aws.amazon.com/bedrock/latest/userguide/kb-direct-ingestion-add.html)\n",
    "\n",
    "In this example, we pull documents from google drive and then ingest them in our knowledge base using DLA."
   ]
  },
  {
   "cell_type": "markdown",
   "metadata": {},
   "source": [
    "# Pre-requisites\n",
    "- You will need to create a knowledge base with a custom data source.  You can do this via the AWS console or follow the instructions in this notebook found in this repo at:   amazon-bedrock-samples/rag/knowledge-bases/features-examples/01-rag-concepts/01_create_ingest_documents_test_kb_multi_ds.ipynb\n",
    "- Please note the knowledge base id and the data source id.\n",
    "- You will need a Google Drive and some sample data.  You can create a free google account for this.  \n",
    "- You will need to setup API access for Google Drive.  Instructions on how to do this are in this [pdf](./Google-Drive-API-Access.pdf).  Note: It's possible that these instructions may change as they refer to a third party product."
   ]
  },
  {
   "cell_type": "markdown",
   "metadata": {},
   "source": [
    "# Acquire Sample Data\n",
    "\n",
    "We will use synthetic data for our document.  You can find a sample pdf in this repo under:\n",
    "\n",
    "amazon-bedrock-samples/rag/knowledge-bases/features-examples/synthetic_dataset/octank_financial_10K.pdf\n"
   ]
  },
  {
   "cell_type": "markdown",
   "metadata": {},
   "source": [
    "# Add the documents to Google Drive.\n",
    "\n",
    "You will need a google account.  Go to https://workspace.google.com/products/drive/ and sign in.  Drag the pdf from your desktop to the drive.  When done it should look something like this:"
   ]
  },
  {
   "cell_type": "markdown",
   "metadata": {},
   "source": [
    "![step 1](images/Google-drive-step-1.png)"
   ]
  },
  {
   "cell_type": "markdown",
   "metadata": {},
   "source": [
    "<div class=\"alert alert-block alert-info\">\n",
    "<b>Note:</b> Please make sure to enable `Anthropic Claude 3 Sonnet` and,  `Titan Text Embeddings V2` model access in Amazon Bedrock Console.\n",
    "<br> -------------------------------------------------------------------------------------------------------------------------------------------------------   </br>\n",
    "    \n",
    "Please run the notebook cell by cell instead of using \"Run All Cells\" option.\n",
    "</div>"
   ]
  },
  {
   "cell_type": "markdown",
   "metadata": {},
   "source": [
    "# Install dependencies"
   ]
  },
  {
   "cell_type": "code",
   "execution_count": null,
   "metadata": {},
   "outputs": [],
   "source": [
    "# install the google client libraries\n",
    "%pip install --upgrade google-api-python-client google-auth-httplib2 google-auth-oauthlib\n",
    "%pip install --force-reinstall -q -r ../../features-examples/requirements.txt  --quiet\n",
    "%pip install --upgrade boto3\n",
    "%pip install dotenv\n",
    "%pip install PyPDF2\n"
   ]
  },
  {
   "cell_type": "markdown",
   "metadata": {},
   "source": [
    "# Set System Path\n",
    "We are using helper functions from the features-examples folder so we set the system path accordingly to allow for imports."
   ]
  },
  {
   "cell_type": "code",
   "execution_count": null,
   "metadata": {},
   "outputs": [],
   "source": [
    "import sys\n",
    "from pathlib import Path\n",
    "current_path = Path().resolve()\n",
    "# modify path so we can access the utilities functions in the features-examples folder\n",
    "current_path = current_path.parent.parent / 'features-examples'\n",
    "if str(current_path) not in sys.path:\n",
    "    sys.path.append(str(current_path))\n",
    "print(sys.path)\n"
   ]
  },
  {
   "cell_type": "markdown",
   "metadata": {},
   "source": [
    "# Setup the environment\n",
    "\n",
    "<div class=\"alert alert-block alert-info\">\n",
    "If you want to use environment variables then open the file 'example_dot_env' and fill in the appropriate values for your `KNOWLEDGE_BASE_ID` and `DOCUMENT_STORE_ID`.  Rename it to .env so the python interpreter will pick it up.  Otherwise you can hardcode the values below.\n",
    "</div>"
   ]
  },
  {
   "cell_type": "code",
   "execution_count": null,
   "metadata": {},
   "outputs": [],
   "source": [
    "from dotenv import load_dotenv\n",
    "import os\n",
    "\n",
    "load_dotenv()\n",
    "\n",
    "kb_id = os.environ.get(\"KNOWLEDGE_BASE_ID\")\n",
    "ds_id = os.environ.get(\"DOCUMENT_STORE_ID\")\n",
    "\n",
    "# if you don't want to use environment variables, uncomment the following and you can hard code the values here\n",
    "# kb_id = \"your-kb-id\"\n",
    "# ds_id = \"your-ds-id\""
   ]
  },
  {
   "cell_type": "markdown",
   "metadata": {},
   "source": [
    "# Generate document configs for the knowledge base.\n",
    "We loop through the available files and create a 'document config' for each one.  In our example, we just have the one pdf file.  We store metadata for each document config.  This allows for filtering when we use the Retrieve API or the Retrieve and Generate API."
   ]
  },
  {
   "cell_type": "markdown",
   "metadata": {},
   "source": [
    "When you run the cell below, you'll be redirected to google to authenticate.  After authentication, it will read each ebook and store them to a list."
   ]
  },
  {
   "cell_type": "code",
   "execution_count": null,
   "metadata": {},
   "outputs": [],
   "source": [
    "from utilities import *\n",
    "documents = [] # for this demo we are only looking for .txt or pdf files\n",
    "\n",
    "files = list_gdrive_files()\n",
    "for file in files:\n",
    "    print(f\"{file['name']} ({file['id']})\")\n",
    "    content = None\n",
    "    if file['name'].endswith('.txt'):\n",
    "        content = read_text_file(file['id'])\n",
    "    elif file['name'].endswith('.pdf'):\n",
    "        pdf_bytes, content = get_pdf_from_drive(file['id'])\n",
    "    \n",
    "    if content is None:\n",
    "        print(f\"Skipping {file['name']} as it is not a supported file type.\")\n",
    "    else: \n",
    "        document_id = file['name']\n",
    "        doc = build_document_config(document_id, content, \"MyProject\")\n",
    "        documents.append(doc)\n",
    "\n",
    "print(f\"Total number of documents: {len(documents)}\")"
   ]
  },
  {
   "cell_type": "markdown",
   "metadata": {},
   "source": [
    "# Ingest documents directly to the knowledge base using DAL"
   ]
  },
  {
   "cell_type": "code",
   "execution_count": null,
   "metadata": {},
   "outputs": [],
   "source": [
    "# there is a limit of 10 documents per request, so we split the document into chunks.\n",
    "for i in range(0, len(documents), 10):\n",
    "    chunk = documents[i:i + 10]\n",
    "    response = ingest_documents_dla(\n",
    "            knowledge_base_id=kb_id,\n",
    "            data_source_id=ds_id,\n",
    "            documents=chunk \n",
    "        )\n",
    "    print(response)"
   ]
  },
  {
   "cell_type": "markdown",
   "metadata": {},
   "source": [
    "# Check the status of your documents\n",
    "You should see a list of your documents with a status of 'indexed'"
   ]
  },
  {
   "cell_type": "code",
   "execution_count": null,
   "metadata": {},
   "outputs": [],
   "source": [
    "import boto3\n",
    "import pprint\n",
    "\n",
    "bedrock_agent_client = boto3.client('bedrock-agent') \n",
    "# To fetch the status of documents\n",
    "response = bedrock_agent_client.list_knowledge_base_documents(\n",
    "    dataSourceId=ds_id,\n",
    "    knowledgeBaseId=kb_id,\n",
    ")\n",
    "pprint.pprint(response)"
   ]
  },
  {
   "cell_type": "markdown",
   "metadata": {},
   "source": [
    "# Query the knowledge base\n",
    "Here we query the knowledge base with a question about the pdf.  Notice the use of metadata to filter by document source."
   ]
  },
  {
   "cell_type": "code",
   "execution_count": null,
   "metadata": {},
   "outputs": [],
   "source": [
    "query = \"What is the schedule of assets?\"\n",
    "region = 'us-east-1'\n",
    "foundation_model = \"anthropic.claude-3-haiku-20240307-v1:0\"\n",
    "\n",
    "bedrock_agent_runtime_client = boto3.client('bedrock-agent-runtime') \n",
    "\n",
    "result = bedrock_agent_runtime_client.retrieve_and_generate(\n",
    "    input={\n",
    "        \"text\": query\n",
    "    },\n",
    "    retrieveAndGenerateConfiguration={\n",
    "        \"type\": \"KNOWLEDGE_BASE\",\n",
    "        \"knowledgeBaseConfiguration\": {\n",
    "            'knowledgeBaseId': kb_id,\n",
    "            \"modelArn\": \"arn:aws:bedrock:{}::foundation-model/{}\".format(region, foundation_model),\n",
    "            \"retrievalConfiguration\": {\n",
    "                \"vectorSearchConfiguration\": {\n",
    "                    \"numberOfResults\":5,\n",
    "                    \"filter\": {\n",
    "                        \"equals\": {\n",
    "                        \"key\": \"source\",\n",
    "                        \"value\": \"MyProject\"\n",
    "                    }\n",
    "                }\n",
    "                } \n",
    "            }\n",
    "\n",
    "        }\n",
    "    }\n",
    ")\n",
    "if result:\n",
    "    print(result['output']['text'],end='\\n'*2)\n",
    "    print(\"------- METADATA -------\")\n",
    "    for citation in result['citations']:\n",
    "        for ref in citation['retrievedReferences']:\n",
    "            metadata = ref['metadata']\n",
    "            print(metadata['x-amz-bedrock-kb-source-uri'], metadata['source'])\n",
    "\n"
   ]
  },
  {
   "cell_type": "markdown",
   "metadata": {},
   "source": [
    "# Example response"
   ]
  },
  {
   "cell_type": "markdown",
   "metadata": {},
   "source": [
    "The schedule of assets is a financial statement schedule that provides a detailed breakdown of the company's assets. It includes information such as a list of the company's major customers, the carrying amounts and fair values of the company's financial assets, and the gross and net amounts of the company's impaired assets.\n",
    "\n",
    "------- METADATA -------\n",
    "octank_financial_10K.pdf \n"
   ]
  }
 ],
 "metadata": {
  "kernelspec": {
   "display_name": ".venv",
   "language": "python",
   "name": "python3"
  },
  "language_info": {
   "codemirror_mode": {
    "name": "ipython",
    "version": 3
   },
   "file_extension": ".py",
   "mimetype": "text/x-python",
   "name": "python",
   "nbconvert_exporter": "python",
   "pygments_lexer": "ipython3",
   "version": "3.10.9"
  }
 },
 "nbformat": 4,
 "nbformat_minor": 2
}
