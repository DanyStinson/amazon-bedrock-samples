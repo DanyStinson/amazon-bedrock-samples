{
 "cells": [
  {
   "cell_type": "markdown",
   "metadata": {},
   "source": [
    "# Direct ingestion of JIRA documents using a custom data source and the Document Level API (DLA)\n",
    "\n",
    "With Document Level API (DLA), customers can now efficiently and cost-effectively ingest, update, or delete data directly from Amazon Bedrock Knowledge Bases using a single API call, without the need to perform a full sync with the data source periodically or after every change.\n",
    "\n",
    "To read more about DLA, see the [documentation](https://docs.aws.amazon.com/bedrock/latest/userguide/kb-direct-ingestion-add.html)\n",
    "\n",
    "In this example, we pull documents from google drive and then store these issues as documents in our knowledge base using DLA."
   ]
  },
  {
   "cell_type": "markdown",
   "metadata": {},
   "source": [
    "# Pre-requisites\n",
    "- You will need to create a knowledge base with a custom data source.  You can do this via the AWS console or follow the instructions in this notebook.  [01_create_ingest_documents_test_kb_multi_ds.ipynb](/knowledge-bases/01-rag-concepts/01_create_ingest_documents_test_kb_multi_ds.ipynb).  Please note the knowledge base id and the data source id.\n",
    "- You will need a Google Drive and some sample data.  You will need to setup API access for Google Drive.  See below for details.\n",
    "\n"
   ]
  },
  {
   "cell_type": "markdown",
   "metadata": {},
   "source": [
    "# Google Drive API Access Setup\n",
    "\n",
    "https://console.cloud.google.com/flows/enableapi?apiid=drive.googleapis.com"
   ]
  },
  {
   "cell_type": "markdown",
   "metadata": {},
   "source": [
    "1/ Create a project \n",
    "\n",
    "![step 1](images/google-step-01.png)"
   ]
  },
  {
   "cell_type": "markdown",
   "metadata": {},
   "source": [
    "2/ Enter a project name and click create\n",
    "\n",
    "\n",
    "![step 2](images/google-step-02.png)"
   ]
  },
  {
   "cell_type": "markdown",
   "metadata": {},
   "source": [
    "3/ Confirm your project by clicking next"
   ]
  },
  {
   "cell_type": "markdown",
   "metadata": {},
   "source": [
    "![step 3](images/google-step-03.png)"
   ]
  },
  {
   "cell_type": "markdown",
   "metadata": {},
   "source": [
    "4/ Enable access to the API.  Click Enable"
   ]
  },
  {
   "cell_type": "markdown",
   "metadata": {},
   "source": [
    "![step 4](images/google-step-04.png)"
   ]
  },
  {
   "cell_type": "markdown",
   "metadata": {},
   "source": [
    "# configure OAUTH\n",
    "https://console.cloud.google.com/auth/branding\n",
    "\n",
    "5/ Go to the branding page and click \"Get Started\""
   ]
  },
  {
   "cell_type": "markdown",
   "metadata": {},
   "source": [
    "![step 5](images/google-step-05.png)"
   ]
  },
  {
   "cell_type": "markdown",
   "metadata": {},
   "source": [
    "6/ Enter an App Name and Email, then click next."
   ]
  },
  {
   "cell_type": "markdown",
   "metadata": {},
   "source": [
    "![step 6](images/google-step-06.png)"
   ]
  },
  {
   "cell_type": "markdown",
   "metadata": {},
   "source": [
    "7/ Choose External for audience, then click next."
   ]
  },
  {
   "cell_type": "markdown",
   "metadata": {},
   "source": [
    "![step 7](images/google-step-07.png)"
   ]
  },
  {
   "cell_type": "markdown",
   "metadata": {},
   "source": [
    "8/ Enter your email, then click next."
   ]
  },
  {
   "cell_type": "markdown",
   "metadata": {},
   "source": [
    "![step 8](images/google-step-08.png)"
   ]
  },
  {
   "cell_type": "markdown",
   "metadata": {},
   "source": [
    "9/ Accept the terms then click create."
   ]
  },
  {
   "cell_type": "markdown",
   "metadata": {},
   "source": [
    "![step 9](images/google-step-09.png)"
   ]
  },
  {
   "cell_type": "markdown",
   "metadata": {},
   "source": [
    "10/ Select \"Data Access\" then \"Add or Remove Scopes\""
   ]
  },
  {
   "cell_type": "markdown",
   "metadata": {},
   "source": [
    "![step 10](images/google-step-10.png)"
   ]
  },
  {
   "cell_type": "markdown",
   "metadata": {},
   "source": [
    "11/ Choose the scope as shown below, then click update."
   ]
  },
  {
   "cell_type": "markdown",
   "metadata": {},
   "source": [
    "![step 11](images/google-step-11.png)"
   ]
  },
  {
   "cell_type": "markdown",
   "metadata": {},
   "source": [
    "12/ Click Save"
   ]
  },
  {
   "cell_type": "markdown",
   "metadata": {},
   "source": [
    "![step 12](images/google-step-12.png)"
   ]
  },
  {
   "cell_type": "markdown",
   "metadata": {},
   "source": [
    "13/ Under Clients, create a desktop App."
   ]
  },
  {
   "cell_type": "markdown",
   "metadata": {},
   "source": [
    "![step 14](images/google-step-14.png)"
   ]
  },
  {
   "cell_type": "markdown",
   "metadata": {},
   "source": [
    "14/ Click the arrow to download your credentials.  Save them to the working directory as \"credentials.json\""
   ]
  },
  {
   "cell_type": "markdown",
   "metadata": {},
   "source": [
    "![step 15](images/google-step-15.png)"
   ]
  },
  {
   "cell_type": "markdown",
   "metadata": {},
   "source": [
    "15/ Under Audience, add yourself as a test user."
   ]
  },
  {
   "cell_type": "markdown",
   "metadata": {},
   "source": [
    "![step 16](images/google-step-16.png)"
   ]
  },
  {
   "cell_type": "markdown",
   "metadata": {},
   "source": []
  },
  {
   "cell_type": "code",
   "execution_count": null,
   "metadata": {},
   "outputs": [],
   "source": [
    "# install the google client libraries\n",
    "!pip install --upgrade google-api-python-client google-auth-httplib2 google-auth-oauthlib\n"
   ]
  },
  {
   "cell_type": "markdown",
   "metadata": {},
   "source": [
    "<div class=\"alert alert-block alert-info\">\n",
    "<b>Note:</b> Please make sure to enable `Anthropic Claude 3 Sonnet` and,  `Titan Text Embeddings V2` model access in Amazon Bedrock Console.\n",
    "<br> -------------------------------------------------------------------------------------------------------------------------------------------------------   </br>\n",
    "    \n",
    "Please run the notebook cell by cell instead of using \"Run All Cells\" option.\n",
    "</div>"
   ]
  },
  {
   "cell_type": "markdown",
   "metadata": {},
   "source": [
    "# Install dependencies"
   ]
  },
  {
   "cell_type": "code",
   "execution_count": null,
   "metadata": {},
   "outputs": [],
   "source": [
    "%pip install --force-reinstall -q -r ../../features-examples/requirements.txt  --quiet\n",
    "%pip install --upgrade boto3\n",
    "%pip install dotenv"
   ]
  },
  {
   "cell_type": "markdown",
   "metadata": {},
   "source": [
    "# Set System Path\n",
    "We are using helper functions from the features-examples folder so we set the system path accordingly to allow for imports."
   ]
  },
  {
   "cell_type": "code",
   "execution_count": null,
   "metadata": {},
   "outputs": [],
   "source": [
    "import sys\n",
    "from pathlib import Path\n",
    "current_path = Path().resolve()\n",
    "# modify path so we can access the utilities functions in the features-examples folder\n",
    "current_path = current_path.parent.parent / 'features-examples'\n",
    "if str(current_path) not in sys.path:\n",
    "    sys.path.append(str(current_path))\n",
    "print(sys.path)\n"
   ]
  },
  {
   "cell_type": "markdown",
   "metadata": {},
   "source": [
    "# Setup the environment\n",
    "Open the file 'example_dot_env' and fill in the appropriate values.  Rename it to .env so the python interpreter will pick it up."
   ]
  },
  {
   "cell_type": "code",
   "execution_count": null,
   "metadata": {},
   "outputs": [],
   "source": [
    "from dotenv import load_dotenv\n",
    "import os\n",
    "\n",
    "load_dotenv()\n",
    "\n",
    "kb_id = os.environ.get(\"KNOWLEDGE_BASE_ID\")\n",
    "ds_id = os.environ.get(\"DOCUMENT_STORE_ID\")\n"
   ]
  },
  {
   "cell_type": "code",
   "execution_count": null,
   "metadata": {},
   "outputs": [],
   "source": [
    "import os.path\n",
    "import io\n",
    "from google.auth.transport.requests import Request\n",
    "from google.oauth2.credentials import Credentials\n",
    "from google_auth_oauthlib.flow import InstalledAppFlow\n",
    "from googleapiclient.discovery import build\n",
    "from googleapiclient.errors import HttpError\n",
    "from googleapiclient.http import MediaIoBaseDownload\n",
    "\n",
    "# If modifying these scopes, delete the file token.json.\n",
    "SCOPES = [\"https://www.googleapis.com/auth/drive.readonly\"]\n",
    "\n",
    "\n",
    "def read_text_file(file_id):\n",
    "    \"\"\"Reads a text file from Google Drive and prints its contents\n",
    "    Args:\n",
    "        file_id: ID of the file to read\n",
    "    \"\"\"\n",
    "    creds = None\n",
    "    if os.path.exists(\"token.json\"):\n",
    "        creds = Credentials.from_authorized_user_file(\"token.json\", SCOPES)\n",
    "    if not creds or not creds.valid:\n",
    "        if creds and creds.expired and creds.refresh_token:\n",
    "            creds.refresh(Request())\n",
    "        else:\n",
    "            flow = InstalledAppFlow.from_client_secrets_file(\n",
    "                \"credentials.json\", SCOPES\n",
    "            )\n",
    "            creds = flow.run_local_server(port=0)\n",
    "        with open(\"token.json\", \"w\") as token:\n",
    "            token.write(creds.to_json())\n",
    "\n",
    "    try:\n",
    "        service = build(\"drive\", \"v3\", credentials=creds)\n",
    "        \n",
    "        # Create a bytes IO object to store the file content\n",
    "        request = service.files().get_media(fileId=file_id)\n",
    "        file = io.BytesIO()\n",
    "        downloader = MediaIoBaseDownload(file, request)\n",
    "        \n",
    "        # Download the file\n",
    "        done = False\n",
    "        while done is False:\n",
    "            status, done = downloader.next_chunk()\n",
    "\n",
    "        # Read the content\n",
    "        file.seek(0)\n",
    "        content = file.read().decode('utf-8')\n",
    "        \n",
    "        return content\n",
    "\n",
    "    except HttpError as error:\n",
    "        print(f\"An error occurred: {error}\")\n",
    "\n",
    "\n",
    "def list_files():\n",
    "  \"\"\"Shows basic usage of the Drive v3 API.\n",
    "  Prints the names and ids of the first 10 files the user has access to.\n",
    "  \"\"\"\n",
    "  creds = None\n",
    "  # The file token.json stores the user's access and refresh tokens, and is\n",
    "  # created automatically when the authorization flow completes for the first\n",
    "  # time.\n",
    "  if os.path.exists(\"token.json\"):\n",
    "    creds = Credentials.from_authorized_user_file(\"token.json\", SCOPES)\n",
    "  # If there are no (valid) credentials available, let the user log in.\n",
    "  if not creds or not creds.valid:\n",
    "    if creds and creds.expired and creds.refresh_token:\n",
    "      creds.refresh(Request())\n",
    "    else:\n",
    "      flow = InstalledAppFlow.from_client_secrets_file(\n",
    "          \"credentials.json\", SCOPES\n",
    "      )\n",
    "      creds = flow.run_local_server(port=0)\n",
    "    # Save the credentials for the next run\n",
    "    with open(\"token.json\", \"w\") as token:\n",
    "      token.write(creds.to_json())\n",
    "\n",
    "  try:\n",
    "    service = build(\"drive\", \"v3\", credentials=creds)\n",
    "\n",
    "    # Call the Drive v3 API\n",
    "    results = (\n",
    "        service.files()\n",
    "        .list(pageSize=10, fields=\"nextPageToken, files(id, name)\")\n",
    "        .execute()\n",
    "    )\n",
    "    items = results.get(\"files\", [])\n",
    "\n",
    "    if not items:\n",
    "      print(\"No files found.\")\n",
    "      return\n",
    "    return items\n",
    "  except HttpError as error:\n",
    "    # TODO(developer) - Handle errors from drive API.\n",
    "    print(f\"An error occurred: {error}\")\n",
    "\n"
   ]
  },
  {
   "cell_type": "code",
   "execution_count": null,
   "metadata": {},
   "outputs": [],
   "source": []
  },
  {
   "cell_type": "markdown",
   "metadata": {},
   "source": [
    "# Generate documents for the knowledge base.\n",
    "We loop through each JIRA project and create a 'document' for each jira issue.  We store the project and the reporter as metadata for each document.  This allows for filtering when we use the Retrieve and Generate API."
   ]
  },
  {
   "cell_type": "code",
   "execution_count": null,
   "metadata": {},
   "outputs": [],
   "source": [
    "from utils.knowledge_base_operators import create_document_config, ingest_documents_dla\n",
    "import json\n",
    "\n",
    "def build_document_config(document_id, document_content, source_name):\n",
    "    \n",
    "    metadata_source = {'key': 'source', 'value': { 'stringValue': source_name, 'type': 'STRING'}}\n",
    "    metadata_list =[metadata_source]\n",
    "\n",
    "\n",
    "    custom_inline_text_inline_metadata = create_document_config(\n",
    "            data_source_type='CUSTOM',\n",
    "            document_id=document_id,\n",
    "            inline_content={\n",
    "                'type': 'TEXT',\n",
    "                'data': json.dumps(document_content)\n",
    "            },\n",
    "            metadata= metadata_list\n",
    "    )\n",
    "\n",
    "    return custom_inline_text_inline_metadata\n",
    "\n"
   ]
  },
  {
   "cell_type": "markdown",
   "metadata": {},
   "source": [
    "When you run the cell below, you'll be redirected to google to authenticate."
   ]
  },
  {
   "cell_type": "code",
   "execution_count": null,
   "metadata": {},
   "outputs": [],
   "source": [
    "\n",
    "documents = []\n",
    "\n",
    "files = list_files()\n",
    "for file in files:\n",
    "    print(f\"{file['name']} ({file['id']})\")\n",
    "    content = read_text_file(file['id'])\n",
    "    document_id = file['name']\n",
    "    doc = build_document_config(document_id, content, \"Project Gutenburg\")\n",
    "    documents.append(doc)\n",
    "\n",
    "print(f\"Total number of documents: {len(documents)}\")"
   ]
  },
  {
   "cell_type": "markdown",
   "metadata": {},
   "source": [
    "# Load documents directly to the knowledge base"
   ]
  },
  {
   "cell_type": "code",
   "execution_count": null,
   "metadata": {},
   "outputs": [],
   "source": [
    "# there is a limit of 10 documents per request, so we split the document into chunks.\n",
    "for i in range(0, len(documents), 10):\n",
    "    chunk = documents[i:i + 10]\n",
    "    response = ingest_documents_dla(\n",
    "            knowledge_base_id=kb_id,\n",
    "            data_source_id=ds_id,\n",
    "            documents=chunk \n",
    "        )\n",
    "    print(response)"
   ]
  },
  {
   "cell_type": "markdown",
   "metadata": {},
   "source": [
    "# Check the status of your documents\n",
    "You should see a list of your documents with a status of 'indexed'"
   ]
  },
  {
   "cell_type": "code",
   "execution_count": null,
   "metadata": {},
   "outputs": [],
   "source": [
    "import boto3\n",
    "import pprint\n",
    "\n",
    "bedrock_agent_client = boto3.client('bedrock-agent') \n",
    "# To fetch the status of documents\n",
    "response = bedrock_agent_client.list_knowledge_base_documents(\n",
    "    dataSourceId=ds_id,\n",
    "    knowledgeBaseId=kb_id,\n",
    ")\n",
    "pprint.pprint(response)"
   ]
  },
  {
   "cell_type": "markdown",
   "metadata": {},
   "source": [
    "# Query the knowledge base\n",
    "Here we query the knowledge base for issues involving security.  Notice the use of metadata to filter by project name."
   ]
  },
  {
   "cell_type": "code",
   "execution_count": null,
   "metadata": {},
   "outputs": [],
   "source": [
    "\n",
    "\n",
    "query = 'Who is the mad hatter?'\n",
    "region = 'us-east-1'\n",
    "foundation_model = \"anthropic.claude-3-haiku-20240307-v1:0\"\n",
    "\n",
    "bedrock_agent_runtime_client = boto3.client('bedrock-agent-runtime') \n",
    "\n",
    "result = bedrock_agent_runtime_client.retrieve_and_generate(\n",
    "    input={\n",
    "        \"text\": query\n",
    "    },\n",
    "    retrieveAndGenerateConfiguration={\n",
    "        \"type\": \"KNOWLEDGE_BASE\",\n",
    "        \"knowledgeBaseConfiguration\": {\n",
    "            'knowledgeBaseId': kb_id,\n",
    "            \"modelArn\": \"arn:aws:bedrock:{}::foundation-model/{}\".format(region, foundation_model),\n",
    "            \"retrievalConfiguration\": {\n",
    "                \"vectorSearchConfiguration\": {\n",
    "                    \"numberOfResults\":5,\n",
    "                    \"filter\": {\n",
    "                        \"equals\": {\n",
    "                        \"key\": \"source\",\n",
    "                        \"value\": \"Project Gutenburg\"\n",
    "                    }\n",
    "                }\n",
    "                } \n",
    "            }\n",
    "\n",
    "        }\n",
    "    }\n",
    ")\n",
    "if result:\n",
    "    print(result['output']['text'],end='\\n'*2)\n",
    "    print(\"------- METADATA -------\")\n",
    "    for citation in result['citations']:\n",
    "        for ref in citation['retrievedReferences']:\n",
    "            metadata = ref['metadata']\n",
    "            print(metadata['x-amz-bedrock-kb-source-uri'], metadata['source'])\n",
    "\n"
   ]
  },
  {
   "cell_type": "markdown",
   "metadata": {},
   "source": [
    "# Example response"
   ]
  },
  {
   "cell_type": "markdown",
   "metadata": {},
   "source": [
    "The mad hatter is a character that appears in the search results. He is described as a hatter who is having tea with the March Hare and Dormouse. \n",
    "The search results indicate that the hatter is considered \"mad\" or insane.\n",
    "\n",
    "\n",
    "------- METADATA -------\n",
    "AliceInWonderland.txt Project Gutenburg\n"
   ]
  }
 ],
 "metadata": {
  "kernelspec": {
   "display_name": ".venv",
   "language": "python",
   "name": "python3"
  },
  "language_info": {
   "codemirror_mode": {
    "name": "ipython",
    "version": 3
   },
   "file_extension": ".py",
   "mimetype": "text/x-python",
   "name": "python",
   "nbconvert_exporter": "python",
   "pygments_lexer": "ipython3",
   "version": "3.10.9"
  }
 },
 "nbformat": 4,
 "nbformat_minor": 2
}
