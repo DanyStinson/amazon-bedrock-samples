{
 "cells": [
  {
   "cell_type": "markdown",
   "metadata": {},
   "source": [
    "# Structured RAG using Amazon Bedrock Knowledge Bases - End to end example using Amazon Redshift DB\n",
    "\n",
    "Structure RAG allows Amazon Bedrock Knowledge Bases customers to query structured data in Redshift using natural language, and receive natural language responses summarizing the data thereby providing an answer to the user question.\n",
    "\n",
    "Using advanced natural language processing, Bedrock Knowledge Bases can transform natural language queries into SQL queries, allowing users to retrieve data directly from the source without the need to move or preprocess the data. o generate accurate SQL queries, Bedrock Knowledge Base leverages database schema, previous query history, and other contextual information that are provided about the data sources.\n",
    "\n",
    "\n",
    "This notebook provides sample code for building a Structured RAG using Amazon Bedrock Knowledgebases using Redshift.\n",
    "\n",
    "\n",
    "#### Steps: \n",
    "- Create Knowledge Base execution role with necessary policies for accessing data from Amazon Redshift.\n",
    "- Create a knowledge base with Structured database (Redshift database)\n",
    "- Create data source(s) within knowledge base\n",
    "- Start ingestion jobs using KB APIs which will read metadata about structred database and ingest into QDBC.\n",
    "\n",
    "Once the metadata is extracted and ingested, then user can interact with Structured databases via Amazon Bedrock Knowledge Base APIs using Natural language query.\n",
    "\n",
    "\n"
   ]
  },
  {
   "cell_type": "markdown",
   "metadata": {},
   "source": [
    "<div class=\"alert alert-block alert-warning\">\n",
    "<b>NOTE:</b> There're multiple access pattern for Redshift provisioned cluster: \n",
    "<br><br>\n",
    "1.   DB user + Redshift Cluster\n",
    "<br>\n",
    "2.   IAM Role + Redshift Cluster\n",
    "<br>\n",
    "3.   Secrets Manager + Redshift Cluster \n",
    "<br>\n",
    "4.   Secrets Manager + Redshift Serverless WorkGroup\n",
    "<br> \n",
    "5.   IAM Role + Redshift Serverless WorkGroup \n",
    "<br>\n",
    "\n",
    "In this notebook, we'll focus on,  `Secrets Manager + Redshift Serverless WorkGroup` access pattern.\n",
    "</div>"
   ]
  },
  {
   "cell_type": "markdown",
   "metadata": {},
   "source": [
    "#### Pre-requisites\n",
    "This notebook requires :\n",
    "- A Redshift cluster or workgroup already setup with your structured data ingested into the cluster\n",
    "- You've set-up the secrets manager for Workgroup & Secrets access pattern\n"
   ]
  },
  {
   "cell_type": "markdown",
   "metadata": {},
   "source": [
    "### 0 - Setup\n",
    "Before running the rest of this notebook, you'll need to run the cells below to (ensure necessary libraries are installed and) connect to Bedrock.\n",
    "\n",
    "Please ignore any pip dependency error (if you see any while installing libraries)"
   ]
  },
  {
   "cell_type": "code",
   "execution_count": null,
   "metadata": {},
   "outputs": [],
   "source": [
    "# %pip install --force-reinstall -q -r ../../requirements.txt --quiet\n",
    "\n",
    "# %pip install boto3 opensearch-py botocore awscli retrying ragas=0.1.9 ipywidgets  iprogressretrying langchain langchain_aws langchain_community --quiet "
   ]
  },
  {
   "cell_type": "code",
   "execution_count": 1,
   "metadata": {},
   "outputs": [
    {
     "name": "stdout",
     "output_type": "stream",
     "text": [
      "1.35.81\n"
     ]
    }
   ],
   "source": [
    "# %pip install --upgrade boto3\n",
    "import boto3\n",
    "print(boto3.__version__)"
   ]
  },
  {
   "cell_type": "code",
   "execution_count": 2,
   "metadata": {},
   "outputs": [
    {
     "data": {
      "text/html": [
       "<script>Jupyter.notebook.kernel.restart()</script>"
      ],
      "text/plain": [
       "<IPython.core.display.HTML object>"
      ]
     },
     "execution_count": 2,
     "metadata": {},
     "output_type": "execute_result"
    }
   ],
   "source": [
    "# restart kernel\n",
    "from IPython.core.display import HTML\n",
    "HTML(\"<script>Jupyter.notebook.kernel.restart()</script>\")"
   ]
  },
  {
   "cell_type": "code",
   "execution_count": 3,
   "metadata": {},
   "outputs": [],
   "source": [
    "%load_ext autoreload\n",
    "%autoreload 2"
   ]
  },
  {
   "cell_type": "code",
   "execution_count": 4,
   "metadata": {},
   "outputs": [],
   "source": [
    "import warnings\n",
    "warnings.filterwarnings('ignore')"
   ]
  },
  {
   "cell_type": "code",
   "execution_count": 5,
   "metadata": {},
   "outputs": [],
   "source": [
    "import os\n",
    "import sys\n",
    "import time\n",
    "import boto3\n",
    "import logging\n",
    "import pprint\n",
    "import json\n",
    "\n",
    "# SCRIPT_DIR = os.path.dirname(os.path.abspath(\"./\"))\n",
    "# sys.path.append(os.path.dirname(SCRIPT_DIR))\n",
    "\n",
    "from structured_knowledge_base import BedrockStructuredKnowledgeBase"
   ]
  },
  {
   "cell_type": "code",
   "execution_count": 6,
   "metadata": {},
   "outputs": [
    {
     "data": {
      "text/plain": [
       "('us-east-1', '017444429555')"
      ]
     },
     "execution_count": 6,
     "metadata": {},
     "output_type": "execute_result"
    }
   ],
   "source": [
    "#Clients\n",
    "s3_client = boto3.client('s3')\n",
    "sts_client = boto3.client('sts')\n",
    "session = boto3.session.Session()\n",
    "region =  session.region_name\n",
    "account_id = sts_client.get_caller_identity()[\"Account\"]\n",
    "bedrock_agent_client = boto3.client('bedrock-agent')\n",
    "bedrock_agent_runtime_client = boto3.client('bedrock-agent-runtime') \n",
    "logging.basicConfig(format='[%(asctime)s] p%(process)s {%(filename)s:%(lineno)d} %(levelname)s - %(message)s', level=logging.INFO)\n",
    "logger = logging.getLogger(__name__)\n",
    "region, account_id"
   ]
  },
  {
   "cell_type": "code",
   "execution_count": 7,
   "metadata": {},
   "outputs": [],
   "source": [
    "import time\n",
    "\n",
    "# Get the current timestamp\n",
    "current_time = time.time()\n",
    "\n",
    "# Format the timestamp as a string\n",
    "timestamp_str = time.strftime(\"%Y%m%d%H%M%S\", time.localtime(current_time))[-7:]\n",
    "# Create the suffix using the timestamp\n",
    "suffix = f\"{timestamp_str}\"\n",
    "\n",
    "knowledge_base_name = f\"bedrock-sample-structured-kb-{suffix}\"\n",
    "knowledge_base_description = \"Sample Structured KB\"\n",
    "\n",
    "\n",
    "foundation_model = \"anthropic.claude-3-sonnet-20240229-v1:0\""
   ]
  },
  {
   "cell_type": "code",
   "execution_count": 8,
   "metadata": {},
   "outputs": [],
   "source": [
    "# Change below variables as needed\n",
    "\n",
    "workgroup_id = 'ad3a0804-6ecf-4636-a798-a00c7f1293a7'\n",
    "\n",
    "redshiftDBName = \"sample_data_dev\"\n",
    "workgroupArn =  f\"arn:aws:redshift-serverless:{region}:{account_id}:workgroup/{workgroup_id}\"\n",
    "SecretArn = \"arn:aws:secretsmanager:us-east-1:017444429555:secret:redshift-riv-test-user-h86sJH\""
   ]
  },
  {
   "cell_type": "markdown",
   "metadata": {},
   "source": [
    "Redshift acces pattern choice"
   ]
  },
  {
   "cell_type": "code",
   "execution_count": 9,
   "metadata": {},
   "outputs": [
    {
     "name": "stdout",
     "output_type": "stream",
     "text": [
      "Choose your Redshift access pattern:\n",
      "1. Secrets Manager + Redshift Serverless WorkGroup\n"
     ]
    },
    {
     "data": {
      "application/vnd.jupyter.widget-view+json": {
       "model_id": "64966edaa1944c83aa05b04ecc233cd2",
       "version_major": 2,
       "version_minor": 0
      },
      "text/plain": [
       "Text(value='', placeholder='Enter your choice (1 Only)')"
      ]
     },
     "metadata": {},
     "output_type": "display_data"
    }
   ],
   "source": [
    "import ipywidgets as widgets\n",
    "from IPython.display import display\n",
    "\n",
    "# Display the choices to the user\n",
    "print(\"Choose your Redshift access pattern:\")\n",
    "print(\"1. Secrets Manager + Redshift Serverless WorkGroup\")\n",
    "\n",
    "# Create a text input widget\n",
    "choice_widget = widgets.Text(placeholder=\"Enter your choice (1 Only)\")\n",
    "\n",
    "# Display the widget\n",
    "display(choice_widget)\n"
   ]
  },
  {
   "cell_type": "markdown",
   "metadata": {},
   "source": [
    "### 1 - Create Knowledge Base"
   ]
  },
  {
   "cell_type": "code",
   "execution_count": 10,
   "metadata": {},
   "outputs": [
    {
     "name": "stderr",
     "output_type": "stream",
     "text": [
      "[2024-12-15 19:54:23,495] p59267 {credentials.py:1278} INFO - Found credentials in shared credentials file: ~/.aws/credentials\n"
     ]
    },
    {
     "name": "stdout",
     "output_type": "stream",
     "text": [
      "Access pattern:1 SECRET+WG\n"
     ]
    },
    {
     "name": "stderr",
     "output_type": "stream",
     "text": [
      "[2024-12-15 19:54:24,387] p59267 {credentials.py:1278} INFO - Found credentials in shared credentials file: ~/.aws/credentials\n"
     ]
    },
    {
     "name": "stdout",
     "output_type": "stream",
     "text": [
      "========================================================================================\n",
      "Step 1 - Creating Knowledge Base Execution Role (AmazonBedrockExecutionRoleForStructuredKnowledgeBase_5195415-f) and Policies\n",
      "========================================================================================\n",
      "Step 2 - Creating Knowledge Base\n",
      "{ 'createdAt': datetime.datetime(2024, 12, 16, 3, 54, 25, 593297, tzinfo=tzutc()),\n",
      "  'description': 'Sample Structured KB',\n",
      "  'knowledgeBaseArn': 'arn:aws:bedrock:us-east-1:017444429555:knowledge-base/GKUSAMA6IN',\n",
      "  'knowledgeBaseConfiguration': { 'sqlKnowledgeBaseConfiguration': { 'redshiftConfiguration': { 'queryEngineConfiguration': { 'serverlessConfiguration': { 'authConfiguration': { 'type': 'USERNAME_PASSWORD',\n",
      "                                                                                                                                                                                  'usernamePasswordSecretArn': 'arn:aws:secretsmanager:us-east-1:017444429555:secret:redshift-riv-test-user-h86sJH'},\n",
      "                                                                                                                                                           'workgroupArn': 'arn:aws:redshift-serverless:us-east-1:017444429555:workgroup/ad3a0804-6ecf-4636-a798-a00c7f1293a7'},\n",
      "                                                                                                                              'type': 'SERVERLESS'},\n",
      "                                                                                                'storageConfigurations': [ { 'redshiftConfiguration': { 'databaseName': 'sample_data_dev'},\n",
      "                                                                                                                             'type': 'REDSHIFT'}]},\n",
      "                                                                     'type': 'REDSHIFT'},\n",
      "                                  'type': 'SQL'},\n",
      "  'knowledgeBaseId': 'GKUSAMA6IN',\n",
      "  'name': 'bedrock-sample-structured-kb-5195415',\n",
      "  'roleArn': 'arn:aws:iam::017444429555:role/AmazonBedrockExecutionRoleForStructuredKnowledgeBase_5195415-f',\n",
      "  'status': 'CREATING',\n",
      "  'updatedAt': datetime.datetime(2024, 12, 16, 3, 54, 25, 593297, tzinfo=tzutc())}\n",
      "Creating Data Sources aka query engine\n",
      "{ 'createdAt': datetime.datetime(2024, 12, 16, 3, 54, 25, 787072, tzinfo=tzutc()),\n",
      "  'dataSourceConfiguration': {'type': 'REDSHIFT_METADATA'},\n",
      "  'dataSourceId': 'GW7YY5ID2W',\n",
      "  'description': 'Query engine',\n",
      "  'knowledgeBaseId': 'GKUSAMA6IN',\n",
      "  'name': 'bedrock-sample-structured-kb-5195415-ds',\n",
      "  'status': 'AVAILABLE',\n",
      "  'updatedAt': datetime.datetime(2024, 12, 16, 3, 54, 25, 787072, tzinfo=tzutc())}\n",
      "========================================================================================\n"
     ]
    }
   ],
   "source": [
    "# Access the entered value\n",
    "access_pattern_choice = int(choice_widget.value)\n",
    "try:\n",
    "    access_pattern_choice = int(choice_widget.value)\n",
    "    if access_pattern_choice ==1:\n",
    "        print(f\"Access pattern:{choice_widget.value} SECRET+WG\")\n",
    "        kbConfigParam = {\n",
    "            \"type\": \"SQL\",\n",
    "            \"sqlKnowledgeBaseConfiguration\": {\n",
    "                \"type\": \"REDSHIFT\",\n",
    "                \"redshiftConfiguration\": {\n",
    "                    \"storageConfigurations\": [{\n",
    "                        \"type\": \"REDSHIFT\",\n",
    "                        \"redshiftConfiguration\": {\n",
    "                            \"databaseName\": redshiftDBName\n",
    "                        }\n",
    "                    }],\n",
    "                    \"queryEngineConfiguration\": {\n",
    "                        \"type\": \"SERVERLESS\",\n",
    "                        \"serverlessConfiguration\": {\n",
    "                            \"workgroupArn\": workgroupArn,\n",
    "                            \"authConfiguration\": {\n",
    "                                \"type\": \"USERNAME_PASSWORD\",\n",
    "                                \"usernamePasswordSecretArn\": SecretArn\n",
    "                            }\n",
    "                        }\n",
    "                    }\n",
    "                }\n",
    "            }\n",
    "        }\n",
    "\n",
    "        knowledge_base = BedrockStructuredKnowledgeBase(\n",
    "                        kb_name=f'{knowledge_base_name}',\n",
    "                        kb_description=knowledge_base_description,\n",
    "                        workgroup_arn=workgroupArn,\n",
    "                        secrets_arn = SecretArn,\n",
    "                        kbConfigParam = kbConfigParam,\n",
    "                        suffix = f'{suffix}-f'\n",
    "                    )\n",
    "        \n",
    "        # bedrock_kb_execution_role = BedrockStructuredKnowledgeBase(workgroup_arn = workgroupArn, secrets_arn = usernamePasswordSecret_Arn)\n",
    "        # bedrock_kb_execution_role_arn = bedrock_kb_execution_role['Role']['Arn']\n",
    "    else:\n",
    "        print(\"Invalid choice. Please enter a number between 1 and 2.\")\n",
    "except ValueError:\n",
    "    print(\"Invalid input. Please enter a number.\")"
   ]
  },
  {
   "cell_type": "markdown",
   "metadata": {},
   "source": [
    "### 2 - Sync query engine"
   ]
  },
  {
   "cell_type": "code",
   "execution_count": 11,
   "metadata": {},
   "outputs": [
    {
     "name": "stdout",
     "output_type": "stream",
     "text": [
      "job  started successfully\n",
      "\n",
      "{ 'dataSourceId': 'GW7YY5ID2W',\n",
      "  'ingestionJobId': 'WSKGNEY7WL',\n",
      "  'knowledgeBaseId': 'GKUSAMA6IN',\n",
      "  'startedAt': datetime.datetime(2024, 12, 16, 3, 54, 38, 91800, tzinfo=tzutc()),\n",
      "  'status': 'COMPLETE',\n",
      "  'updatedAt': datetime.datetime(2024, 12, 16, 3, 54, 45, 925948, tzinfo=tzutc())}\n",
      ".....\r"
     ]
    }
   ],
   "source": [
    "# ensure that the kb is available\n",
    "time.sleep(10)\n",
    "# sync knowledge base\n",
    "knowledge_base.start_ingestion_job()"
   ]
  },
  {
   "cell_type": "code",
   "execution_count": 12,
   "metadata": {},
   "outputs": [
    {
     "name": "stdout",
     "output_type": "stream",
     "text": [
      "'GKUSAMA6IN'\n",
      "Stored 'kb_id' (str)\n"
     ]
    }
   ],
   "source": [
    "# keep the kb_id for invocation later in the invoke request\n",
    "kb_id = knowledge_base.get_knowledge_base_id()\n",
    "%store kb_id"
   ]
  },
  {
   "cell_type": "markdown",
   "metadata": {},
   "source": [
    "### 4 -  Test the Structured Knowledge Base\n",
    "Now the Knowlegde Base is available we can test it out using the [**retrieve**](https://boto3.amazonaws.com/v1/documentation/api/latest/reference/services/bedrock-agent-runtime/client/retrieve.html), [**retrieve_and_generate**](https://boto3.amazonaws.com/v1/documentation/api/latest/reference/services/bedrock-agent-runtime/client/retrieve_and_generate.html), and [**generate_query**](https://docs.aws.amazon.com/bedrock/latest/APIReference/API_agent-runtime_GenerateQuery.html) functions. \n",
    "\n",
    "When you use [**retrieve**](https://boto3.amazonaws.com/v1/documentation/api/latest/reference/services/bedrock-agent-runtime/client/retrieve.html), the response returns the result of the SQL query execution. \n",
    "\n",
    "When you use [**retrieve_and_generate**](https://boto3.amazonaws.com/v1/documentation/api/latest/reference/services/bedrock-agent-runtime/client/retrieve_and_generate.html), the generated response is based on the result of the SQL query execution\n",
    "\n",
    "When using the [**generate_query**](https://docs.aws.amazon.com/bedrock/latest/APIReference/API_agent-runtime_GenerateQuery.html) API, it transforms a natural language query into SQL.\n",
    "\n"
   ]
  },
  {
   "cell_type": "code",
   "execution_count": 13,
   "metadata": {},
   "outputs": [],
   "source": [
    "query = \"What are the venues are there in new york city?\""
   ]
  },
  {
   "cell_type": "markdown",
   "metadata": {},
   "source": [
    "#### 4.1 - Using RetrieveAndGenerate API"
   ]
  },
  {
   "cell_type": "code",
   "execution_count": 15,
   "metadata": {},
   "outputs": [
    {
     "name": "stdout",
     "output_type": "stream",
     "text": [
      "The query returned 45 venues located in New York City, including Helen Hayes Theatre, Yankee Stadium, Walter Kerr Theatre, Broadhurst Theatre, Majestic Theatre, Minskoff Theatre, Booth Theatre, Studio 54, Madison Square Garden, and Circle in the Square Theatre.\n",
      "\n"
     ]
    }
   ],
   "source": [
    "foundation_model = \"anthropic.claude-3-sonnet-20240229-v1:0\"\n",
    "\n",
    "response = bedrock_agent_runtime_client.retrieve_and_generate(\n",
    "    input={\n",
    "        \"text\": query\n",
    "    },\n",
    "    retrieveAndGenerateConfiguration={\n",
    "        \"type\": \"KNOWLEDGE_BASE\",\n",
    "        \"knowledgeBaseConfiguration\": {\n",
    "            'knowledgeBaseId': kb_id,\n",
    "            \"modelArn\": \"arn:aws:bedrock:{}::foundation-model/{}\".format(region, foundation_model),\n",
    "            \"retrievalConfiguration\": {\n",
    "                \"vectorSearchConfiguration\": {\n",
    "                    \"numberOfResults\":5\n",
    "                } \n",
    "            }\n",
    "        }\n",
    "    }\n",
    ")\n",
    "\n",
    "print(response['output']['text'],end='\\n'*2)"
   ]
  },
  {
   "cell_type": "markdown",
   "metadata": {},
   "source": [
    "#### 4.2 -  Using Retrieve API"
   ]
  },
  {
   "cell_type": "code",
   "execution_count": 16,
   "metadata": {},
   "outputs": [],
   "source": [
    "response_ret = bedrock_agent_runtime_client.retrieve(\n",
    "    knowledgeBaseId=kb_id, \n",
    "    nextToken='string',\n",
    "    retrievalConfiguration={\n",
    "        \"vectorSearchConfiguration\": {\n",
    "            \"numberOfResults\":5,\n",
    "        } \n",
    "    },\n",
    "    retrievalQuery={\n",
    "        \"text\": query\n",
    "    }\n",
    ")"
   ]
  },
  {
   "cell_type": "code",
   "execution_count": 17,
   "metadata": {},
   "outputs": [],
   "source": [
    "import json\n",
    "import pandas as pd\n",
    "\n",
    "#Function to extract retrieved results from Retrieve API response\n",
    "\n",
    "def response_print(retrieve_resp):\n",
    "\n",
    "    # Extract the retrievalResults list\n",
    "    retrieval_results = retrieve_resp['retrievalResults']\n",
    "\n",
    "    # Dictionary to store the extracted data\n",
    "    extracted_data = {}\n",
    "\n",
    "    # Iterate through each item in retrievalResults\n",
    "    for item in retrieval_results:\n",
    "        row = item['content']['row']\n",
    "        for col in row:\n",
    "            column_name = col['columnName']\n",
    "            column_value = col['columnValue']\n",
    "            \n",
    "            # If this column hasn't been seen before, create a new list for it\n",
    "            if column_name not in extracted_data:\n",
    "                extracted_data[column_name] = []\n",
    "            \n",
    "            # Append the value to the appropriate list\n",
    "            extracted_data[column_name].append(column_value)\n",
    "\n",
    "    # Create a DataFrame from the extracted data\n",
    "    df = pd.DataFrame(extracted_data)\n",
    "\n",
    "    return df\n",
    "    "
   ]
  },
  {
   "cell_type": "code",
   "execution_count": 18,
   "metadata": {},
   "outputs": [
    {
     "name": "stdout",
     "output_type": "stream",
     "text": [
      "             venuename      venuecity venuestate\n",
      "0  Helen Hayes Theatre  New York City         NY\n",
      "1       Yankee Stadium  New York City         NY\n",
      "2  Walter Kerr Theatre  New York City         NY\n",
      "3   Broadhurst Theatre  New York City         NY\n",
      "4     Majestic Theatre  New York City         NY\n"
     ]
    }
   ],
   "source": [
    "# Display the Retrieved results records\n",
    "df = response_print(response_ret)\n",
    "print(df.head())"
   ]
  },
  {
   "cell_type": "markdown",
   "metadata": {},
   "source": [
    "#### 4.3 - Using Generate Query"
   ]
  },
  {
   "cell_type": "code",
   "execution_count": 23,
   "metadata": {},
   "outputs": [
    {
     "data": {
      "text/plain": [
       "\"SELECT v.venuename, v.venuecity, v.venuestate FROM tickit.venue v WHERE v.venuecity = 'New York City';\""
      ]
     },
     "execution_count": 23,
     "metadata": {},
     "output_type": "execute_result"
    }
   ],
   "source": [
    "query_response = bedrock_agent_runtime_client.generate_query(\n",
    "    queryGenerationInput={\n",
    "        \"text\": query,\n",
    "        \"type\": \"TEXT\"\n",
    "    },\n",
    "    transformationConfiguration={\n",
    "        \"mode\" : \"TEXT_TO_SQL\",\n",
    "        \"textToSqlConfiguration\": {\n",
    "            \"type\": \"KNOWLEDGE_BASE\",\n",
    "            \"knowledgeBaseConfiguration\": {\n",
    "                \"knowledgeBaseArn\": knowledge_base.knowledge_base['roleArn']\n",
    "            }\n",
    "        }\n",
    "    }\n",
    ")\n",
    "\n",
    "generated_sql = query_response['queries'][0]['sql']\n",
    "generated_sql"
   ]
  },
  {
   "cell_type": "code",
   "execution_count": 32,
   "metadata": {},
   "outputs": [
    {
     "data": {
      "text/plain": [
       "'AmazonBedrockExecutionRoleForStructuredKnowledgeBase_5195415-f'"
      ]
     },
     "execution_count": 32,
     "metadata": {},
     "output_type": "execute_result"
    }
   ],
   "source": [
    "knowledge_base.bedrock_kb_execution_role_name"
   ]
  },
  {
   "cell_type": "markdown",
   "metadata": {},
   "source": [
    "### Clean Up\n",
    "Please make sure to uncomment and run the below section to delete all the resources"
   ]
  },
  {
   "cell_type": "code",
   "execution_count": 34,
   "metadata": {},
   "outputs": [
    {
     "name": "stdout",
     "output_type": "stream",
     "text": [
      "======== All IAM roles and policies deleted =========\n"
     ]
    }
   ],
   "source": [
    "# # Delete resources\n",
    "# print(\"===============================Deleteing resources ==============================\\n\")\n",
    "knowledge_base.delete_kb( delete_iam_roles_and_policies=True)"
   ]
  }
 ],
 "metadata": {
  "kernelspec": {
   "display_name": "structured-rag",
   "language": "python",
   "name": "python3"
  },
  "language_info": {
   "codemirror_mode": {
    "name": "ipython",
    "version": 3
   },
   "file_extension": ".py",
   "mimetype": "text/x-python",
   "name": "python",
   "nbconvert_exporter": "python",
   "pygments_lexer": "ipython3",
   "version": "3.10.13"
  }
 },
 "nbformat": 4,
 "nbformat_minor": 2
}
