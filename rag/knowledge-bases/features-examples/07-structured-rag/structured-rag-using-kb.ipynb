{
 "cells": [
  {
   "cell_type": "markdown",
   "metadata": {},
   "source": [
    "# Structured RAG using Amazon Bedrock Knowledge Bases - End to end example using Amazon Redshift DB\n",
    "\n",
    "Structure RAG allows Amazon Bedrock Knowledge Bases customers to query structured data in Redshift using natural language, and receive natural language responses summarizing the data thereby providing an answer to the user question.\n",
    "\n",
    "Using advanced natural language processing, Bedrock Knowledge Bases can transform natural language queries into SQL queries, allowing users to retrieve data directly from the source without the need to move or preprocess the data. o generate accurate SQL queries, Bedrock Knowledge Base leverages database schema, previous query history, and other contextual information that are provided about the data sources.\n",
    "\n",
    "\n",
    "This notebook provides sample code for building a Structured RAG using Amazon Bedrock Knowledgebases using Redshift.\n",
    "\n",
    "\n",
    "#### Steps: \n",
    "- Create Knowledge Base execution role with necessary policies for accessing data from Amazon Redshift.\n",
    "- Create a knowledge base with Structured database (Redshift database)\n",
    "- Create data source(s) within knowledge base\n",
    "- Start ingestion jobs using KB APIs which will read metadata about structred database and ingest into QDBC.\n",
    "\n",
    "Once the metadata is extracted and ingested, then user can interact with Structured databases via Amazon Bedrock Knowledge Base APIs using Natural language query.\n",
    "\n",
    "\n"
   ]
  },
  {
   "cell_type": "markdown",
   "metadata": {},
   "source": [
    "<div class=\"alert alert-block alert-warning\">\n",
    "<b>NOTE:</b> There're multiple access pattern for Redshift provisioned cluster: \n",
    "<br><br>\n",
    "1.   DB user + Redshift Cluster\n",
    "<br>\n",
    "2.   IAM Role + Redshift Cluster\n",
    "<br>\n",
    "3.   Secrets Manager + Redshift Cluster \n",
    "<br>\n",
    "4.   Secrets Manager + Redshift Serverless WorkGroup\n",
    "<br> \n",
    "5.   IAM Role + Redshift Serverless WorkGroup \n",
    "<br>\n",
    "\n",
    "In this notebook, we'll focus on,  `Secrets Manager + Redshift Serverless WorkGroup` access pattern.\n",
    "</div>"
   ]
  },
  {
   "cell_type": "markdown",
   "metadata": {},
   "source": [
    "## Setup\n",
    "Before running the rest of this notebook, you'll need to run the cells below to (ensure necessary libraries are installed and) connect to Bedrock.\n",
    "\n",
    "Please ignore any pip dependency error (if you see any while installing libraries)"
   ]
  },
  {
   "cell_type": "code",
   "execution_count": null,
   "metadata": {},
   "outputs": [],
   "source": [
    "%pip install --force-reinstall -q -r ../requirements.txt --quiet\n",
    "\n",
    "# %pip install boto3 opensearch-py botocore awscli retrying ragas=0.1.9 ipywidgets  iprogressretrying langchain langchain_aws langchain_community --quiet "
   ]
  },
  {
   "cell_type": "code",
   "execution_count": null,
   "metadata": {},
   "outputs": [],
   "source": [
    "%pip install --upgrade boto3\n",
    "import boto3\n",
    "print(boto3.__version__)"
   ]
  },
  {
   "cell_type": "code",
   "execution_count": null,
   "metadata": {},
   "outputs": [],
   "source": [
    "# restart kernel\n",
    "from IPython.core.display import HTML\n",
    "HTML(\"<script>Jupyter.notebook.kernel.restart()</script>\")"
   ]
  },
  {
   "cell_type": "markdown",
   "metadata": {},
   "source": [
    "#### Pre-requisites\n",
    "This notebook requires :\n",
    "- A Redshift cluster or workgroup already setup with your structured data ingested into the cluster\n",
    "- You've set-up the secrets manager for Workgroup & Secrets access pattern\n"
   ]
  },
  {
   "cell_type": "code",
   "execution_count": 20,
   "metadata": {},
   "outputs": [],
   "source": [
    "import json\n",
    "import os\n",
    "import boto3\n",
    "from botocore.exceptions import ClientError\n",
    "import pprint\n",
    "from utility import create_bedrock_execution_role_structured_rag, create_bedrock_execution_role_multi_ds, create_oss_policy_attach_bedrock_execution_role, create_policies_in_oss, interactive_sleep\n",
    "\n",
    "import random\n",
    "from retrying import retry\n",
    "suffix = random.randrange(200, 900)\n",
    "\n",
    "sts_client = boto3.client('sts')\n",
    "boto3_session = boto3.session.Session(region_name='us-east-1')\n",
    "region_name = boto3_session.region_name\n",
    "account_id = sts_client.get_caller_identity()[\"Account\"]\n",
    "\n",
    "bedrock_agent_client = boto3.client('bedrock-agent', region_name=region_name)\n",
    "bedrock_agent_runtime_client = boto3.client('bedrock-agent-runtime', region_name=region_name)\n",
    "\n",
    "\n",
    "pp = pprint.PrettyPrinter(indent=2)"
   ]
  },
  {
   "cell_type": "markdown",
   "metadata": {},
   "source": [
    "### Provide Structured data store details\n",
    "\n",
    "Currently Amazon Bedrock Knowledge Bases supports Amazon Redshift (A fully managed, petabyte-scale data warehouse service in the cloud that lets you access and analyze data without needing to configure provisioning and capacity.) as data store."
   ]
  },
  {
   "cell_type": "markdown",
   "metadata": {},
   "source": [
    "#### Set-up few variables and configurations needed for Structured RAG"
   ]
  },
  {
   "cell_type": "code",
   "execution_count": 2,
   "metadata": {},
   "outputs": [],
   "source": [
    "# Change below variables as needed\n",
    "\n",
    "name = f\"bedrock-sample-structured-kb-{suffix}\"\n",
    "description = \"Sample Structured KB.\"\n",
    "workgroup_id = \"<Enter your Redshift Serverless workgroup id>\"\n",
    "\n",
    "redshiftDBName = \"sample_data_dev\"\n",
    "workgroupArn =  f\"arn:aws:redshift-serverless:{region_name}:{account_id}:workgroup/{workgroup_id}\"\n",
    "usernamePasswordSecretArn = \"<Enter your Secrets Manager ARN>\""
   ]
  },
  {
   "cell_type": "markdown",
   "metadata": {},
   "source": [
    "Redshift acces pattern choice"
   ]
  },
  {
   "cell_type": "code",
   "execution_count": null,
   "metadata": {},
   "outputs": [],
   "source": [
    "import ipywidgets as widgets\n",
    "from IPython.display import display\n",
    "\n",
    "# Display the choices to the user\n",
    "print(\"Choose your Redshift access pattern:\")\n",
    "print(\"1. Secrets Manager + Redshift Serverless WorkGroup\")\n",
    "\n",
    "# Create a text input widget\n",
    "choice_widget = widgets.Text(placeholder=\"Enter your choice (1 Only)\")\n",
    "\n",
    "# Display the widget\n",
    "display(choice_widget)\n"
   ]
  },
  {
   "cell_type": "code",
   "execution_count": null,
   "metadata": {},
   "outputs": [],
   "source": [
    "# Access the entered value\n",
    "access_pattern_choice = int(choice_widget.value)\n",
    "try:\n",
    "    access_pattern_choice = int(choice_widget.value)\n",
    "    if access_pattern_choice ==1:\n",
    "        print(f\"Access pattern:{choice_widget.value} SECRET+WG\")\n",
    "        workgroup_Arn = workgroupArn\n",
    "        usernamePasswordSecret_Arn = usernamePasswordSecretArn\n",
    "        \n",
    "        bedrock_kb_execution_role = create_bedrock_execution_role_structured_rag(workgroup_arn = workgroupArn, secrets_arn = usernamePasswordSecret_Arn)\n",
    "        bedrock_kb_execution_role_arn = bedrock_kb_execution_role['Role']['Arn']\n",
    "    else:\n",
    "        print(\"Invalid choice. Please enter a number between 1 and 2.\")\n",
    "except ValueError:\n",
    "    print(\"Invalid input. Please enter a number.\")"
   ]
  },
  {
   "cell_type": "code",
   "execution_count": null,
   "metadata": {},
   "outputs": [],
   "source": [
    "bedrock_kb_execution_role_arn"
   ]
  },
  {
   "cell_type": "markdown",
   "metadata": {},
   "source": [
    "### Define Knowledge Bases Configuration to set-up Structured RAG"
   ]
  },
  {
   "cell_type": "code",
   "execution_count": 6,
   "metadata": {},
   "outputs": [],
   "source": [
    "kbConfigParam = {\n",
    "            \"type\": \"SQL\",\n",
    "            \"sqlKnowledgeBaseConfiguration\": {\n",
    "                \"type\": \"REDSHIFT\",\n",
    "                \"redshiftConfiguration\": {\n",
    "                    \"storageConfigurations\": [{\n",
    "                        \"type\": \"REDSHIFT\",\n",
    "                        \"redshiftConfiguration\": {\n",
    "                            \"databaseName\": redshiftDBName\n",
    "                        }\n",
    "                    }],\n",
    "                    \"queryEngineConfiguration\": {\n",
    "                        \"type\": \"SERVERLESS\",\n",
    "                        \"serverlessConfiguration\": {\n",
    "                            \"workgroupArn\": workgroupArn,\n",
    "                            \"authConfiguration\": {\n",
    "                                \"type\": \"USERNAME_PASSWORD\",\n",
    "                                \"usernamePasswordSecretArn\": usernamePasswordSecretArn\n",
    "                            }\n",
    "                        }\n",
    "                    }\n",
    "                }\n",
    "            }\n",
    "        }"
   ]
  },
  {
   "cell_type": "markdown",
   "metadata": {},
   "source": [
    "## Create Knowledge Bases"
   ]
  },
  {
   "cell_type": "code",
   "execution_count": 7,
   "metadata": {},
   "outputs": [],
   "source": [
    "# Create a KnowledgeBase\n",
    "from retrying import retry\n",
    "\n",
    "@retry(wait_random_min=1000, wait_random_max=2000,stop_max_attempt_number=7)\n",
    "def create_structured_kb_func():\n",
    "    create_kb_response = bedrock_agent_client.create_knowledge_base(\n",
    "        name = name,\n",
    "        description = description,\n",
    "        roleArn = bedrock_kb_execution_role_arn,\n",
    "        knowledgeBaseConfiguration = kbConfigParam\n",
    "    )\n",
    "    return create_kb_response[\"knowledgeBase\"]"
   ]
  },
  {
   "cell_type": "code",
   "execution_count": 8,
   "metadata": {},
   "outputs": [],
   "source": [
    "try:\n",
    "    kb = create_structured_kb_func()\n",
    "except Exception as err:\n",
    "    print(f\"{err=}, {type(err)=}\")"
   ]
  },
  {
   "cell_type": "code",
   "execution_count": null,
   "metadata": {},
   "outputs": [],
   "source": [
    "# Print the knowledge base Id in bedrock, that corresponds to the Opensearch index in the collection we created before, we will use it for the invocation later\n",
    "kb_id = kb[\"knowledgeBaseId\"]\n",
    "pp.pprint(kb_id)"
   ]
  },
  {
   "cell_type": "markdown",
   "metadata": {},
   "source": [
    "## Create Data Source(s)"
   ]
  },
  {
   "cell_type": "code",
   "execution_count": 11,
   "metadata": {},
   "outputs": [],
   "source": [
    "## Create Data Source\n",
    "\n",
    "response = bedrock_agent_client.create_data_source(\n",
    "            dataSourceConfiguration= {\n",
    "                \"type\": \"REDSHIFT_METADATA\"\n",
    "            },\n",
    "            name=\"snghigf-redshift-DS\",\n",
    "            description=\"Metadata data source for redshift\" ,\n",
    "            knowledgeBaseId=kb['knowledgeBaseId']\n",
    "        )\n",
    "            "
   ]
  },
  {
   "cell_type": "code",
   "execution_count": null,
   "metadata": {},
   "outputs": [],
   "source": [
    "data_source_id = response['dataSource']['dataSourceId']\n",
    "print(f\"Data source created successfully. ID: {data_source_id}\")"
   ]
  },
  {
   "cell_type": "markdown",
   "metadata": {},
   "source": [
    "## Start Ingestion job"
   ]
  },
  {
   "cell_type": "code",
   "execution_count": null,
   "metadata": {},
   "outputs": [],
   "source": [
    "import time\n",
    "try:\n",
    "    start_job_response = bedrock_agent_client.start_ingestion_job(knowledgeBaseId = kb['knowledgeBaseId'], dataSourceId = data_source_id)\n",
    "    job = start_job_response[\"ingestionJob\"]\n",
    "    print(f\"job started successfully\\n\")\n",
    "\n",
    "    while job['status'] not in [\"COMPLETE\", \"FAILED\", \"STOPPED\"]:\n",
    "        get_job_response = bedrock_agent_client.get_ingestion_job(\n",
    "            knowledgeBaseId = kb['knowledgeBaseId'],\n",
    "            dataSourceId = data_source_id,\n",
    "            ingestionJobId = job[\"ingestionJobId\"]\n",
    "        )\n",
    "        job = get_job_response[\"ingestionJob\"]\n",
    "    pp.pprint(job)\n",
    "    time.sleep(10)\n",
    "\n",
    "except Exception as e:\n",
    "    print(f\"Couldn't start ingest job.\\n\")\n",
    "    print(e)\n",
    "    "
   ]
  },
  {
   "cell_type": "code",
   "execution_count": null,
   "metadata": {},
   "outputs": [],
   "source": [
    "# keep the kb_id for invocation later in the invoke request\n",
    "%store kb_id"
   ]
  },
  {
   "cell_type": "markdown",
   "metadata": {},
   "source": [
    "## Test the Structured RAG"
   ]
  },
  {
   "cell_type": "code",
   "execution_count": 15,
   "metadata": {},
   "outputs": [],
   "source": [
    "query = \"What are the venues are there in new york city?\""
   ]
  },
  {
   "cell_type": "markdown",
   "metadata": {},
   "source": [
    "### Using RetrieveAndGenerate API"
   ]
  },
  {
   "cell_type": "code",
   "execution_count": null,
   "metadata": {},
   "outputs": [],
   "source": [
    "foundation_model = \"anthropic.claude-3-sonnet-20240229-v1:0\"\n",
    "\n",
    "response = bedrock_agent_runtime_client.retrieve_and_generate(\n",
    "    input={\n",
    "        \"text\": query\n",
    "    },\n",
    "    retrieveAndGenerateConfiguration={\n",
    "        \"type\": \"KNOWLEDGE_BASE\",\n",
    "        \"knowledgeBaseConfiguration\": {\n",
    "            'knowledgeBaseId': kb_id,\n",
    "            \"modelArn\": \"arn:aws:bedrock:{}::foundation-model/{}\".format(region_name, foundation_model),\n",
    "            \"retrievalConfiguration\": {\n",
    "                \"vectorSearchConfiguration\": {\n",
    "                    \"numberOfResults\":5\n",
    "                } \n",
    "            }\n",
    "        }\n",
    "    }\n",
    ")\n",
    "\n",
    "print(response['output']['text'],end='\\n'*2)"
   ]
  },
  {
   "cell_type": "markdown",
   "metadata": {},
   "source": [
    "### Using Retrieve API"
   ]
  },
  {
   "cell_type": "code",
   "execution_count": 22,
   "metadata": {},
   "outputs": [],
   "source": [
    "response_ret = bedrock_agent_runtime_client.retrieve(\n",
    "    knowledgeBaseId=kb_id, \n",
    "    nextToken='string',\n",
    "    retrievalConfiguration={\n",
    "        \"vectorSearchConfiguration\": {\n",
    "            \"numberOfResults\":5,\n",
    "        } \n",
    "    },\n",
    "    retrievalQuery={\n",
    "        \"text\": query\n",
    "    }\n",
    ")"
   ]
  },
  {
   "cell_type": "code",
   "execution_count": 23,
   "metadata": {},
   "outputs": [],
   "source": [
    "import json\n",
    "import pandas as pd\n",
    "\n",
    "#Function to extract retrieved results from Retrieve API response\n",
    "\n",
    "def response_print(retrieve_resp):\n",
    "\n",
    "    # Extract the retrievalResults list\n",
    "    retrieval_results = retrieve_resp['retrievalResults']\n",
    "\n",
    "    # Dictionary to store the extracted data\n",
    "    extracted_data = {}\n",
    "\n",
    "    # Iterate through each item in retrievalResults\n",
    "    for item in retrieval_results:\n",
    "        row = item['content']['row']\n",
    "        for col in row:\n",
    "            column_name = col['columnName']\n",
    "            column_value = col['columnValue']\n",
    "            \n",
    "            # If this column hasn't been seen before, create a new list for it\n",
    "            if column_name not in extracted_data:\n",
    "                extracted_data[column_name] = []\n",
    "            \n",
    "            # Append the value to the appropriate list\n",
    "            extracted_data[column_name].append(column_value)\n",
    "\n",
    "    # Create a DataFrame from the extracted data\n",
    "    df = pd.DataFrame(extracted_data)\n",
    "\n",
    "    return df\n",
    "    "
   ]
  },
  {
   "cell_type": "code",
   "execution_count": null,
   "metadata": {},
   "outputs": [],
   "source": [
    "# Display the Retrieved results records\n",
    "df = response_print(response_ret)\n",
    "print(df.head())"
   ]
  },
  {
   "cell_type": "markdown",
   "metadata": {},
   "source": [
    "### Using Generate Query"
   ]
  },
  {
   "cell_type": "code",
   "execution_count": null,
   "metadata": {},
   "outputs": [],
   "source": [
    "query_response = bedrock_agent_runtime_client.generate_query(\n",
    "    queryGenerationInput={\n",
    "        \"text\": query,\n",
    "        \"type\": \"TEXT\"\n",
    "    },\n",
    "    transformationConfiguration={\n",
    "        \"mode\" : \"TEXT_TO_SQL\",\n",
    "        \"textToSqlConfiguration\": {\n",
    "            \"type\": \"KNOWLEDGE_BASE\",\n",
    "            \"knowledgeBaseConfiguration\": {\n",
    "                \"knowledgeBaseArn\": kb['knowledgeBaseArn']\n",
    "            }\n",
    "        }\n",
    "    }\n",
    ")\n",
    "\n",
    "generated_sql = query_response['queries'][0]['sql']\n",
    "generated_sql"
   ]
  },
  {
   "cell_type": "markdown",
   "metadata": {},
   "source": [
    "## Clean Up\n",
    "Please make sure to uncomment and run the below section to delete all the resources"
   ]
  },
  {
   "cell_type": "code",
   "execution_count": null,
   "metadata": {},
   "outputs": [],
   "source": [
    "bedrock_agent_client.delete_data_source(dataSourceId = data_source_id, knowledgeBaseId=kb['knowledgeBaseId'])\n",
    "bedrock_agent_client.delete_knowledge_base(knowledgeBaseId=kb['knowledgeBaseId'])"
   ]
  },
  {
   "cell_type": "code",
   "execution_count": null,
   "metadata": {},
   "outputs": [],
   "source": [
    "# Delete role and policies\n",
    "\n",
    "iam = boto3.resource('iam')\n",
    "client = boto3.client('iam')\n",
    "\n",
    "role_name = bedrock_kb_execution_role['Role']['RoleName']\n",
    "\n",
    "def get_attached_policies(role_name):\n",
    "    response = client.list_attached_role_policies(RoleName=role_name)\n",
    "    attached_policies = response['AttachedPolicies']\n",
    "    return attached_policies\n",
    "\n",
    "attached_policies = get_attached_policies(role_name)\n",
    "attached_policies\n",
    "\n",
    "for policy in attached_policies:\n",
    "        print(policy['PolicyArn'])\n",
    "        policy_name = policy['PolicyName']\n",
    "        policy_arn = policy['PolicyArn']\n",
    "\n",
    "        client.detach_role_policy(RoleName=role_name,\n",
    "            PolicyArn=policy_arn)\n",
    "        \n",
    "        response = client.delete_policy(\n",
    "            PolicyArn=policy_arn\n",
    "        )\n",
    "        print(response)\n",
    "\n",
    "client.delete_role(RoleName=role_name)"
   ]
  }
 ],
 "metadata": {
  "kernelspec": {
   "display_name": "structured-rag",
   "language": "python",
   "name": "python3"
  },
  "language_info": {
   "codemirror_mode": {
    "name": "ipython",
    "version": 3
   },
   "file_extension": ".py",
   "mimetype": "text/x-python",
   "name": "python",
   "nbconvert_exporter": "python",
   "pygments_lexer": "ipython3",
   "version": "3.10.13"
  }
 },
 "nbformat": 4,
 "nbformat_minor": 2
}
