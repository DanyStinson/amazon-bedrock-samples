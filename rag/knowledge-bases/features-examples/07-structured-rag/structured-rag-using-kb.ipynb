{
 "cells": [
  {
   "cell_type": "markdown",
   "metadata": {},
   "source": [
    "# Structured RAG using Amazon Bedrock Knowledge Bases - End to end example using Amazon Redshift DB\n",
    "\n",
    "Structure RAG allows Amazon Bedrock Knowledge Bases customers to query structured data in Redshift using natural language, and receive natural language responses summarizing the data thereby providing an answer to the user question.\n",
    "\n",
    "Using advanced natural language processing, Bedrock Knowledge Bases can transform natural language queries into SQL queries, allowing users to retrieve data directly from the source without the need to move or preprocess the data. o generate accurate SQL queries, Bedrock Knowledge Base leverages database schema, previous query history, and other contextual information that are provided about the data sources.\n",
    "\n",
    "\n",
    "This notebook provides sample code for building a Structured RAG using Amazon Bedrock Knowledgebases using Redshift.\n",
    "\n",
    "\n",
    "#### Steps: \n",
    "- Create Knowledge Base execution role with necessary policies for accessing data from Amazon Redshift.\n",
    "- Create a knowledge base with Structured database (Redshift database)\n",
    "- Create data source(s) within knowledge base\n",
    "- Start ingestion jobs using KB APIs which will read metadata about structred database and ingest into QDBC.\n",
    "\n",
    "Once the metadata is extracted and ingested, then user can interact with Structured databases via Amazon Bedrock Knowledge Base APIs using Natural language query.\n",
    "\n",
    "\n"
   ]
  },
  {
   "cell_type": "markdown",
   "metadata": {},
   "source": [
    "<div class=\"alert alert-block alert-warning\">\n",
    "<b>Note:</b> NOTE: There're multiple access pattern for Redshift provisioned cluster (i.e. DB user + Cluster, IAM + Cluster, and Secrets + Cluster.) and WorkGroup (i.e.  Secret + Workgroup, IAM + Workgroup). \n",
    "\n",
    "In this notebook, we'll focus on,  Secret + Workgroup access pattern (Redshift Serverless).\n",
    "</div>"
   ]
  },
  {
   "cell_type": "markdown",
   "metadata": {},
   "source": [
    "## Setup\n",
    "Before running the rest of this notebook, you'll need to run the cells below to (ensure necessary libraries are installed and) connect to Bedrock.\n",
    "\n",
    "Please ignore any pip dependency error (if you see any while installing libraries)"
   ]
  },
  {
   "cell_type": "code",
   "execution_count": null,
   "metadata": {},
   "outputs": [],
   "source": [
    "%pip install --force-reinstall -q -r ../requirements.txt --quiet\n",
    "\n",
    "# %pip install boto3 opensearch-py botocore awscli retrying ragas=0.1.9 ipywidgets  iprogressretrying langchain langchain_aws langchain_community --quiet "
   ]
  },
  {
   "cell_type": "code",
   "execution_count": null,
   "metadata": {},
   "outputs": [],
   "source": [
    "%pip install --upgrade boto3\n",
    "import boto3\n",
    "print(boto3.__version__)"
   ]
  },
  {
   "cell_type": "code",
   "execution_count": null,
   "metadata": {},
   "outputs": [],
   "source": [
    "# restart kernel\n",
    "from IPython.core.display import HTML\n",
    "HTML(\"<script>Jupyter.notebook.kernel.restart()</script>\")"
   ]
  },
  {
   "cell_type": "markdown",
   "metadata": {},
   "source": [
    "#### Pre-requisites\n",
    "This notebook requires :\n",
    "- A Redshift cluster or workgroup already setup with your structured data ingested into the cluster\n",
    "- You've set-up the secrets manager for Workgroup & Secrets access pattern\n"
   ]
  },
  {
   "cell_type": "code",
   "execution_count": 20,
   "metadata": {},
   "outputs": [],
   "source": [
    "import json\n",
    "import os\n",
    "import boto3\n",
    "from botocore.exceptions import ClientError\n",
    "import pprint\n",
    "from utility import create_bedrock_execution_role_structured_rag, create_bedrock_execution_role_multi_ds, create_oss_policy_attach_bedrock_execution_role, create_policies_in_oss, interactive_sleep\n",
    "\n",
    "import random\n",
    "from retrying import retry\n",
    "suffix = random.randrange(200, 900)\n",
    "\n",
    "sts_client = boto3.client('sts')\n",
    "boto3_session = boto3.session.Session(region_name='us-east-1')\n",
    "region_name = boto3_session.region_name\n",
    "account_id = sts_client.get_caller_identity()[\"Account\"]\n",
    "\n",
    "bedrock_agent_client = boto3.client('bedrock-agent', region_name=region_name)\n",
    "bedrock_agent_runtime_client = boto3.client('bedrock-agent-runtime', region_name=region_name)\n",
    "\n",
    "\n",
    "pp = pprint.PrettyPrinter(indent=2)"
   ]
  },
  {
   "cell_type": "markdown",
   "metadata": {},
   "source": [
    "### Provide Structured data store details\n",
    "\n",
    "Currently Amazon Bedrock Knowledge Bases supports Amazon Redshift (A fully managed, petabyte-scale data warehouse service in the cloud that lets you access and analyze data without needing to configure provisioning and capacity.) as data store."
   ]
  },
  {
   "cell_type": "markdown",
   "metadata": {},
   "source": [
    "#### Set-up few variables and configurations needed for Structured RAG"
   ]
  },
  {
   "cell_type": "code",
   "execution_count": 2,
   "metadata": {},
   "outputs": [],
   "source": [
    "# Change below variables as needed\n",
    "\n",
    "name = f\"bedrock-sample-structured-kb-{suffix}\"\n",
    "description = \"Sample Structured KB.\"\n",
    "\n",
    "redshiftDBName = \"sample_data_dev\"\n",
    "workgroupArn =  \"arn:aws:redshift-serverless:us-east-1:017444429555:workgroup/ad3a0804-6ecf-4636-a798-a00c7f1293a7\"\n",
    "usernamePasswordSecretArn = \"arn:aws:secretsmanager:us-east-1:017444429555:secret:redshift-riv-test-user-h86sJH\""
   ]
  },
  {
   "cell_type": "markdown",
   "metadata": {},
   "source": [
    "Redshift acces pattern choice"
   ]
  },
  {
   "cell_type": "code",
   "execution_count": 3,
   "metadata": {},
   "outputs": [
    {
     "name": "stdout",
     "output_type": "stream",
     "text": [
      "Choose your Redshift access pattern:\n",
      "1. SECRET+WG\n",
      "2. IAM+WG\n"
     ]
    },
    {
     "data": {
      "application/vnd.jupyter.widget-view+json": {
       "model_id": "a636f426c90543848f95c15b98a271fc",
       "version_major": 2,
       "version_minor": 0
      },
      "text/plain": [
       "Text(value='', placeholder='Enter your choice (1-2)')"
      ]
     },
     "metadata": {},
     "output_type": "display_data"
    }
   ],
   "source": [
    "import ipywidgets as widgets\n",
    "from IPython.display import display\n",
    "\n",
    "# Display the choices to the user\n",
    "print(\"Choose your Redshift access pattern:\")\n",
    "print(\"1. SECRET+WG\")\n",
    "print(\"2. IAM+WG\")\n",
    "\n",
    "# Create a text input widget\n",
    "choice_widget = widgets.Text(placeholder=\"Enter your choice (1-2)\")\n",
    "\n",
    "# Display the widget\n",
    "display(choice_widget)\n"
   ]
  },
  {
   "cell_type": "code",
   "execution_count": 4,
   "metadata": {},
   "outputs": [
    {
     "name": "stdout",
     "output_type": "stream",
     "text": [
      "Access pattern:1 SECRET+WG\n"
     ]
    }
   ],
   "source": [
    "# Access the entered value\n",
    "access_pattern_choice = int(choice_widget.value)\n",
    "try:\n",
    "    access_pattern_choice = int(choice_widget.value)\n",
    "    if access_pattern_choice ==1:\n",
    "        print(f\"Access pattern:{choice_widget.value} SECRET+WG\")\n",
    "        workgroup_Arn = workgroupArn\n",
    "        usernamePasswordSecret_Arn = usernamePasswordSecretArn\n",
    "        \n",
    "        bedrock_kb_execution_role = create_bedrock_execution_role_structured_rag(workgroup_arn = workgroupArn, secrets_arn = usernamePasswordSecret_Arn)\n",
    "        bedrock_kb_execution_role_arn = bedrock_kb_execution_role['Role']['Arn']\n",
    "    else:\n",
    "        print(\"Invalid choice. Please enter a number between 1 and 2.\")\n",
    "except ValueError:\n",
    "    print(\"Invalid input. Please enter a number.\")"
   ]
  },
  {
   "cell_type": "code",
   "execution_count": 5,
   "metadata": {},
   "outputs": [
    {
     "data": {
      "text/plain": [
       "'arn:aws:iam::017444429555:role/AmazonBedrockExecutionRoleForKnowledgeBase_274'"
      ]
     },
     "execution_count": 5,
     "metadata": {},
     "output_type": "execute_result"
    }
   ],
   "source": [
    "bedrock_kb_execution_role_arn"
   ]
  },
  {
   "cell_type": "markdown",
   "metadata": {},
   "source": [
    "### Define Knowledge Bases Configuration to set-up Structured RAG"
   ]
  },
  {
   "cell_type": "code",
   "execution_count": 6,
   "metadata": {},
   "outputs": [],
   "source": [
    "kbConfigParam = {\n",
    "            \"type\": \"SQL\",\n",
    "            \"sqlKnowledgeBaseConfiguration\": {\n",
    "                \"type\": \"REDSHIFT\",\n",
    "                \"redshiftConfiguration\": {\n",
    "                    \"storageConfigurations\": [{\n",
    "                        \"type\": \"REDSHIFT\",\n",
    "                        \"redshiftConfiguration\": {\n",
    "                            \"databaseName\": redshiftDBName\n",
    "                        }\n",
    "                    }],\n",
    "                    \"queryEngineConfiguration\": {\n",
    "                        \"type\": \"SERVERLESS\",\n",
    "                        \"serverlessConfiguration\": {\n",
    "                            \"workgroupArn\": workgroupArn,\n",
    "                            \"authConfiguration\": {\n",
    "                                \"type\": \"USERNAME_PASSWORD\",\n",
    "                                \"usernamePasswordSecretArn\": usernamePasswordSecretArn\n",
    "                            }\n",
    "                        }\n",
    "                    }\n",
    "                }\n",
    "            }\n",
    "        }"
   ]
  },
  {
   "cell_type": "markdown",
   "metadata": {},
   "source": [
    "## Create Knowledge Bases"
   ]
  },
  {
   "cell_type": "code",
   "execution_count": 7,
   "metadata": {},
   "outputs": [],
   "source": [
    "# Create a KnowledgeBase\n",
    "from retrying import retry\n",
    "\n",
    "@retry(wait_random_min=1000, wait_random_max=2000,stop_max_attempt_number=7)\n",
    "def create_structured_kb_func():\n",
    "    create_kb_response = bedrock_agent_client.create_knowledge_base(\n",
    "        name = name,\n",
    "        description = description,\n",
    "        roleArn = bedrock_kb_execution_role_arn,\n",
    "        knowledgeBaseConfiguration = kbConfigParam\n",
    "    )\n",
    "    return create_kb_response[\"knowledgeBase\"]"
   ]
  },
  {
   "cell_type": "code",
   "execution_count": 8,
   "metadata": {},
   "outputs": [],
   "source": [
    "try:\n",
    "    kb = create_structured_kb_func()\n",
    "except Exception as err:\n",
    "    print(f\"{err=}, {type(err)=}\")"
   ]
  },
  {
   "cell_type": "code",
   "execution_count": 9,
   "metadata": {},
   "outputs": [
    {
     "name": "stdout",
     "output_type": "stream",
     "text": [
      "'O3AWVPVFSA'\n"
     ]
    }
   ],
   "source": [
    "# Print the knowledge base Id in bedrock, that corresponds to the Opensearch index in the collection we created before, we will use it for the invocation later\n",
    "kb_id = kb[\"knowledgeBaseId\"]\n",
    "pp.pprint(kb_id)"
   ]
  },
  {
   "cell_type": "markdown",
   "metadata": {},
   "source": [
    "## Create Data Source(s)"
   ]
  },
  {
   "cell_type": "code",
   "execution_count": 11,
   "metadata": {},
   "outputs": [],
   "source": [
    "## Create Data Source\n",
    "\n",
    "response = bedrock_agent_client.create_data_source(\n",
    "            dataSourceConfiguration= {\n",
    "                \"type\": \"REDSHIFT_METADATA\"\n",
    "            },\n",
    "            name=\"snghigf-redshift-DS\",\n",
    "            description=\"Metadata data source for redshift\" ,\n",
    "            knowledgeBaseId=kb['knowledgeBaseId']\n",
    "        )\n",
    "            "
   ]
  },
  {
   "cell_type": "code",
   "execution_count": 12,
   "metadata": {},
   "outputs": [
    {
     "name": "stdout",
     "output_type": "stream",
     "text": [
      "Data source created successfully. ID: CDVVQZHXWP\n"
     ]
    }
   ],
   "source": [
    "data_source_id = response['dataSource']['dataSourceId']\n",
    "print(f\"Data source created successfully. ID: {data_source_id}\")"
   ]
  },
  {
   "cell_type": "markdown",
   "metadata": {},
   "source": [
    "## Start Ingestion job"
   ]
  },
  {
   "cell_type": "code",
   "execution_count": 13,
   "metadata": {},
   "outputs": [
    {
     "name": "stdout",
     "output_type": "stream",
     "text": [
      "job started successfully\n",
      "\n",
      "{ 'dataSourceId': 'CDVVQZHXWP',\n",
      "  'ingestionJobId': '8JPTS948Y6',\n",
      "  'knowledgeBaseId': 'O3AWVPVFSA',\n",
      "  'startedAt': datetime.datetime(2024, 12, 10, 2, 12, 52, 139604, tzinfo=tzutc()),\n",
      "  'status': 'COMPLETE',\n",
      "  'updatedAt': datetime.datetime(2024, 12, 10, 2, 13, 49, 690763, tzinfo=tzutc())}\n"
     ]
    }
   ],
   "source": [
    "import time\n",
    "try:\n",
    "    start_job_response = bedrock_agent_client.start_ingestion_job(knowledgeBaseId = kb['knowledgeBaseId'], dataSourceId = data_source_id)\n",
    "    job = start_job_response[\"ingestionJob\"]\n",
    "    print(f\"job started successfully\\n\")\n",
    "\n",
    "    while job['status'] not in [\"COMPLETE\", \"FAILED\", \"STOPPED\"]:\n",
    "        get_job_response = bedrock_agent_client.get_ingestion_job(\n",
    "            knowledgeBaseId = kb['knowledgeBaseId'],\n",
    "            dataSourceId = data_source_id,\n",
    "            ingestionJobId = job[\"ingestionJobId\"]\n",
    "        )\n",
    "        job = get_job_response[\"ingestionJob\"]\n",
    "    pp.pprint(job)\n",
    "    time.sleep(10)\n",
    "\n",
    "except Exception as e:\n",
    "    print(f\"Couldn't start ingest job.\\n\")\n",
    "    print(e)\n",
    "    "
   ]
  },
  {
   "cell_type": "code",
   "execution_count": 14,
   "metadata": {},
   "outputs": [
    {
     "name": "stdout",
     "output_type": "stream",
     "text": [
      "Stored 'kb_id' (str)\n"
     ]
    }
   ],
   "source": [
    "# keep the kb_id for invocation later in the invoke request\n",
    "%store kb_id"
   ]
  },
  {
   "cell_type": "markdown",
   "metadata": {},
   "source": [
    "## Test the Structured RAG"
   ]
  },
  {
   "cell_type": "code",
   "execution_count": 15,
   "metadata": {},
   "outputs": [],
   "source": [
    "query = \"What are the venues are there in new york city?\""
   ]
  },
  {
   "cell_type": "markdown",
   "metadata": {},
   "source": [
    "### Using RetrieveAndGenerate API"
   ]
  },
  {
   "cell_type": "code",
   "execution_count": 21,
   "metadata": {},
   "outputs": [
    {
     "name": "stdout",
     "output_type": "stream",
     "text": [
      "The query returned a list of venues located in New York City, including Carnegie Hall, Yankee Stadium, Booth Theatre, Music Box Theatre, Ambassador Theatre, Hilton Theatre, Al Hirschfeld Theatre, Marquis Theatre, Studio 54, and Richard Rodgers Theatre among others. In total, there are 45 venues listed.\n",
      "\n"
     ]
    }
   ],
   "source": [
    "foundation_model = \"anthropic.claude-3-sonnet-20240229-v1:0\"\n",
    "\n",
    "response = bedrock_agent_runtime_client.retrieve_and_generate(\n",
    "    input={\n",
    "        \"text\": query\n",
    "    },\n",
    "    retrieveAndGenerateConfiguration={\n",
    "        \"type\": \"KNOWLEDGE_BASE\",\n",
    "        \"knowledgeBaseConfiguration\": {\n",
    "            'knowledgeBaseId': kb_id,\n",
    "            \"modelArn\": \"arn:aws:bedrock:{}::foundation-model/{}\".format(region_name, foundation_model),\n",
    "            \"retrievalConfiguration\": {\n",
    "                \"vectorSearchConfiguration\": {\n",
    "                    \"numberOfResults\":5\n",
    "                } \n",
    "            }\n",
    "        }\n",
    "    }\n",
    ")\n",
    "\n",
    "print(response['output']['text'],end='\\n'*2)"
   ]
  },
  {
   "cell_type": "markdown",
   "metadata": {},
   "source": [
    "### Using Retrieve API"
   ]
  },
  {
   "cell_type": "code",
   "execution_count": 22,
   "metadata": {},
   "outputs": [],
   "source": [
    "response_ret = bedrock_agent_runtime_client.retrieve(\n",
    "    knowledgeBaseId=kb_id, \n",
    "    nextToken='string',\n",
    "    retrievalConfiguration={\n",
    "        \"vectorSearchConfiguration\": {\n",
    "            \"numberOfResults\":5,\n",
    "        } \n",
    "    },\n",
    "    retrievalQuery={\n",
    "        \"text\": query\n",
    "    }\n",
    ")"
   ]
  },
  {
   "cell_type": "code",
   "execution_count": 23,
   "metadata": {},
   "outputs": [],
   "source": [
    "import json\n",
    "import pandas as pd\n",
    "\n",
    "#Function to extract retrieved results from Retrieve API response\n",
    "\n",
    "def response_print(retrieve_resp):\n",
    "\n",
    "    # Extract the retrievalResults list\n",
    "    retrieval_results = retrieve_resp['retrievalResults']\n",
    "\n",
    "    # Dictionary to store the extracted data\n",
    "    extracted_data = {}\n",
    "\n",
    "    # Iterate through each item in retrievalResults\n",
    "    for item in retrieval_results:\n",
    "        row = item['content']['row']\n",
    "        for col in row:\n",
    "            column_name = col['columnName']\n",
    "            column_value = col['columnValue']\n",
    "            \n",
    "            # If this column hasn't been seen before, create a new list for it\n",
    "            if column_name not in extracted_data:\n",
    "                extracted_data[column_name] = []\n",
    "            \n",
    "            # Append the value to the appropriate list\n",
    "            extracted_data[column_name].append(column_value)\n",
    "\n",
    "    # Create a DataFrame from the extracted data\n",
    "    df = pd.DataFrame(extracted_data)\n",
    "\n",
    "    return df\n",
    "    "
   ]
  },
  {
   "cell_type": "code",
   "execution_count": 24,
   "metadata": {},
   "outputs": [
    {
     "name": "stdout",
     "output_type": "stream",
     "text": [
      "            venuename      venuecity venuestate\n",
      "0       Carnegie Hall  New York City         NY\n",
      "1      Yankee Stadium  New York City         NY\n",
      "2       Booth Theatre  New York City         NY\n",
      "3   Music Box Theatre  New York City         NY\n",
      "4  Ambassador Theatre  New York City         NY\n"
     ]
    }
   ],
   "source": [
    "# Display the Retrieved results records\n",
    "df = response_print(response_ret)\n",
    "print(df.head())"
   ]
  },
  {
   "cell_type": "markdown",
   "metadata": {},
   "source": [
    "### Using Generate Query"
   ]
  },
  {
   "cell_type": "code",
   "execution_count": 30,
   "metadata": {},
   "outputs": [
    {
     "data": {
      "text/plain": [
       "\"SELECT v.venuename, v.venuecity, v.venuestate FROM tickit.venue v WHERE v.venuecity = 'New York City';\""
      ]
     },
     "execution_count": 30,
     "metadata": {},
     "output_type": "execute_result"
    }
   ],
   "source": [
    "query_response = bedrock_agent_runtime_client.generate_query(\n",
    "    queryGenerationInput={\n",
    "        \"text\": query,\n",
    "        \"type\": \"TEXT\"\n",
    "    },\n",
    "    transformationConfiguration={\n",
    "        \"mode\" : \"TEXT_TO_SQL\",\n",
    "        \"textToSqlConfiguration\": {\n",
    "            \"type\": \"KNOWLEDGE_BASE\",\n",
    "            \"knowledgeBaseConfiguration\": {\n",
    "                \"knowledgeBaseArn\": kb['knowledgeBaseArn']\n",
    "            }\n",
    "        }\n",
    "    }\n",
    ")\n",
    "\n",
    "generated_sql = query_response['queries'][0]['sql']\n",
    "generated_sql"
   ]
  },
  {
   "cell_type": "markdown",
   "metadata": {},
   "source": [
    "## Clean Up\n",
    "Please make sure to uncomment and run the below section to delete all the resources"
   ]
  },
  {
   "cell_type": "code",
   "execution_count": 31,
   "metadata": {},
   "outputs": [
    {
     "data": {
      "text/plain": [
       "{'ResponseMetadata': {'RequestId': 'e97a0e58-cfcf-4d5a-ba13-376b1eefc60b',\n",
       "  'HTTPStatusCode': 202,\n",
       "  'HTTPHeaders': {'date': 'Tue, 10 Dec 2024 02:25:57 GMT',\n",
       "   'content-type': 'application/json',\n",
       "   'content-length': '52',\n",
       "   'connection': 'keep-alive',\n",
       "   'x-amzn-requestid': 'e97a0e58-cfcf-4d5a-ba13-376b1eefc60b',\n",
       "   'x-amz-apigw-id': 'Cjb8XHdsoAMEGuw=',\n",
       "   'x-amzn-trace-id': 'Root=1-6757a6b5-07df9c5f3fa94c9d701939b7'},\n",
       "  'RetryAttempts': 0},\n",
       " 'knowledgeBaseId': 'O3AWVPVFSA',\n",
       " 'status': 'DELETING'}"
      ]
     },
     "execution_count": 31,
     "metadata": {},
     "output_type": "execute_result"
    }
   ],
   "source": [
    "bedrock_agent_client.delete_data_source(dataSourceId = data_source_id, knowledgeBaseId=kb['knowledgeBaseId'])\n",
    "bedrock_agent_client.delete_knowledge_base(knowledgeBaseId=kb['knowledgeBaseId'])"
   ]
  },
  {
   "cell_type": "code",
   "execution_count": 32,
   "metadata": {},
   "outputs": [
    {
     "name": "stdout",
     "output_type": "stream",
     "text": [
      "arn:aws:iam::017444429555:policy/AmazonBedrockFoundationModelPolicyForKnowledgeBase_274\n",
      "{'ResponseMetadata': {'RequestId': 'a2d2b9a6-dbdc-4476-9a3e-236bade5fe5e', 'HTTPStatusCode': 200, 'HTTPHeaders': {'date': 'Tue, 10 Dec 2024 02:26:01 GMT', 'x-amzn-requestid': 'a2d2b9a6-dbdc-4476-9a3e-236bade5fe5e', 'content-type': 'text/xml', 'content-length': '204'}, 'RetryAttempts': 0}}\n"
     ]
    },
    {
     "data": {
      "text/plain": [
       "{'ResponseMetadata': {'RequestId': 'e3f2fee3-faf6-43f3-bfd9-d42da088ede4',\n",
       "  'HTTPStatusCode': 200,\n",
       "  'HTTPHeaders': {'date': 'Tue, 10 Dec 2024 02:26:02 GMT',\n",
       "   'x-amzn-requestid': 'e3f2fee3-faf6-43f3-bfd9-d42da088ede4',\n",
       "   'content-type': 'text/xml',\n",
       "   'content-length': '200'},\n",
       "  'RetryAttempts': 0}}"
      ]
     },
     "execution_count": 32,
     "metadata": {},
     "output_type": "execute_result"
    }
   ],
   "source": [
    "# Delete role and policies\n",
    "\n",
    "iam = boto3.resource('iam')\n",
    "client = boto3.client('iam')\n",
    "\n",
    "role_name = bedrock_kb_execution_role['Role']['RoleName']\n",
    "\n",
    "def get_attached_policies(role_name):\n",
    "    response = client.list_attached_role_policies(RoleName=role_name)\n",
    "    attached_policies = response['AttachedPolicies']\n",
    "    return attached_policies\n",
    "\n",
    "attached_policies = get_attached_policies(role_name)\n",
    "attached_policies\n",
    "\n",
    "for policy in attached_policies:\n",
    "        print(policy['PolicyArn'])\n",
    "        policy_name = policy['PolicyName']\n",
    "        policy_arn = policy['PolicyArn']\n",
    "\n",
    "        client.detach_role_policy(RoleName=role_name,\n",
    "            PolicyArn=policy_arn)\n",
    "        \n",
    "        response = client.delete_policy(\n",
    "            PolicyArn=policy_arn\n",
    "        )\n",
    "        print(response)\n",
    "\n",
    "client.delete_role(RoleName=role_name)"
   ]
  }
 ],
 "metadata": {
  "kernelspec": {
   "display_name": "structured-rag",
   "language": "python",
   "name": "python3"
  },
  "language_info": {
   "codemirror_mode": {
    "name": "ipython",
    "version": 3
   },
   "file_extension": ".py",
   "mimetype": "text/x-python",
   "name": "python",
   "nbconvert_exporter": "python",
   "pygments_lexer": "ipython3",
   "version": "3.10.13"
  }
 },
 "nbformat": 4,
 "nbformat_minor": 2
}
