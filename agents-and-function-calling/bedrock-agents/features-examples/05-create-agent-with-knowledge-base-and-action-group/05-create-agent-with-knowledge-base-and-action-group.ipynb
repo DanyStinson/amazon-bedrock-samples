{
 "cells": [
  {
   "cell_type": "markdown",
   "id": "a0bb5c39-2fde-4336-8127-8debe7cb2741",
   "metadata": {
    "pycharm": {
     "name": "#%% md\n"
    }
   },
   "source": [
    "# Create an agent integrated with Bedrock Knowledge Bases and attach Action Group\n",
    "\n",
    "In this notebook you will learn how to create an Amazon Bedrock Agent that makes use of Knowledge Bases for Amazon Bedrock to retrieve data about a restaurant's menu. The use case create a restaurant agent, it's tasks will be to give information to the clients about the adults or childrens menu and be in charge of the table booking system. Client's will be able to create, delete or get booking information. The architecture looks as following:\n",
    "\n",
    "<img src=\"images/architecture.png\" style=\"width:70%;display:block;margin: 0 auto;\">\n",
    "<br/>\n",
    "\n",
    "The steps to complete this notebook are:\n",
    "\n",
    "1. Import the needed libraries\n",
    "1. Create the Knowledge Base for Amazon Bedrock\n",
    "1. Upload the dataset to Amazon S3\n",
    "1. Create the Agent for Amazon Bedrock\n",
    "1. Test the Agent\n",
    "1. Clean-up the resources created"
   ]
  },
  {
   "cell_type": "markdown",
   "id": "076a5aba-9735-4e98-8a53-0daccd7e94b0",
   "metadata": {
    "pycharm": {
     "name": "#%% md\n"
    }
   },
   "source": [
    "## 1. Import the needed libraries"
   ]
  },
  {
   "cell_type": "markdown",
   "id": "4fa67d7a",
   "metadata": {
    "pycharm": {
     "name": "#%% md\n"
    }
   },
   "source": [
    "First step is to install the pre-requisites packages"
   ]
  },
  {
   "cell_type": "code",
   "execution_count": 1,
   "id": "ac05c073-d45b-4d85-9bf8-ae10aa78be8d",
   "metadata": {
    "pycharm": {
     "name": "#%%\n"
    },
    "tags": []
   },
   "outputs": [],
   "source": [
    "!pip install --upgrade -q -r requirements.txt"
   ]
  },
  {
   "cell_type": "code",
   "execution_count": 2,
   "id": "e8ad6ec2-b283-4c5d-879f-e397e46568c0",
   "metadata": {
    "pycharm": {
     "name": "#%%\n"
    },
    "tags": []
   },
   "outputs": [],
   "source": [
    "import os\n",
    "import time\n",
    "import boto3\n",
    "import logging\n",
    "import pprint\n",
    "import json\n",
    "\n",
    "from knowledge_base import BedrockKnowledgeBase\n",
    "from agent import create_agent_role_and_policies, create_lambda_role, delete_agent_roles_and_policies\n",
    "from agent import create_dynamodb, create_lambda, clean_up_resources"
   ]
  },
  {
   "cell_type": "code",
   "execution_count": 3,
   "id": "d2b2d607-c1f2-4cbb-9f89-d935676e0101",
   "metadata": {
    "pycharm": {
     "name": "#%%\n"
    },
    "tags": []
   },
   "outputs": [
    {
     "data": {
      "text/plain": [
       "('us-east-1', '061051260563')"
      ]
     },
     "execution_count": 3,
     "metadata": {},
     "output_type": "execute_result"
    }
   ],
   "source": [
    "#Clients\n",
    "s3_client = boto3.client('s3')\n",
    "sts_client = boto3.client('sts')\n",
    "session = boto3.session.Session()\n",
    "region = session.region_name\n",
    "account_id = sts_client.get_caller_identity()[\"Account\"]\n",
    "bedrock_agent_client = boto3.client('bedrock-agent')\n",
    "bedrock_agent_runtime_client = boto3.client('bedrock-agent-runtime')\n",
    "logging.basicConfig(format='[%(asctime)s] p%(process)s {%(filename)s:%(lineno)d} %(levelname)s - %(message)s', level=logging.INFO)\n",
    "logger = logging.getLogger(__name__)\n",
    "region, account_id"
   ]
  },
  {
   "cell_type": "code",
   "execution_count": 4,
   "id": "d647d2a3",
   "metadata": {
    "pycharm": {
     "name": "#%%\n"
    },
    "tags": []
   },
   "outputs": [],
   "source": [
    "suffix = f\"{region}-{account_id}\"\n",
    "agent_name = 'booking-agent'\n",
    "knowledge_base_name = f'{agent_name}-kb'\n",
    "knowledge_base_description = \"Knowledge Base containing the restaurant menu's collection\"\n",
    "agent_alias_name = \"booking-agent-alias\"\n",
    "bucket_name = f'{agent_name}-{suffix}'\n",
    "agent_bedrock_allow_policy_name = f\"{agent_name}-ba\"\n",
    "agent_role_name = f'AmazonBedrockExecutionRoleForAgents_{agent_name}'\n",
    "agent_description = \"Agent in charge of a restaurants table bookings\"\n",
    "agent_instruction = \"\"\"\n",
    "You are a restaurant agent, helping clients retrieve information from their booking, \n",
    "create a new booking or delete an existing booking\n",
    "\"\"\"\n",
    "\n",
    "agent_action_group_description = \"\"\"\n",
    "Actions for getting table booking information, create a new booking or delete an existing booking\"\"\"\n",
    "\n",
    "agent_action_group_name = \"TableBookingsActionGroup\""
   ]
  },
  {
   "cell_type": "markdown",
   "id": "c6e1d05e",
   "metadata": {},
   "source": [
    "Specify foundational model of choice below. \n",
    "\n",
    "To specify this, update the foundational model id for the specific model you would like to choose.\n",
    "- **Amazon Nova Pro**: us.amazon.nova-pro-v1:0\n",
    "- **Anthropic Claude 3.5 Sonnet v2**: us.anthropic.claude-3-sonnet-20240229-v1:0"
   ]
  },
  {
   "cell_type": "code",
   "execution_count": null,
   "id": "9d0971c2",
   "metadata": {},
   "outputs": [
    {
     "name": "stdout",
     "output_type": "stream",
     "text": [
      "amazon.nova-pro-v1:0\n"
     ]
    }
   ],
   "source": [
    "# inference_profile = \"us.anthropic.claude-3-sonnet-20240229-v1:0\"\n",
    "inference_profile = \"us.amazon.nova-pro-v1:0\"\n",
    "foundation_model = inference_profile[3:] \n",
    "\n",
    "print(foundation_model)"
   ]
  },
  {
   "cell_type": "markdown",
   "id": "38c38fcb-9b87-414e-a644-04c263eea5c9",
   "metadata": {
    "pycharm": {
     "name": "#%% md\n"
    }
   },
   "source": [
    "## 2. Create Knowledge Base for Amazon Bedrock\n",
    "Let's start by creating a [Knowledge Base for Amazon Bedrock](https://aws.amazon.com/bedrock/knowledge-bases/) to store the restaurant menus. Knowledge Bases allow you to integrate with different vector databases including [Amazon OpenSearch Serverless](https://aws.amazon.com/opensearch-service/features/serverless/), [Amazon Aurora](https://aws.amazon.com/rds/aurora/) and [Pinecone](http://app.pinecone.io/bedrock-integration). For this example, we will integrate the knowledge base with Amazon OpenSearch Serverless. To do so, we will use the helper class `BedrockKnowledgeBase` which will create the knowledge base and all of its pre-requisites:\n",
    "1. IAM roles and policies\n",
    "2. S3 bucket\n",
    "3. Amazon OpenSearch Serverless encryption, network and data access policies\n",
    "4. Amazon OpenSearch Serverless collection\n",
    "5. Amazon OpenSearch Serverless vector index\n",
    "6. Knowledge base\n",
    "7. Knowledge base data source"
   ]
  },
  {
   "cell_type": "code",
   "execution_count": 6,
   "id": "2c39c2d9-7965-4c22-a74b-65d1961c4166",
   "metadata": {
    "pycharm": {
     "name": "#%%\n"
    },
    "tags": []
   },
   "outputs": [
    {
     "name": "stderr",
     "output_type": "stream",
     "text": [
      "[2025-04-21 16:38:02,415] p60689 {credentials.py:1352} INFO - Found credentials in shared credentials file: ~/.aws/credentials\n",
      "[2025-04-21 16:38:02,912] p60689 {credentials.py:1352} INFO - Found credentials in shared credentials file: ~/.aws/credentials\n"
     ]
    },
    {
     "name": "stdout",
     "output_type": "stream",
     "text": [
      "========================================================================================\n",
      "Step 1 - Creating or retrieving booking-agent-us-east-1-061051260563 S3 bucket for Knowledge Base documents\n",
      "Creating bucket booking-agent-us-east-1-061051260563\n",
      "========================================================================================\n",
      "Step 2 - Creating Knowledge Base Execution Role (AmazonBedrockExecutionRoleForKnowledgeBase_0610) and Policies\n",
      "========================================================================================\n",
      "Step 3 - Creating OSS encryption, network and data access policies\n",
      "========================================================================================\n",
      "Step 4 - Creating OSS Collection (this step takes a couple of minutes to complete)\n",
      "{ 'ResponseMetadata': { 'HTTPHeaders': { 'connection': 'keep-alive',\n",
      "                                         'content-length': '315',\n",
      "                                         'content-type': 'application/x-amz-json-1.0',\n",
      "                                         'date': 'Mon, 21 Apr 2025 21:38:07 '\n",
      "                                                 'GMT',\n",
      "                                         'x-amzn-requestid': 'd8b7792e-4757-4d00-85e8-c954cc714ee8'},\n",
      "                        'HTTPStatusCode': 200,\n",
      "                        'RequestId': 'd8b7792e-4757-4d00-85e8-c954cc714ee8',\n",
      "                        'RetryAttempts': 0},\n",
      "  'createCollectionDetail': { 'arn': 'arn:aws:aoss:us-east-1:061051260563:collection/izdca7jrovew0ijr185k',\n",
      "                              'createdDate': 1745271486902,\n",
      "                              'id': 'izdca7jrovew0ijr185k',\n",
      "                              'kmsKeyArn': 'auto',\n",
      "                              'lastModifiedDate': 1745271486902,\n",
      "                              'name': 'bedrock-sample-rag-0610',\n",
      "                              'standbyReplicas': 'ENABLED',\n",
      "                              'status': 'CREATING',\n",
      "                              'type': 'VECTORSEARCH'}}\n",
      "izdca7jrovew0ijr185k.us-east-1.aoss.amazonaws.com\n",
      "Creating collection...\n",
      "Creating collection...........\n",
      "Creating collection...........\n",
      "Creating collection...........\n",
      "Creating collection...........\n",
      "Creating collection...........\n",
      "Creating collection...........\n",
      "..............................\n",
      "Collection successfully created:\n",
      "[ { 'arn': 'arn:aws:aoss:us-east-1:061051260563:collection/izdca7jrovew0ijr185k',\n",
      "    'collectionEndpoint': 'https://izdca7jrovew0ijr185k.us-east-1.aoss.amazonaws.com',\n",
      "    'createdDate': 1745271486902,\n",
      "    'dashboardEndpoint': 'https://izdca7jrovew0ijr185k.us-east-1.aoss.amazonaws.com/_dashboards',\n",
      "    'id': 'izdca7jrovew0ijr185k',\n",
      "    'kmsKeyArn': 'auto',\n",
      "    'lastModifiedDate': 1745271692975,\n",
      "    'name': 'bedrock-sample-rag-0610',\n",
      "    'standbyReplicas': 'ENABLED',\n",
      "    'status': 'ACTIVE',\n",
      "    'type': 'VECTORSEARCH'}]\n",
      "Opensearch serverless arn:  arn:aws:iam::061051260563:policy/AmazonBedrockOSSPolicyForKnowledgeBase_0610\n",
      "Sleeping for a minute to ensure data access rules have been enforced\n",
      "========================================================================================\n",
      "Step 5 - Creating OSS Vector Index\n"
     ]
    },
    {
     "name": "stderr",
     "output_type": "stream",
     "text": [
      "[2025-04-21 16:42:40,906] p60689 {base.py:258} INFO - PUT https://izdca7jrovew0ijr185k.us-east-1.aoss.amazonaws.com:443/bedrock-sample-rag-index-0610 [status:200 request:1.438s]\n"
     ]
    },
    {
     "name": "stdout",
     "output_type": "stream",
     "text": [
      "\n",
      "Creating index:\n",
      "{ 'acknowledged': True,\n",
      "  'index': 'bedrock-sample-rag-index-0610',\n",
      "  'shards_acknowledged': True}\n",
      "========================================================================================\n",
      "Step 6 - Creating Knowledge Base\n",
      "{ 'createdAt': datetime.datetime(2025, 4, 21, 20, 48, 6, 980933, tzinfo=tzutc()),\n",
      "  'description': \"Knowledge Base containing the restaurant menu's collection\",\n",
      "  'failureReasons': [ 'Unable to delete data from vector store for data source '\n",
      "                      'with ID MZAUSHOHCW. Check your vector store '\n",
      "                      'configurations and permissions and retry your request. '\n",
      "                      'If the issue persists, consider updating the '\n",
      "                      'dataDeletionPolicy of the data source to RETAIN and '\n",
      "                      'retry your request.'],\n",
      "  'knowledgeBaseArn': 'arn:aws:bedrock:us-east-1:061051260563:knowledge-base/RDDLVGAW37',\n",
      "  'knowledgeBaseConfiguration': { 'type': 'VECTOR',\n",
      "                                  'vectorKnowledgeBaseConfiguration': { 'embeddingModelArn': 'arn:aws:bedrock:us-east-1::foundation-model/amazon.titan-embed-text-v1'}},\n",
      "  'knowledgeBaseId': 'RDDLVGAW37',\n",
      "  'name': 'booking-agent-kb',\n",
      "  'roleArn': 'arn:aws:iam::061051260563:role/AmazonBedrockExecutionRoleForKnowledgeBase_0610',\n",
      "  'status': 'DELETE_UNSUCCESSFUL',\n",
      "  'storageConfiguration': { 'opensearchServerlessConfiguration': { 'collectionArn': 'arn:aws:aoss:us-east-1:061051260563:collection/fzfqd1cx2xbvbb18kuu6',\n",
      "                                                                   'fieldMapping': { 'metadataField': 'text-metadata',\n",
      "                                                                                     'textField': 'text',\n",
      "                                                                                     'vectorField': 'vector'},\n",
      "                                                                   'vectorIndexName': 'bedrock-sample-rag-index-0610'},\n",
      "                            'type': 'OPENSEARCH_SERVERLESS'},\n",
      "  'updatedAt': datetime.datetime(2025, 4, 21, 21, 15, 5, 474917, tzinfo=tzutc())}\n",
      "{ 'createdAt': datetime.datetime(2025, 4, 21, 20, 48, 9, 331576, tzinfo=tzutc()),\n",
      "  'dataDeletionPolicy': 'DELETE',\n",
      "  'dataSourceConfiguration': { 's3Configuration': { 'bucketArn': 'arn:aws:s3:::booking-agent-us-east-1-061051260563'},\n",
      "                               'type': 'S3'},\n",
      "  'dataSourceId': 'MZAUSHOHCW',\n",
      "  'description': \"Knowledge Base containing the restaurant menu's collection\",\n",
      "  'failureReasons': [ 'Unable to delete data from vector store for data source '\n",
      "                      'with ID MZAUSHOHCW. Check your vector store '\n",
      "                      'configurations and permissions and retry your request. '\n",
      "                      'If the issue persists, consider updating the '\n",
      "                      'dataDeletionPolicy of the data source to RETAIN and '\n",
      "                      'retry your request.'],\n",
      "  'knowledgeBaseId': 'RDDLVGAW37',\n",
      "  'name': 'booking-agent-kb',\n",
      "  'status': 'DELETE_UNSUCCESSFUL',\n",
      "  'updatedAt': datetime.datetime(2025, 4, 21, 21, 15, 4, 990822, tzinfo=tzutc()),\n",
      "  'vectorIngestionConfiguration': { 'chunkingConfiguration': { 'chunkingStrategy': 'FIXED_SIZE',\n",
      "                                                               'fixedSizeChunkingConfiguration': { 'maxTokens': 512,\n",
      "                                                                                                   'overlapPercentage': 20}}}}\n",
      "========================================================================================\n"
     ]
    }
   ],
   "source": [
    "knowledge_base = BedrockKnowledgeBase(\n",
    "    kb_name=knowledge_base_name,\n",
    "    kb_description=knowledge_base_description,\n",
    "    data_bucket_name=bucket_name\n",
    ")"
   ]
  },
  {
   "cell_type": "markdown",
   "id": "c6b5819d-93a9-44d3-8eaa-5ed1da6a8c95",
   "metadata": {
    "pycharm": {
     "name": "#%% md\n"
    }
   },
   "source": [
    "## 3. Upload the dataset to Amazon S3\n",
    "Now that we have created the knowledge base, let's populate it with the menu's dataset. The Knowledge Base data source expects the data to be available on the S3 bucket connected to it and changes on the data can be syncronized to the knowledge base using the `StartIngestionJob` API call. In this example we will use the [boto3 abstraction](https://boto3.amazonaws.com/v1/documentation/api/latest/reference/services/bedrock-agent/client/start_ingestion_job.html) of the API, via our helper classe. \n",
    "\n",
    "Let's first upload the menu's data available on the `dataset` folder to s3"
   ]
  },
  {
   "cell_type": "code",
   "execution_count": 7,
   "id": "ceecf498-e42e-4fdd-ad2e-e646a4ef4adb",
   "metadata": {
    "pycharm": {
     "name": "#%%\n"
    },
    "tags": []
   },
   "outputs": [
    {
     "name": "stdout",
     "output_type": "stream",
     "text": [
      "uploading file dataset/Restaurant_Childrens_Menu.pdf to booking-agent-us-east-1-061051260563\n",
      "uploading file dataset/Restaurant_Dinner_Menu.pdf to booking-agent-us-east-1-061051260563\n",
      "uploading file dataset/Restaurant_week_specials.pdf to booking-agent-us-east-1-061051260563\n"
     ]
    }
   ],
   "source": [
    "def upload_directory(path, bucket_name):\n",
    "        for root,dirs,files in os.walk(path):\n",
    "            for file in files:\n",
    "                file_to_upload = os.path.join(root,file)\n",
    "                print(f\"uploading file {file_to_upload} to {bucket_name}\")\n",
    "                s3_client.upload_file(file_to_upload,bucket_name,file)\n",
    "\n",
    "upload_directory(\"dataset\", bucket_name)"
   ]
  },
  {
   "cell_type": "markdown",
   "id": "48e46273-0267-4ecb-a686-2b1694b5a604",
   "metadata": {
    "pycharm": {
     "name": "#%% md\n"
    }
   },
   "source": [
    "Now we start the ingestion job"
   ]
  },
  {
   "cell_type": "code",
   "execution_count": 10,
   "id": "1bb7a9bc-5bba-4066-8fa3-a4c5a1385e95",
   "metadata": {
    "pycharm": {
     "name": "#%%\n"
    },
    "tags": []
   },
   "outputs": [
    {
     "ename": "ConflictException",
     "evalue": "An error occurred (ConflictException) when calling the StartIngestionJob operation: You cannot start an ingestion job on a knowledgeBase with status DELETE_UNSUCCESSFUL.",
     "output_type": "error",
     "traceback": [
      "\u001b[31m---------------------------------------------------------------------------\u001b[39m",
      "\u001b[31mConflictException\u001b[39m                         Traceback (most recent call last)",
      "\u001b[36mCell\u001b[39m\u001b[36m \u001b[39m\u001b[32mIn[10]\u001b[39m\u001b[32m, line 4\u001b[39m\n\u001b[32m      2\u001b[39m time.sleep(\u001b[32m30\u001b[39m)\n\u001b[32m      3\u001b[39m \u001b[38;5;66;03m# sync knowledge base\u001b[39;00m\n\u001b[32m----> \u001b[39m\u001b[32m4\u001b[39m \u001b[43mknowledge_base\u001b[49m\u001b[43m.\u001b[49m\u001b[43mstart_ingestion_job\u001b[49m\u001b[43m(\u001b[49m\u001b[43m)\u001b[49m\n",
      "\u001b[36mFile \u001b[39m\u001b[32m~/Desktop/amazon-bedrock-samples/agents-and-function-calling/bedrock-agents/features-examples/05-create-agent-with-knowledge-base-and-action-group/knowledge_base.py:534\u001b[39m, in \u001b[36mBedrockKnowledgeBase.start_ingestion_job\u001b[39m\u001b[34m(self)\u001b[39m\n\u001b[32m    530\u001b[39m \u001b[38;5;250m\u001b[39m\u001b[33;03m\"\"\"\u001b[39;00m\n\u001b[32m    531\u001b[39m \u001b[33;03mStart an ingestion job to synchronize data from an S3 bucket to the Knowledge Base\u001b[39;00m\n\u001b[32m    532\u001b[39m \u001b[33;03m\"\"\"\u001b[39;00m\n\u001b[32m    533\u001b[39m \u001b[38;5;66;03m# Start an ingestion job\u001b[39;00m\n\u001b[32m--> \u001b[39m\u001b[32m534\u001b[39m start_job_response = \u001b[38;5;28;43mself\u001b[39;49m\u001b[43m.\u001b[49m\u001b[43mbedrock_agent_client\u001b[49m\u001b[43m.\u001b[49m\u001b[43mstart_ingestion_job\u001b[49m\u001b[43m(\u001b[49m\n\u001b[32m    535\u001b[39m \u001b[43m    \u001b[49m\u001b[43mknowledgeBaseId\u001b[49m\u001b[43m=\u001b[49m\u001b[38;5;28;43mself\u001b[39;49m\u001b[43m.\u001b[49m\u001b[43mknowledge_base\u001b[49m\u001b[43m[\u001b[49m\u001b[33;43m'\u001b[39;49m\u001b[33;43mknowledgeBaseId\u001b[39;49m\u001b[33;43m'\u001b[39;49m\u001b[43m]\u001b[49m\u001b[43m,\u001b[49m\n\u001b[32m    536\u001b[39m \u001b[43m    \u001b[49m\u001b[43mdataSourceId\u001b[49m\u001b[43m=\u001b[49m\u001b[38;5;28;43mself\u001b[39;49m\u001b[43m.\u001b[49m\u001b[43mdata_source\u001b[49m\u001b[43m[\u001b[49m\u001b[33;43m\"\u001b[39;49m\u001b[33;43mdataSourceId\u001b[39;49m\u001b[33;43m\"\u001b[39;49m\u001b[43m]\u001b[49m\n\u001b[32m    537\u001b[39m \u001b[43m\u001b[49m\u001b[43m)\u001b[49m\n\u001b[32m    538\u001b[39m job = start_job_response[\u001b[33m\"\u001b[39m\u001b[33mingestionJob\u001b[39m\u001b[33m\"\u001b[39m]\n\u001b[32m    539\u001b[39m pp.pprint(job)\n",
      "\u001b[36mFile \u001b[39m\u001b[32m~/ipykernel_env/lib/python3.13/site-packages/botocore/client.py:570\u001b[39m, in \u001b[36mClientCreator._create_api_method.<locals>._api_call\u001b[39m\u001b[34m(self, *args, **kwargs)\u001b[39m\n\u001b[32m    566\u001b[39m     \u001b[38;5;28;01mraise\u001b[39;00m \u001b[38;5;167;01mTypeError\u001b[39;00m(\n\u001b[32m    567\u001b[39m         \u001b[33mf\u001b[39m\u001b[33m\"\u001b[39m\u001b[38;5;132;01m{\u001b[39;00mpy_operation_name\u001b[38;5;132;01m}\u001b[39;00m\u001b[33m() only accepts keyword arguments.\u001b[39m\u001b[33m\"\u001b[39m\n\u001b[32m    568\u001b[39m     )\n\u001b[32m    569\u001b[39m \u001b[38;5;66;03m# The \"self\" in this scope is referring to the BaseClient.\u001b[39;00m\n\u001b[32m--> \u001b[39m\u001b[32m570\u001b[39m \u001b[38;5;28;01mreturn\u001b[39;00m \u001b[38;5;28;43mself\u001b[39;49m\u001b[43m.\u001b[49m\u001b[43m_make_api_call\u001b[49m\u001b[43m(\u001b[49m\u001b[43moperation_name\u001b[49m\u001b[43m,\u001b[49m\u001b[43m \u001b[49m\u001b[43mkwargs\u001b[49m\u001b[43m)\u001b[49m\n",
      "\u001b[36mFile \u001b[39m\u001b[32m~/ipykernel_env/lib/python3.13/site-packages/botocore/context.py:124\u001b[39m, in \u001b[36mwith_current_context.<locals>.decorator.<locals>.wrapper\u001b[39m\u001b[34m(*args, **kwargs)\u001b[39m\n\u001b[32m    122\u001b[39m \u001b[38;5;28;01mif\u001b[39;00m hook:\n\u001b[32m    123\u001b[39m     hook()\n\u001b[32m--> \u001b[39m\u001b[32m124\u001b[39m \u001b[38;5;28;01mreturn\u001b[39;00m \u001b[43mfunc\u001b[49m\u001b[43m(\u001b[49m\u001b[43m*\u001b[49m\u001b[43margs\u001b[49m\u001b[43m,\u001b[49m\u001b[43m \u001b[49m\u001b[43m*\u001b[49m\u001b[43m*\u001b[49m\u001b[43mkwargs\u001b[49m\u001b[43m)\u001b[49m\n",
      "\u001b[36mFile \u001b[39m\u001b[32m~/ipykernel_env/lib/python3.13/site-packages/botocore/client.py:1031\u001b[39m, in \u001b[36mBaseClient._make_api_call\u001b[39m\u001b[34m(self, operation_name, api_params)\u001b[39m\n\u001b[32m   1027\u001b[39m     error_code = error_info.get(\u001b[33m\"\u001b[39m\u001b[33mQueryErrorCode\u001b[39m\u001b[33m\"\u001b[39m) \u001b[38;5;129;01mor\u001b[39;00m error_info.get(\n\u001b[32m   1028\u001b[39m         \u001b[33m\"\u001b[39m\u001b[33mCode\u001b[39m\u001b[33m\"\u001b[39m\n\u001b[32m   1029\u001b[39m     )\n\u001b[32m   1030\u001b[39m     error_class = \u001b[38;5;28mself\u001b[39m.exceptions.from_code(error_code)\n\u001b[32m-> \u001b[39m\u001b[32m1031\u001b[39m     \u001b[38;5;28;01mraise\u001b[39;00m error_class(parsed_response, operation_name)\n\u001b[32m   1032\u001b[39m \u001b[38;5;28;01melse\u001b[39;00m:\n\u001b[32m   1033\u001b[39m     \u001b[38;5;28;01mreturn\u001b[39;00m parsed_response\n",
      "\u001b[31mConflictException\u001b[39m: An error occurred (ConflictException) when calling the StartIngestionJob operation: You cannot start an ingestion job on a knowledgeBase with status DELETE_UNSUCCESSFUL."
     ]
    }
   ],
   "source": [
    "# ensure that the kb is available\n",
    "time.sleep(30)\n",
    "# sync knowledge base\n",
    "knowledge_base.start_ingestion_job()"
   ]
  },
  {
   "cell_type": "markdown",
   "id": "9c85cbee-9359-4927-ae16-fa7af42cf981",
   "metadata": {
    "pycharm": {
     "name": "#%% md\n"
    }
   },
   "source": [
    "Finally we collect the Knowledge Base Id to integrate it with our Agent later on"
   ]
  },
  {
   "cell_type": "code",
   "execution_count": null,
   "id": "f71287af-0b7f-44d7-99ed-fa292ede4001",
   "metadata": {
    "pycharm": {
     "name": "#%%\n"
    },
    "tags": []
   },
   "outputs": [
    {
     "name": "stdout",
     "output_type": "stream",
     "text": [
      "'RDDLVGAW37'\n"
     ]
    }
   ],
   "source": [
    "kb_id = knowledge_base.get_knowledge_base_id()"
   ]
  },
  {
   "cell_type": "markdown",
   "id": "315e0df7-4008-4fb4-b28d-a4df6ff446f6",
   "metadata": {
    "pycharm": {
     "name": "#%% md\n"
    }
   },
   "source": [
    "### 3.1 Test the Knowledge Base\n",
    "Now the Knowlegde Base is available we can test it out using the [**retrieve**](https://boto3.amazonaws.com/v1/documentation/api/latest/reference/services/bedrock-agent-runtime/client/retrieve.html) and [**retrieve_and_generate**](https://boto3.amazonaws.com/v1/documentation/api/latest/reference/services/bedrock-agent-runtime/client/retrieve_and_generate.html) functions. \n",
    "\n",
    "#### Testing Knowledge Base with Retrieve and Generate API\n",
    "\n",
    "Let's first test the knowledge base using the retrieve and generate API. With this API, Bedrock takes care of retrieving the necessary references from the knowledge base and generating the final answer using a LLM model from Bedrock"
   ]
  },
  {
   "cell_type": "code",
   "execution_count": null,
   "id": "f199e822-6e06-4bac-9dbf-40ff0be98598",
   "metadata": {
    "pycharm": {
     "name": "#%%\n"
    },
    "tags": []
   },
   "outputs": [
    {
     "name": "stdout",
     "output_type": "stream",
     "text": [
      "The five mains available in the children's menu are:\n",
      "\n",
      "1. MINI CHEESEBURGERS 2. FISH STICKS 3. GRILLED CHEESE SANDWICH 4. SPAGHETTI WITH MARINARA SAUCE 5. MINI PITA PIZZA\n",
      "\n"
     ]
    }
   ],
   "source": [
    "response = bedrock_agent_runtime_client.retrieve_and_generate(\n",
    "    input={\n",
    "        \"text\": \"Which are the 5 mains available in the childrens menu?\"\n",
    "    },\n",
    "    retrieveAndGenerateConfiguration={\n",
    "        \"type\": \"KNOWLEDGE_BASE\",\n",
    "        \"knowledgeBaseConfiguration\": {\n",
    "            'knowledgeBaseId': kb_id,\n",
    "            \"modelArn\": \"arn:aws:bedrock:{}::foundation-model/{}\".format(region, foundation_model),\n",
    "            \"retrievalConfiguration\": {\n",
    "                \"vectorSearchConfiguration\": {\n",
    "                    \"numberOfResults\":5\n",
    "                } \n",
    "            }\n",
    "        }\n",
    "    }\n",
    ")\n",
    "\n",
    "print(response['output']['text'],end='\\n'*2)"
   ]
  },
  {
   "cell_type": "markdown",
   "id": "e6e4235c",
   "metadata": {
    "pycharm": {
     "name": "#%% md\n"
    }
   },
   "source": [
    "As you can see, with the retrieve and generate API we get the final response directly and we don't see the different sources used to generate this response. Let's now retrieve the source information from the knowledge base with the retrieve API.\n",
    "\n",
    "#### Testing Knowledge Base with Retrieve API\n",
    "If you need an extra layer of control, you can retrieve the chuncks that best match your query using the retrieve API. In this setup, we can configure the desired number of results and control the final answer with your own application logic. The API then provides you with the matching content, its S3 location, the similarity score and the chunk metadata"
   ]
  },
  {
   "cell_type": "code",
   "execution_count": null,
   "id": "34a3f96b-926a-411c-bef7-38c4689fed7b",
   "metadata": {
    "pycharm": {
     "name": "#%%\n"
    },
    "tags": []
   },
   "outputs": [
    {
     "name": "stdout",
     "output_type": "stream",
     "text": [
      "Chunk 1:  The Regrettable Experience — Children's Menu Entrees:     1. CHICKEN NUGGETS     ●     ●     ●     Description: Crispy chicken nuggets served with a side of ketchup or ranch dressing.     Allergens: Gluten (in the coating), possible Soy.     Suitable for Vegetarians: No     2. MACARONI AND CHEESE     ●     ●     ●     Description: Classic macaroni pasta smothered in creamy cheese sauce.     Allergens: Dairy, Gluten.     Suitable for Vegetarians: Yes     3. MINI CHEESE QUESADILLAS     ●     ●     ●     Description: Small flour tortillas filled with melted cheese, served with a mild salsa.     Allergens: Dairy, Gluten.     Suitable for Vegetarians: Yes     4. PEANUT BUTTER AND BANANA SANDWICH     ●     ●     ●     Description: Peanut butter and banana slices on whole wheat bread.     Allergens: Nuts (peanut), Gluten.     Suitable for Vegetarians: Yes (if using vegetarian peanut butter)     5. VEGGIE PITA POCKETS     ●     ●     ●     Description: Mini whole wheat pita pockets filled with hummus, cucumber, and cherry tomatoes.     Allergens: Gluten, possible Soy.     Suitable for Vegetarians: Yes     Mains:     1. MINI CHEESEBURGERS     ●     ●     ●     Description: Small beef patties topped with cheese, served on mini buns.     Allergens: Dairy, Gluten.     Suitable for Vegetarians: No     2. FISH STICKS     ●     ●     ●     Description: Breaded fish sticks served with tartar sauce.     Allergens: Gluten (in the breading), possible Soy.     Suitable for Vegetarians: No3. GRILLED CHEESE SANDWICH     ●     ●     ●     Description: Melted cheese between slices of buttered bread, grilled to perfection.     Allergens: Dairy, Gluten.     Suitable for Vegetarians: Yes     4. SPAGHETTI WITH MARINARA SAUCE     ●     ●     ●     Description: Kid-friendly spaghetti noodles topped with tomato marinara sauce.     Allergens: Gluten.     Suitable for Vegetarians: Yes     5.\n",
      "\n",
      "Chunk 1 Location:  {'s3Location': {'uri': 's3://booking-agent-us-east-1-061051260563/Restaurant_Childrens_Menu.pdf'}, 'type': 'S3'}\n",
      "\n",
      "Chunk 1 Score:  0.5762961\n",
      "\n",
      "Chunk 1 Metadata:  {'x-amz-bedrock-kb-source-uri': 's3://booking-agent-us-east-1-061051260563/Restaurant_Childrens_Menu.pdf', 'x-amz-bedrock-kb-document-page-number': 1.0, 'x-amz-bedrock-kb-chunk-id': '1%3A0%3AT4gcWpYBf6kkupH4STIs', 'x-amz-bedrock-kb-data-source-id': 'MZAUSHOHCW'}\n",
      "\n",
      "Chunk 2:  Allergens: Dairy, Gluten.     Suitable for Vegetarians: Yes     4. SPAGHETTI WITH MARINARA SAUCE     ●     ●     ●     Description: Kid-friendly spaghetti noodles topped with tomato marinara sauce.     Allergens: Gluten.     Suitable for Vegetarians: Yes     5. MINI PITA PIZZA     ●     ●     ●     Description: Small pita bread topped with tomato sauce, cheese, and favorite toppings.     Allergens: Dairy, Gluten.     Suitable for Vegetarians: Yes     Desserts:     1. MINI ICE CREAM SUNDAE     ●     ●     ●     Description: A scoop of vanilla ice cream with chocolate sauce and rainbow sprinkles.     Allergens: Dairy.     Suitable for Vegetarians: Yes     2. FRUIT KABOBS     ●     ●     ●     Description: Fresh fruit chunks on skewers for a fun and healthy dessert.     Allergens: None.     Suitable for Vegetarians: Yes     3. CHOCOLATE CHIP COOKIE BITES     ●     ●     ●     Description: Bite-sized chocolate chip cookies.     Allergens: Dairy, Gluten.     Suitable for Vegetarians: Yes     4. BANANA SPLIT     ●     ●     ●     Description: Sliced banana with scoops of strawberry, chocolate, and vanilla ice cream, topped with whipped cream and a cherry.     Allergens: Dairy.     Suitable for Vegetarians: Yes     5. JELLO CUPS     ●     ●     Description: Colorful and wiggly gelatin cups.     Allergens: None.● Suitable for Vegetarians: Yes\n",
      "\n",
      "Chunk 2 Location:  {'s3Location': {'uri': 's3://booking-agent-us-east-1-061051260563/Restaurant_Childrens_Menu.pdf'}, 'type': 'S3'}\n",
      "\n",
      "Chunk 2 Score:  0.5028745\n",
      "\n",
      "Chunk 2 Metadata:  {'x-amz-bedrock-kb-source-uri': 's3://booking-agent-us-east-1-061051260563/Restaurant_Childrens_Menu.pdf', 'x-amz-bedrock-kb-document-page-number': 2.0, 'x-amz-bedrock-kb-chunk-id': '1%3A0%3AUIgcWpYBf6kkupH4STIt', 'x-amz-bedrock-kb-data-source-id': 'MZAUSHOHCW'}\n",
      "\n",
      "Chunk 3:  Allergens: Gluten (in the breading).     3. BBQ PULLED PORK SANDWICHES     ●     ●     Description: Slow-cooked pulled pork in tangy barbecue sauce, piled high on a bun and served with coleslaw.     Allergens: Possible Gluten (in barbecue sauce, bun), potential Soy (in sauce).     4. STEAK WITH GARLIC BUTTER●     ●     Description: Grilled sirloin steak seasoned with garlic butter, accompanied by loaded mashed potatoes and sautéed vegetables.     Allergens: Dairy (in garlic butter), potential Soy (in marinade).     5. VEGETABLE STIR-FRY WITH TOFU     ●     ●     Description: Stir-fried tofu and a colorful medley of vegetables in a savory soy-ginger sauce, served over jasmine rice.     Allergens: Soy (in tofu and sauce).     Desserts:     1. CLASSIC NEW YORK CHEESECAKE     ●     ●     Description: Creamy cheesecake with a graham cracker crust, topped with a choice of fruit compote or chocolate ganache.     Allergens: Dairy (in cheesecake), Gluten (in the crust).     2. APPLE PIE A LA MODE     ●     ●     Description: Warm apple pie with a flaky crust, served with a scoop of vanilla ice cream and a drizzle of caramel sauce.     Allergens: Dairy (in ice cream), Gluten (in pie crust).     3. CHOCOLATE LAVA CAKE     ●     ●     Description: Rich and gooey chocolate cake with a molten center, dusted with powdered sugar and served with a scoop of raspberry sorbet.     Allergens: Dairy (in cake), possible Gluten (depending on recipe), potential Soy (in chocolate).     4. PECAN PIE BARS     ●     ●     Description: Buttery shortbread crust topped with a gooey pecan filling, cut into bars for easy serving.     Allergens: Dairy (in crust), Nuts (in pecan filling), Gluten (in crust).     5. BANANA PUDDING PARFAIT     ●     ●     Description: Layers of vanilla pudding, sliced bananas, and vanilla wafers, topped with whipped cream and a sprinkle of crushed nuts.     Allergens: Dairy (in pudding), Gluten (in wafers).\n",
      "\n",
      "Chunk 3 Location:  {'s3Location': {'uri': 's3://booking-agent-us-east-1-061051260563/Restaurant_Dinner_Menu.pdf'}, 'type': 'S3'}\n",
      "\n",
      "Chunk 3 Score:  0.47589847\n",
      "\n",
      "Chunk 3 Metadata:  {'x-amz-bedrock-kb-source-uri': 's3://booking-agent-us-east-1-061051260563/Restaurant_Dinner_Menu.pdf', 'x-amz-bedrock-kb-document-page-number': 1.0, 'x-amz-bedrock-kb-chunk-id': '1%3A0%3ApGAcWpYBJBhR4_f0T3pk', 'x-amz-bedrock-kb-data-source-id': 'MZAUSHOHCW'}\n",
      "\n",
      "Chunk 4:  The Regrettable Experience -- Dinner Menu Entrees:     1. BUFFALO CHICKEN WINGS     ●     ●     Description: Classic buffalo wings served with celery sticks and blue cheese dressing.     Allergens: Dairy (in blue cheese dressing), Gluten (in the coating), possible Soy (in the sauce).     2. SHRIMP AND GRITS     ●     ●     Description: Succulent shrimp sautéed in a flavorful sauce, served over creamy cheese grits.     Allergens: Dairy (in the cheese grits).     3. CAPRESE SALAD STUFFED AVOCADO     ●     ●     Description: Avocado halves filled with a fresh caprese salad of tomatoes, mozzarella, and basil, drizzled with balsamic glaze.     Allergens: Dairy (in mozzarella), potential Tree Nuts (if using balsamic glaze with nuts).     4. LOADED POTATO SKINS     ●     ●     Description: Crispy potato skins filled with melted cheddar cheese, bacon bits, green onions, and a dollop of sour cream.     Allergens: Dairy (in cheese and sour cream), possible Soy (in bacon bits).     5. VEGETARIAN CHILI     ●     ●     Description: Hearty chili made with a variety of beans, vegetables, and spices, topped with shredded cheese and chopped green onions.     Allergens: None in the basic recipe, but be mindful of specific dietary restrictions.     Mains:     1. GRILLED BBQ CHICKEN     ●     ●     Description: Juicy grilled chicken breasts slathered in smoky barbecue sauce, served with coleslaw and baked beans.     Allergens: Possible Gluten (in barbecue sauce), potential Soy (in marinade).     2. SOUTHERN FRIED CATFISH     ●     ●     Description: Cornmeal-crusted catfish fillets, fried to perfection and served with hushpuppies and tartar sauce.     Allergens: Gluten (in the breading).     3. BBQ PULLED PORK SANDWICHES     ●     ●     Description: Slow-cooked pulled pork in tangy barbecue sauce, piled high on a bun and served with coleslaw.     Allergens: Possible Gluten (in barbecue sauce, bun), potential Soy (in sauce).     4.\n",
      "\n",
      "Chunk 4 Location:  {'s3Location': {'uri': 's3://booking-agent-us-east-1-061051260563/Restaurant_Dinner_Menu.pdf'}, 'type': 'S3'}\n",
      "\n",
      "Chunk 4 Score:  0.4634795\n",
      "\n",
      "Chunk 4 Metadata:  {'x-amz-bedrock-kb-source-uri': 's3://booking-agent-us-east-1-061051260563/Restaurant_Dinner_Menu.pdf', 'x-amz-bedrock-kb-document-page-number': 1.0, 'x-amz-bedrock-kb-chunk-id': '1%3A0%3Ao2AcWpYBJBhR4_f0T3pi', 'x-amz-bedrock-kb-data-source-id': 'MZAUSHOHCW'}\n",
      "\n",
      "Chunk 5:  The Regrettable Experience – Week specials Monday Lunch Specials     • Soup of the Day: Hearty Lentil Soup (Vegetarian/Vegan) • Salad: Grilled Chicken Caesar Salad     Allergens: Dairy (in dressing), Gluten (in croutons), Eggs (in dressing) • Sandwich: BLT Wrap with Avocado     Allergens: Gluten (in wrap)     Tuesday Lunch Special     • Soup of the Day: Creamy Tomato Basil (Vegetarian) Allergens: Dairy     • Salad: Strawberry Spinach Salad with Balsamic Vinaigrette Allergens: Potential Tree Nuts (in vinaigrette) Quiche: Broccoli and Cheddar Quiche Allergens: Dairy, Eggs, Gluten (in crust)     Wednesday Lunch Special     • Soup of the Day: Chicken Tortilla Soup Allergens: Dairy, Gluten (in tortilla strips)     • Salad: Greek Salad with Feta and Olives Allergens: Dairy (in feta)     • Flatbread: Margherita Flatbread Allergens: Dairy, Gluten     Thursday Lunch Special     • Soup of the Day: Black Bean Soup (Vegetarian/Vegan) • Salad: Southwest Chicken Salad with Avocado Ranch     Allergens: Dairy (in dressing), Eggs (in dressing) • Sandwich: Turkey Bacon Avocado Melt     Allergens: Dairy, Gluten (in bread)     Friday Lunch Special     • Soup of the Day: New England Clam Chowder Allergens: Dairy, Shellfish• Salad: BBQ Chicken Salad with Ranch Allergens: Dairy (in dressing), Eggs (in dressing)     • Burger: Black Bean Veggie Burger with Sweet Potato Fries Allergens: Gluten (in bun), Soy (in veggie patty)          Please let your server know about any food allergies or dietary restrictions.\n",
      "\n",
      "Chunk 5 Location:  {'s3Location': {'uri': 's3://booking-agent-us-east-1-061051260563/Restaurant_week_specials.pdf'}, 'type': 'S3'}\n",
      "\n",
      "Chunk 5 Score:  0.43334624\n",
      "\n",
      "Chunk 5 Metadata:  {'x-amz-bedrock-kb-source-uri': 's3://booking-agent-us-east-1-061051260563/Restaurant_week_specials.pdf', 'x-amz-bedrock-kb-document-page-number': 1.0, 'x-amz-bedrock-kb-chunk-id': '1%3A0%3AUYgcWpYBf6kkupH4UzIH', 'x-amz-bedrock-kb-data-source-id': 'MZAUSHOHCW'}\n",
      "\n"
     ]
    }
   ],
   "source": [
    "response_ret = bedrock_agent_runtime_client.retrieve(\n",
    "    knowledgeBaseId=kb_id, \n",
    "    nextToken='string',\n",
    "    retrievalConfiguration={\n",
    "        \"vectorSearchConfiguration\": {\n",
    "            \"numberOfResults\":5,\n",
    "        } \n",
    "    },\n",
    "    retrievalQuery={\n",
    "        'text': 'Which are the 5 mains available in the childrens menu?'\n",
    "    }\n",
    ")\n",
    "\n",
    "def response_print(retrieve_resp):\n",
    "#structure 'retrievalResults': list of contents. Each list has content, location, score, metadata\n",
    "    for num,chunk in enumerate(response_ret['retrievalResults'],1):\n",
    "        print(f'Chunk {num}: ',chunk['content']['text'],end='\\n'*2)\n",
    "        print(f'Chunk {num} Location: ',chunk['location'],end='\\n'*2)\n",
    "        print(f'Chunk {num} Score: ',chunk['score'],end='\\n'*2)\n",
    "        print(f'Chunk {num} Metadata: ',chunk['metadata'],end='\\n'*2)\n",
    "\n",
    "response_print(response_ret)"
   ]
  },
  {
   "cell_type": "markdown",
   "id": "e032c452-4feb-406d-aa6e-b85a59aded79",
   "metadata": {
    "pycharm": {
     "name": "#%% md\n"
    }
   },
   "source": [
    "## 4. Create the Agent for Amazon Bedrock\n",
    "\n",
    "In this section we will go through all the steps to create an Agent for Amazon Bedrock. \n",
    "\n",
    "These are the steps to complete:\n",
    "    \n",
    "1. Create an Amazon DynamoDB table\n",
    "2. Create an AWS Lambda function\n",
    "3. Create the IAM policies needed for the Agent\n",
    "4. Create the Agent\n",
    "5. Create the Agent Action Group\n",
    "6. Allow the Agent to invoke the Action Group Lambda\n",
    "7. Associate the Knowledge Base to the agent\n",
    "8. Prepare the Agent and create an alias"
   ]
  },
  {
   "cell_type": "markdown",
   "id": "c5edf3bd-3214-4fe3-a9bc-df927e30b8b4",
   "metadata": {
    "pycharm": {
     "name": "#%% md\n"
    }
   },
   "source": [
    "### 4.1 Create the DynamoDB table\n",
    "We will create a DynamoDB table which contains the restaurant bookings information."
   ]
  },
  {
   "cell_type": "code",
   "execution_count": null,
   "id": "18ff65c0-0207-4e34-932f-6d291f4d5c8d",
   "metadata": {
    "pycharm": {
     "name": "#%%\n"
    },
    "tags": []
   },
   "outputs": [
    {
     "name": "stdout",
     "output_type": "stream",
     "text": [
      "Creating table restaurant_bookings...\n",
      "Table restaurant_bookings created successfully!\n"
     ]
    }
   ],
   "source": [
    "table_name = 'restaurant_bookings'\n",
    "create_dynamodb(table_name)"
   ]
  },
  {
   "cell_type": "markdown",
   "id": "8460c785-e13f-4182-84d7-3bf7aafd3842",
   "metadata": {
    "pycharm": {
     "name": "#%% md\n"
    }
   },
   "source": [
    "### 4.2 Create the Lambda Function\n",
    "\n",
    "We will now create a lambda function that interacts with DynamoDB table. To do so we will:\n",
    "\n",
    "1. Create the `lambda_function.py` file which contains the logic for our lambda function\n",
    "2. Create the IAM role for our Lambda function\n",
    "3. Create the lambda function with the required permissions"
   ]
  },
  {
   "cell_type": "markdown",
   "id": "68871530-2953-4a37-854e-10323cabf095",
   "metadata": {
    "pycharm": {
     "name": "#%% md\n"
    }
   },
   "source": [
    "#### Create the function code\n",
    "When creating an Agent for Amazon Bedrock, you can connect a Lambda function to the Action Group in order to execute the functions required by the agent. In this option, your agent is responsible for the execution of your functions. Let's create the lambda function tha implements the functions for `get_booking_details`, `create_booking` and `delete_booking`"
   ]
  },
  {
   "cell_type": "code",
   "execution_count": null,
   "id": "12271f1f-4739-472b-8909-cc81c148a941",
   "metadata": {
    "pycharm": {
     "name": "#%%\n"
    },
    "tags": []
   },
   "outputs": [
    {
     "name": "stdout",
     "output_type": "stream",
     "text": [
      "Writing lambda_function.py\n"
     ]
    }
   ],
   "source": [
    "%%writefile lambda_function.py\n",
    "import json\n",
    "import uuid\n",
    "import boto3\n",
    "\n",
    "dynamodb = boto3.resource('dynamodb')\n",
    "table = dynamodb.Table('restaurant_bookings')\n",
    "\n",
    "def get_named_parameter(event, name):\n",
    "    \"\"\"\n",
    "    Get a parameter from the lambda event\n",
    "    \"\"\"\n",
    "    return next(item for item in event['parameters'] if item['name'] == name)['value']\n",
    "\n",
    "\n",
    "def get_booking_details(booking_id):\n",
    "    \"\"\"\n",
    "    Retrieve details of a restaurant booking\n",
    "    \n",
    "    Args:\n",
    "        booking_id (string): The ID of the booking to retrieve\n",
    "    \"\"\"\n",
    "    try:\n",
    "        response = table.get_item(Key={'booking_id': booking_id})\n",
    "        if 'Item' in response:\n",
    "            return response['Item']\n",
    "        else:\n",
    "            return {'message': f'No booking found with ID {booking_id}'}\n",
    "    except Exception as e:\n",
    "        return {'error': str(e)}\n",
    "\n",
    "\n",
    "def create_booking(date, name, hour, num_guests):\n",
    "    \"\"\"\n",
    "    Create a new restaurant booking\n",
    "    \n",
    "    Args:\n",
    "        date (string): The date of the booking\n",
    "        name (string): Name to idenfity your reservation\n",
    "        hour (string): The hour of the booking\n",
    "        num_guests (integer): The number of guests for the booking\n",
    "    \"\"\"\n",
    "    try:\n",
    "        booking_id = str(uuid.uuid4())[:8]\n",
    "        table.put_item(\n",
    "            Item={\n",
    "                'booking_id': booking_id,\n",
    "                'date': date,\n",
    "                'name': name,\n",
    "                'hour': hour,\n",
    "                'num_guests': num_guests\n",
    "            }\n",
    "        )\n",
    "        return {'booking_id': booking_id}\n",
    "    except Exception as e:\n",
    "        return {'error': str(e)}\n",
    "\n",
    "\n",
    "def delete_booking(booking_id):\n",
    "    \"\"\"\n",
    "    Delete an existing restaurant booking\n",
    "    \n",
    "    Args:\n",
    "        booking_id (str): The ID of the booking to delete\n",
    "    \"\"\"\n",
    "    try:\n",
    "        response = table.delete_item(Key={'booking_id': booking_id})\n",
    "        if response['ResponseMetadata']['HTTPStatusCode'] == 200:\n",
    "            return {'message': f'Booking with ID {booking_id} deleted successfully'}\n",
    "        else:\n",
    "            return {'message': f'Failed to delete booking with ID {booking_id}'}\n",
    "    except Exception as e:\n",
    "        return {'error': str(e)}\n",
    "    \n",
    "\n",
    "def lambda_handler(event, context):\n",
    "    # get the action group used during the invocation of the lambda function\n",
    "    actionGroup = event.get('actionGroup', '')\n",
    "    \n",
    "    # name of the function that should be invoked\n",
    "    function = event.get('function', '')\n",
    "    \n",
    "    # parameters to invoke function with\n",
    "    parameters = event.get('parameters', [])\n",
    "\n",
    "    if function == 'get_booking_details':\n",
    "        booking_id = get_named_parameter(event, \"booking_id\")\n",
    "        if booking_id:\n",
    "            response = str(get_booking_details(booking_id))\n",
    "            responseBody = {'TEXT': {'body': json.dumps(response)}}\n",
    "        else:\n",
    "            responseBody = {'TEXT': {'body': 'Missing booking_id parameter'}}\n",
    "\n",
    "    elif function == 'create_booking':\n",
    "        date = get_named_parameter(event, \"date\")\n",
    "        name = get_named_parameter(event, \"name\")\n",
    "        hour = get_named_parameter(event, \"hour\")\n",
    "        num_guests = get_named_parameter(event, \"num_guests\")\n",
    "\n",
    "        if date and hour and num_guests:\n",
    "            response = str(create_booking(date, name, hour, num_guests))\n",
    "            responseBody = {'TEXT': {'body': json.dumps(response)}}\n",
    "        else:\n",
    "            responseBody = {'TEXT': {'body': 'Missing required parameters'}}\n",
    "\n",
    "    elif function == 'delete_booking':\n",
    "        booking_id = get_named_parameter(event, \"booking_id\")\n",
    "        if booking_id:\n",
    "            response = str(delete_booking(booking_id))\n",
    "            responseBody = {'TEXT': {'body': json.dumps(response)}}\n",
    "        else:\n",
    "            responseBody = {'TEXT': {'body': 'Missing booking_id parameter'}}\n",
    "\n",
    "    else:\n",
    "        responseBody = {'TEXT': {'body': 'Invalid function'}}\n",
    "\n",
    "    action_response = {\n",
    "        'actionGroup': actionGroup,\n",
    "        'function': function,\n",
    "        'functionResponse': {\n",
    "            'responseBody': responseBody\n",
    "        }\n",
    "    }\n",
    "\n",
    "    function_response = {'response': action_response, 'messageVersion': event['messageVersion']}\n",
    "    print(\"Response: {}\".format(function_response))\n",
    "\n",
    "    return function_response"
   ]
  },
  {
   "cell_type": "markdown",
   "id": "b8a4eefa-0ee8-4505-bba4-b62f5ba54a79",
   "metadata": {
    "pycharm": {
     "name": "#%% md\n"
    }
   },
   "source": [
    "#### Create the required permissions\n",
    "Now let's also create the lambda role and its required policies. For this case, we need the lambda to be able to access DynamoDB, that is why we also create a DynamoDB policy and attach to our Lambda. To do so, we will use the support function `create_lambda_role`."
   ]
  },
  {
   "cell_type": "code",
   "execution_count": null,
   "id": "490addc9-16a0-48e1-bd8f-02abb56bb520",
   "metadata": {
    "pycharm": {
     "name": "#%%\n"
    },
    "tags": []
   },
   "outputs": [],
   "source": [
    "lambda_iam_role = create_lambda_role(agent_name, table_name)"
   ]
  },
  {
   "cell_type": "markdown",
   "id": "895032f3",
   "metadata": {
    "pycharm": {
     "name": "#%% md\n"
    }
   },
   "source": [
    "#### Create the function\n",
    "\n",
    "Now that we have the Lambda function code and its execution role, let's package it into a Zip file and create the Lambda resources"
   ]
  },
  {
   "cell_type": "code",
   "execution_count": null,
   "id": "682ea2b4-5654-4e2f-b3dd-bc763a3c5918",
   "metadata": {
    "pycharm": {
     "name": "#%%\n"
    },
    "tags": []
   },
   "outputs": [],
   "source": [
    "lambda_function_name = f'{agent_name}-lambda'"
   ]
  },
  {
   "cell_type": "code",
   "execution_count": null,
   "id": "1cfb2214-9a2e-4521-9d69-3d1c6117c2c3",
   "metadata": {
    "pycharm": {
     "name": "#%%\n"
    },
    "tags": []
   },
   "outputs": [],
   "source": [
    "lambda_function = create_lambda(lambda_function_name, lambda_iam_role)"
   ]
  },
  {
   "cell_type": "markdown",
   "id": "aef843aa-9f0f-473f-ab4e-1c4827974b87",
   "metadata": {
    "pycharm": {
     "name": "#%% md\n"
    }
   },
   "source": [
    "### 4.3 Create the IAM policies needed for the Agent\n",
    "\n",
    "Now that we have created the Knowledge Base, our DynamoDB table and the Lambda function to execute the tasks for our agent, let's start creating our Agent.\n",
    "\n",
    "\n",
    "First need to create the agent policies that allow bedrock model invocation and Knowledge Base query and the agent IAM role with the policy associated to it. We will allow this agent to invoke the Claude Sonnet model. Here we use the `create_agent_role_and_policies` to create the agent role and its required policies"
   ]
  },
  {
   "cell_type": "code",
   "execution_count": null,
   "id": "aa92a151-36ca-4099-8bc6-156b49b0c3e4",
   "metadata": {
    "pycharm": {
     "name": "#%%\n"
    },
    "tags": []
   },
   "outputs": [],
   "source": [
    "agent_role = create_agent_role_and_policies(agent_name, inference_profile, foundation_model, kb_id=kb_id)"
   ]
  },
  {
   "cell_type": "code",
   "execution_count": null,
   "id": "dd45ef4e-1f2d-4747-a16e-f64fc6f865f5",
   "metadata": {
    "pycharm": {
     "name": "#%%\n"
    },
    "tags": []
   },
   "outputs": [
    {
     "data": {
      "text/plain": [
       "{'Role': {'Path': '/',\n",
       "  'RoleName': 'AmazonBedrockExecutionRoleForAgents_booking-agent',\n",
       "  'RoleId': 'AROAQ4NXQJ2J5NITEUUEL',\n",
       "  'Arn': 'arn:aws:iam::061051260563:role/AmazonBedrockExecutionRoleForAgents_booking-agent',\n",
       "  'CreateDate': datetime.datetime(2025, 4, 21, 20, 56, 57, tzinfo=tzutc()),\n",
       "  'AssumeRolePolicyDocument': {'Version': '2012-10-17',\n",
       "   'Statement': [{'Effect': 'Allow',\n",
       "     'Principal': {'Service': 'bedrock.amazonaws.com'},\n",
       "     'Action': 'sts:AssumeRole'}]}},\n",
       " 'ResponseMetadata': {'RequestId': '424dbe9b-c93b-443b-af99-8b394cf0e8de',\n",
       "  'HTTPStatusCode': 200,\n",
       "  'HTTPHeaders': {'date': 'Mon, 21 Apr 2025 20:56:57 GMT',\n",
       "   'x-amzn-requestid': '424dbe9b-c93b-443b-af99-8b394cf0e8de',\n",
       "   'content-type': 'text/xml',\n",
       "   'content-length': '853'},\n",
       "  'RetryAttempts': 0}}"
      ]
     },
     "execution_count": 19,
     "metadata": {},
     "output_type": "execute_result"
    }
   ],
   "source": [
    "agent_role"
   ]
  },
  {
   "cell_type": "markdown",
   "id": "595bf767-3a26-4f92-b629-ba2908b90d81",
   "metadata": {
    "pycharm": {
     "name": "#%% md\n"
    }
   },
   "source": [
    "### 4.4 Create the Agent\n",
    "Once the needed IAM role is created, we can use the bedrock agent client to create a new agent. To do so we use the [`create_agent`](https://boto3.amazonaws.com/v1/documentation/api/latest/reference/services/bedrock-agent/client/create_agent.html) api from boto3. It requires an agent name, underline foundation model and instruction. You can also provide an agent description. Note that the agent created is not yet prepared. We will focus on preparing the agent and then using it to invoke actions and use other APIs"
   ]
  },
  {
   "cell_type": "code",
   "execution_count": null,
   "id": "7ccaf856-7eff-4bd1-ac47-c89b6fbf7e8f",
   "metadata": {
    "pycharm": {
     "name": "#%%\n"
    },
    "tags": []
   },
   "outputs": [
    {
     "data": {
      "text/plain": [
       "{'ResponseMetadata': {'RequestId': '8f056f1d-dff9-4a24-87c3-8c5fb41ddd24',\n",
       "  'HTTPStatusCode': 202,\n",
       "  'HTTPHeaders': {'date': 'Mon, 21 Apr 2025 20:57:34 GMT',\n",
       "   'content-type': 'application/json',\n",
       "   'content-length': '708',\n",
       "   'connection': 'keep-alive',\n",
       "   'x-amzn-requestid': '8f056f1d-dff9-4a24-87c3-8c5fb41ddd24',\n",
       "   'x-amz-apigw-id': 'JZChxFowoAMEtHw=',\n",
       "   'x-amzn-trace-id': 'Root=1-6806b13e-39ca452d47b75c5f320990e8'},\n",
       "  'RetryAttempts': 0},\n",
       " 'agent': {'agentArn': 'arn:aws:bedrock:us-east-1:061051260563:agent/051ME5OPWS',\n",
       "  'agentCollaboration': 'DISABLED',\n",
       "  'agentId': '051ME5OPWS',\n",
       "  'agentName': 'booking-agent',\n",
       "  'agentResourceRoleArn': 'arn:aws:iam::061051260563:role/AmazonBedrockExecutionRoleForAgents_booking-agent',\n",
       "  'agentStatus': 'CREATING',\n",
       "  'createdAt': datetime.datetime(2025, 4, 21, 20, 57, 34, 270297, tzinfo=tzutc()),\n",
       "  'description': 'Agent in charge of a restaurants table bookings',\n",
       "  'foundationModel': 'amazon.nova-pro-v1:0',\n",
       "  'idleSessionTTLInSeconds': 1800,\n",
       "  'instruction': '\\nYou are a restaurant agent, helping clients retrieve information from their booking, \\ncreate a new booking or delete an existing booking\\n',\n",
       "  'orchestrationType': 'DEFAULT',\n",
       "  'updatedAt': datetime.datetime(2025, 4, 21, 20, 57, 34, 270297, tzinfo=tzutc())}}"
      ]
     },
     "execution_count": 25,
     "metadata": {},
     "output_type": "execute_result"
    }
   ],
   "source": [
    "response = bedrock_agent_client.create_agent(\n",
    "    agentName=agent_name,\n",
    "    agentResourceRoleArn=agent_role['Role']['Arn'],\n",
    "    description=agent_description,\n",
    "    idleSessionTTLInSeconds=1800,\n",
    "    foundationModel=foundation_model,\n",
    "    instruction=agent_instruction,\n",
    ")\n",
    "response"
   ]
  },
  {
   "cell_type": "markdown",
   "id": "b6b5884e",
   "metadata": {
    "pycharm": {
     "name": "#%% md\n"
    }
   },
   "source": [
    "Let's get our Agent ID. It will be important to perform operations with our agent"
   ]
  },
  {
   "cell_type": "code",
   "execution_count": null,
   "id": "40c48d3c-ed67-450b-b840-23ec1a99fee7",
   "metadata": {
    "pycharm": {
     "name": "#%%\n"
    },
    "tags": []
   },
   "outputs": [
    {
     "name": "stdout",
     "output_type": "stream",
     "text": [
      "The agent id is: 051ME5OPWS\n"
     ]
    }
   ],
   "source": [
    "agent_id = response['agent']['agentId']\n",
    "print(\"The agent id is:\",agent_id)"
   ]
  },
  {
   "cell_type": "markdown",
   "id": "3f30f874-eb63-4ec3-8c19-36fab0f598df",
   "metadata": {
    "pycharm": {
     "name": "#%% md\n"
    }
   },
   "source": [
    "### 4.5 Create the Agent Action Group\n",
    "We will now create an agent action group that uses the lambda function created before. The [`create_agent_action_group`](https://boto3.amazonaws.com/v1/documentation/api/latest/reference/services/bedrock-agent/client/create_agent_action_group.html) function provides this functionality. We will use `DRAFT` as the agent version since we haven't yet created an agent version or alias. To inform the agent about the action group functionalities, we will provide an action group description containing the functionalities of the action group.\n",
    "\n",
    "In this example, we will provide the Action Group functionality using a [`functionSchema`](https://docs.aws.amazon.com/bedrock/latest/userguide/agents-action-function.html).\n",
    "\n",
    "To define the functions using a function schema, you need to provide the `name`, `description` and `parameters` for each function."
   ]
  },
  {
   "cell_type": "code",
   "execution_count": null,
   "id": "91c4c380-ca58-467a-ab67-b475605a0274",
   "metadata": {
    "pycharm": {
     "name": "#%%\n"
    },
    "tags": []
   },
   "outputs": [],
   "source": [
    "agent_functions = [\n",
    "    {\n",
    "        'name': 'get_booking_details',\n",
    "        'description': 'Retrieve details of a restaurant booking',\n",
    "        'parameters': {\n",
    "            \"booking_id\": {\n",
    "                \"description\": \"The ID of the booking to retrieve\",\n",
    "                \"required\": True,\n",
    "                \"type\": \"string\"\n",
    "            }\n",
    "        }\n",
    "    },\n",
    "    {\n",
    "        'name': 'create_booking',\n",
    "        'description': 'Create a new restaurant booking',\n",
    "        'parameters': {\n",
    "            \"date\": {\n",
    "                \"description\": \"The date of the booking\",\n",
    "                \"required\": True,\n",
    "                \"type\": \"string\"\n",
    "            },\n",
    "            \"name\": {\n",
    "                \"description\": \"Name to idenfity your reservation\",\n",
    "                \"required\": True,\n",
    "                \"type\": \"string\"\n",
    "            },\n",
    "            \"hour\": {\n",
    "                \"description\": \"The hour of the booking\",\n",
    "                \"required\": True,\n",
    "                \"type\": \"string\"\n",
    "            },\n",
    "            \"num_guests\": {\n",
    "                \"description\": \"The number of guests for the booking\",\n",
    "                \"required\": True,\n",
    "                \"type\": \"integer\"\n",
    "            }\n",
    "        }\n",
    "    },\n",
    "    {\n",
    "        'name': 'delete_booking',\n",
    "        'description': 'Delete an existing restaurant booking',\n",
    "        'parameters': {\n",
    "            \"booking_id\": {\n",
    "                \"description\": \"The ID of the booking to delete\",\n",
    "                \"required\": True,\n",
    "                \"type\": \"string\"\n",
    "            }\n",
    "        }\n",
    "    },\n",
    "]"
   ]
  },
  {
   "cell_type": "markdown",
   "id": "60d174f6",
   "metadata": {
    "pycharm": {
     "name": "#%% md\n"
    }
   },
   "source": [
    "We now use the function schema to create the agent action group using the [`create_agent_action_group`](https://boto3.amazonaws.com/v1/documentation/api/latest/reference/services/bedrock-agent/client/create_agent_action_group.html) API"
   ]
  },
  {
   "cell_type": "code",
   "execution_count": null,
   "id": "24559f1c-e081-4f03-959f-a82f9444aa49",
   "metadata": {
    "pycharm": {
     "name": "#%%\n"
    },
    "tags": []
   },
   "outputs": [],
   "source": [
    "# Pause to make sure agent is created\n",
    "time.sleep(30)\n",
    "\n",
    "# Now, we can configure and create an action group here:\n",
    "agent_action_group_response = bedrock_agent_client.create_agent_action_group(\n",
    "    agentId=agent_id,\n",
    "    agentVersion='DRAFT',\n",
    "    actionGroupExecutor={\n",
    "        'lambda': lambda_function['FunctionArn']\n",
    "    },\n",
    "    actionGroupName=agent_action_group_name,\n",
    "    functionSchema={\n",
    "        'functions': agent_functions\n",
    "    },\n",
    "    description=agent_action_group_description\n",
    ")"
   ]
  },
  {
   "cell_type": "code",
   "execution_count": null,
   "id": "0a0c3eeb-37f3-4ec9-88d4-43c5306c3195",
   "metadata": {
    "pycharm": {
     "name": "#%%\n"
    },
    "tags": []
   },
   "outputs": [
    {
     "data": {
      "text/plain": [
       "{'ResponseMetadata': {'RequestId': '85e4287a-c74a-4658-b821-fd73ecc3372b',\n",
       "  'HTTPStatusCode': 200,\n",
       "  'HTTPHeaders': {'date': 'Mon, 21 Apr 2025 20:58:13 GMT',\n",
       "   'content-type': 'application/json',\n",
       "   'content-length': '1445',\n",
       "   'connection': 'keep-alive',\n",
       "   'x-amzn-requestid': '85e4287a-c74a-4658-b821-fd73ecc3372b',\n",
       "   'x-amz-apigw-id': 'JZCnzEbwoAMEYRQ=',\n",
       "   'x-amzn-trace-id': 'Root=1-6806b164-2e7e6bce530ec317798455f5'},\n",
       "  'RetryAttempts': 0},\n",
       " 'agentActionGroup': {'actionGroupExecutor': {'lambda': 'arn:aws:lambda:us-east-1:061051260563:function:booking-agent-lambda'},\n",
       "  'actionGroupId': 'STSXL7IKJX',\n",
       "  'actionGroupName': 'TableBookingsActionGroup',\n",
       "  'actionGroupState': 'ENABLED',\n",
       "  'agentId': '051ME5OPWS',\n",
       "  'agentVersion': 'DRAFT',\n",
       "  'createdAt': datetime.datetime(2025, 4, 21, 20, 58, 12, 871349, tzinfo=tzutc()),\n",
       "  'description': '\\nActions for getting table booking information, create a new booking or delete an existing booking',\n",
       "  'functionSchema': {'functions': [{'description': 'Retrieve details of a restaurant booking',\n",
       "     'name': 'get_booking_details',\n",
       "     'parameters': {'booking_id': {'description': 'The ID of the booking to retrieve',\n",
       "       'required': True,\n",
       "       'type': 'string'}},\n",
       "     'requireConfirmation': 'DISABLED'},\n",
       "    {'description': 'Create a new restaurant booking',\n",
       "     'name': 'create_booking',\n",
       "     'parameters': {'date': {'description': 'The date of the booking',\n",
       "       'required': True,\n",
       "       'type': 'string'},\n",
       "      'hour': {'description': 'The hour of the booking',\n",
       "       'required': True,\n",
       "       'type': 'string'},\n",
       "      'name': {'description': 'Name to idenfity your reservation',\n",
       "       'required': True,\n",
       "       'type': 'string'},\n",
       "      'num_guests': {'description': 'The number of guests for the booking',\n",
       "       'required': True,\n",
       "       'type': 'integer'}},\n",
       "     'requireConfirmation': 'DISABLED'},\n",
       "    {'description': 'Delete an existing restaurant booking',\n",
       "     'name': 'delete_booking',\n",
       "     'parameters': {'booking_id': {'description': 'The ID of the booking to delete',\n",
       "       'required': True,\n",
       "       'type': 'string'}},\n",
       "     'requireConfirmation': 'DISABLED'}]},\n",
       "  'updatedAt': datetime.datetime(2025, 4, 21, 20, 58, 12, 871349, tzinfo=tzutc())}}"
      ]
     },
     "execution_count": 29,
     "metadata": {},
     "output_type": "execute_result"
    }
   ],
   "source": [
    "agent_action_group_response"
   ]
  },
  {
   "cell_type": "markdown",
   "id": "b7d27e07-7d4c-4c59-987d-41a606c6af65",
   "metadata": {
    "pycharm": {
     "name": "#%% md\n"
    }
   },
   "source": [
    "### 4.6 Allow the Agent to invoke the Action Group Lambda\n",
    "Before using the action group, we need to allow the agent to invoke the lambda function associated with the action group. This is done via [resource-based policy](https://docs.aws.amazon.com/bedrock/latest/userguide/agents-permissions.html#agents-permissions-lambda). Let's add the resource-based policy to the lambda function created"
   ]
  },
  {
   "cell_type": "code",
   "execution_count": null,
   "id": "3262f6dd-fb05-4351-904d-8097c0f52134",
   "metadata": {
    "pycharm": {
     "name": "#%%\n"
    },
    "tags": []
   },
   "outputs": [],
   "source": [
    "# Create allow to invoke permission on lambda\n",
    "lambda_client = boto3.client('lambda')\n",
    "response = lambda_client.add_permission(\n",
    "    FunctionName=lambda_function_name,\n",
    "    StatementId='allow_bedrock',\n",
    "    Action='lambda:InvokeFunction',\n",
    "    Principal='bedrock.amazonaws.com',\n",
    "    SourceArn=f\"arn:aws:bedrock:{region}:{account_id}:agent/{agent_id}\",\n",
    ")\n"
   ]
  },
  {
   "cell_type": "code",
   "execution_count": null,
   "id": "eb3b8c21-f14a-4645-b28e-3ac9a50f1f7f",
   "metadata": {
    "pycharm": {
     "name": "#%%\n"
    },
    "tags": []
   },
   "outputs": [
    {
     "data": {
      "text/plain": [
       "{'ResponseMetadata': {'RequestId': '67500fba-7801-4120-8500-5dc23226b17b',\n",
       "  'HTTPStatusCode': 201,\n",
       "  'HTTPHeaders': {'date': 'Mon, 21 Apr 2025 20:58:41 GMT',\n",
       "   'content-type': 'application/json',\n",
       "   'content-length': '348',\n",
       "   'connection': 'keep-alive',\n",
       "   'x-amzn-requestid': '67500fba-7801-4120-8500-5dc23226b17b'},\n",
       "  'RetryAttempts': 0},\n",
       " 'Statement': '{\"Sid\":\"allow_bedrock\",\"Effect\":\"Allow\",\"Principal\":{\"Service\":\"bedrock.amazonaws.com\"},\"Action\":\"lambda:InvokeFunction\",\"Resource\":\"arn:aws:lambda:us-east-1:061051260563:function:booking-agent-lambda\",\"Condition\":{\"ArnLike\":{\"AWS:SourceArn\":\"arn:aws:bedrock:us-east-1:061051260563:agent/051ME5OPWS\"}}}'}"
      ]
     },
     "execution_count": 31,
     "metadata": {},
     "output_type": "execute_result"
    }
   ],
   "source": [
    "response"
   ]
  },
  {
   "cell_type": "markdown",
   "id": "2c8536a4-e625-464c-bae2-d28dba82c556",
   "metadata": {
    "pycharm": {
     "name": "#%% md\n"
    }
   },
   "source": [
    "### 4.7 Associate the Knowledge Base to the agent\n",
    "Now we have created the Agent we can go ahead and associate the Knowledge Base we created earlier. "
   ]
  },
  {
   "cell_type": "code",
   "execution_count": null,
   "id": "95c7b781-7e82-47b6-a268-237fa97ab58d",
   "metadata": {
    "pycharm": {
     "name": "#%%\n"
    },
    "tags": []
   },
   "outputs": [],
   "source": [
    "response = bedrock_agent_client.associate_agent_knowledge_base(\n",
    "    agentId=agent_id,\n",
    "    agentVersion='DRAFT',\n",
    "    description='Access the knowledge base when customers ask about the plates in the menu.',\n",
    "    knowledgeBaseId=kb_id,\n",
    "    knowledgeBaseState='ENABLED'\n",
    ")"
   ]
  },
  {
   "cell_type": "code",
   "execution_count": null,
   "id": "0c72b5ee-2479-41b2-93e1-fd7aa66da08d",
   "metadata": {
    "pycharm": {
     "name": "#%%\n"
    },
    "tags": []
   },
   "outputs": [
    {
     "data": {
      "text/plain": [
       "{'ResponseMetadata': {'RequestId': '6d28b3db-b206-45ca-a543-693a189a1081',\n",
       "  'HTTPStatusCode': 200,\n",
       "  'HTTPHeaders': {'date': 'Mon, 21 Apr 2025 20:58:43 GMT',\n",
       "   'content-type': 'application/json',\n",
       "   'content-length': '267',\n",
       "   'connection': 'keep-alive',\n",
       "   'x-amzn-requestid': '6d28b3db-b206-45ca-a543-693a189a1081',\n",
       "   'x-amz-apigw-id': 'JZCshFRaIAMEXsA=',\n",
       "   'x-amzn-trace-id': 'Root=1-6806b182-670beaec52e8eaae4b296d81'},\n",
       "  'RetryAttempts': 0},\n",
       " 'agentKnowledgeBase': {'createdAt': datetime.datetime(2025, 4, 21, 20, 58, 43, 579140, tzinfo=tzutc()),\n",
       "  'description': 'Access the knowledge base when customers ask about the plates in the menu.',\n",
       "  'knowledgeBaseId': 'RDDLVGAW37',\n",
       "  'knowledgeBaseState': 'ENABLED',\n",
       "  'updatedAt': datetime.datetime(2025, 4, 21, 20, 58, 43, 579140, tzinfo=tzutc())}}"
      ]
     },
     "execution_count": 33,
     "metadata": {},
     "output_type": "execute_result"
    }
   ],
   "source": [
    "response"
   ]
  },
  {
   "cell_type": "markdown",
   "id": "b42a8caf-4c76-4760-a7cd-4c6b189f9f5b",
   "metadata": {
    "pycharm": {
     "name": "#%% md\n"
    }
   },
   "source": [
    "### 4.8 Prepare the Agent and create an alias\n",
    "\n",
    "Let's create a DRAFT version of the agent that can be used for internal testing.\n"
   ]
  },
  {
   "cell_type": "code",
   "execution_count": null,
   "id": "4013c967-9a14-4689-b0b5-61aa4f75748c",
   "metadata": {
    "pycharm": {
     "name": "#%%\n"
    },
    "tags": []
   },
   "outputs": [
    {
     "name": "stdout",
     "output_type": "stream",
     "text": [
      "{'ResponseMetadata': {'RequestId': '58fe0462-ee99-44f8-979e-b9c37518dfe6', 'HTTPStatusCode': 202, 'HTTPHeaders': {'date': 'Mon, 21 Apr 2025 20:58:46 GMT', 'content-type': 'application/json', 'content-length': '119', 'connection': 'keep-alive', 'x-amzn-requestid': '58fe0462-ee99-44f8-979e-b9c37518dfe6', 'x-amz-apigw-id': 'JZCtGHkmoAMERxw=', 'x-amzn-trace-id': 'Root=1-6806b186-683435b0685bcc8e7887e479'}, 'RetryAttempts': 0}, 'agentId': '051ME5OPWS', 'agentStatus': 'PREPARING', 'agentVersion': 'DRAFT', 'preparedAt': datetime.datetime(2025, 4, 21, 20, 58, 46, 870798, tzinfo=tzutc())}\n"
     ]
    }
   ],
   "source": [
    "response = bedrock_agent_client.prepare_agent(\n",
    "    agentId=agent_id\n",
    ")\n",
    "print(response)\n",
    "# Pause to make sure agent is prepared\n",
    "time.sleep(30)"
   ]
  },
  {
   "cell_type": "markdown",
   "id": "4c2f477d-60b5-4135-bfe4-e9af3874d611",
   "metadata": {
    "pycharm": {
     "name": "#%% md\n"
    }
   },
   "source": [
    "You can invoke the DRAFT version of your agent using the test alias id `TSTALIASID` or you can create a new alias and a new version for your agent. Here we are also going to create an Agent alias to later on use to invoke it with the alias id created"
   ]
  },
  {
   "cell_type": "code",
   "execution_count": null,
   "id": "b9889aaf-9238-479d-b9f1-2ab13b1ec9c0",
   "metadata": {
    "pycharm": {
     "name": "#%%\n"
    },
    "tags": []
   },
   "outputs": [
    {
     "name": "stdout",
     "output_type": "stream",
     "text": [
      "The Agent alias is: HGWFGUV8NT\n"
     ]
    }
   ],
   "source": [
    "response = bedrock_agent_client.create_agent_alias(\n",
    "    agentAliasName='TestAlias',\n",
    "    agentId=agent_id,\n",
    "    description='Test alias',\n",
    ")\n",
    "\n",
    "alias_id = response[\"agentAlias\"][\"agentAliasId\"]\n",
    "print(\"The Agent alias is:\",alias_id)\n",
    "time.sleep(30)"
   ]
  },
  {
   "cell_type": "markdown",
   "id": "785eaa07-9059-471b-86cc-9506e9c0b47c",
   "metadata": {
    "pycharm": {
     "name": "#%% md\n"
    }
   },
   "source": [
    "## 5. Test the Agent\n",
    "Now that we've created the agent, let's use the `bedrock-agent-runtime` client to invoke this agent and perform some tasks. You can invoke your agent with the [`invoke_agent`](https://boto3.amazonaws.com/v1/documentation/api/latest/reference/services/bedrock-agent-runtime/client/invoke_agent.html) API"
   ]
  },
  {
   "cell_type": "code",
   "execution_count": null,
   "id": "607efd7f-469a-4875-9c1c-16ab018fc341",
   "metadata": {
    "pycharm": {
     "name": "#%%\n"
    },
    "tags": []
   },
   "outputs": [
    {
     "name": "stdout",
     "output_type": "stream",
     "text": [
      "CPU times: user 32 μs, sys: 1 μs, total: 33 μs\n",
      "Wall time: 35.3 μs\n"
     ]
    }
   ],
   "source": [
    "%%time\n",
    "import json\n",
    "from datetime import datetime\n",
    "\n",
    "class DateTimeEncoder(json.JSONEncoder):\n",
    "    def default(self, obj):\n",
    "        if isinstance(obj, datetime):\n",
    "            return obj.isoformat()\n",
    "        return super().default(obj)\n",
    "\n",
    "\n",
    "\n",
    "def invokeAgent(query, session_id, enable_trace=False, session_state=dict()):\n",
    "    end_session:bool = False\n",
    "    \n",
    "    # invoke the agent API\n",
    "    agentResponse = bedrock_agent_runtime_client.invoke_agent(\n",
    "        inputText=query,\n",
    "        agentId=agent_id,\n",
    "        agentAliasId=alias_id, \n",
    "        sessionId=session_id,\n",
    "        enableTrace=enable_trace, \n",
    "        endSession= end_session,\n",
    "        sessionState=session_state\n",
    "    )\n",
    "    \n",
    "    if enable_trace:\n",
    "        logger.info(pprint.pprint(agentResponse))\n",
    "    \n",
    "    event_stream = agentResponse['completion']\n",
    "    try:\n",
    "        for event in event_stream:        \n",
    "            if 'chunk' in event:\n",
    "                data = event['chunk']['bytes']\n",
    "                if enable_trace:\n",
    "                    logger.info(f\"Final answer ->\\n{data.decode('utf8')}\")\n",
    "                agent_answer = data.decode('utf8')\n",
    "                end_event_received = True\n",
    "                return agent_answer\n",
    "                # End event indicates that the request finished successfully\n",
    "            elif 'trace' in event:\n",
    "                if enable_trace:\n",
    "                    logger.info(json.dumps(event['trace'], indent=2, cls=DateTimeEncoder))\n",
    "            else:\n",
    "                raise Exception(\"unexpected event.\", event)\n",
    "    except Exception as e:\n",
    "        raise Exception(\"unexpected event.\", e)"
   ]
  },
  {
   "cell_type": "markdown",
   "id": "2bd6097d",
   "metadata": {
    "pycharm": {
     "name": "#%% md\n"
    }
   },
   "source": [
    "##### Invoke Agent to query Knowledge Base\n",
    "Let's now use our support `invokeAgent` function to query our Knowledge Base with the Agent"
   ]
  },
  {
   "cell_type": "code",
   "execution_count": null,
   "id": "bb134630-0c01-4ec7-b761-1f1a1eca4957",
   "metadata": {
    "pycharm": {
     "name": "#%%\n"
    },
    "tags": []
   },
   "outputs": [
    {
     "ename": "Exception",
     "evalue": "('unexpected event.', EventStreamError('An error occurred (accessDeniedException) when calling the InvokeAgent operation: Access denied when calling Bedrock. Check your request permissions and retry the request.'))",
     "output_type": "error",
     "traceback": [
      "\u001b[31m---------------------------------------------------------------------------\u001b[39m",
      "\u001b[31mEventStreamError\u001b[39m                          Traceback (most recent call last)",
      "\u001b[36mFile \u001b[39m\u001b[32m<timed exec>:31\u001b[39m, in \u001b[36minvokeAgent\u001b[39m\u001b[34m(query, session_id, enable_trace, session_state)\u001b[39m\n",
      "\u001b[36mFile \u001b[39m\u001b[32m~/ipykernel_env/lib/python3.13/site-packages/botocore/eventstream.py:592\u001b[39m, in \u001b[36mEventStream.__iter__\u001b[39m\u001b[34m(self)\u001b[39m\n\u001b[32m    591\u001b[39m \u001b[38;5;28;01mfor\u001b[39;00m event \u001b[38;5;129;01min\u001b[39;00m \u001b[38;5;28mself\u001b[39m._event_generator:\n\u001b[32m--> \u001b[39m\u001b[32m592\u001b[39m     parsed_event = \u001b[38;5;28;43mself\u001b[39;49m\u001b[43m.\u001b[49m\u001b[43m_parse_event\u001b[49m\u001b[43m(\u001b[49m\u001b[43mevent\u001b[49m\u001b[43m)\u001b[49m\n\u001b[32m    593\u001b[39m     \u001b[38;5;28;01mif\u001b[39;00m parsed_event:\n",
      "\u001b[36mFile \u001b[39m\u001b[32m~/ipykernel_env/lib/python3.13/site-packages/botocore/eventstream.py:608\u001b[39m, in \u001b[36mEventStream._parse_event\u001b[39m\u001b[34m(self, event)\u001b[39m\n\u001b[32m    607\u001b[39m \u001b[38;5;28;01melse\u001b[39;00m:\n\u001b[32m--> \u001b[39m\u001b[32m608\u001b[39m     \u001b[38;5;28;01mraise\u001b[39;00m EventStreamError(parsed_response, \u001b[38;5;28mself\u001b[39m._operation_name)\n",
      "\u001b[31mEventStreamError\u001b[39m: An error occurred (accessDeniedException) when calling the InvokeAgent operation: Access denied when calling Bedrock. Check your request permissions and retry the request.",
      "\nDuring handling of the above exception, another exception occurred:\n",
      "\u001b[31mException\u001b[39m                                 Traceback (most recent call last)",
      "\u001b[36mFile \u001b[39m\u001b[32m<timed exec>:4\u001b[39m\n",
      "\u001b[36mFile \u001b[39m\u001b[32m<timed exec>:46\u001b[39m, in \u001b[36minvokeAgent\u001b[39m\u001b[34m(query, session_id, enable_trace, session_state)\u001b[39m\n",
      "\u001b[31mException\u001b[39m: ('unexpected event.', EventStreamError('An error occurred (accessDeniedException) when calling the InvokeAgent operation: Access denied when calling Bedrock. Check your request permissions and retry the request.'))"
     ]
    }
   ],
   "source": [
    "%%time\n",
    "import uuid\n",
    "session_id:str = str(uuid.uuid1())\n",
    "query = \"What are the starters in the childrens menu?\"\n",
    "response = invokeAgent(query, session_id)\n",
    "print(response)"
   ]
  },
  {
   "cell_type": "markdown",
   "id": "e59b3614",
   "metadata": {
    "pycharm": {
     "name": "#%% md\n"
    }
   },
   "source": [
    "##### Invoke Agent to execute function from Action Group\n",
    "Now let's test our Action Group functionality and create a new reservation"
   ]
  },
  {
   "cell_type": "code",
   "execution_count": null,
   "id": "1e0201c0-abb3-4ad5-a7e7-1750d14a2717",
   "metadata": {
    "pycharm": {
     "name": "#%%\n"
    },
    "tags": []
   },
   "outputs": [],
   "source": [
    "%%time\n",
    "query = \"Hi, I am Anna. I want to create a booking for 2 people, at 8pm on the 5th of May 2024.\"\n",
    "response = invokeAgent(query, session_id)\n",
    "print(response)"
   ]
  },
  {
   "cell_type": "markdown",
   "id": "c7043ba4",
   "metadata": {
    "pycharm": {
     "name": "#%% md\n"
    }
   },
   "source": [
    "##### Invoke Agent with prompt attribute\n",
    "\n",
    "Great! We've used our agent to do the first reservation. However, often when booking tables in restaurants we are already logged in to systesm that know our names. How great would it be if our agent would know it as well?\n",
    "\n",
    "To do so, we can use the session context to provide some attributes to our prompt. In this case we will provide it directly to the prompt using the [`promptSessionAttributes`](https://docs.aws.amazon.com/bedrock/latest/userguide/agents-session-state.html) parameter. Let's also start a new session id so that our agent does not memorize our name."
   ]
  },
  {
   "cell_type": "code",
   "execution_count": null,
   "id": "139c210f",
   "metadata": {
    "pycharm": {
     "name": "#%%\n"
    }
   },
   "outputs": [],
   "source": [
    "%%time\n",
    "session_id:str = str(uuid.uuid1())\n",
    "query = \"I want to create a booking for 2 people, at 8pm on the 5th of May 2024.\"\n",
    "session_state = {\n",
    "    \"promptSessionAttributes\": {\n",
    "        \"name\": \"John\"\n",
    "    }\n",
    "}\n",
    "response = invokeAgent(query, session_id, session_state=session_state)\n",
    "print(response)"
   ]
  },
  {
   "cell_type": "markdown",
   "id": "2cf0d98c",
   "metadata": {
    "pycharm": {
     "name": "#%% md\n"
    }
   },
   "source": [
    "##### Validating prompt attribute\n",
    "Let's now use our session context to validate that the reservation was done under the correct name"
   ]
  },
  {
   "cell_type": "code",
   "execution_count": null,
   "id": "bfb8612f-6221-4199-b44b-4c341ac08f7f",
   "metadata": {
    "pycharm": {
     "name": "#%%\n"
    },
    "tags": []
   },
   "outputs": [],
   "source": [
    "%%time\n",
    "query = \"What was the name used in my last reservation?\"\n",
    "response = invokeAgent(query, session_id)\n",
    "print(response)"
   ]
  },
  {
   "cell_type": "markdown",
   "id": "a69fa42f",
   "metadata": {
    "pycharm": {
     "name": "#%% md\n"
    }
   },
   "source": [
    "##### Retrieving information from the database in a new session\n",
    "\n",
    "Next, let's confirm that our reservation system is working correctly. To do so, let's use our previous booking ID and retrieve our reservation details using a new session id\n",
    "\n",
    "\n",
    "**Important**: remember to replace the information in next queries with your generated booking id"
   ]
  },
  {
   "cell_type": "code",
   "execution_count": null,
   "id": "717da5f1",
   "metadata": {
    "pycharm": {
     "name": "#%%\n"
    },
    "tags": []
   },
   "outputs": [],
   "source": [
    "%%time\n",
    "session_id:str = str(uuid.uuid1())\n",
    "query = \"I want to get the information for booking 007659d1\"\n",
    "response = invokeAgent(query, session_id)\n",
    "print(response)"
   ]
  },
  {
   "cell_type": "markdown",
   "id": "31726c96",
   "metadata": {
    "pycharm": {
     "name": "#%% md\n"
    }
   },
   "source": [
    "##### Canceling reservation\n",
    "\n",
    "As plans change, we would now like to cancel the reservation we just did using our Agent for it."
   ]
  },
  {
   "cell_type": "code",
   "execution_count": null,
   "id": "5bf770ef-5602-434e-bef2-0394b9136fe7",
   "metadata": {
    "pycharm": {
     "name": "#%%\n"
    },
    "tags": []
   },
   "outputs": [],
   "source": [
    "%%time\n",
    "query = \"I want to delete the booking 007659d1\"\n",
    "response = invokeAgent(query, session_id)\n",
    "print(response)"
   ]
  },
  {
   "cell_type": "markdown",
   "id": "a4f4545a",
   "metadata": {
    "pycharm": {
     "name": "#%% md\n"
    }
   },
   "source": [
    "And let's make sure everything worked out correctly"
   ]
  },
  {
   "cell_type": "code",
   "execution_count": null,
   "id": "8bdb62e6",
   "metadata": {
    "pycharm": {
     "name": "#%%\n"
    }
   },
   "outputs": [],
   "source": [
    "%%time\n",
    "session_id:str = str(uuid.uuid1())\n",
    "query = \"I want to get the information for booking 007659d1\"\n",
    "response = invokeAgent(query, session_id)\n",
    "print(response)"
   ]
  },
  {
   "cell_type": "markdown",
   "id": "e2b6149d",
   "metadata": {
    "pycharm": {
     "name": "#%% md\n"
    }
   },
   "source": [
    "##### Handling context with PromptAttributes\n",
    "\n",
    "With real-life applications, context is really important. We want to make reservations considering the current date and the days sorounding it. Amazon Bedrock Agents also allow you to provide temporal context for the agent with the prompt attributes. Let's test it with a reservation for tomorrow"
   ]
  },
  {
   "cell_type": "code",
   "execution_count": null,
   "id": "7664b37d",
   "metadata": {
    "pycharm": {
     "name": "#%%\n"
    }
   },
   "outputs": [],
   "source": [
    "# retrieving today\n",
    "from datetime import datetime\n",
    "today = datetime.today().strftime('%b-%d-%Y')\n",
    "today"
   ]
  },
  {
   "cell_type": "code",
   "execution_count": null,
   "id": "34bd272d",
   "metadata": {
    "pycharm": {
     "name": "#%%\n"
    }
   },
   "outputs": [],
   "source": [
    "%%time\n",
    "# reserving a table for tomorrow\n",
    "session_id:str = str(uuid.uuid1())\n",
    "query = \"I want to create a booking for 2 people, at 8pm tomorrow.\"\n",
    "session_state = {\n",
    "    \"promptSessionAttributes\": {\n",
    "        \"name\": \"John\",\n",
    "        \"today\": today\n",
    "    }\n",
    "}\n",
    "response = invokeAgent(query, session_id, session_state=session_state)\n",
    "print(response)"
   ]
  },
  {
   "cell_type": "markdown",
   "id": "b53ca04b",
   "metadata": {
    "pycharm": {
     "name": "#%% md\n"
    }
   },
   "source": [
    "And finally, let's validate our reservation\n",
    "\n",
    "**Important**: remember to replace the booking id with the new one"
   ]
  },
  {
   "cell_type": "code",
   "execution_count": null,
   "id": "8a5d720b",
   "metadata": {
    "pycharm": {
     "name": "#%%\n"
    }
   },
   "outputs": [],
   "source": [
    "%%time\n",
    "session_id:str = str(uuid.uuid1())\n",
    "query = \"I want to get the information for booking 98e6464f\"\n",
    "response = invokeAgent(query, session_id)\n",
    "print(response)"
   ]
  },
  {
   "cell_type": "markdown",
   "id": "5dcfdf43",
   "metadata": {
    "pycharm": {
     "name": "#%% md\n"
    }
   },
   "source": [
    "##### Invoke Agent with Trace\n",
    "\n",
    "Amazon Bedrock Agents also provides you with the details of steps being orchestrated by the Agent using the [Trace](https://docs.aws.amazon.com/bedrock/latest/userguide/trace-events.html). You can enable the trace during agent invocation. Let's now invoke the agent with the trace enabled"
   ]
  },
  {
   "cell_type": "code",
   "execution_count": null,
   "id": "ebcb9737",
   "metadata": {
    "pycharm": {
     "name": "#%%\n"
    },
    "tags": []
   },
   "outputs": [],
   "source": [
    "%%time\n",
    "session_id:str = str(uuid.uuid1())\n",
    "query = \"What are the desserts on the adult menu?\"\n",
    "response = invokeAgent(query, session_id, enable_trace=True)\n",
    "print(response)"
   ]
  },
  {
   "cell_type": "markdown",
   "id": "073f0489-bcb8-4329-b16f-afafaf6f4819",
   "metadata": {
    "pycharm": {
     "name": "#%% md\n"
    }
   },
   "source": [
    "## Agent Evaluation Framework - Testing the Agent (Optional)\n",
    "\n",
    "The [Agent Evaluation Framework](https://awslabs.github.io/agent-evaluation/) offers a structured approach for assessing the performance, accuracy, and effectiveness of Bedrock Agents.\n",
    "\n",
    "The next steps are optional, and show you how to write test cases and run them against the Bedrock Agent."
   ]
  },
  {
   "cell_type": "code",
   "execution_count": null,
   "id": "830155fb-59f0-4f7d-b3c5-3cada968e6ba",
   "metadata": {
    "pycharm": {
     "name": "#%%\n"
    },
    "tags": []
   },
   "outputs": [],
   "source": [
    "!python3 -m pip install agent-evaluation==0.2.0 # Installs the agent-evaluation framework tool\n",
    "\n",
    "!which agenteval # Checks the agent evaluation framework is properly installed"
   ]
  },
  {
   "cell_type": "markdown",
   "id": "fff61ec1-68b9-4d50-8082-09884f979862",
   "metadata": {
    "pycharm": {
     "name": "#%% md\n"
    },
    "tags": []
   },
   "source": [
    "- The following sections prepare the `agenteval.yml` file by providing the Agent ID and Alias ID created with this notebook into line 5. In the `agenteval.yml` file you will find the different test cases defined to test the Agent.\n",
    "- As of writing, only Claude 3 Sonnet is supported as an evaluator. The Claude-3 model specified in the yml file refers to Claude 3 Sonnet."
   ]
  },
  {
   "cell_type": "code",
   "execution_count": null,
   "id": "0fd95939-2da3-4743-bc4e-fd53b6c9ed63",
   "metadata": {
    "pycharm": {
     "name": "#%%\n"
    }
   },
   "outputs": [],
   "source": [
    "agent_id # Prints the Agent ID for reference here\n",
    "\n",
    "!sed -i 's/{{agent_id}}/{alias_id}/g' agenteval.yml\n",
    "!sed -i 's/none/{agent_id}/' agenteval.yml"
   ]
  },
  {
   "cell_type": "code",
   "execution_count": null,
   "id": "54f7f2f7-5369-4b60-86c8-2e0269724d83",
   "metadata": {
    "pycharm": {
     "name": "#%%\n"
    }
   },
   "outputs": [],
   "source": [
    "# Run the defined test cases that are part of the repo (i.e. the agenteval.yml file)\n",
    "\n",
    "!agenteval run"
   ]
  },
  {
   "cell_type": "markdown",
   "id": "96af7a1c-400b-4904-bd39-6069b56c7eda",
   "metadata": {
    "pycharm": {
     "name": "#%% md\n"
    }
   },
   "source": [
    "- The output above shows the results of the testing evaluation. You can find a detailed report about the tests evaluation under the following generated file: `agenteval_summary.md.` You can preview it by right-clicking and select open with -> markdown preview\n",
    "  \n",
    "- You will notice that some new files have been generated as well once the test have been executed (e.g. `check_number_of_vacation.json`), where you will find the detailed traces from the test conversation between the test User and the test Agent."
   ]
  },
  {
   "cell_type": "markdown",
   "id": "8ebf4438-1f48-4642-a57c-530a16815064",
   "metadata": {
    "pycharm": {
     "name": "#%% md\n"
    }
   },
   "source": [
    "## 6. Clean-up \n",
    "Let's delete all the associated resources created to avoid unnecessary costs. "
   ]
  },
  {
   "cell_type": "code",
   "execution_count": null,
   "id": "4ed0cb4f-31ab-4535-a1d7-93e33c706b32",
   "metadata": {
    "pycharm": {
     "name": "#%%\n"
    },
    "tags": []
   },
   "outputs": [
    {
     "name": "stdout",
     "output_type": "stream",
     "text": [
      "Agent 051ME5OPWS, Agent Alias HGWFGUV8NT, and Action Group have been deleted.\n",
      "Lambda function booking-agent-lambda has been deleted.\n",
      "Table restaurant_bookings is being deleted...\n",
      "Table restaurant_bookings has been deleted.\n"
     ]
    }
   ],
   "source": [
    "clean_up_resources(\n",
    "    table_name, lambda_function, lambda_function_name, agent_action_group_response, agent_functions, \n",
    "    agent_id, kb_id, alias_id\n",
    ")"
   ]
  },
  {
   "cell_type": "code",
   "execution_count": null,
   "id": "6a9db157",
   "metadata": {
    "pycharm": {
     "name": "#%%\n"
    }
   },
   "outputs": [],
   "source": [
    "# Delete the agent roles and policies\n",
    "delete_agent_roles_and_policies(agent_name)"
   ]
  },
  {
   "cell_type": "code",
   "execution_count": null,
   "id": "17ec0e70",
   "metadata": {
    "pycharm": {
     "name": "#%%\n"
    }
   },
   "outputs": [
    {
     "name": "stderr",
     "output_type": "stream",
     "text": [
      "[2025-04-21 16:15:05,571] p49461 {base.py:280} WARNING - DELETE https://fzfqd1cx2xbvbb18kuu6.us-east-1.aoss.amazonaws.com:443/bedrock-sample-rag-index-0610 [status:N/A request:0.047s]\n",
      "Traceback (most recent call last):\n",
      "  File \"/Users/aorlosk/ipykernel_env/lib/python3.13/site-packages/urllib3/connectionpool.py\", line 787, in urlopen\n",
      "    response = self._make_request(\n",
      "        conn,\n",
      "    ...<10 lines>...\n",
      "        **response_kw,\n",
      "    )\n",
      "  File \"/Users/aorlosk/ipykernel_env/lib/python3.13/site-packages/urllib3/connectionpool.py\", line 534, in _make_request\n",
      "    response = conn.getresponse()\n",
      "  File \"/Users/aorlosk/ipykernel_env/lib/python3.13/site-packages/urllib3/connection.py\", line 516, in getresponse\n",
      "    httplib_response = super().getresponse()\n",
      "  File \"/opt/homebrew/Cellar/python@3.13/3.13.3/Frameworks/Python.framework/Versions/3.13/lib/python3.13/http/client.py\", line 1430, in getresponse\n",
      "    response.begin()\n",
      "    ~~~~~~~~~~~~~~^^\n",
      "  File \"/opt/homebrew/Cellar/python@3.13/3.13.3/Frameworks/Python.framework/Versions/3.13/lib/python3.13/http/client.py\", line 331, in begin\n",
      "    version, status, reason = self._read_status()\n",
      "                              ~~~~~~~~~~~~~~~~~^^\n",
      "  File \"/opt/homebrew/Cellar/python@3.13/3.13.3/Frameworks/Python.framework/Versions/3.13/lib/python3.13/http/client.py\", line 292, in _read_status\n",
      "    line = str(self.fp.readline(_MAXLINE + 1), \"iso-8859-1\")\n",
      "               ~~~~~~~~~~~~~~~~^^^^^^^^^^^^^^\n",
      "  File \"/opt/homebrew/Cellar/python@3.13/3.13.3/Frameworks/Python.framework/Versions/3.13/lib/python3.13/socket.py\", line 719, in readinto\n",
      "    return self._sock.recv_into(b)\n",
      "           ~~~~~~~~~~~~~~~~~~~~^^^\n",
      "  File \"/opt/homebrew/Cellar/python@3.13/3.13.3/Frameworks/Python.framework/Versions/3.13/lib/python3.13/ssl.py\", line 1304, in recv_into\n",
      "    return self.read(nbytes, buffer)\n",
      "           ~~~~~~~~~^^^^^^^^^^^^^^^^\n",
      "  File \"/opt/homebrew/Cellar/python@3.13/3.13.3/Frameworks/Python.framework/Versions/3.13/lib/python3.13/ssl.py\", line 1138, in read\n",
      "    return self._sslobj.read(len, buffer)\n",
      "           ~~~~~~~~~~~~~~~~~^^^^^^^^^^^^^\n",
      "ConnectionResetError: [Errno 54] Connection reset by peer\n",
      "\n",
      "During handling of the above exception, another exception occurred:\n",
      "\n",
      "Traceback (most recent call last):\n",
      "  File \"/Users/aorlosk/ipykernel_env/lib/python3.13/site-packages/requests/adapters.py\", line 667, in send\n",
      "    resp = conn.urlopen(\n",
      "        method=request.method,\n",
      "    ...<9 lines>...\n",
      "        chunked=chunked,\n",
      "    )\n",
      "  File \"/Users/aorlosk/ipykernel_env/lib/python3.13/site-packages/urllib3/connectionpool.py\", line 841, in urlopen\n",
      "    retries = retries.increment(\n",
      "        method, url, error=new_e, _pool=self, _stacktrace=sys.exc_info()[2]\n",
      "    )\n",
      "  File \"/Users/aorlosk/ipykernel_env/lib/python3.13/site-packages/urllib3/util/retry.py\", line 474, in increment\n",
      "    raise reraise(type(error), error, _stacktrace)\n",
      "          ~~~~~~~^^^^^^^^^^^^^^^^^^^^^^^^^^^^^^^^^\n",
      "  File \"/Users/aorlosk/ipykernel_env/lib/python3.13/site-packages/urllib3/util/util.py\", line 38, in reraise\n",
      "    raise value.with_traceback(tb)\n",
      "  File \"/Users/aorlosk/ipykernel_env/lib/python3.13/site-packages/urllib3/connectionpool.py\", line 787, in urlopen\n",
      "    response = self._make_request(\n",
      "        conn,\n",
      "    ...<10 lines>...\n",
      "        **response_kw,\n",
      "    )\n",
      "  File \"/Users/aorlosk/ipykernel_env/lib/python3.13/site-packages/urllib3/connectionpool.py\", line 534, in _make_request\n",
      "    response = conn.getresponse()\n",
      "  File \"/Users/aorlosk/ipykernel_env/lib/python3.13/site-packages/urllib3/connection.py\", line 516, in getresponse\n",
      "    httplib_response = super().getresponse()\n",
      "  File \"/opt/homebrew/Cellar/python@3.13/3.13.3/Frameworks/Python.framework/Versions/3.13/lib/python3.13/http/client.py\", line 1430, in getresponse\n",
      "    response.begin()\n",
      "    ~~~~~~~~~~~~~~^^\n",
      "  File \"/opt/homebrew/Cellar/python@3.13/3.13.3/Frameworks/Python.framework/Versions/3.13/lib/python3.13/http/client.py\", line 331, in begin\n",
      "    version, status, reason = self._read_status()\n",
      "                              ~~~~~~~~~~~~~~~~~^^\n",
      "  File \"/opt/homebrew/Cellar/python@3.13/3.13.3/Frameworks/Python.framework/Versions/3.13/lib/python3.13/http/client.py\", line 292, in _read_status\n",
      "    line = str(self.fp.readline(_MAXLINE + 1), \"iso-8859-1\")\n",
      "               ~~~~~~~~~~~~~~~~^^^^^^^^^^^^^^\n",
      "  File \"/opt/homebrew/Cellar/python@3.13/3.13.3/Frameworks/Python.framework/Versions/3.13/lib/python3.13/socket.py\", line 719, in readinto\n",
      "    return self._sock.recv_into(b)\n",
      "           ~~~~~~~~~~~~~~~~~~~~^^^\n",
      "  File \"/opt/homebrew/Cellar/python@3.13/3.13.3/Frameworks/Python.framework/Versions/3.13/lib/python3.13/ssl.py\", line 1304, in recv_into\n",
      "    return self.read(nbytes, buffer)\n",
      "           ~~~~~~~~~^^^^^^^^^^^^^^^^\n",
      "  File \"/opt/homebrew/Cellar/python@3.13/3.13.3/Frameworks/Python.framework/Versions/3.13/lib/python3.13/ssl.py\", line 1138, in read\n",
      "    return self._sslobj.read(len, buffer)\n",
      "           ~~~~~~~~~~~~~~~~~^^^^^^^^^^^^^\n",
      "urllib3.exceptions.ProtocolError: ('Connection aborted.', ConnectionResetError(54, 'Connection reset by peer'))\n",
      "\n",
      "During handling of the above exception, another exception occurred:\n",
      "\n",
      "Traceback (most recent call last):\n",
      "  File \"/Users/aorlosk/ipykernel_env/lib/python3.13/site-packages/opensearchpy/connection/http_requests.py\", line 196, in perform_request\n",
      "    response = self.session.send(prepared_request, **send_kwargs)\n",
      "  File \"/Users/aorlosk/ipykernel_env/lib/python3.13/site-packages/requests/sessions.py\", line 703, in send\n",
      "    r = adapter.send(request, **kwargs)\n",
      "  File \"/Users/aorlosk/ipykernel_env/lib/python3.13/site-packages/requests/adapters.py\", line 682, in send\n",
      "    raise ConnectionError(err, request=request)\n",
      "requests.exceptions.ConnectionError: ('Connection aborted.', ConnectionResetError(54, 'Connection reset by peer'))\n",
      "[2025-04-21 16:15:06,003] p49461 {base.py:258} INFO - DELETE https://fzfqd1cx2xbvbb18kuu6.us-east-1.aoss.amazonaws.com:443/bedrock-sample-rag-index-0610 [status:200 request:0.420s]\n"
     ]
    }
   ],
   "source": [
    "# delete KB\n",
    "knowledge_base.delete_kb(delete_s3_bucket=True, delete_iam_roles_and_policies=True)"
   ]
  },
  {
   "cell_type": "code",
   "execution_count": null,
   "id": "8e1019d2",
   "metadata": {},
   "outputs": [],
   "source": []
  }
 ],
 "metadata": {
  "availableInstances": [
   {
    "_defaultOrder": 0,
    "_isFastLaunch": true,
    "category": "General purpose",
    "gpuNum": 0,
    "hideHardwareSpecs": false,
    "memoryGiB": 4,
    "name": "ml.t3.medium",
    "vcpuNum": 2
   },
   {
    "_defaultOrder": 1,
    "_isFastLaunch": false,
    "category": "General purpose",
    "gpuNum": 0,
    "hideHardwareSpecs": false,
    "memoryGiB": 8,
    "name": "ml.t3.large",
    "vcpuNum": 2
   },
   {
    "_defaultOrder": 2,
    "_isFastLaunch": false,
    "category": "General purpose",
    "gpuNum": 0,
    "hideHardwareSpecs": false,
    "memoryGiB": 16,
    "name": "ml.t3.xlarge",
    "vcpuNum": 4
   },
   {
    "_defaultOrder": 3,
    "_isFastLaunch": false,
    "category": "General purpose",
    "gpuNum": 0,
    "hideHardwareSpecs": false,
    "memoryGiB": 32,
    "name": "ml.t3.2xlarge",
    "vcpuNum": 8
   },
   {
    "_defaultOrder": 4,
    "_isFastLaunch": true,
    "category": "General purpose",
    "gpuNum": 0,
    "hideHardwareSpecs": false,
    "memoryGiB": 8,
    "name": "ml.m5.large",
    "vcpuNum": 2
   },
   {
    "_defaultOrder": 5,
    "_isFastLaunch": false,
    "category": "General purpose",
    "gpuNum": 0,
    "hideHardwareSpecs": false,
    "memoryGiB": 16,
    "name": "ml.m5.xlarge",
    "vcpuNum": 4
   },
   {
    "_defaultOrder": 6,
    "_isFastLaunch": false,
    "category": "General purpose",
    "gpuNum": 0,
    "hideHardwareSpecs": false,
    "memoryGiB": 32,
    "name": "ml.m5.2xlarge",
    "vcpuNum": 8
   },
   {
    "_defaultOrder": 7,
    "_isFastLaunch": false,
    "category": "General purpose",
    "gpuNum": 0,
    "hideHardwareSpecs": false,
    "memoryGiB": 64,
    "name": "ml.m5.4xlarge",
    "vcpuNum": 16
   },
   {
    "_defaultOrder": 8,
    "_isFastLaunch": false,
    "category": "General purpose",
    "gpuNum": 0,
    "hideHardwareSpecs": false,
    "memoryGiB": 128,
    "name": "ml.m5.8xlarge",
    "vcpuNum": 32
   },
   {
    "_defaultOrder": 9,
    "_isFastLaunch": false,
    "category": "General purpose",
    "gpuNum": 0,
    "hideHardwareSpecs": false,
    "memoryGiB": 192,
    "name": "ml.m5.12xlarge",
    "vcpuNum": 48
   },
   {
    "_defaultOrder": 10,
    "_isFastLaunch": false,
    "category": "General purpose",
    "gpuNum": 0,
    "hideHardwareSpecs": false,
    "memoryGiB": 256,
    "name": "ml.m5.16xlarge",
    "vcpuNum": 64
   },
   {
    "_defaultOrder": 11,
    "_isFastLaunch": false,
    "category": "General purpose",
    "gpuNum": 0,
    "hideHardwareSpecs": false,
    "memoryGiB": 384,
    "name": "ml.m5.24xlarge",
    "vcpuNum": 96
   },
   {
    "_defaultOrder": 12,
    "_isFastLaunch": false,
    "category": "General purpose",
    "gpuNum": 0,
    "hideHardwareSpecs": false,
    "memoryGiB": 8,
    "name": "ml.m5d.large",
    "vcpuNum": 2
   },
   {
    "_defaultOrder": 13,
    "_isFastLaunch": false,
    "category": "General purpose",
    "gpuNum": 0,
    "hideHardwareSpecs": false,
    "memoryGiB": 16,
    "name": "ml.m5d.xlarge",
    "vcpuNum": 4
   },
   {
    "_defaultOrder": 14,
    "_isFastLaunch": false,
    "category": "General purpose",
    "gpuNum": 0,
    "hideHardwareSpecs": false,
    "memoryGiB": 32,
    "name": "ml.m5d.2xlarge",
    "vcpuNum": 8
   },
   {
    "_defaultOrder": 15,
    "_isFastLaunch": false,
    "category": "General purpose",
    "gpuNum": 0,
    "hideHardwareSpecs": false,
    "memoryGiB": 64,
    "name": "ml.m5d.4xlarge",
    "vcpuNum": 16
   },
   {
    "_defaultOrder": 16,
    "_isFastLaunch": false,
    "category": "General purpose",
    "gpuNum": 0,
    "hideHardwareSpecs": false,
    "memoryGiB": 128,
    "name": "ml.m5d.8xlarge",
    "vcpuNum": 32
   },
   {
    "_defaultOrder": 17,
    "_isFastLaunch": false,
    "category": "General purpose",
    "gpuNum": 0,
    "hideHardwareSpecs": false,
    "memoryGiB": 192,
    "name": "ml.m5d.12xlarge",
    "vcpuNum": 48
   },
   {
    "_defaultOrder": 18,
    "_isFastLaunch": false,
    "category": "General purpose",
    "gpuNum": 0,
    "hideHardwareSpecs": false,
    "memoryGiB": 256,
    "name": "ml.m5d.16xlarge",
    "vcpuNum": 64
   },
   {
    "_defaultOrder": 19,
    "_isFastLaunch": false,
    "category": "General purpose",
    "gpuNum": 0,
    "hideHardwareSpecs": false,
    "memoryGiB": 384,
    "name": "ml.m5d.24xlarge",
    "vcpuNum": 96
   },
   {
    "_defaultOrder": 20,
    "_isFastLaunch": false,
    "category": "General purpose",
    "gpuNum": 0,
    "hideHardwareSpecs": true,
    "memoryGiB": 0,
    "name": "ml.geospatial.interactive",
    "supportedImageNames": [
     "sagemaker-geospatial-v1-0"
    ],
    "vcpuNum": 0
   },
   {
    "_defaultOrder": 21,
    "_isFastLaunch": true,
    "category": "Compute optimized",
    "gpuNum": 0,
    "hideHardwareSpecs": false,
    "memoryGiB": 4,
    "name": "ml.c5.large",
    "vcpuNum": 2
   },
   {
    "_defaultOrder": 22,
    "_isFastLaunch": false,
    "category": "Compute optimized",
    "gpuNum": 0,
    "hideHardwareSpecs": false,
    "memoryGiB": 8,
    "name": "ml.c5.xlarge",
    "vcpuNum": 4
   },
   {
    "_defaultOrder": 23,
    "_isFastLaunch": false,
    "category": "Compute optimized",
    "gpuNum": 0,
    "hideHardwareSpecs": false,
    "memoryGiB": 16,
    "name": "ml.c5.2xlarge",
    "vcpuNum": 8
   },
   {
    "_defaultOrder": 24,
    "_isFastLaunch": false,
    "category": "Compute optimized",
    "gpuNum": 0,
    "hideHardwareSpecs": false,
    "memoryGiB": 32,
    "name": "ml.c5.4xlarge",
    "vcpuNum": 16
   },
   {
    "_defaultOrder": 25,
    "_isFastLaunch": false,
    "category": "Compute optimized",
    "gpuNum": 0,
    "hideHardwareSpecs": false,
    "memoryGiB": 72,
    "name": "ml.c5.9xlarge",
    "vcpuNum": 36
   },
   {
    "_defaultOrder": 26,
    "_isFastLaunch": false,
    "category": "Compute optimized",
    "gpuNum": 0,
    "hideHardwareSpecs": false,
    "memoryGiB": 96,
    "name": "ml.c5.12xlarge",
    "vcpuNum": 48
   },
   {
    "_defaultOrder": 27,
    "_isFastLaunch": false,
    "category": "Compute optimized",
    "gpuNum": 0,
    "hideHardwareSpecs": false,
    "memoryGiB": 144,
    "name": "ml.c5.18xlarge",
    "vcpuNum": 72
   },
   {
    "_defaultOrder": 28,
    "_isFastLaunch": false,
    "category": "Compute optimized",
    "gpuNum": 0,
    "hideHardwareSpecs": false,
    "memoryGiB": 192,
    "name": "ml.c5.24xlarge",
    "vcpuNum": 96
   },
   {
    "_defaultOrder": 29,
    "_isFastLaunch": true,
    "category": "Accelerated computing",
    "gpuNum": 1,
    "hideHardwareSpecs": false,
    "memoryGiB": 16,
    "name": "ml.g4dn.xlarge",
    "vcpuNum": 4
   },
   {
    "_defaultOrder": 30,
    "_isFastLaunch": false,
    "category": "Accelerated computing",
    "gpuNum": 1,
    "hideHardwareSpecs": false,
    "memoryGiB": 32,
    "name": "ml.g4dn.2xlarge",
    "vcpuNum": 8
   },
   {
    "_defaultOrder": 31,
    "_isFastLaunch": false,
    "category": "Accelerated computing",
    "gpuNum": 1,
    "hideHardwareSpecs": false,
    "memoryGiB": 64,
    "name": "ml.g4dn.4xlarge",
    "vcpuNum": 16
   },
   {
    "_defaultOrder": 32,
    "_isFastLaunch": false,
    "category": "Accelerated computing",
    "gpuNum": 1,
    "hideHardwareSpecs": false,
    "memoryGiB": 128,
    "name": "ml.g4dn.8xlarge",
    "vcpuNum": 32
   },
   {
    "_defaultOrder": 33,
    "_isFastLaunch": false,
    "category": "Accelerated computing",
    "gpuNum": 4,
    "hideHardwareSpecs": false,
    "memoryGiB": 192,
    "name": "ml.g4dn.12xlarge",
    "vcpuNum": 48
   },
   {
    "_defaultOrder": 34,
    "_isFastLaunch": false,
    "category": "Accelerated computing",
    "gpuNum": 1,
    "hideHardwareSpecs": false,
    "memoryGiB": 256,
    "name": "ml.g4dn.16xlarge",
    "vcpuNum": 64
   },
   {
    "_defaultOrder": 35,
    "_isFastLaunch": false,
    "category": "Accelerated computing",
    "gpuNum": 1,
    "hideHardwareSpecs": false,
    "memoryGiB": 61,
    "name": "ml.p3.2xlarge",
    "vcpuNum": 8
   },
   {
    "_defaultOrder": 36,
    "_isFastLaunch": false,
    "category": "Accelerated computing",
    "gpuNum": 4,
    "hideHardwareSpecs": false,
    "memoryGiB": 244,
    "name": "ml.p3.8xlarge",
    "vcpuNum": 32
   },
   {
    "_defaultOrder": 37,
    "_isFastLaunch": false,
    "category": "Accelerated computing",
    "gpuNum": 8,
    "hideHardwareSpecs": false,
    "memoryGiB": 488,
    "name": "ml.p3.16xlarge",
    "vcpuNum": 64
   },
   {
    "_defaultOrder": 38,
    "_isFastLaunch": false,
    "category": "Accelerated computing",
    "gpuNum": 8,
    "hideHardwareSpecs": false,
    "memoryGiB": 768,
    "name": "ml.p3dn.24xlarge",
    "vcpuNum": 96
   },
   {
    "_defaultOrder": 39,
    "_isFastLaunch": false,
    "category": "Memory Optimized",
    "gpuNum": 0,
    "hideHardwareSpecs": false,
    "memoryGiB": 16,
    "name": "ml.r5.large",
    "vcpuNum": 2
   },
   {
    "_defaultOrder": 40,
    "_isFastLaunch": false,
    "category": "Memory Optimized",
    "gpuNum": 0,
    "hideHardwareSpecs": false,
    "memoryGiB": 32,
    "name": "ml.r5.xlarge",
    "vcpuNum": 4
   },
   {
    "_defaultOrder": 41,
    "_isFastLaunch": false,
    "category": "Memory Optimized",
    "gpuNum": 0,
    "hideHardwareSpecs": false,
    "memoryGiB": 64,
    "name": "ml.r5.2xlarge",
    "vcpuNum": 8
   },
   {
    "_defaultOrder": 42,
    "_isFastLaunch": false,
    "category": "Memory Optimized",
    "gpuNum": 0,
    "hideHardwareSpecs": false,
    "memoryGiB": 128,
    "name": "ml.r5.4xlarge",
    "vcpuNum": 16
   },
   {
    "_defaultOrder": 43,
    "_isFastLaunch": false,
    "category": "Memory Optimized",
    "gpuNum": 0,
    "hideHardwareSpecs": false,
    "memoryGiB": 256,
    "name": "ml.r5.8xlarge",
    "vcpuNum": 32
   },
   {
    "_defaultOrder": 44,
    "_isFastLaunch": false,
    "category": "Memory Optimized",
    "gpuNum": 0,
    "hideHardwareSpecs": false,
    "memoryGiB": 384,
    "name": "ml.r5.12xlarge",
    "vcpuNum": 48
   },
   {
    "_defaultOrder": 45,
    "_isFastLaunch": false,
    "category": "Memory Optimized",
    "gpuNum": 0,
    "hideHardwareSpecs": false,
    "memoryGiB": 512,
    "name": "ml.r5.16xlarge",
    "vcpuNum": 64
   },
   {
    "_defaultOrder": 46,
    "_isFastLaunch": false,
    "category": "Memory Optimized",
    "gpuNum": 0,
    "hideHardwareSpecs": false,
    "memoryGiB": 768,
    "name": "ml.r5.24xlarge",
    "vcpuNum": 96
   },
   {
    "_defaultOrder": 47,
    "_isFastLaunch": false,
    "category": "Accelerated computing",
    "gpuNum": 1,
    "hideHardwareSpecs": false,
    "memoryGiB": 16,
    "name": "ml.g5.xlarge",
    "vcpuNum": 4
   },
   {
    "_defaultOrder": 48,
    "_isFastLaunch": false,
    "category": "Accelerated computing",
    "gpuNum": 1,
    "hideHardwareSpecs": false,
    "memoryGiB": 32,
    "name": "ml.g5.2xlarge",
    "vcpuNum": 8
   },
   {
    "_defaultOrder": 49,
    "_isFastLaunch": false,
    "category": "Accelerated computing",
    "gpuNum": 1,
    "hideHardwareSpecs": false,
    "memoryGiB": 64,
    "name": "ml.g5.4xlarge",
    "vcpuNum": 16
   },
   {
    "_defaultOrder": 50,
    "_isFastLaunch": false,
    "category": "Accelerated computing",
    "gpuNum": 1,
    "hideHardwareSpecs": false,
    "memoryGiB": 128,
    "name": "ml.g5.8xlarge",
    "vcpuNum": 32
   },
   {
    "_defaultOrder": 51,
    "_isFastLaunch": false,
    "category": "Accelerated computing",
    "gpuNum": 1,
    "hideHardwareSpecs": false,
    "memoryGiB": 256,
    "name": "ml.g5.16xlarge",
    "vcpuNum": 64
   },
   {
    "_defaultOrder": 52,
    "_isFastLaunch": false,
    "category": "Accelerated computing",
    "gpuNum": 4,
    "hideHardwareSpecs": false,
    "memoryGiB": 192,
    "name": "ml.g5.12xlarge",
    "vcpuNum": 48
   },
   {
    "_defaultOrder": 53,
    "_isFastLaunch": false,
    "category": "Accelerated computing",
    "gpuNum": 4,
    "hideHardwareSpecs": false,
    "memoryGiB": 384,
    "name": "ml.g5.24xlarge",
    "vcpuNum": 96
   },
   {
    "_defaultOrder": 54,
    "_isFastLaunch": false,
    "category": "Accelerated computing",
    "gpuNum": 8,
    "hideHardwareSpecs": false,
    "memoryGiB": 768,
    "name": "ml.g5.48xlarge",
    "vcpuNum": 192
   },
   {
    "_defaultOrder": 55,
    "_isFastLaunch": false,
    "category": "Accelerated computing",
    "gpuNum": 8,
    "hideHardwareSpecs": false,
    "memoryGiB": 1152,
    "name": "ml.p4d.24xlarge",
    "vcpuNum": 96
   },
   {
    "_defaultOrder": 56,
    "_isFastLaunch": false,
    "category": "Accelerated computing",
    "gpuNum": 8,
    "hideHardwareSpecs": false,
    "memoryGiB": 1152,
    "name": "ml.p4de.24xlarge",
    "vcpuNum": 96
   },
   {
    "_defaultOrder": 57,
    "_isFastLaunch": false,
    "category": "Accelerated computing",
    "gpuNum": 0,
    "hideHardwareSpecs": false,
    "memoryGiB": 32,
    "name": "ml.trn1.2xlarge",
    "vcpuNum": 8
   },
   {
    "_defaultOrder": 58,
    "_isFastLaunch": false,
    "category": "Accelerated computing",
    "gpuNum": 0,
    "hideHardwareSpecs": false,
    "memoryGiB": 512,
    "name": "ml.trn1.32xlarge",
    "vcpuNum": 128
   },
   {
    "_defaultOrder": 59,
    "_isFastLaunch": false,
    "category": "Accelerated computing",
    "gpuNum": 0,
    "hideHardwareSpecs": false,
    "memoryGiB": 512,
    "name": "ml.trn1n.32xlarge",
    "vcpuNum": 128
   }
  ],
  "instance_type": "ml.t3.medium",
  "kernelspec": {
   "display_name": "ipykernel_env",
   "language": "python",
   "name": "ipykernel_env"
  },
  "language_info": {
   "codemirror_mode": {
    "name": "ipython",
    "version": 3
   },
   "file_extension": ".py",
   "mimetype": "text/x-python",
   "name": "python",
   "nbconvert_exporter": "python",
   "pygments_lexer": "ipython3",
   "version": "3.13.3"
  }
 },
 "nbformat": 4,
 "nbformat_minor": 5
}
